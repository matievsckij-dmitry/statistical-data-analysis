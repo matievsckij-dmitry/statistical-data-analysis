{
 "cells": [
  {
   "cell_type": "markdown",
   "id": "9c623ba4",
   "metadata": {},
   "source": [
    "# Проект: Статистический анализ данных"
   ]
  },
  {
   "cell_type": "markdown",
   "id": "087bf1c2",
   "metadata": {},
   "source": [
    "**Описание проекта**"
   ]
  },
  {
   "cell_type": "markdown",
   "id": "4fc88696",
   "metadata": {},
   "source": [
    "Представим, что я аналитик популярного сервиса аренды самокатов GoFast. Мне передали данные о некоторых пользователях из нескольких городов, а также об их поездках.\n",
    "\n",
    "В основных данных есть информация о пользователях, их поездках и подписках."
   ]
  },
  {
   "cell_type": "markdown",
   "id": "ccd6145f",
   "metadata": {},
   "source": [
    "Пользователи — **users_go.csv**\n",
    "\n",
    "| Переменная  | Значение |\n",
    "| ----------- | ----------- |\n",
    "| user_id   | уникальный идентификатор пользователя   |\n",
    "| name    | имя пользователя  |\n",
    "| age    |  возраст   |\n",
    "| city     | город   |\n",
    "| subscription_type     | тип подписки (free, ultra)   |\n"
   ]
  },
  {
   "cell_type": "markdown",
   "id": "28ad74a1",
   "metadata": {},
   "source": [
    "Поездки — **rides_go.csv**\n",
    "\n",
    "| Переменная | Значение |\n",
    "| ----------- | ----------- |\n",
    "| user_id   | уникальный идентификатор пользователя   |\n",
    "| distance    | расстояние, которое пользователь проехал в текущей сессии (в метрах)  |\n",
    "| duration    |  продолжительность сессии (в минутах)|\n",
    "| date     | \tдата совершения поездки   |\n"
   ]
  },
  {
   "cell_type": "markdown",
   "id": "e2f37841",
   "metadata": {},
   "source": [
    "Подписки — **subscriptions_go.csv**\n",
    "\n",
    "| Переменная  | Значение |\n",
    "| ----------- | ----------- |\n",
    "| subscription_type   | тип подписки  |\n",
    "| minute_price    | стоимость одной минуты поездки по данной подписке  |\n",
    "| start_ride_price    |  стоимость начала поездки   |\n",
    "| subscription_fee     | стоимость ежемесячного платежа   |\n"
   ]
  },
  {
   "cell_type": "markdown",
   "id": "2c95b5b0",
   "metadata": {},
   "source": [
    "Чтобы совершать поездки по городу, пользователи сервиса GoFast пользуются мобильным приложением. Сервисом можно пользоваться:\n",
    "1) без подписки\n",
    "* абонентская плата отсутствует;\n",
    "* стоимость одной минуты поездки — 8 рублей;\n",
    "* стоимость старта (начала поездки) — 50 рублей;\n",
    "\n",
    "2) с подпиской Ultra\n",
    "* абонентская плата — 199 рублей в месяц;\n",
    "* стоимость одной минуты поездки — 6 рублей;\n",
    "* стоимость старта — бесплатно."
   ]
  },
  {
   "cell_type": "markdown",
   "id": "5e5530e8",
   "metadata": {},
   "source": [
    "**Цель проекта:** Проанализировать данные и проверить некоторые гипотезы, которые могут помочь бизнесу вырасти."
   ]
  },
  {
   "cell_type": "markdown",
   "id": "c42cbe00",
   "metadata": {},
   "source": [
    "### Загрузка и первичный обзор данных"
   ]
  },
  {
   "cell_type": "code",
   "execution_count": 1,
   "id": "4a940e2a",
   "metadata": {},
   "outputs": [],
   "source": [
    "from scipy import stats as st\n",
    "import numpy as np\n",
    "import pandas as pd\n",
    "import matplotlib.pyplot as plt\n",
    "import matplotlib as mpl\n",
    "import seaborn as sns\n",
    "from math import factorial, sqrt\n",
    "import warnings"
   ]
  },
  {
   "cell_type": "code",
   "execution_count": 2,
   "id": "f17f7c17",
   "metadata": {},
   "outputs": [],
   "source": [
    "warnings.filterwarnings(\"ignore\")"
   ]
  },
  {
   "cell_type": "code",
   "execution_count": 3,
   "id": "0e0519ea",
   "metadata": {},
   "outputs": [],
   "source": [
    "mpl.style.use(['bmh'])"
   ]
  },
  {
   "cell_type": "code",
   "execution_count": 4,
   "id": "734a9ae3",
   "metadata": {},
   "outputs": [],
   "source": [
    "try:\n",
    "    df_users = pd.read_csv('users_go.csv')\n",
    "except:\n",
    "    df_users = pd.read_csv('/datasets/users_go.csv')"
   ]
  },
  {
   "cell_type": "code",
   "execution_count": 5,
   "id": "84228c76",
   "metadata": {},
   "outputs": [],
   "source": [
    "try:\n",
    "    df_rides = pd.read_csv('rides_go.csv')\n",
    "except:\n",
    "    df_rides = pd.read_csv('/datasets/rides_go.csv')"
   ]
  },
  {
   "cell_type": "code",
   "execution_count": 6,
   "id": "e5bf02c9",
   "metadata": {},
   "outputs": [],
   "source": [
    "try:\n",
    "    df_sub = pd.read_csv('subscriptions_go.csv')\n",
    "except:\n",
    "    df_sub = pd.read_csv('/datasets/subscriptions_go.csv')"
   ]
  },
  {
   "cell_type": "markdown",
   "id": "f7156e4e",
   "metadata": {},
   "source": [
    "Ознакомимся с содержимым каждого датафрейма и отметим первые наблюдения."
   ]
  },
  {
   "cell_type": "code",
   "execution_count": 7,
   "id": "8f13bd37",
   "metadata": {},
   "outputs": [],
   "source": [
    "def get_df_info(df):\n",
    "    \"\"\"\n",
    "    Вход: датафрейм\n",
    "    Выход: - случайные 10 строк датафрейма, \n",
    "           - общая информация,\n",
    "           - описательная статистика.\n",
    "    \"\"\"\n",
    "    print(df.sample(10))\n",
    "    print(\"_\" * 100)\n",
    "    print(df.info())\n",
    "    print(\"_\" * 100)\n",
    "    print(round(df.describe(), 1))"
   ]
  },
  {
   "cell_type": "code",
   "execution_count": 8,
   "id": "f488f7fc",
   "metadata": {},
   "outputs": [
    {
     "name": "stdout",
     "output_type": "stream",
     "text": [
      "      user_id      name  age            city subscription_type\n",
      "1505     1506    Регина   29            Сочи              free\n",
      "641       642     Давид   22    Екатеринбург             ultra\n",
      "109       110      Егор   23          Тюмень             ultra\n",
      "1217     1218  Ярослава   22  Ростов-на-Дону              free\n",
      "202       203   Мелания   25       Пятигорск             ultra\n",
      "1561      809      Юрий   26            Сочи              free\n",
      "1207     1208    Леонид   28    Екатеринбург              free\n",
      "40         41    Данила   21    Екатеринбург             ultra\n",
      "163       164    Зарина   17            Сочи             ultra\n",
      "49         50   Арсений   35  Ростов-на-Дону             ultra\n",
      "____________________________________________________________________________________________________\n",
      "<class 'pandas.core.frame.DataFrame'>\n",
      "RangeIndex: 1565 entries, 0 to 1564\n",
      "Data columns (total 5 columns):\n",
      " #   Column             Non-Null Count  Dtype \n",
      "---  ------             --------------  ----- \n",
      " 0   user_id            1565 non-null   int64 \n",
      " 1   name               1565 non-null   object\n",
      " 2   age                1565 non-null   int64 \n",
      " 3   city               1565 non-null   object\n",
      " 4   subscription_type  1565 non-null   object\n",
      "dtypes: int64(2), object(3)\n",
      "memory usage: 61.3+ KB\n",
      "None\n",
      "____________________________________________________________________________________________________\n",
      "       user_id     age\n",
      "count   1565.0  1565.0\n",
      "mean     762.6    24.9\n",
      "std      443.3     4.6\n",
      "min        1.0    12.0\n",
      "25%      378.0    22.0\n",
      "50%      762.0    25.0\n",
      "75%     1146.0    28.0\n",
      "max     1534.0    43.0\n"
     ]
    }
   ],
   "source": [
    "get_df_info(df_users)"
   ]
  },
  {
   "cell_type": "markdown",
   "id": "a4cab11a",
   "metadata": {},
   "source": [
    "Первичный анализ данных показал, что датафрейм содержит 1565 строк и 5 колонок, соответствующих описанию. Названия колонок корректны, пропусков нет, типы данных в норме. Распределение возраста пользователей (от 12 до 43 лет) выглядит логичным. Однако, обнаружено несоответствие: в колонке \"user_id\" всего 1565 наблюдений, но максимальный ID - 1534. Это может указывать на наличие дубликатов. Выясним причину этого несоответствия на этапе предобработки данных."
   ]
  },
  {
   "cell_type": "code",
   "execution_count": 9,
   "id": "b0840ef6",
   "metadata": {},
   "outputs": [
    {
     "name": "stdout",
     "output_type": "stream",
     "text": [
      "       user_id     distance   duration        date\n",
      "3496       376  3493.076145  14.643587  2021-01-21\n",
      "5978       639  2699.496600  19.459215  2021-07-28\n",
      "9331       911  4479.645610  22.686032  2021-01-10\n",
      "10387      984  2543.433715  24.873275  2021-11-02\n",
      "16956     1456  4955.645677  17.866937  2021-03-12\n",
      "16897     1451  3715.027271  25.145082  2021-05-21\n",
      "17382     1488  3486.116318  28.430582  2021-02-11\n",
      "4736       510   524.000026   8.849412  2021-09-28\n",
      "10215      972  3002.398605  16.928612  2021-12-10\n",
      "18021     1531  1174.453436   5.710277  2021-08-08\n",
      "____________________________________________________________________________________________________\n",
      "<class 'pandas.core.frame.DataFrame'>\n",
      "RangeIndex: 18068 entries, 0 to 18067\n",
      "Data columns (total 4 columns):\n",
      " #   Column    Non-Null Count  Dtype  \n",
      "---  ------    --------------  -----  \n",
      " 0   user_id   18068 non-null  int64  \n",
      " 1   distance  18068 non-null  float64\n",
      " 2   duration  18068 non-null  float64\n",
      " 3   date      18068 non-null  object \n",
      "dtypes: float64(2), int64(1), object(1)\n",
      "memory usage: 564.8+ KB\n",
      "None\n",
      "____________________________________________________________________________________________________\n",
      "       user_id  distance  duration\n",
      "count  18068.0   18068.0   18068.0\n",
      "mean     842.9    3070.7      17.8\n",
      "std      434.7    1116.8       6.1\n",
      "min        1.0       0.9       0.5\n",
      "25%      487.0    2543.2      13.6\n",
      "50%      889.0    3133.6      17.7\n",
      "75%     1213.2    3776.2      21.7\n",
      "max     1534.0    7211.0      40.8\n"
     ]
    }
   ],
   "source": [
    "get_df_info(df_rides)"
   ]
  },
  {
   "cell_type": "markdown",
   "id": "f68dac29",
   "metadata": {},
   "source": [
    "После первичного анализа данных, мы видим, что датафрейм содержит 18068 строк и 4 столбца, которые соответствуют описанию. Названия столбцов корректны, пропущенных значений нет. Типы данных в порядке, за исключением колонки \"date\", которую необходимо преобразовать в формат даты pandas. Колонка duration отражает  длительность  поездки  в  минутах. Я хочу трансформировать  эти  данные  в  формат  %H:%M:%S  с  типом  данных  datetime64. Максимальный идентификатор соответствует данным о пользователях.  Распределение расстояния и длительности поездок в целом выглядит нормально, однако минимальные значения этих переменных вызывают вопросы и требуют более детального изучения."
   ]
  },
  {
   "cell_type": "code",
   "execution_count": 10,
   "id": "d576f7c8",
   "metadata": {},
   "outputs": [
    {
     "data": {
      "text/html": [
       "<div>\n",
       "<style scoped>\n",
       "    .dataframe tbody tr th:only-of-type {\n",
       "        vertical-align: middle;\n",
       "    }\n",
       "\n",
       "    .dataframe tbody tr th {\n",
       "        vertical-align: top;\n",
       "    }\n",
       "\n",
       "    .dataframe thead th {\n",
       "        text-align: right;\n",
       "    }\n",
       "</style>\n",
       "<table border=\"1\" class=\"dataframe\">\n",
       "  <thead>\n",
       "    <tr style=\"text-align: right;\">\n",
       "      <th></th>\n",
       "      <th>subscription_type</th>\n",
       "      <th>minute_price</th>\n",
       "      <th>start_ride_price</th>\n",
       "      <th>subscription_fee</th>\n",
       "    </tr>\n",
       "  </thead>\n",
       "  <tbody>\n",
       "    <tr>\n",
       "      <th>0</th>\n",
       "      <td>free</td>\n",
       "      <td>8</td>\n",
       "      <td>50</td>\n",
       "      <td>0</td>\n",
       "    </tr>\n",
       "    <tr>\n",
       "      <th>1</th>\n",
       "      <td>ultra</td>\n",
       "      <td>6</td>\n",
       "      <td>0</td>\n",
       "      <td>199</td>\n",
       "    </tr>\n",
       "  </tbody>\n",
       "</table>\n",
       "</div>"
      ],
      "text/plain": [
       "  subscription_type  minute_price  start_ride_price  subscription_fee\n",
       "0              free             8                50                 0\n",
       "1             ultra             6                 0               199"
      ]
     },
     "execution_count": 10,
     "metadata": {},
     "output_type": "execute_result"
    }
   ],
   "source": [
    "df_sub.head()"
   ]
  },
  {
   "cell_type": "markdown",
   "id": "69efce76",
   "metadata": {},
   "source": [
    "Все в порядке, данные соответствуют описанию."
   ]
  },
  {
   "cell_type": "markdown",
   "id": "9003d2e2",
   "metadata": {},
   "source": [
    "<div style=\"background-color: PaleTurquoise; padding: 20px\"> <b>Вывод:</b> В целом, данные выглядят достаточно чистыми и согласованными. Однако, обнаруженные несоответствия в колонке \"user_id\" первого датафрейма и  минимальные значения расстояния и длительности поездок во втором датафрейме требуют более детального анализа. В дальнейшем потребуется провести обработку колонки \"date\" в датафрейме df_rides. И колонки duration в тип данных datetime64.</div>"
   ]
  },
  {
   "cell_type": "markdown",
   "id": "e95ebca7",
   "metadata": {},
   "source": [
    "### Предобработка данных"
   ]
  },
  {
   "cell_type": "markdown",
   "id": "96cad3b9",
   "metadata": {},
   "source": [
    "На данном этапе мы сосредоточимся на устранении недостатков, выявленных в ходе первого этапа проекта."
   ]
  },
  {
   "cell_type": "markdown",
   "id": "dbe3b1df",
   "metadata": {},
   "source": [
    "**user_id**"
   ]
  },
  {
   "cell_type": "code",
   "execution_count": 11,
   "id": "77df8eab",
   "metadata": {},
   "outputs": [
    {
     "data": {
      "text/plain": [
       "31"
      ]
     },
     "execution_count": 11,
     "metadata": {},
     "output_type": "execute_result"
    }
   ],
   "source": [
    "df_users['user_id'].duplicated().sum()"
   ]
  },
  {
   "cell_type": "markdown",
   "id": "cf3d6381",
   "metadata": {},
   "source": [
    "Может быть, это один и тот же пользователь с одинаковым ID?"
   ]
  },
  {
   "cell_type": "code",
   "execution_count": 12,
   "id": "f5f869db",
   "metadata": {},
   "outputs": [
    {
     "data": {
      "text/plain": [
       "31"
      ]
     },
     "execution_count": 12,
     "metadata": {},
     "output_type": "execute_result"
    }
   ],
   "source": [
    "df_users.duplicated().sum()"
   ]
  },
  {
   "cell_type": "markdown",
   "id": "d6b7e396",
   "metadata": {},
   "source": [
    "Да, так и есть. Посмотрим более детально на дубликаты с целью выявить какие-нибудь закономерности в их возникновении."
   ]
  },
  {
   "cell_type": "code",
   "execution_count": 13,
   "id": "7289c447",
   "metadata": {},
   "outputs": [
    {
     "data": {
      "text/html": [
       "<div>\n",
       "<style scoped>\n",
       "    .dataframe tbody tr th:only-of-type {\n",
       "        vertical-align: middle;\n",
       "    }\n",
       "\n",
       "    .dataframe tbody tr th {\n",
       "        vertical-align: top;\n",
       "    }\n",
       "\n",
       "    .dataframe thead th {\n",
       "        text-align: right;\n",
       "    }\n",
       "</style>\n",
       "<table border=\"1\" class=\"dataframe\">\n",
       "  <thead>\n",
       "    <tr style=\"text-align: right;\">\n",
       "      <th></th>\n",
       "      <th>user_id</th>\n",
       "      <th>name</th>\n",
       "      <th>age</th>\n",
       "      <th>city</th>\n",
       "      <th>subscription_type</th>\n",
       "    </tr>\n",
       "  </thead>\n",
       "  <tbody>\n",
       "    <tr>\n",
       "      <th>1534</th>\n",
       "      <td>293</td>\n",
       "      <td>Агата</td>\n",
       "      <td>26</td>\n",
       "      <td>Краснодар</td>\n",
       "      <td>ultra</td>\n",
       "    </tr>\n",
       "    <tr>\n",
       "      <th>1535</th>\n",
       "      <td>16</td>\n",
       "      <td>Амалия</td>\n",
       "      <td>27</td>\n",
       "      <td>Краснодар</td>\n",
       "      <td>ultra</td>\n",
       "    </tr>\n",
       "    <tr>\n",
       "      <th>1536</th>\n",
       "      <td>909</td>\n",
       "      <td>Константин</td>\n",
       "      <td>20</td>\n",
       "      <td>Екатеринбург</td>\n",
       "      <td>free</td>\n",
       "    </tr>\n",
       "    <tr>\n",
       "      <th>1537</th>\n",
       "      <td>403</td>\n",
       "      <td>Полина</td>\n",
       "      <td>19</td>\n",
       "      <td>Сочи</td>\n",
       "      <td>ultra</td>\n",
       "    </tr>\n",
       "    <tr>\n",
       "      <th>1538</th>\n",
       "      <td>908</td>\n",
       "      <td>Рустам</td>\n",
       "      <td>30</td>\n",
       "      <td>Тюмень</td>\n",
       "      <td>free</td>\n",
       "    </tr>\n",
       "    <tr>\n",
       "      <th>1539</th>\n",
       "      <td>43</td>\n",
       "      <td>Стефания</td>\n",
       "      <td>22</td>\n",
       "      <td>Омск</td>\n",
       "      <td>ultra</td>\n",
       "    </tr>\n",
       "    <tr>\n",
       "      <th>1540</th>\n",
       "      <td>127</td>\n",
       "      <td>Павел</td>\n",
       "      <td>25</td>\n",
       "      <td>Пятигорск</td>\n",
       "      <td>ultra</td>\n",
       "    </tr>\n",
       "    <tr>\n",
       "      <th>1541</th>\n",
       "      <td>659</td>\n",
       "      <td>Злата</td>\n",
       "      <td>27</td>\n",
       "      <td>Ростов-на-Дону</td>\n",
       "      <td>ultra</td>\n",
       "    </tr>\n",
       "    <tr>\n",
       "      <th>1542</th>\n",
       "      <td>204</td>\n",
       "      <td>Руслан</td>\n",
       "      <td>30</td>\n",
       "      <td>Пятигорск</td>\n",
       "      <td>ultra</td>\n",
       "    </tr>\n",
       "    <tr>\n",
       "      <th>1543</th>\n",
       "      <td>153</td>\n",
       "      <td>Герман</td>\n",
       "      <td>23</td>\n",
       "      <td>Москва</td>\n",
       "      <td>ultra</td>\n",
       "    </tr>\n",
       "    <tr>\n",
       "      <th>1544</th>\n",
       "      <td>1245</td>\n",
       "      <td>Регина</td>\n",
       "      <td>27</td>\n",
       "      <td>Пятигорск</td>\n",
       "      <td>free</td>\n",
       "    </tr>\n",
       "    <tr>\n",
       "      <th>1545</th>\n",
       "      <td>807</td>\n",
       "      <td>Александр</td>\n",
       "      <td>28</td>\n",
       "      <td>Екатеринбург</td>\n",
       "      <td>free</td>\n",
       "    </tr>\n",
       "    <tr>\n",
       "      <th>1546</th>\n",
       "      <td>924</td>\n",
       "      <td>Мария</td>\n",
       "      <td>23</td>\n",
       "      <td>Пятигорск</td>\n",
       "      <td>free</td>\n",
       "    </tr>\n",
       "    <tr>\n",
       "      <th>1547</th>\n",
       "      <td>635</td>\n",
       "      <td>Герман</td>\n",
       "      <td>21</td>\n",
       "      <td>Москва</td>\n",
       "      <td>ultra</td>\n",
       "    </tr>\n",
       "    <tr>\n",
       "      <th>1548</th>\n",
       "      <td>136</td>\n",
       "      <td>Марсель</td>\n",
       "      <td>25</td>\n",
       "      <td>Тюмень</td>\n",
       "      <td>ultra</td>\n",
       "    </tr>\n",
       "    <tr>\n",
       "      <th>1549</th>\n",
       "      <td>108</td>\n",
       "      <td>Влада</td>\n",
       "      <td>29</td>\n",
       "      <td>Тюмень</td>\n",
       "      <td>ultra</td>\n",
       "    </tr>\n",
       "    <tr>\n",
       "      <th>1550</th>\n",
       "      <td>737</td>\n",
       "      <td>Мелания</td>\n",
       "      <td>27</td>\n",
       "      <td>Ростов-на-Дону</td>\n",
       "      <td>free</td>\n",
       "    </tr>\n",
       "    <tr>\n",
       "      <th>1551</th>\n",
       "      <td>666</td>\n",
       "      <td>Зарина</td>\n",
       "      <td>29</td>\n",
       "      <td>Москва</td>\n",
       "      <td>ultra</td>\n",
       "    </tr>\n",
       "    <tr>\n",
       "      <th>1552</th>\n",
       "      <td>297</td>\n",
       "      <td>Егор</td>\n",
       "      <td>33</td>\n",
       "      <td>Пятигорск</td>\n",
       "      <td>ultra</td>\n",
       "    </tr>\n",
       "    <tr>\n",
       "      <th>1553</th>\n",
       "      <td>121</td>\n",
       "      <td>Алина</td>\n",
       "      <td>25</td>\n",
       "      <td>Пятигорск</td>\n",
       "      <td>ultra</td>\n",
       "    </tr>\n",
       "    <tr>\n",
       "      <th>1554</th>\n",
       "      <td>1198</td>\n",
       "      <td>Демид</td>\n",
       "      <td>29</td>\n",
       "      <td>Ростов-на-Дону</td>\n",
       "      <td>free</td>\n",
       "    </tr>\n",
       "    <tr>\n",
       "      <th>1555</th>\n",
       "      <td>72</td>\n",
       "      <td>Никита</td>\n",
       "      <td>25</td>\n",
       "      <td>Москва</td>\n",
       "      <td>ultra</td>\n",
       "    </tr>\n",
       "    <tr>\n",
       "      <th>1556</th>\n",
       "      <td>422</td>\n",
       "      <td>Кирилл</td>\n",
       "      <td>27</td>\n",
       "      <td>Сочи</td>\n",
       "      <td>ultra</td>\n",
       "    </tr>\n",
       "    <tr>\n",
       "      <th>1557</th>\n",
       "      <td>611</td>\n",
       "      <td>Владимир</td>\n",
       "      <td>28</td>\n",
       "      <td>Омск</td>\n",
       "      <td>ultra</td>\n",
       "    </tr>\n",
       "    <tr>\n",
       "      <th>1558</th>\n",
       "      <td>1237</td>\n",
       "      <td>Евгения</td>\n",
       "      <td>23</td>\n",
       "      <td>Тюмень</td>\n",
       "      <td>free</td>\n",
       "    </tr>\n",
       "    <tr>\n",
       "      <th>1559</th>\n",
       "      <td>209</td>\n",
       "      <td>Андрей</td>\n",
       "      <td>23</td>\n",
       "      <td>Омск</td>\n",
       "      <td>ultra</td>\n",
       "    </tr>\n",
       "    <tr>\n",
       "      <th>1560</th>\n",
       "      <td>829</td>\n",
       "      <td>Федор</td>\n",
       "      <td>29</td>\n",
       "      <td>Пятигорск</td>\n",
       "      <td>free</td>\n",
       "    </tr>\n",
       "    <tr>\n",
       "      <th>1561</th>\n",
       "      <td>809</td>\n",
       "      <td>Юрий</td>\n",
       "      <td>26</td>\n",
       "      <td>Сочи</td>\n",
       "      <td>free</td>\n",
       "    </tr>\n",
       "    <tr>\n",
       "      <th>1562</th>\n",
       "      <td>307</td>\n",
       "      <td>Ясмина</td>\n",
       "      <td>19</td>\n",
       "      <td>Краснодар</td>\n",
       "      <td>ultra</td>\n",
       "    </tr>\n",
       "    <tr>\n",
       "      <th>1563</th>\n",
       "      <td>47</td>\n",
       "      <td>Юрий</td>\n",
       "      <td>28</td>\n",
       "      <td>Тюмень</td>\n",
       "      <td>ultra</td>\n",
       "    </tr>\n",
       "    <tr>\n",
       "      <th>1564</th>\n",
       "      <td>1045</td>\n",
       "      <td>Артемий</td>\n",
       "      <td>28</td>\n",
       "      <td>Ростов-на-Дону</td>\n",
       "      <td>free</td>\n",
       "    </tr>\n",
       "  </tbody>\n",
       "</table>\n",
       "</div>"
      ],
      "text/plain": [
       "      user_id        name  age            city subscription_type\n",
       "1534      293       Агата   26       Краснодар             ultra\n",
       "1535       16      Амалия   27       Краснодар             ultra\n",
       "1536      909  Константин   20    Екатеринбург              free\n",
       "1537      403      Полина   19            Сочи             ultra\n",
       "1538      908      Рустам   30          Тюмень              free\n",
       "1539       43    Стефания   22            Омск             ultra\n",
       "1540      127       Павел   25       Пятигорск             ultra\n",
       "1541      659       Злата   27  Ростов-на-Дону             ultra\n",
       "1542      204      Руслан   30       Пятигорск             ultra\n",
       "1543      153      Герман   23          Москва             ultra\n",
       "1544     1245      Регина   27       Пятигорск              free\n",
       "1545      807   Александр   28    Екатеринбург              free\n",
       "1546      924       Мария   23       Пятигорск              free\n",
       "1547      635      Герман   21          Москва             ultra\n",
       "1548      136     Марсель   25          Тюмень             ultra\n",
       "1549      108       Влада   29          Тюмень             ultra\n",
       "1550      737     Мелания   27  Ростов-на-Дону              free\n",
       "1551      666      Зарина   29          Москва             ultra\n",
       "1552      297        Егор   33       Пятигорск             ultra\n",
       "1553      121       Алина   25       Пятигорск             ultra\n",
       "1554     1198       Демид   29  Ростов-на-Дону              free\n",
       "1555       72      Никита   25          Москва             ultra\n",
       "1556      422      Кирилл   27            Сочи             ultra\n",
       "1557      611    Владимир   28            Омск             ultra\n",
       "1558     1237     Евгения   23          Тюмень              free\n",
       "1559      209      Андрей   23            Омск             ultra\n",
       "1560      829       Федор   29       Пятигорск              free\n",
       "1561      809        Юрий   26            Сочи              free\n",
       "1562      307      Ясмина   19       Краснодар             ultra\n",
       "1563       47        Юрий   28          Тюмень             ultra\n",
       "1564     1045     Артемий   28  Ростов-на-Дону              free"
      ]
     },
     "execution_count": 13,
     "metadata": {},
     "output_type": "execute_result"
    }
   ],
   "source": [
    "df_users[df_users.duplicated()]"
   ]
  },
  {
   "cell_type": "markdown",
   "id": "f0dca581",
   "metadata": {},
   "source": [
    "Обнаружена закономерность: дубликаты идут подряд в конце датафрейма.  Возможно, причина в технических проблемах (или намеренном действии 😐). Удалим их и все."
   ]
  },
  {
   "cell_type": "code",
   "execution_count": 14,
   "id": "9dad68e0",
   "metadata": {},
   "outputs": [
    {
     "name": "stdout",
     "output_type": "stream",
     "text": [
      "До: 1565\n",
      "После: 1534\n"
     ]
    }
   ],
   "source": [
    "print('До:', len(df_users))\n",
    "df_users = df_users.drop_duplicates(subset=['user_id'])\n",
    "print('После:', len(df_users))"
   ]
  },
  {
   "cell_type": "markdown",
   "id": "a0beefb6",
   "metadata": {},
   "source": [
    "**date**"
   ]
  },
  {
   "cell_type": "markdown",
   "id": "54aa1b1a",
   "metadata": {},
   "source": [
    "Сначала изменим тип данных в колонке \"data\" на datetime64, а затем посмотрим на временные рамки проекта."
   ]
  },
  {
   "cell_type": "code",
   "execution_count": 15,
   "id": "d0109fc2",
   "metadata": {},
   "outputs": [],
   "source": [
    "df_rides['date'] = pd.to_datetime(df_rides['date'], format='%Y-%m-%d')"
   ]
  },
  {
   "cell_type": "code",
   "execution_count": 16,
   "id": "4f319d9f",
   "metadata": {},
   "outputs": [
    {
     "name": "stdout",
     "output_type": "stream",
     "text": [
      "<class 'pandas.core.frame.DataFrame'>\n",
      "RangeIndex: 18068 entries, 0 to 18067\n",
      "Data columns (total 4 columns):\n",
      " #   Column    Non-Null Count  Dtype         \n",
      "---  ------    --------------  -----         \n",
      " 0   user_id   18068 non-null  int64         \n",
      " 1   distance  18068 non-null  float64       \n",
      " 2   duration  18068 non-null  float64       \n",
      " 3   date      18068 non-null  datetime64[ns]\n",
      "dtypes: datetime64[ns](1), float64(2), int64(1)\n",
      "memory usage: 564.8 KB\n"
     ]
    }
   ],
   "source": [
    "df_rides.info()"
   ]
  },
  {
   "cell_type": "code",
   "execution_count": 17,
   "id": "86cf4d4e",
   "metadata": {},
   "outputs": [
    {
     "name": "stdout",
     "output_type": "stream",
     "text": [
      "Временные рамки проекта\n",
      "От: 2021-01-01 00:00:00\n",
      "До: 2021-12-30 00:00:00\n"
     ]
    }
   ],
   "source": [
    "print('Временные рамки проекта')\n",
    "print('От:', df_rides['date'].min())\n",
    "print('До:', df_rides['date'].max())"
   ]
  },
  {
   "cell_type": "markdown",
   "id": "436da5f6",
   "metadata": {},
   "source": [
    "**city**"
   ]
  },
  {
   "cell_type": "markdown",
   "id": "9af7b3be",
   "metadata": {},
   "source": [
    "Проверю уникальные значения в столбце \"city\" на наличие неявных дубликатов."
   ]
  },
  {
   "cell_type": "code",
   "execution_count": 18,
   "id": "90353885",
   "metadata": {},
   "outputs": [
    {
     "data": {
      "text/plain": [
       "array(['Тюмень', 'Омск', 'Москва', 'Ростов-на-Дону', 'Краснодар',\n",
       "       'Пятигорск', 'Екатеринбург', 'Сочи'], dtype=object)"
      ]
     },
     "execution_count": 18,
     "metadata": {},
     "output_type": "execute_result"
    }
   ],
   "source": [
    "df_users['city'].unique()"
   ]
  },
  {
   "cell_type": "markdown",
   "id": "9dae5717",
   "metadata": {},
   "source": [
    "Все отлично😊"
   ]
  },
  {
   "cell_type": "markdown",
   "id": "d79afce9",
   "metadata": {},
   "source": [
    "**subscription_type**"
   ]
  },
  {
   "cell_type": "markdown",
   "id": "70cda45a",
   "metadata": {},
   "source": [
    "Теперь проверим столбец \"subscription_type\" на неявные дубликаты."
   ]
  },
  {
   "cell_type": "code",
   "execution_count": 19,
   "id": "0aebe1eb",
   "metadata": {},
   "outputs": [
    {
     "data": {
      "text/plain": [
       "array(['ultra', 'free'], dtype=object)"
      ]
     },
     "execution_count": 19,
     "metadata": {},
     "output_type": "execute_result"
    }
   ],
   "source": [
    "df_users['subscription_type'].unique()"
   ]
  },
  {
   "cell_type": "markdown",
   "id": "d6a434fc",
   "metadata": {},
   "source": [
    "И снова все хорошо"
   ]
  },
  {
   "cell_type": "markdown",
   "id": "938e9714",
   "metadata": {},
   "source": [
    "**Добавьление в таблицу столбца beautiful_time**"
   ]
  },
  {
   "cell_type": "code",
   "execution_count": 20,
   "id": "7b555956",
   "metadata": {},
   "outputs": [],
   "source": [
    "def to_minutes(time):\n",
    "    \"\"\"Преобразует время из формата \"10.5\" в формат \"00:10:30\".\n",
    "\n",
    "    Вход:\n",
    "        time: float с временем в формате \"X.Y\", где X - минуты, Y - десятые доли минуты.\n",
    "\n",
    "    Выход:\n",
    "        Строка с временем в формате \"00:HH:MM\".\n",
    "    \"\"\"\n",
    "    minutes, decimal_part =time // 1, time % 1 * 10\n",
    "    total_seconds = int(minutes * 60 + decimal_part * 6)\n",
    "    hours = total_seconds // 3600\n",
    "    minutes = (total_seconds % 3600) // 60\n",
    "    seconds = int(decimal_part * 6)\n",
    "    return f\"{hours:02d}:{minutes:02d}:{seconds:02d}\"\n",
    "        \n",
    "#to_minutes(10.9)"
   ]
  },
  {
   "cell_type": "code",
   "execution_count": 21,
   "id": "fa36b69e",
   "metadata": {},
   "outputs": [],
   "source": [
    "df_rides['beautiful_time'] = df_rides['duration'].apply(to_minutes)"
   ]
  },
  {
   "cell_type": "code",
   "execution_count": 22,
   "id": "3a6c7870",
   "metadata": {},
   "outputs": [
    {
     "data": {
      "text/html": [
       "<div>\n",
       "<style scoped>\n",
       "    .dataframe tbody tr th:only-of-type {\n",
       "        vertical-align: middle;\n",
       "    }\n",
       "\n",
       "    .dataframe tbody tr th {\n",
       "        vertical-align: top;\n",
       "    }\n",
       "\n",
       "    .dataframe thead th {\n",
       "        text-align: right;\n",
       "    }\n",
       "</style>\n",
       "<table border=\"1\" class=\"dataframe\">\n",
       "  <thead>\n",
       "    <tr style=\"text-align: right;\">\n",
       "      <th></th>\n",
       "      <th>user_id</th>\n",
       "      <th>distance</th>\n",
       "      <th>duration</th>\n",
       "      <th>date</th>\n",
       "      <th>beautiful_time</th>\n",
       "    </tr>\n",
       "  </thead>\n",
       "  <tbody>\n",
       "    <tr>\n",
       "      <th>0</th>\n",
       "      <td>1</td>\n",
       "      <td>4409.919140</td>\n",
       "      <td>25.599769</td>\n",
       "      <td>2021-01-01</td>\n",
       "      <td>00:25:35</td>\n",
       "    </tr>\n",
       "    <tr>\n",
       "      <th>1</th>\n",
       "      <td>1</td>\n",
       "      <td>2617.592153</td>\n",
       "      <td>15.816871</td>\n",
       "      <td>2021-01-18</td>\n",
       "      <td>00:15:49</td>\n",
       "    </tr>\n",
       "    <tr>\n",
       "      <th>2</th>\n",
       "      <td>1</td>\n",
       "      <td>754.159807</td>\n",
       "      <td>6.232113</td>\n",
       "      <td>2021-04-20</td>\n",
       "      <td>00:06:13</td>\n",
       "    </tr>\n",
       "    <tr>\n",
       "      <th>3</th>\n",
       "      <td>1</td>\n",
       "      <td>2694.783254</td>\n",
       "      <td>18.511000</td>\n",
       "      <td>2021-08-11</td>\n",
       "      <td>00:18:30</td>\n",
       "    </tr>\n",
       "    <tr>\n",
       "      <th>4</th>\n",
       "      <td>1</td>\n",
       "      <td>4028.687306</td>\n",
       "      <td>26.265803</td>\n",
       "      <td>2021-08-28</td>\n",
       "      <td>00:26:15</td>\n",
       "    </tr>\n",
       "    <tr>\n",
       "      <th>5</th>\n",
       "      <td>1</td>\n",
       "      <td>2770.890808</td>\n",
       "      <td>16.650138</td>\n",
       "      <td>2021-10-09</td>\n",
       "      <td>00:16:39</td>\n",
       "    </tr>\n",
       "    <tr>\n",
       "      <th>6</th>\n",
       "      <td>1</td>\n",
       "      <td>3039.020292</td>\n",
       "      <td>14.927879</td>\n",
       "      <td>2021-10-19</td>\n",
       "      <td>00:14:55</td>\n",
       "    </tr>\n",
       "    <tr>\n",
       "      <th>7</th>\n",
       "      <td>1</td>\n",
       "      <td>2842.118050</td>\n",
       "      <td>23.117468</td>\n",
       "      <td>2021-11-06</td>\n",
       "      <td>00:23:07</td>\n",
       "    </tr>\n",
       "    <tr>\n",
       "      <th>8</th>\n",
       "      <td>1</td>\n",
       "      <td>3412.690668</td>\n",
       "      <td>15.238072</td>\n",
       "      <td>2021-11-14</td>\n",
       "      <td>00:15:14</td>\n",
       "    </tr>\n",
       "    <tr>\n",
       "      <th>9</th>\n",
       "      <td>1</td>\n",
       "      <td>748.690645</td>\n",
       "      <td>15.041884</td>\n",
       "      <td>2021-11-22</td>\n",
       "      <td>00:15:02</td>\n",
       "    </tr>\n",
       "    <tr>\n",
       "      <th>10</th>\n",
       "      <td>1</td>\n",
       "      <td>4031.020195</td>\n",
       "      <td>17.674448</td>\n",
       "      <td>2021-12-14</td>\n",
       "      <td>00:17:40</td>\n",
       "    </tr>\n",
       "    <tr>\n",
       "      <th>11</th>\n",
       "      <td>1</td>\n",
       "      <td>2720.609748</td>\n",
       "      <td>9.529463</td>\n",
       "      <td>2021-12-22</td>\n",
       "      <td>00:09:31</td>\n",
       "    </tr>\n",
       "    <tr>\n",
       "      <th>12</th>\n",
       "      <td>2</td>\n",
       "      <td>3105.086678</td>\n",
       "      <td>24.307514</td>\n",
       "      <td>2021-03-15</td>\n",
       "      <td>00:24:18</td>\n",
       "    </tr>\n",
       "    <tr>\n",
       "      <th>13</th>\n",
       "      <td>2</td>\n",
       "      <td>3053.519401</td>\n",
       "      <td>11.543256</td>\n",
       "      <td>2021-03-18</td>\n",
       "      <td>00:11:32</td>\n",
       "    </tr>\n",
       "    <tr>\n",
       "      <th>14</th>\n",
       "      <td>2</td>\n",
       "      <td>4029.116927</td>\n",
       "      <td>25.109188</td>\n",
       "      <td>2021-03-23</td>\n",
       "      <td>00:25:06</td>\n",
       "    </tr>\n",
       "  </tbody>\n",
       "</table>\n",
       "</div>"
      ],
      "text/plain": [
       "    user_id     distance   duration       date beautiful_time\n",
       "0         1  4409.919140  25.599769 2021-01-01       00:25:35\n",
       "1         1  2617.592153  15.816871 2021-01-18       00:15:49\n",
       "2         1   754.159807   6.232113 2021-04-20       00:06:13\n",
       "3         1  2694.783254  18.511000 2021-08-11       00:18:30\n",
       "4         1  4028.687306  26.265803 2021-08-28       00:26:15\n",
       "5         1  2770.890808  16.650138 2021-10-09       00:16:39\n",
       "6         1  3039.020292  14.927879 2021-10-19       00:14:55\n",
       "7         1  2842.118050  23.117468 2021-11-06       00:23:07\n",
       "8         1  3412.690668  15.238072 2021-11-14       00:15:14\n",
       "9         1   748.690645  15.041884 2021-11-22       00:15:02\n",
       "10        1  4031.020195  17.674448 2021-12-14       00:17:40\n",
       "11        1  2720.609748   9.529463 2021-12-22       00:09:31\n",
       "12        2  3105.086678  24.307514 2021-03-15       00:24:18\n",
       "13        2  3053.519401  11.543256 2021-03-18       00:11:32\n",
       "14        2  4029.116927  25.109188 2021-03-23       00:25:06"
      ]
     },
     "execution_count": 22,
     "metadata": {},
     "output_type": "execute_result"
    }
   ],
   "source": [
    "df_rides.head(15)"
   ]
  },
  {
   "cell_type": "markdown",
   "id": "bfe79e70",
   "metadata": {},
   "source": [
    "  Целью преобразования времени в формат %H:%M:%S было  улучшение  читаемости  данных.  Однако  оригинальная  колонка  duration  с  значениями  в  минутах  останется  неизменной,  так  как  она  будет  использоваться  в  расчетах."
   ]
  },
  {
   "cell_type": "markdown",
   "id": "7517fdbb",
   "metadata": {},
   "source": [
    "**Добавьление в таблицу столбца \"month\"**"
   ]
  },
  {
   "cell_type": "markdown",
   "id": "3b9f664d",
   "metadata": {},
   "source": [
    " Дальнейший анализ требует создания столбца с информацией о месяце поездки."
   ]
  },
  {
   "cell_type": "code",
   "execution_count": 23,
   "id": "a4cbbc6f",
   "metadata": {},
   "outputs": [],
   "source": [
    "df_rides['month'] = df_rides['date'].dt.month"
   ]
  },
  {
   "cell_type": "code",
   "execution_count": 24,
   "id": "53759f87",
   "metadata": {},
   "outputs": [
    {
     "data": {
      "text/html": [
       "<div>\n",
       "<style scoped>\n",
       "    .dataframe tbody tr th:only-of-type {\n",
       "        vertical-align: middle;\n",
       "    }\n",
       "\n",
       "    .dataframe tbody tr th {\n",
       "        vertical-align: top;\n",
       "    }\n",
       "\n",
       "    .dataframe thead th {\n",
       "        text-align: right;\n",
       "    }\n",
       "</style>\n",
       "<table border=\"1\" class=\"dataframe\">\n",
       "  <thead>\n",
       "    <tr style=\"text-align: right;\">\n",
       "      <th></th>\n",
       "      <th>user_id</th>\n",
       "      <th>distance</th>\n",
       "      <th>duration</th>\n",
       "      <th>date</th>\n",
       "      <th>beautiful_time</th>\n",
       "      <th>month</th>\n",
       "    </tr>\n",
       "  </thead>\n",
       "  <tbody>\n",
       "    <tr>\n",
       "      <th>0</th>\n",
       "      <td>1</td>\n",
       "      <td>4409.919140</td>\n",
       "      <td>25.599769</td>\n",
       "      <td>2021-01-01</td>\n",
       "      <td>00:25:35</td>\n",
       "      <td>1</td>\n",
       "    </tr>\n",
       "    <tr>\n",
       "      <th>1</th>\n",
       "      <td>1</td>\n",
       "      <td>2617.592153</td>\n",
       "      <td>15.816871</td>\n",
       "      <td>2021-01-18</td>\n",
       "      <td>00:15:49</td>\n",
       "      <td>1</td>\n",
       "    </tr>\n",
       "    <tr>\n",
       "      <th>2</th>\n",
       "      <td>1</td>\n",
       "      <td>754.159807</td>\n",
       "      <td>6.232113</td>\n",
       "      <td>2021-04-20</td>\n",
       "      <td>00:06:13</td>\n",
       "      <td>4</td>\n",
       "    </tr>\n",
       "    <tr>\n",
       "      <th>3</th>\n",
       "      <td>1</td>\n",
       "      <td>2694.783254</td>\n",
       "      <td>18.511000</td>\n",
       "      <td>2021-08-11</td>\n",
       "      <td>00:18:30</td>\n",
       "      <td>8</td>\n",
       "    </tr>\n",
       "    <tr>\n",
       "      <th>4</th>\n",
       "      <td>1</td>\n",
       "      <td>4028.687306</td>\n",
       "      <td>26.265803</td>\n",
       "      <td>2021-08-28</td>\n",
       "      <td>00:26:15</td>\n",
       "      <td>8</td>\n",
       "    </tr>\n",
       "  </tbody>\n",
       "</table>\n",
       "</div>"
      ],
      "text/plain": [
       "   user_id     distance   duration       date beautiful_time  month\n",
       "0        1  4409.919140  25.599769 2021-01-01       00:25:35      1\n",
       "1        1  2617.592153  15.816871 2021-01-18       00:15:49      1\n",
       "2        1   754.159807   6.232113 2021-04-20       00:06:13      4\n",
       "3        1  2694.783254  18.511000 2021-08-11       00:18:30      8\n",
       "4        1  4028.687306  26.265803 2021-08-28       00:26:15      8"
      ]
     },
     "execution_count": 24,
     "metadata": {},
     "output_type": "execute_result"
    }
   ],
   "source": [
    "df_rides.head()"
   ]
  },
  {
   "cell_type": "markdown",
   "id": "349d87d2",
   "metadata": {},
   "source": [
    "**Добавьление в таблицу столбца \"age_group\"**"
   ]
  },
  {
   "cell_type": "markdown",
   "id": "9c51c041",
   "metadata": {},
   "source": [
    "Для дальнейшего анализа возраста пользователей предлагаю создать столбец age_group с разбивкой на категории (возраст пользователей находится в пределах от 12 до 43 лет):\n",
    "* 12-17 лет:  Эта группа представляет собой пользователей школьного возраста.\n",
    "* 18-24 года:  В эту группу входят студенты и молодые специалисты.\n",
    "* 25-34 лет:  Это более зрелая аудитория, которая, вероятно, уже имеет стабильную работу и семью.\n",
    "* 35-43 лет:  Эта группа представляет собой пользователей среднего возраста, у которых, возможно, уже есть дети-подростки."
   ]
  },
  {
   "cell_type": "code",
   "execution_count": 25,
   "id": "caaa9e4a",
   "metadata": {},
   "outputs": [],
   "source": [
    "def age_grouping(age):\n",
    "    if 12 <= age <= 17:\n",
    "        return \"12-17 лет\"\n",
    "    elif 18 <= age <= 24:\n",
    "        return \"18-24 года\"\n",
    "    elif 25 <= age <= 34:\n",
    "        return \"25-34 года\"\n",
    "    else:\n",
    "        return \"35-43 года\""
   ]
  },
  {
   "cell_type": "code",
   "execution_count": 26,
   "id": "51d4931a",
   "metadata": {},
   "outputs": [],
   "source": [
    "df_users['age_group'] = df_users['age'].apply(age_grouping)"
   ]
  },
  {
   "cell_type": "code",
   "execution_count": 27,
   "id": "663bce14",
   "metadata": {},
   "outputs": [
    {
     "data": {
      "text/html": [
       "<div>\n",
       "<style scoped>\n",
       "    .dataframe tbody tr th:only-of-type {\n",
       "        vertical-align: middle;\n",
       "    }\n",
       "\n",
       "    .dataframe tbody tr th {\n",
       "        vertical-align: top;\n",
       "    }\n",
       "\n",
       "    .dataframe thead th {\n",
       "        text-align: right;\n",
       "    }\n",
       "</style>\n",
       "<table border=\"1\" class=\"dataframe\">\n",
       "  <thead>\n",
       "    <tr style=\"text-align: right;\">\n",
       "      <th></th>\n",
       "      <th>user_id</th>\n",
       "      <th>name</th>\n",
       "      <th>age</th>\n",
       "      <th>city</th>\n",
       "      <th>subscription_type</th>\n",
       "      <th>age_group</th>\n",
       "    </tr>\n",
       "  </thead>\n",
       "  <tbody>\n",
       "    <tr>\n",
       "      <th>1324</th>\n",
       "      <td>1325</td>\n",
       "      <td>Амалия</td>\n",
       "      <td>36</td>\n",
       "      <td>Сочи</td>\n",
       "      <td>free</td>\n",
       "      <td>35-43 года</td>\n",
       "    </tr>\n",
       "    <tr>\n",
       "      <th>621</th>\n",
       "      <td>622</td>\n",
       "      <td>Ярослава</td>\n",
       "      <td>24</td>\n",
       "      <td>Тюмень</td>\n",
       "      <td>ultra</td>\n",
       "      <td>18-24 года</td>\n",
       "    </tr>\n",
       "    <tr>\n",
       "      <th>393</th>\n",
       "      <td>394</td>\n",
       "      <td>Алиса</td>\n",
       "      <td>31</td>\n",
       "      <td>Ростов-на-Дону</td>\n",
       "      <td>ultra</td>\n",
       "      <td>25-34 года</td>\n",
       "    </tr>\n",
       "    <tr>\n",
       "      <th>633</th>\n",
       "      <td>634</td>\n",
       "      <td>Одиссей</td>\n",
       "      <td>27</td>\n",
       "      <td>Екатеринбург</td>\n",
       "      <td>ultra</td>\n",
       "      <td>25-34 года</td>\n",
       "    </tr>\n",
       "    <tr>\n",
       "      <th>41</th>\n",
       "      <td>42</td>\n",
       "      <td>Нина</td>\n",
       "      <td>18</td>\n",
       "      <td>Екатеринбург</td>\n",
       "      <td>ultra</td>\n",
       "      <td>18-24 года</td>\n",
       "    </tr>\n",
       "    <tr>\n",
       "      <th>517</th>\n",
       "      <td>518</td>\n",
       "      <td>Алиса</td>\n",
       "      <td>22</td>\n",
       "      <td>Ростов-на-Дону</td>\n",
       "      <td>ultra</td>\n",
       "      <td>18-24 года</td>\n",
       "    </tr>\n",
       "    <tr>\n",
       "      <th>201</th>\n",
       "      <td>202</td>\n",
       "      <td>Вадим</td>\n",
       "      <td>21</td>\n",
       "      <td>Пятигорск</td>\n",
       "      <td>ultra</td>\n",
       "      <td>18-24 года</td>\n",
       "    </tr>\n",
       "    <tr>\n",
       "      <th>1160</th>\n",
       "      <td>1161</td>\n",
       "      <td>Александр</td>\n",
       "      <td>26</td>\n",
       "      <td>Тюмень</td>\n",
       "      <td>free</td>\n",
       "      <td>25-34 года</td>\n",
       "    </tr>\n",
       "    <tr>\n",
       "      <th>228</th>\n",
       "      <td>229</td>\n",
       "      <td>Вероника</td>\n",
       "      <td>24</td>\n",
       "      <td>Сочи</td>\n",
       "      <td>ultra</td>\n",
       "      <td>18-24 года</td>\n",
       "    </tr>\n",
       "    <tr>\n",
       "      <th>335</th>\n",
       "      <td>336</td>\n",
       "      <td>Игорь</td>\n",
       "      <td>24</td>\n",
       "      <td>Екатеринбург</td>\n",
       "      <td>ultra</td>\n",
       "      <td>18-24 года</td>\n",
       "    </tr>\n",
       "  </tbody>\n",
       "</table>\n",
       "</div>"
      ],
      "text/plain": [
       "      user_id       name  age            city subscription_type   age_group\n",
       "1324     1325     Амалия   36            Сочи              free  35-43 года\n",
       "621       622   Ярослава   24          Тюмень             ultra  18-24 года\n",
       "393       394      Алиса   31  Ростов-на-Дону             ultra  25-34 года\n",
       "633       634    Одиссей   27    Екатеринбург             ultra  25-34 года\n",
       "41         42       Нина   18    Екатеринбург             ultra  18-24 года\n",
       "517       518      Алиса   22  Ростов-на-Дону             ultra  18-24 года\n",
       "201       202      Вадим   21       Пятигорск             ultra  18-24 года\n",
       "1160     1161  Александр   26          Тюмень              free  25-34 года\n",
       "228       229   Вероника   24            Сочи             ultra  18-24 года\n",
       "335       336      Игорь   24    Екатеринбург             ultra  18-24 года"
      ]
     },
     "execution_count": 27,
     "metadata": {},
     "output_type": "execute_result"
    }
   ],
   "source": [
    "df_users.sample(10)"
   ]
  },
  {
   "cell_type": "markdown",
   "id": "63c128d7",
   "metadata": {},
   "source": [
    "Я подумал назвать группы \"подростки\", \"молодежь\" и \"взрослые\", но решил, что точные возрастные интервалы будут понятнее, учитывая, что определение социально-демографических групп не всегда одинаково в разных источниках."
   ]
  },
  {
   "cell_type": "markdown",
   "id": "c70a59cf",
   "metadata": {},
   "source": [
    "<div style=\"background-color: PaleTurquoise; padding: 20px\"> <b>Вывод:</b> После проведенной предобработки данных мы можем сделать следующие выводы:\n",
    "\n",
    "* Пропущенные значения не обнаружены.\n",
    "* 31 дубликат был удален из датафрейма df_users.\n",
    "* Тип данных в колонке \"data\" был изменен на datetime64 для удобства дальнейшего анализа.\n",
    "* Добавлены новые столбцы: \"month\" для анализа данных по месяцам, \"age_group\" для анализа возрараст и \"beautiful_time\" для удобства  восприятия.\n",
    "* Данные относятся к 2021 году.\n",
    "* Компания GoFast работает в следующих городах России: Тюмень, Омск, Москва, Ростов-на-Дону, Краснодар, Пятигорск, Екатеринбург и Сочи.\n",
    "</div>"
   ]
  },
  {
   "cell_type": "markdown",
   "id": "212593c7",
   "metadata": {},
   "source": [
    "###  Исследовательский анализ данных"
   ]
  },
  {
   "cell_type": "markdown",
   "id": "68b5991e",
   "metadata": {},
   "source": [
    "**Расстояние, которое пользователь преодолел за одну поездку**"
   ]
  },
  {
   "cell_type": "code",
   "execution_count": 28,
   "id": "0537595e",
   "metadata": {
    "scrolled": false
   },
   "outputs": [
    {
     "name": "stdout",
     "output_type": "stream",
     "text": [
      "count    18068.0\n",
      "mean      3070.7\n",
      "std       1116.8\n",
      "min          0.9\n",
      "25%       2543.2\n",
      "50%       3133.6\n",
      "75%       3776.2\n",
      "max       7211.0\n",
      "Name: distance, dtype: float64\n"
     ]
    }
   ],
   "source": [
    "print(round(df_rides['distance'].describe(), 1))"
   ]
  },
  {
   "cell_type": "code",
   "execution_count": 29,
   "id": "a1c2bacd",
   "metadata": {
    "scrolled": true
   },
   "outputs": [
    {
     "data": {
      "image/png": "[encoded data removed]",
      "text/plain": [
       "<Figure size 720x360 with 1 Axes>"
      ]
     },
     "metadata": {
      "needs_background": "light"
     },
     "output_type": "display_data"
    }
   ],
   "source": [
    "df_rides['distance'].plot(kind='hist', figsize=(10,5), bins=100)\n",
    "plt.title('Расстояние, которое пользователь проехал в текущей сессии (в метрах)')\n",
    "plt.xlabel('Расстояние, м')\n",
    "plt.ylabel('Количество наблюдений')\n",
    "plt.show()"
   ]
  },
  {
   "cell_type": "markdown",
   "id": "c822f3ad",
   "metadata": {},
   "source": [
    "Изучим подробнее минимальные и максимальные значения, а затем сделаем выводы."
   ]
  },
  {
   "cell_type": "code",
   "execution_count": 30,
   "id": "55981e2f",
   "metadata": {
    "scrolled": true
   },
   "outputs": [
    {
     "data": {
      "image/png": "[encoded data removed]",
      "text/plain": [
       "<Figure size 720x360 with 1 Axes>"
      ]
     },
     "metadata": {
      "needs_background": "light"
     },
     "output_type": "display_data"
    }
   ],
   "source": [
    "df_rides['distance'].plot(kind='hist', figsize=(10,5), bins=100, range=(0, 1000))\n",
    "plt.title('Расстояние, которое пользователь проехал в текущей сессии (в метрах)')\n",
    "plt.xlabel('Расстояние, м')\n",
    "plt.ylabel('Количество наблюдений')\n",
    "plt.show()"
   ]
  },
  {
   "cell_type": "code",
   "execution_count": 31,
   "id": "cc05ac1e",
   "metadata": {
    "scrolled": true
   },
   "outputs": [
    {
     "data": {
      "text/html": [
       "<div>\n",
       "<style scoped>\n",
       "    .dataframe tbody tr th:only-of-type {\n",
       "        vertical-align: middle;\n",
       "    }\n",
       "\n",
       "    .dataframe tbody tr th {\n",
       "        vertical-align: top;\n",
       "    }\n",
       "\n",
       "    .dataframe thead th {\n",
       "        text-align: right;\n",
       "    }\n",
       "</style>\n",
       "<table border=\"1\" class=\"dataframe\">\n",
       "  <thead>\n",
       "    <tr style=\"text-align: right;\">\n",
       "      <th></th>\n",
       "      <th>user_id</th>\n",
       "      <th>distance</th>\n",
       "      <th>duration</th>\n",
       "      <th>date</th>\n",
       "      <th>beautiful_time</th>\n",
       "      <th>month</th>\n",
       "    </tr>\n",
       "  </thead>\n",
       "  <tbody>\n",
       "    <tr>\n",
       "      <th>11555</th>\n",
       "      <td>1069</td>\n",
       "      <td>0.855683</td>\n",
       "      <td>10.001902</td>\n",
       "      <td>2021-01-31</td>\n",
       "      <td>00:10:00</td>\n",
       "      <td>1</td>\n",
       "    </tr>\n",
       "    <tr>\n",
       "      <th>9541</th>\n",
       "      <td>925</td>\n",
       "      <td>2.570787</td>\n",
       "      <td>3.011018</td>\n",
       "      <td>2021-10-19</td>\n",
       "      <td>00:03:00</td>\n",
       "      <td>10</td>\n",
       "    </tr>\n",
       "    <tr>\n",
       "      <th>13690</th>\n",
       "      <td>1223</td>\n",
       "      <td>4.329506</td>\n",
       "      <td>4.008958</td>\n",
       "      <td>2021-05-22</td>\n",
       "      <td>00:04:00</td>\n",
       "      <td>5</td>\n",
       "    </tr>\n",
       "    <tr>\n",
       "      <th>8658</th>\n",
       "      <td>861</td>\n",
       "      <td>6.784447</td>\n",
       "      <td>6.015656</td>\n",
       "      <td>2021-07-21</td>\n",
       "      <td>00:06:00</td>\n",
       "      <td>7</td>\n",
       "    </tr>\n",
       "    <tr>\n",
       "      <th>7841</th>\n",
       "      <td>796</td>\n",
       "      <td>7.097072</td>\n",
       "      <td>10.026614</td>\n",
       "      <td>2021-11-26</td>\n",
       "      <td>00:10:01</td>\n",
       "      <td>11</td>\n",
       "    </tr>\n",
       "    <tr>\n",
       "      <th>8906</th>\n",
       "      <td>880</td>\n",
       "      <td>11.283615</td>\n",
       "      <td>2.035632</td>\n",
       "      <td>2021-03-28</td>\n",
       "      <td>00:02:02</td>\n",
       "      <td>3</td>\n",
       "    </tr>\n",
       "    <tr>\n",
       "      <th>8324</th>\n",
       "      <td>835</td>\n",
       "      <td>12.233115</td>\n",
       "      <td>4.034952</td>\n",
       "      <td>2021-09-19</td>\n",
       "      <td>00:04:02</td>\n",
       "      <td>9</td>\n",
       "    </tr>\n",
       "    <tr>\n",
       "      <th>13940</th>\n",
       "      <td>1240</td>\n",
       "      <td>15.000606</td>\n",
       "      <td>10.045002</td>\n",
       "      <td>2021-08-20</td>\n",
       "      <td>00:10:02</td>\n",
       "      <td>8</td>\n",
       "    </tr>\n",
       "    <tr>\n",
       "      <th>15626</th>\n",
       "      <td>1364</td>\n",
       "      <td>15.366168</td>\n",
       "      <td>6.057623</td>\n",
       "      <td>2021-08-22</td>\n",
       "      <td>00:06:03</td>\n",
       "      <td>8</td>\n",
       "    </tr>\n",
       "    <tr>\n",
       "      <th>11862</th>\n",
       "      <td>1091</td>\n",
       "      <td>15.630873</td>\n",
       "      <td>13.044660</td>\n",
       "      <td>2021-03-29</td>\n",
       "      <td>00:13:02</td>\n",
       "      <td>3</td>\n",
       "    </tr>\n",
       "    <tr>\n",
       "      <th>17414</th>\n",
       "      <td>1489</td>\n",
       "      <td>22.314412</td>\n",
       "      <td>6.074381</td>\n",
       "      <td>2021-10-06</td>\n",
       "      <td>00:06:04</td>\n",
       "      <td>10</td>\n",
       "    </tr>\n",
       "    <tr>\n",
       "      <th>15104</th>\n",
       "      <td>1323</td>\n",
       "      <td>22.393227</td>\n",
       "      <td>7.061072</td>\n",
       "      <td>2021-10-25</td>\n",
       "      <td>00:07:03</td>\n",
       "      <td>10</td>\n",
       "    </tr>\n",
       "    <tr>\n",
       "      <th>6691</th>\n",
       "      <td>712</td>\n",
       "      <td>23.963062</td>\n",
       "      <td>2.053251</td>\n",
       "      <td>2021-11-22</td>\n",
       "      <td>00:02:03</td>\n",
       "      <td>11</td>\n",
       "    </tr>\n",
       "    <tr>\n",
       "      <th>9784</th>\n",
       "      <td>943</td>\n",
       "      <td>26.784378</td>\n",
       "      <td>5.053569</td>\n",
       "      <td>2021-12-29</td>\n",
       "      <td>00:05:03</td>\n",
       "      <td>12</td>\n",
       "    </tr>\n",
       "    <tr>\n",
       "      <th>17173</th>\n",
       "      <td>1471</td>\n",
       "      <td>27.965145</td>\n",
       "      <td>3.093217</td>\n",
       "      <td>2021-10-06</td>\n",
       "      <td>00:03:05</td>\n",
       "      <td>10</td>\n",
       "    </tr>\n",
       "    <tr>\n",
       "      <th>6611</th>\n",
       "      <td>707</td>\n",
       "      <td>28.793204</td>\n",
       "      <td>14.143966</td>\n",
       "      <td>2021-09-12</td>\n",
       "      <td>00:14:08</td>\n",
       "      <td>9</td>\n",
       "    </tr>\n",
       "    <tr>\n",
       "      <th>6850</th>\n",
       "      <td>724</td>\n",
       "      <td>30.473763</td>\n",
       "      <td>3.166221</td>\n",
       "      <td>2021-05-09</td>\n",
       "      <td>00:03:09</td>\n",
       "      <td>5</td>\n",
       "    </tr>\n",
       "    <tr>\n",
       "      <th>14676</th>\n",
       "      <td>1293</td>\n",
       "      <td>30.586955</td>\n",
       "      <td>9.096590</td>\n",
       "      <td>2021-01-14</td>\n",
       "      <td>00:09:05</td>\n",
       "      <td>1</td>\n",
       "    </tr>\n",
       "    <tr>\n",
       "      <th>15870</th>\n",
       "      <td>1381</td>\n",
       "      <td>31.391295</td>\n",
       "      <td>14.099130</td>\n",
       "      <td>2021-06-29</td>\n",
       "      <td>00:14:05</td>\n",
       "      <td>6</td>\n",
       "    </tr>\n",
       "    <tr>\n",
       "      <th>9128</th>\n",
       "      <td>896</td>\n",
       "      <td>31.803410</td>\n",
       "      <td>8.079509</td>\n",
       "      <td>2021-03-16</td>\n",
       "      <td>00:08:04</td>\n",
       "      <td>3</td>\n",
       "    </tr>\n",
       "    <tr>\n",
       "      <th>9927</th>\n",
       "      <td>952</td>\n",
       "      <td>34.287979</td>\n",
       "      <td>9.097966</td>\n",
       "      <td>2021-11-04</td>\n",
       "      <td>00:09:05</td>\n",
       "      <td>11</td>\n",
       "    </tr>\n",
       "    <tr>\n",
       "      <th>7389</th>\n",
       "      <td>762</td>\n",
       "      <td>35.061903</td>\n",
       "      <td>7.087655</td>\n",
       "      <td>2021-05-27</td>\n",
       "      <td>00:07:05</td>\n",
       "      <td>5</td>\n",
       "    </tr>\n",
       "    <tr>\n",
       "      <th>17646</th>\n",
       "      <td>1506</td>\n",
       "      <td>37.002836</td>\n",
       "      <td>4.170782</td>\n",
       "      <td>2021-06-27</td>\n",
       "      <td>00:04:10</td>\n",
       "      <td>6</td>\n",
       "    </tr>\n",
       "    <tr>\n",
       "      <th>9439</th>\n",
       "      <td>918</td>\n",
       "      <td>38.711151</td>\n",
       "      <td>11.165905</td>\n",
       "      <td>2021-06-08</td>\n",
       "      <td>00:11:09</td>\n",
       "      <td>6</td>\n",
       "    </tr>\n",
       "    <tr>\n",
       "      <th>13638</th>\n",
       "      <td>1219</td>\n",
       "      <td>40.287856</td>\n",
       "      <td>8.109876</td>\n",
       "      <td>2021-09-19</td>\n",
       "      <td>00:08:06</td>\n",
       "      <td>9</td>\n",
       "    </tr>\n",
       "  </tbody>\n",
       "</table>\n",
       "</div>"
      ],
      "text/plain": [
       "       user_id   distance   duration       date beautiful_time  month\n",
       "11555     1069   0.855683  10.001902 2021-01-31       00:10:00      1\n",
       "9541       925   2.570787   3.011018 2021-10-19       00:03:00     10\n",
       "13690     1223   4.329506   4.008958 2021-05-22       00:04:00      5\n",
       "8658       861   6.784447   6.015656 2021-07-21       00:06:00      7\n",
       "7841       796   7.097072  10.026614 2021-11-26       00:10:01     11\n",
       "8906       880  11.283615   2.035632 2021-03-28       00:02:02      3\n",
       "8324       835  12.233115   4.034952 2021-09-19       00:04:02      9\n",
       "13940     1240  15.000606  10.045002 2021-08-20       00:10:02      8\n",
       "15626     1364  15.366168   6.057623 2021-08-22       00:06:03      8\n",
       "11862     1091  15.630873  13.044660 2021-03-29       00:13:02      3\n",
       "17414     1489  22.314412   6.074381 2021-10-06       00:06:04     10\n",
       "15104     1323  22.393227   7.061072 2021-10-25       00:07:03     10\n",
       "6691       712  23.963062   2.053251 2021-11-22       00:02:03     11\n",
       "9784       943  26.784378   5.053569 2021-12-29       00:05:03     12\n",
       "17173     1471  27.965145   3.093217 2021-10-06       00:03:05     10\n",
       "6611       707  28.793204  14.143966 2021-09-12       00:14:08      9\n",
       "6850       724  30.473763   3.166221 2021-05-09       00:03:09      5\n",
       "14676     1293  30.586955   9.096590 2021-01-14       00:09:05      1\n",
       "15870     1381  31.391295  14.099130 2021-06-29       00:14:05      6\n",
       "9128       896  31.803410   8.079509 2021-03-16       00:08:04      3\n",
       "9927       952  34.287979   9.097966 2021-11-04       00:09:05     11\n",
       "7389       762  35.061903   7.087655 2021-05-27       00:07:05      5\n",
       "17646     1506  37.002836   4.170782 2021-06-27       00:04:10      6\n",
       "9439       918  38.711151  11.165905 2021-06-08       00:11:09      6\n",
       "13638     1219  40.287856   8.109876 2021-09-19       00:08:06      9"
      ]
     },
     "execution_count": 31,
     "metadata": {},
     "output_type": "execute_result"
    }
   ],
   "source": [
    "df_rides.sort_values(by='distance').head(25)"
   ]
  },
  {
   "cell_type": "code",
   "execution_count": 32,
   "id": "2f2f0a13",
   "metadata": {
    "scrolled": false
   },
   "outputs": [
    {
     "data": {
      "image/png": "[encoded data removed]",
      "text/plain": [
       "<Figure size 720x360 with 1 Axes>"
      ]
     },
     "metadata": {
      "needs_background": "light"
     },
     "output_type": "display_data"
    }
   ],
   "source": [
    "df_rides['distance'].plot(kind='hist', figsize=(10,5), bins=100, range=(6000, 7300))\n",
    "plt.title('Расстояние, которое пользователь проехал в текущей сессии (в метрах)')\n",
    "plt.xlabel('Расстояние, м')\n",
    "plt.ylabel('Количество наблюдений')\n",
    "plt.show()"
   ]
  },
  {
   "cell_type": "code",
   "execution_count": 33,
   "id": "b460f515",
   "metadata": {
    "scrolled": true
   },
   "outputs": [
    {
     "data": {
      "text/html": [
       "<div>\n",
       "<style scoped>\n",
       "    .dataframe tbody tr th:only-of-type {\n",
       "        vertical-align: middle;\n",
       "    }\n",
       "\n",
       "    .dataframe tbody tr th {\n",
       "        vertical-align: top;\n",
       "    }\n",
       "\n",
       "    .dataframe thead th {\n",
       "        text-align: right;\n",
       "    }\n",
       "</style>\n",
       "<table border=\"1\" class=\"dataframe\">\n",
       "  <thead>\n",
       "    <tr style=\"text-align: right;\">\n",
       "      <th></th>\n",
       "      <th>user_id</th>\n",
       "      <th>distance</th>\n",
       "      <th>duration</th>\n",
       "      <th>date</th>\n",
       "      <th>beautiful_time</th>\n",
       "      <th>month</th>\n",
       "    </tr>\n",
       "  </thead>\n",
       "  <tbody>\n",
       "    <tr>\n",
       "      <th>16309</th>\n",
       "      <td>1411</td>\n",
       "      <td>7211.007745</td>\n",
       "      <td>0.500000</td>\n",
       "      <td>2021-04-15</td>\n",
       "      <td>00:00:30</td>\n",
       "      <td>4</td>\n",
       "    </tr>\n",
       "    <tr>\n",
       "      <th>16484</th>\n",
       "      <td>1422</td>\n",
       "      <td>7066.003772</td>\n",
       "      <td>23.619318</td>\n",
       "      <td>2021-02-12</td>\n",
       "      <td>00:23:37</td>\n",
       "      <td>2</td>\n",
       "    </tr>\n",
       "    <tr>\n",
       "      <th>15580</th>\n",
       "      <td>1361</td>\n",
       "      <td>6908.491343</td>\n",
       "      <td>23.816983</td>\n",
       "      <td>2021-03-27</td>\n",
       "      <td>00:23:49</td>\n",
       "      <td>3</td>\n",
       "    </tr>\n",
       "    <tr>\n",
       "      <th>17171</th>\n",
       "      <td>1471</td>\n",
       "      <td>6760.940067</td>\n",
       "      <td>32.043760</td>\n",
       "      <td>2021-08-03</td>\n",
       "      <td>00:32:02</td>\n",
       "      <td>8</td>\n",
       "    </tr>\n",
       "    <tr>\n",
       "      <th>17242</th>\n",
       "      <td>1477</td>\n",
       "      <td>6724.932981</td>\n",
       "      <td>0.500000</td>\n",
       "      <td>2021-01-12</td>\n",
       "      <td>00:00:30</td>\n",
       "      <td>1</td>\n",
       "    </tr>\n",
       "    <tr>\n",
       "      <th>10341</th>\n",
       "      <td>981</td>\n",
       "      <td>6671.969833</td>\n",
       "      <td>27.297078</td>\n",
       "      <td>2021-12-06</td>\n",
       "      <td>00:27:17</td>\n",
       "      <td>12</td>\n",
       "    </tr>\n",
       "    <tr>\n",
       "      <th>11385</th>\n",
       "      <td>1057</td>\n",
       "      <td>6601.197575</td>\n",
       "      <td>0.500000</td>\n",
       "      <td>2021-02-07</td>\n",
       "      <td>00:00:30</td>\n",
       "      <td>2</td>\n",
       "    </tr>\n",
       "    <tr>\n",
       "      <th>12086</th>\n",
       "      <td>1108</td>\n",
       "      <td>6538.937375</td>\n",
       "      <td>29.649276</td>\n",
       "      <td>2021-09-27</td>\n",
       "      <td>00:29:38</td>\n",
       "      <td>9</td>\n",
       "    </tr>\n",
       "    <tr>\n",
       "      <th>10915</th>\n",
       "      <td>1022</td>\n",
       "      <td>6535.386520</td>\n",
       "      <td>30.008799</td>\n",
       "      <td>2021-10-14</td>\n",
       "      <td>00:30:00</td>\n",
       "      <td>10</td>\n",
       "    </tr>\n",
       "    <tr>\n",
       "      <th>11319</th>\n",
       "      <td>1052</td>\n",
       "      <td>6503.600402</td>\n",
       "      <td>26.008309</td>\n",
       "      <td>2021-07-01</td>\n",
       "      <td>00:26:00</td>\n",
       "      <td>7</td>\n",
       "    </tr>\n",
       "    <tr>\n",
       "      <th>11189</th>\n",
       "      <td>1043</td>\n",
       "      <td>6456.423906</td>\n",
       "      <td>26.521413</td>\n",
       "      <td>2021-02-22</td>\n",
       "      <td>00:26:31</td>\n",
       "      <td>2</td>\n",
       "    </tr>\n",
       "    <tr>\n",
       "      <th>8527</th>\n",
       "      <td>850</td>\n",
       "      <td>6436.625605</td>\n",
       "      <td>34.746502</td>\n",
       "      <td>2021-12-27</td>\n",
       "      <td>00:34:44</td>\n",
       "      <td>12</td>\n",
       "    </tr>\n",
       "    <tr>\n",
       "      <th>7913</th>\n",
       "      <td>803</td>\n",
       "      <td>6427.053056</td>\n",
       "      <td>16.854106</td>\n",
       "      <td>2021-01-05</td>\n",
       "      <td>00:16:51</td>\n",
       "      <td>1</td>\n",
       "    </tr>\n",
       "    <tr>\n",
       "      <th>13701</th>\n",
       "      <td>1224</td>\n",
       "      <td>6414.516026</td>\n",
       "      <td>0.500000</td>\n",
       "      <td>2021-07-15</td>\n",
       "      <td>00:00:30</td>\n",
       "      <td>7</td>\n",
       "    </tr>\n",
       "    <tr>\n",
       "      <th>7635</th>\n",
       "      <td>782</td>\n",
       "      <td>6395.396068</td>\n",
       "      <td>28.982735</td>\n",
       "      <td>2021-02-22</td>\n",
       "      <td>00:28:58</td>\n",
       "      <td>2</td>\n",
       "    </tr>\n",
       "    <tr>\n",
       "      <th>7043</th>\n",
       "      <td>737</td>\n",
       "      <td>6386.938020</td>\n",
       "      <td>25.967345</td>\n",
       "      <td>2021-07-31</td>\n",
       "      <td>00:25:58</td>\n",
       "      <td>7</td>\n",
       "    </tr>\n",
       "    <tr>\n",
       "      <th>10663</th>\n",
       "      <td>1004</td>\n",
       "      <td>6383.036257</td>\n",
       "      <td>27.149109</td>\n",
       "      <td>2021-07-13</td>\n",
       "      <td>00:27:08</td>\n",
       "      <td>7</td>\n",
       "    </tr>\n",
       "    <tr>\n",
       "      <th>14574</th>\n",
       "      <td>1285</td>\n",
       "      <td>6316.574814</td>\n",
       "      <td>0.500000</td>\n",
       "      <td>2021-09-25</td>\n",
       "      <td>00:00:30</td>\n",
       "      <td>9</td>\n",
       "    </tr>\n",
       "    <tr>\n",
       "      <th>16278</th>\n",
       "      <td>1409</td>\n",
       "      <td>6306.531557</td>\n",
       "      <td>24.199632</td>\n",
       "      <td>2021-02-19</td>\n",
       "      <td>00:24:11</td>\n",
       "      <td>2</td>\n",
       "    </tr>\n",
       "    <tr>\n",
       "      <th>7830</th>\n",
       "      <td>795</td>\n",
       "      <td>6262.302747</td>\n",
       "      <td>0.500000</td>\n",
       "      <td>2021-09-09</td>\n",
       "      <td>00:00:30</td>\n",
       "      <td>9</td>\n",
       "    </tr>\n",
       "    <tr>\n",
       "      <th>16679</th>\n",
       "      <td>1434</td>\n",
       "      <td>6258.822183</td>\n",
       "      <td>28.035289</td>\n",
       "      <td>2021-05-24</td>\n",
       "      <td>00:28:02</td>\n",
       "      <td>5</td>\n",
       "    </tr>\n",
       "    <tr>\n",
       "      <th>9288</th>\n",
       "      <td>907</td>\n",
       "      <td>6251.726079</td>\n",
       "      <td>19.862075</td>\n",
       "      <td>2021-07-26</td>\n",
       "      <td>00:19:51</td>\n",
       "      <td>7</td>\n",
       "    </tr>\n",
       "    <tr>\n",
       "      <th>9756</th>\n",
       "      <td>941</td>\n",
       "      <td>6251.393925</td>\n",
       "      <td>26.754182</td>\n",
       "      <td>2021-11-06</td>\n",
       "      <td>00:26:45</td>\n",
       "      <td>11</td>\n",
       "    </tr>\n",
       "    <tr>\n",
       "      <th>10563</th>\n",
       "      <td>997</td>\n",
       "      <td>6239.565160</td>\n",
       "      <td>30.016996</td>\n",
       "      <td>2021-05-16</td>\n",
       "      <td>00:30:01</td>\n",
       "      <td>5</td>\n",
       "    </tr>\n",
       "    <tr>\n",
       "      <th>6860</th>\n",
       "      <td>724</td>\n",
       "      <td>6225.520342</td>\n",
       "      <td>0.500000</td>\n",
       "      <td>2021-12-16</td>\n",
       "      <td>00:00:30</td>\n",
       "      <td>12</td>\n",
       "    </tr>\n",
       "  </tbody>\n",
       "</table>\n",
       "</div>"
      ],
      "text/plain": [
       "       user_id     distance   duration       date beautiful_time  month\n",
       "16309     1411  7211.007745   0.500000 2021-04-15       00:00:30      4\n",
       "16484     1422  7066.003772  23.619318 2021-02-12       00:23:37      2\n",
       "15580     1361  6908.491343  23.816983 2021-03-27       00:23:49      3\n",
       "17171     1471  6760.940067  32.043760 2021-08-03       00:32:02      8\n",
       "17242     1477  6724.932981   0.500000 2021-01-12       00:00:30      1\n",
       "10341      981  6671.969833  27.297078 2021-12-06       00:27:17     12\n",
       "11385     1057  6601.197575   0.500000 2021-02-07       00:00:30      2\n",
       "12086     1108  6538.937375  29.649276 2021-09-27       00:29:38      9\n",
       "10915     1022  6535.386520  30.008799 2021-10-14       00:30:00     10\n",
       "11319     1052  6503.600402  26.008309 2021-07-01       00:26:00      7\n",
       "11189     1043  6456.423906  26.521413 2021-02-22       00:26:31      2\n",
       "8527       850  6436.625605  34.746502 2021-12-27       00:34:44     12\n",
       "7913       803  6427.053056  16.854106 2021-01-05       00:16:51      1\n",
       "13701     1224  6414.516026   0.500000 2021-07-15       00:00:30      7\n",
       "7635       782  6395.396068  28.982735 2021-02-22       00:28:58      2\n",
       "7043       737  6386.938020  25.967345 2021-07-31       00:25:58      7\n",
       "10663     1004  6383.036257  27.149109 2021-07-13       00:27:08      7\n",
       "14574     1285  6316.574814   0.500000 2021-09-25       00:00:30      9\n",
       "16278     1409  6306.531557  24.199632 2021-02-19       00:24:11      2\n",
       "7830       795  6262.302747   0.500000 2021-09-09       00:00:30      9\n",
       "16679     1434  6258.822183  28.035289 2021-05-24       00:28:02      5\n",
       "9288       907  6251.726079  19.862075 2021-07-26       00:19:51      7\n",
       "9756       941  6251.393925  26.754182 2021-11-06       00:26:45     11\n",
       "10563      997  6239.565160  30.016996 2021-05-16       00:30:01      5\n",
       "6860       724  6225.520342   0.500000 2021-12-16       00:00:30     12"
      ]
     },
     "execution_count": 33,
     "metadata": {},
     "output_type": "execute_result"
    }
   ],
   "source": [
    "df_rides.sort_values(by='distance', ascending=False).head(25)"
   ]
  },
  {
   "cell_type": "markdown",
   "id": "c4e850ad",
   "metadata": {},
   "source": [
    "Длина поездок  варьируется  в широком диапазоне: от минимальных (85 см) до достаточно  протяженных (7.2 км).  Минимальные значения, вероятно,  обусловлены  отказом  пользователя от поездки или  техническими проблемами."
   ]
  },
  {
   "cell_type": "markdown",
   "id": "7f3d49cc",
   "metadata": {},
   "source": [
    "Анализ  расстояния  и  времени  поездки  в  совокупности  поднимает  вопросы  о  достоверности  данных.  Так,  скорость  0.01  км/ч  при  расстоянии  0.85  метров  и  времени  10  минут  выглядит  неправдоподобно  малой,  а  скорость  865.32  км/ч  при  расстоянии  7211  метров  и  времени  30  секунд  —  нереалистично  высокой. Частые поездки длительностью 30 секунд могут свидетельствовать о технических ошибках."
   ]
  },
  {
   "cell_type": "markdown",
   "id": "736bcb62",
   "metadata": {},
   "source": [
    "Для получения более полной картины движения предлагаю выполнить расчет средней скорости электросамоката для каждого отдельного наблюдения, охватывая весь маршрут."
   ]
  },
  {
   "cell_type": "code",
   "execution_count": 34,
   "id": "c65929b8",
   "metadata": {},
   "outputs": [],
   "source": [
    "df_rides['speed'] = round((df_rides['distance'] / 1000) / (df_rides['duration'] / 60), 2)"
   ]
  },
  {
   "cell_type": "code",
   "execution_count": 35,
   "id": "9f73142f",
   "metadata": {},
   "outputs": [
    {
     "data": {
      "image/png": "[encoded data removed]",
      "text/plain": [
       "<Figure size 720x360 with 1 Axes>"
      ]
     },
     "metadata": {
      "needs_background": "light"
     },
     "output_type": "display_data"
    }
   ],
   "source": [
    "df_rides['speed'].plot(kind='hist', figsize=(10,5), bins=100)\n",
    "plt.title('Скорость в текущей сессии (в км/ч)')\n",
    "plt.xlabel('Скорость, км/ч')\n",
    "plt.ylabel('Количество наблюдений')\n",
    "plt.show()"
   ]
  },
  {
   "cell_type": "code",
   "execution_count": 36,
   "id": "1c66f483",
   "metadata": {},
   "outputs": [
    {
     "data": {
      "image/png": "[encoded data removed]",
      "text/plain": [
       "<Figure size 720x360 with 1 Axes>"
      ]
     },
     "metadata": {
      "needs_background": "light"
     },
     "output_type": "display_data"
    }
   ],
   "source": [
    "df_rides['speed'].plot(kind='box', figsize=(10,5))\n",
    "plt.title('Скорость в текущей сессии (в км/ч)')\n",
    "plt.xlabel('Скорость, км/ч')\n",
    "plt.show()"
   ]
  },
  {
   "cell_type": "code",
   "execution_count": 37,
   "id": "6104a9bb",
   "metadata": {},
   "outputs": [
    {
     "data": {
      "image/png": "[encoded data removed]",
      "text/plain": [
       "<Figure size 720x360 with 1 Axes>"
      ]
     },
     "metadata": {
      "needs_background": "light"
     },
     "output_type": "display_data"
    }
   ],
   "source": [
    "df_rides['speed'].plot(kind='box', figsize=(10,5))\n",
    "plt.ylim(0, 30)\n",
    "plt.title('Скорость в текущей сессии (в км/ч)')\n",
    "plt.xlabel('Скорость, км/ч')\n",
    "plt.show()"
   ]
  },
  {
   "cell_type": "markdown",
   "id": "69de3727",
   "metadata": {},
   "source": [
    "Основываясь на информации о различных моделях электросамокатов,  найденной в Google,  можно сделать вывод, что  минимальная  скорость  составляет  5  км/ч,  а  максимальная  —  30  км/ч."
   ]
  },
  {
   "cell_type": "markdown",
   "id": "1a015772",
   "metadata": {},
   "source": [
    "Поскольку  скорость  электросамоката  в  нашей  модели  варьируется  от  0  до  25  км/ч,  и  при  этом  есть  значения,  превышающие  25  км/ч,  для  учета  всех  возможных  вариантов  предлагаю  ограничить  анализ  диапазоном  от  5  до  30  км/ч.\n"
   ]
  },
  {
   "cell_type": "code",
   "execution_count": 38,
   "id": "989a1c33",
   "metadata": {},
   "outputs": [
    {
     "name": "stdout",
     "output_type": "stream",
     "text": [
      "До: 18068\n",
      "После: 16844\n"
     ]
    }
   ],
   "source": [
    "print('До:', len(df_rides))\n",
    "df_rides = df_rides.query('5 <= speed <= 60')\n",
    "print('После:', len(df_rides))"
   ]
  },
  {
   "cell_type": "markdown",
   "id": "07133ce3",
   "metadata": {},
   "source": [
    "Было исключено 1224 (6.8%) наблюдения, в результате чего общее количество сократилось с 18068 до 16844."
   ]
  },
  {
   "cell_type": "code",
   "execution_count": 39,
   "id": "4e2b6eed",
   "metadata": {},
   "outputs": [
    {
     "data": {
      "image/png": "[encoded data removed]",
      "text/plain": [
       "<Figure size 720x360 with 1 Axes>"
      ]
     },
     "metadata": {
      "needs_background": "light"
     },
     "output_type": "display_data"
    }
   ],
   "source": [
    "df_rides['distance'].plot(kind='hist', figsize=(10,5), bins=100)\n",
    "plt.title('Расстояние, которое пользователь проехал в текущей сессии (в метрах)')\n",
    "plt.xlabel('Расстояние, м')\n",
    "plt.ylabel('Количество наблюдений')\n",
    "plt.show()"
   ]
  },
  {
   "cell_type": "code",
   "execution_count": 40,
   "id": "e4472195",
   "metadata": {},
   "outputs": [
    {
     "name": "stdout",
     "output_type": "stream",
     "text": [
      "count    16844.0\n",
      "mean      3226.4\n",
      "std        928.3\n",
      "min        214.6\n",
      "25%       2666.9\n",
      "50%       3190.1\n",
      "75%       3825.7\n",
      "max       7066.0\n",
      "Name: distance, dtype: float64\n"
     ]
    }
   ],
   "source": [
    "print(round(df_rides['distance'].describe(), 1))"
   ]
  },
  {
   "cell_type": "markdown",
   "id": "f16f69ab",
   "metadata": {},
   "source": [
    " В результате преобразования данные о расстоянии изменились: минимальное значение теперь составляет 214.6 м, максимальное - 7 км, а медиана - 3.2 км."
   ]
  },
  {
   "cell_type": "markdown",
   "id": "eab67cf1",
   "metadata": {},
   "source": [
    "**Продолжительность поездок**"
   ]
  },
  {
   "cell_type": "code",
   "execution_count": 41,
   "id": "95c405eb",
   "metadata": {},
   "outputs": [
    {
     "name": "stdout",
     "output_type": "stream",
     "text": [
      "count    16844.0\n",
      "mean        18.3\n",
      "std          5.8\n",
      "min          2.5\n",
      "25%         14.2\n",
      "50%         18.2\n",
      "75%         22.0\n",
      "max         40.8\n",
      "Name: duration, dtype: float64\n"
     ]
    }
   ],
   "source": [
    "print(round(df_rides['duration'].describe(), 1))"
   ]
  },
  {
   "cell_type": "code",
   "execution_count": 42,
   "id": "fb828285",
   "metadata": {},
   "outputs": [
    {
     "data": {
      "image/png": "[encoded data removed]",
      "text/plain": [
       "<Figure size 720x360 with 1 Axes>"
      ]
     },
     "metadata": {
      "needs_background": "light"
     },
     "output_type": "display_data"
    }
   ],
   "source": [
    "df_rides['duration'].plot(kind='hist', figsize=(10,5), bins=100)\n",
    "plt.title('Продолжительность сессии (в минутах)')\n",
    "plt.xlabel('Количество минут, мин')\n",
    "plt.ylabel('Количество наблюдений')\n",
    "plt.show()"
   ]
  },
  {
   "cell_type": "code",
   "execution_count": 43,
   "id": "c60dadf0",
   "metadata": {},
   "outputs": [
    {
     "data": {
      "text/html": [
       "<div>\n",
       "<style scoped>\n",
       "    .dataframe tbody tr th:only-of-type {\n",
       "        vertical-align: middle;\n",
       "    }\n",
       "\n",
       "    .dataframe tbody tr th {\n",
       "        vertical-align: top;\n",
       "    }\n",
       "\n",
       "    .dataframe thead th {\n",
       "        text-align: right;\n",
       "    }\n",
       "</style>\n",
       "<table border=\"1\" class=\"dataframe\">\n",
       "  <thead>\n",
       "    <tr style=\"text-align: right;\">\n",
       "      <th></th>\n",
       "      <th>user_id</th>\n",
       "      <th>distance</th>\n",
       "      <th>duration</th>\n",
       "      <th>date</th>\n",
       "      <th>beautiful_time</th>\n",
       "      <th>month</th>\n",
       "      <th>speed</th>\n",
       "    </tr>\n",
       "  </thead>\n",
       "  <tbody>\n",
       "    <tr>\n",
       "      <th>280</th>\n",
       "      <td>29</td>\n",
       "      <td>824.495470</td>\n",
       "      <td>4.832212</td>\n",
       "      <td>2021-11-21</td>\n",
       "      <td>00:04:49</td>\n",
       "      <td>11</td>\n",
       "      <td>10.24</td>\n",
       "    </tr>\n",
       "    <tr>\n",
       "      <th>406</th>\n",
       "      <td>44</td>\n",
       "      <td>504.654111</td>\n",
       "      <td>4.513962</td>\n",
       "      <td>2021-01-25</td>\n",
       "      <td>00:04:30</td>\n",
       "      <td>1</td>\n",
       "      <td>6.71</td>\n",
       "    </tr>\n",
       "    <tr>\n",
       "      <th>1450</th>\n",
       "      <td>157</td>\n",
       "      <td>935.054928</td>\n",
       "      <td>4.934596</td>\n",
       "      <td>2021-10-03</td>\n",
       "      <td>00:04:56</td>\n",
       "      <td>10</td>\n",
       "      <td>11.37</td>\n",
       "    </tr>\n",
       "    <tr>\n",
       "      <th>1843</th>\n",
       "      <td>199</td>\n",
       "      <td>606.203843</td>\n",
       "      <td>4.347120</td>\n",
       "      <td>2021-03-27</td>\n",
       "      <td>00:04:20</td>\n",
       "      <td>3</td>\n",
       "      <td>8.37</td>\n",
       "    </tr>\n",
       "    <tr>\n",
       "      <th>2125</th>\n",
       "      <td>227</td>\n",
       "      <td>618.389251</td>\n",
       "      <td>4.855168</td>\n",
       "      <td>2021-06-22</td>\n",
       "      <td>00:04:51</td>\n",
       "      <td>6</td>\n",
       "      <td>7.64</td>\n",
       "    </tr>\n",
       "    <tr>\n",
       "      <th>2174</th>\n",
       "      <td>232</td>\n",
       "      <td>573.376564</td>\n",
       "      <td>4.228664</td>\n",
       "      <td>2021-06-30</td>\n",
       "      <td>00:04:13</td>\n",
       "      <td>6</td>\n",
       "      <td>8.14</td>\n",
       "    </tr>\n",
       "    <tr>\n",
       "      <th>3158</th>\n",
       "      <td>340</td>\n",
       "      <td>419.074576</td>\n",
       "      <td>4.323393</td>\n",
       "      <td>2021-11-08</td>\n",
       "      <td>00:04:19</td>\n",
       "      <td>11</td>\n",
       "      <td>5.82</td>\n",
       "    </tr>\n",
       "    <tr>\n",
       "      <th>4148</th>\n",
       "      <td>448</td>\n",
       "      <td>529.588380</td>\n",
       "      <td>4.444332</td>\n",
       "      <td>2021-06-25</td>\n",
       "      <td>00:04:26</td>\n",
       "      <td>6</td>\n",
       "      <td>7.15</td>\n",
       "    </tr>\n",
       "    <tr>\n",
       "      <th>6563</th>\n",
       "      <td>704</td>\n",
       "      <td>474.400151</td>\n",
       "      <td>4.016572</td>\n",
       "      <td>2021-06-27</td>\n",
       "      <td>00:04:00</td>\n",
       "      <td>6</td>\n",
       "      <td>7.09</td>\n",
       "    </tr>\n",
       "    <tr>\n",
       "      <th>6910</th>\n",
       "      <td>727</td>\n",
       "      <td>624.410429</td>\n",
       "      <td>4.881894</td>\n",
       "      <td>2021-10-15</td>\n",
       "      <td>00:04:52</td>\n",
       "      <td>10</td>\n",
       "      <td>7.67</td>\n",
       "    </tr>\n",
       "  </tbody>\n",
       "</table>\n",
       "</div>"
      ],
      "text/plain": [
       "      user_id    distance  duration       date beautiful_time  month  speed\n",
       "280        29  824.495470  4.832212 2021-11-21       00:04:49     11  10.24\n",
       "406        44  504.654111  4.513962 2021-01-25       00:04:30      1   6.71\n",
       "1450      157  935.054928  4.934596 2021-10-03       00:04:56     10  11.37\n",
       "1843      199  606.203843  4.347120 2021-03-27       00:04:20      3   8.37\n",
       "2125      227  618.389251  4.855168 2021-06-22       00:04:51      6   7.64\n",
       "2174      232  573.376564  4.228664 2021-06-30       00:04:13      6   8.14\n",
       "3158      340  419.074576  4.323393 2021-11-08       00:04:19     11   5.82\n",
       "4148      448  529.588380  4.444332 2021-06-25       00:04:26      6   7.15\n",
       "6563      704  474.400151  4.016572 2021-06-27       00:04:00      6   7.09\n",
       "6910      727  624.410429  4.881894 2021-10-15       00:04:52     10   7.67"
      ]
     },
     "execution_count": 43,
     "metadata": {},
     "output_type": "execute_result"
    }
   ],
   "source": [
    "df_rides[df_rides['duration'] < 5].head(10)"
   ]
  },
  {
   "cell_type": "code",
   "execution_count": 44,
   "id": "9ed8bc15",
   "metadata": {},
   "outputs": [
    {
     "data": {
      "text/html": [
       "<div>\n",
       "<style scoped>\n",
       "    .dataframe tbody tr th:only-of-type {\n",
       "        vertical-align: middle;\n",
       "    }\n",
       "\n",
       "    .dataframe tbody tr th {\n",
       "        vertical-align: top;\n",
       "    }\n",
       "\n",
       "    .dataframe thead th {\n",
       "        text-align: right;\n",
       "    }\n",
       "</style>\n",
       "<table border=\"1\" class=\"dataframe\">\n",
       "  <thead>\n",
       "    <tr style=\"text-align: right;\">\n",
       "      <th></th>\n",
       "      <th>user_id</th>\n",
       "      <th>distance</th>\n",
       "      <th>duration</th>\n",
       "      <th>date</th>\n",
       "      <th>beautiful_time</th>\n",
       "      <th>month</th>\n",
       "      <th>speed</th>\n",
       "    </tr>\n",
       "  </thead>\n",
       "  <tbody>\n",
       "    <tr>\n",
       "      <th>42</th>\n",
       "      <td>4</td>\n",
       "      <td>4649.488243</td>\n",
       "      <td>35.896929</td>\n",
       "      <td>2021-08-14</td>\n",
       "      <td>00:35:53</td>\n",
       "      <td>8</td>\n",
       "      <td>7.77</td>\n",
       "    </tr>\n",
       "    <tr>\n",
       "      <th>143</th>\n",
       "      <td>15</td>\n",
       "      <td>4187.621459</td>\n",
       "      <td>38.125729</td>\n",
       "      <td>2021-01-13</td>\n",
       "      <td>00:38:07</td>\n",
       "      <td>1</td>\n",
       "      <td>6.59</td>\n",
       "    </tr>\n",
       "    <tr>\n",
       "      <th>499</th>\n",
       "      <td>55</td>\n",
       "      <td>4151.081878</td>\n",
       "      <td>36.906491</td>\n",
       "      <td>2021-06-30</td>\n",
       "      <td>00:36:54</td>\n",
       "      <td>6</td>\n",
       "      <td>6.75</td>\n",
       "    </tr>\n",
       "    <tr>\n",
       "      <th>524</th>\n",
       "      <td>58</td>\n",
       "      <td>4763.920660</td>\n",
       "      <td>35.819603</td>\n",
       "      <td>2021-02-17</td>\n",
       "      <td>00:35:49</td>\n",
       "      <td>2</td>\n",
       "      <td>7.98</td>\n",
       "    </tr>\n",
       "    <tr>\n",
       "      <th>854</th>\n",
       "      <td>91</td>\n",
       "      <td>4444.579979</td>\n",
       "      <td>35.222900</td>\n",
       "      <td>2021-11-05</td>\n",
       "      <td>00:35:13</td>\n",
       "      <td>11</td>\n",
       "      <td>7.57</td>\n",
       "    </tr>\n",
       "    <tr>\n",
       "      <th>1111</th>\n",
       "      <td>119</td>\n",
       "      <td>4060.082639</td>\n",
       "      <td>35.360496</td>\n",
       "      <td>2021-05-15</td>\n",
       "      <td>00:35:21</td>\n",
       "      <td>5</td>\n",
       "      <td>6.89</td>\n",
       "    </tr>\n",
       "    <tr>\n",
       "      <th>1455</th>\n",
       "      <td>158</td>\n",
       "      <td>3967.285849</td>\n",
       "      <td>35.803715</td>\n",
       "      <td>2021-05-09</td>\n",
       "      <td>00:35:48</td>\n",
       "      <td>5</td>\n",
       "      <td>6.65</td>\n",
       "    </tr>\n",
       "    <tr>\n",
       "      <th>1621</th>\n",
       "      <td>174</td>\n",
       "      <td>3794.401307</td>\n",
       "      <td>35.766408</td>\n",
       "      <td>2021-12-23</td>\n",
       "      <td>00:35:45</td>\n",
       "      <td>12</td>\n",
       "      <td>6.37</td>\n",
       "    </tr>\n",
       "    <tr>\n",
       "      <th>1694</th>\n",
       "      <td>183</td>\n",
       "      <td>4473.798120</td>\n",
       "      <td>36.402535</td>\n",
       "      <td>2021-01-02</td>\n",
       "      <td>00:36:24</td>\n",
       "      <td>1</td>\n",
       "      <td>7.37</td>\n",
       "    </tr>\n",
       "    <tr>\n",
       "      <th>1894</th>\n",
       "      <td>205</td>\n",
       "      <td>4218.386189</td>\n",
       "      <td>36.310317</td>\n",
       "      <td>2021-08-26</td>\n",
       "      <td>00:36:18</td>\n",
       "      <td>8</td>\n",
       "      <td>6.97</td>\n",
       "    </tr>\n",
       "  </tbody>\n",
       "</table>\n",
       "</div>"
      ],
      "text/plain": [
       "      user_id     distance   duration       date beautiful_time  month  speed\n",
       "42          4  4649.488243  35.896929 2021-08-14       00:35:53      8   7.77\n",
       "143        15  4187.621459  38.125729 2021-01-13       00:38:07      1   6.59\n",
       "499        55  4151.081878  36.906491 2021-06-30       00:36:54      6   6.75\n",
       "524        58  4763.920660  35.819603 2021-02-17       00:35:49      2   7.98\n",
       "854        91  4444.579979  35.222900 2021-11-05       00:35:13     11   7.57\n",
       "1111      119  4060.082639  35.360496 2021-05-15       00:35:21      5   6.89\n",
       "1455      158  3967.285849  35.803715 2021-05-09       00:35:48      5   6.65\n",
       "1621      174  3794.401307  35.766408 2021-12-23       00:35:45     12   6.37\n",
       "1694      183  4473.798120  36.402535 2021-01-02       00:36:24      1   7.37\n",
       "1894      205  4218.386189  36.310317 2021-08-26       00:36:18      8   6.97"
      ]
     },
     "execution_count": 44,
     "metadata": {},
     "output_type": "execute_result"
    }
   ],
   "source": [
    "df_rides[df_rides['duration'] > 35].head(10)"
   ]
  },
  {
   "cell_type": "markdown",
   "id": "076c74b6",
   "metadata": {},
   "source": [
    "Анализ данных о времени поездки показывает, что минимальная продолжительность составляет 2 минуты 30 секунд, максимальная - 40 минут 50 секунд, а медианная - 18 минут 12 секунд. Значения находятся в пределах ожидаемого диапазона."
   ]
  },
  {
   "cell_type": "markdown",
   "id": "676e323a",
   "metadata": {},
   "source": [
    "**Частота встречаемости городов**"
   ]
  },
  {
   "cell_type": "code",
   "execution_count": 45,
   "id": "1db1d61c",
   "metadata": {},
   "outputs": [
    {
     "data": {
      "text/html": [
       "<div>\n",
       "<style scoped>\n",
       "    .dataframe tbody tr th:only-of-type {\n",
       "        vertical-align: middle;\n",
       "    }\n",
       "\n",
       "    .dataframe tbody tr th {\n",
       "        vertical-align: top;\n",
       "    }\n",
       "\n",
       "    .dataframe thead th {\n",
       "        text-align: right;\n",
       "    }\n",
       "</style>\n",
       "<table border=\"1\" class=\"dataframe\">\n",
       "  <thead>\n",
       "    <tr style=\"text-align: right;\">\n",
       "      <th></th>\n",
       "      <th>count</th>\n",
       "    </tr>\n",
       "    <tr>\n",
       "      <th>city</th>\n",
       "      <th></th>\n",
       "    </tr>\n",
       "  </thead>\n",
       "  <tbody>\n",
       "    <tr>\n",
       "      <th>Москва</th>\n",
       "      <td>168</td>\n",
       "    </tr>\n",
       "    <tr>\n",
       "      <th>Тюмень</th>\n",
       "      <td>180</td>\n",
       "    </tr>\n",
       "    <tr>\n",
       "      <th>Омск</th>\n",
       "      <td>183</td>\n",
       "    </tr>\n",
       "    <tr>\n",
       "      <th>Сочи</th>\n",
       "      <td>189</td>\n",
       "    </tr>\n",
       "    <tr>\n",
       "      <th>Краснодар</th>\n",
       "      <td>193</td>\n",
       "    </tr>\n",
       "    <tr>\n",
       "      <th>Ростов-на-Дону</th>\n",
       "      <td>198</td>\n",
       "    </tr>\n",
       "    <tr>\n",
       "      <th>Екатеринбург</th>\n",
       "      <td>204</td>\n",
       "    </tr>\n",
       "    <tr>\n",
       "      <th>Пятигорск</th>\n",
       "      <td>219</td>\n",
       "    </tr>\n",
       "  </tbody>\n",
       "</table>\n",
       "</div>"
      ],
      "text/plain": [
       "                count\n",
       "city                 \n",
       "Москва            168\n",
       "Тюмень            180\n",
       "Омск              183\n",
       "Сочи              189\n",
       "Краснодар         193\n",
       "Ростов-на-Дону    198\n",
       "Екатеринбург      204\n",
       "Пятигорск         219"
      ]
     },
     "execution_count": 45,
     "metadata": {},
     "output_type": "execute_result"
    }
   ],
   "source": [
    "city_count = df_users.pivot_table(index='city', values='user_id', aggfunc='count').sort_values(by='user_id')\n",
    "city_count = city_count.rename(columns={'user_id': 'count'})\n",
    "city_count"
   ]
  },
  {
   "cell_type": "code",
   "execution_count": 46,
   "id": "4659421a",
   "metadata": {},
   "outputs": [
    {
     "data": {
      "image/png": "[encoded data removed]",
      "text/plain": [
       "<Figure size 720x432 with 1 Axes>"
      ]
     },
     "metadata": {
      "needs_background": "light"
     },
     "output_type": "display_data"
    }
   ],
   "source": [
    "city_count.plot(kind='bar', figsize = (10, 6))\n",
    "plt.xticks(rotation=30)\n",
    "plt.title('Частота встречаемости городов')\n",
    "plt.ylabel('Количество пользователей')\n",
    "plt.xlabel('Название города')\n",
    "plt.show()"
   ]
  },
  {
   "cell_type": "markdown",
   "id": "080d8c21",
   "metadata": {},
   "source": [
    "В большинстве городов количество пользователей примерно одинаково.  Москва выделяется наименьшим количеством пользователей, возможно, из-за высокой конкуренции или позднего запуска бизнеса.  Пятигорск, напротив, демонстрирует наибольший показатель, предположительно, благодаря меньшей конкуренции."
   ]
  },
  {
   "cell_type": "markdown",
   "id": "ff6c527e",
   "metadata": {},
   "source": [
    "**Соотношение пользователей с подпиской и без подписки**"
   ]
  },
  {
   "cell_type": "code",
   "execution_count": 47,
   "id": "d569d5dc",
   "metadata": {},
   "outputs": [
    {
     "data": {
      "text/html": [
       "<div>\n",
       "<style scoped>\n",
       "    .dataframe tbody tr th:only-of-type {\n",
       "        vertical-align: middle;\n",
       "    }\n",
       "\n",
       "    .dataframe tbody tr th {\n",
       "        vertical-align: top;\n",
       "    }\n",
       "\n",
       "    .dataframe thead th {\n",
       "        text-align: right;\n",
       "    }\n",
       "</style>\n",
       "<table border=\"1\" class=\"dataframe\">\n",
       "  <thead>\n",
       "    <tr style=\"text-align: right;\">\n",
       "      <th></th>\n",
       "      <th>count</th>\n",
       "    </tr>\n",
       "    <tr>\n",
       "      <th>subscription_type</th>\n",
       "      <th></th>\n",
       "    </tr>\n",
       "  </thead>\n",
       "  <tbody>\n",
       "    <tr>\n",
       "      <th>free</th>\n",
       "      <td>835</td>\n",
       "    </tr>\n",
       "    <tr>\n",
       "      <th>ultra</th>\n",
       "      <td>699</td>\n",
       "    </tr>\n",
       "  </tbody>\n",
       "</table>\n",
       "</div>"
      ],
      "text/plain": [
       "                   count\n",
       "subscription_type       \n",
       "free                 835\n",
       "ultra                699"
      ]
     },
     "execution_count": 47,
     "metadata": {},
     "output_type": "execute_result"
    }
   ],
   "source": [
    "subscription_type_count = df_users.pivot_table(index='subscription_type', values='user_id', aggfunc='count')\n",
    "subscription_type_count = subscription_type_count.rename(columns={'user_id': 'count'})\n",
    "subscription_type_count"
   ]
  },
  {
   "cell_type": "code",
   "execution_count": 48,
   "id": "ce3753ba",
   "metadata": {
    "scrolled": false
   },
   "outputs": [
    {
     "data": {
      "image/png": "[encoded data removed]",
      "text/plain": [
       "<Figure size 720x432 with 1 Axes>"
      ]
     },
     "metadata": {
      "needs_background": "light"
     },
     "output_type": "display_data"
    }
   ],
   "source": [
    "subscription_type_count.plot(kind='bar', figsize = (10, 6))\n",
    "plt.xticks(rotation=45)\n",
    "plt.title('Cоотношение пользователей с подпиской и без подписки')\n",
    "plt.ylabel('Количество пользователей')\n",
    "plt.xlabel('Тип подписки')\n",
    "plt.show()"
   ]
  },
  {
   "cell_type": "code",
   "execution_count": 49,
   "id": "ed7d49b1",
   "metadata": {},
   "outputs": [
    {
     "data": {
      "image/png": "[encoded data removed]",
      "text/plain": [
       "<Figure size 720x432 with 1 Axes>"
      ]
     },
     "metadata": {},
     "output_type": "display_data"
    }
   ],
   "source": [
    "subscription_type_count['count'].plot(kind='pie', figsize = (10, 6), autopct='%1.1f%%')\n",
    "plt.title('Cоотношение пользователей с подпиской и без подписки')\n",
    "plt.show()"
   ]
  },
  {
   "cell_type": "markdown",
   "id": "e1e29446",
   "metadata": {},
   "source": [
    "Бесплатная подписка (Free) пользуется большей популярностью, чем подписка Ultra (835 пользователей против 699).  Это может быть связано с отсутствием абонентской платы, что привлекательно для пользователей, которые редко пользуются сервисом.\n",
    "\n",
    "Несмотря на меньшее количество пользователей, подписка Ultra может быть выгодна для тех, кто часто пользуется сервисом.  Более низкая стоимость минуты и отсутствие платы за старт делают ее привлекательной для активных пользователей."
   ]
  },
  {
   "cell_type": "markdown",
   "id": "7d004997",
   "metadata": {},
   "source": [
    "**Возраст пользователей**"
   ]
  },
  {
   "cell_type": "code",
   "execution_count": 50,
   "id": "a20236de",
   "metadata": {},
   "outputs": [
    {
     "data": {
      "text/html": [
       "<div>\n",
       "<style scoped>\n",
       "    .dataframe tbody tr th:only-of-type {\n",
       "        vertical-align: middle;\n",
       "    }\n",
       "\n",
       "    .dataframe tbody tr th {\n",
       "        vertical-align: top;\n",
       "    }\n",
       "\n",
       "    .dataframe thead th {\n",
       "        text-align: right;\n",
       "    }\n",
       "</style>\n",
       "<table border=\"1\" class=\"dataframe\">\n",
       "  <thead>\n",
       "    <tr style=\"text-align: right;\">\n",
       "      <th></th>\n",
       "      <th>count</th>\n",
       "    </tr>\n",
       "    <tr>\n",
       "      <th>age_group</th>\n",
       "      <th></th>\n",
       "    </tr>\n",
       "  </thead>\n",
       "  <tbody>\n",
       "    <tr>\n",
       "      <th>12-17 лет</th>\n",
       "      <td>79</td>\n",
       "    </tr>\n",
       "    <tr>\n",
       "      <th>18-24 года</th>\n",
       "      <td>637</td>\n",
       "    </tr>\n",
       "    <tr>\n",
       "      <th>25-34 года</th>\n",
       "      <td>790</td>\n",
       "    </tr>\n",
       "    <tr>\n",
       "      <th>35-43 года</th>\n",
       "      <td>28</td>\n",
       "    </tr>\n",
       "  </tbody>\n",
       "</table>\n",
       "</div>"
      ],
      "text/plain": [
       "            count\n",
       "age_group        \n",
       "12-17 лет      79\n",
       "18-24 года    637\n",
       "25-34 года    790\n",
       "35-43 года     28"
      ]
     },
     "execution_count": 50,
     "metadata": {},
     "output_type": "execute_result"
    }
   ],
   "source": [
    "age_group_count = df_users.pivot_table(index='age_group', values='user_id', aggfunc='count')\n",
    "age_group_count = age_group_count.rename(columns={'user_id': 'count'})\n",
    "age_group_count"
   ]
  },
  {
   "cell_type": "code",
   "execution_count": 51,
   "id": "9b3862f2",
   "metadata": {},
   "outputs": [
    {
     "data": {
      "image/png": "[encoded data removed]",
      "text/plain": [
       "<Figure size 720x432 with 1 Axes>"
      ]
     },
     "metadata": {
      "needs_background": "light"
     },
     "output_type": "display_data"
    }
   ],
   "source": [
    "df_users['age'].plot(kind='hist', figsize = (10, 6), bins=100)\n",
    "plt.xticks(rotation=45)\n",
    "plt.title('Количество пользователей по возрасту')\n",
    "plt.ylabel('Количество пользователей')\n",
    "plt.xlabel('Возраст')\n",
    "plt.show()"
   ]
  },
  {
   "cell_type": "code",
   "execution_count": 52,
   "id": "d4282881",
   "metadata": {},
   "outputs": [
    {
     "data": {
      "image/png": "[encoded data removed]",
      "text/plain": [
       "<Figure size 720x432 with 1 Axes>"
      ]
     },
     "metadata": {
      "needs_background": "light"
     },
     "output_type": "display_data"
    }
   ],
   "source": [
    "age_group_count.plot(kind='bar', figsize = (10, 6))\n",
    "plt.xticks(rotation=45)\n",
    "plt.title('Число пользователей в каждой возрастной группе')\n",
    "plt.ylabel('Количество пользователей')\n",
    "plt.xlabel('Возрастная группа')\n",
    "plt.show()"
   ]
  },
  {
   "cell_type": "markdown",
   "id": "1ab03b13",
   "metadata": {},
   "source": [
    "Анализ возрастной структуры пользователей GoFast выявил следующие особенности:\n",
    "\n",
    "* Наиболее многочисленная группа пользователей - в возрасте от 25 до 34 лет (790 человек).  Это свидетельствует о том, что основная аудитория сервиса - молодые, экономически активные люди.\n",
    "\n",
    "* Вторая по численности группа - пользователи в возрасте от 18 до 24 лет (637 человек).  Эта группа, вероятно, представлена студентами и молодыми специалистами.\n",
    "\n",
    "* Значительное количество пользователей (140+) находятся в возрасте 25 лет. Если бы группы были поделены (от 18 до 25) и (от 26 до 34), то наибольшей по численности была группа от 18 до 25.\n",
    "\n",
    "* Пользователей в возрасте от 12 до 17 лет - 79 человек.  Эта группа, вероятно, представлена школьниками, которые пользуются сервисом под присмотром родителей.\n",
    "\n",
    "* Наименее многочисленная группа - пользователи старше 35 лет (28 человек).  Это может свидетельствовать о том, что сервис менее популярен среди старшего поколения.\n",
    "\n",
    "Можно предложить специальные тарифы для подростков или разработать рекламные кампании, ориентированные на пользователей старше 35 лет."
   ]
  },
  {
   "cell_type": "markdown",
   "id": "c19cd4c9",
   "metadata": {},
   "source": [
    "<div style=\"background-color: PaleTurquoise; padding: 20px\"> <b>Вывод:</b> в результате проведенного анализа данных о пользователях и поездках сервиса GoFast, мы получили ценную информацию о его функционировании и популярности.  Данные были проверены на корректность и согласованность, выявлены и устранены некоторые несоответствия, а также проведена необходимая предобработка для удобства анализа.\n",
    "\n",
    "Основные выводы:\n",
    "\n",
    "* Сервис GoFast наиболее популярен среди молодежи в возрасте 18-34 лет.  Это ключевая аудитория, на которую стоит ориентировать маркетинговые кампании и специальные предложения.\n",
    "* Бесплатная подписка \"Free\" привлекает больше пользователей, чем платная \"Ultra\".  Это ожидаемо, учитывая отсутствие абонентской платы.  Однако, подписка \"Ultra\" может быть более выгодна для активных пользователей благодаря низкой стоимости минуты и отсутствию платы за старт.\n",
    "* Пятигорск лидирует по количеству пользователей, возможно, из-за низкой конкуренции, в то время как Москва демонстрирует наименьший показатель.  Это важный момент для стратегического развития компании, требующий детального изучения причин низкой популярности в Москве.\n",
    "* Анализ данных о времени и расстоянии поездок показал ожидаемые результаты:  \n",
    "    * Среднее расстояние поездки составляет около 3.2 км, что соответствует типичным сценариям использования электросамокатов.\n",
    "    * Среднее время поездки составляет 18 минут 12 секунд, что также согласуется с ожиданиями.\n",
    "* Выявлены некоторые аномалии, требующие дополнительного исследования:  \n",
    "    * Несоответствия в колонке \"user_id\" первого датафрейма.\n",
    "    * Минимальные значения расстояния и длительности поездок во втором датафрейме, в частности, частые поездки длительностью 30 секунд, которые могут указывать на технические ошибки.\n",
    "\n",
    "Рекомендации:\n",
    "\n",
    "* Разработать специальные тарифы или рекламные кампании для привлечения подростков (12-17 лет) и пользователей старше 35 лет.  Это позволит расширить аудиторию сервиса.\n",
    "* Исследовать причины низкой популярности сервиса в Москве.  Возможно, это связано с высокой конкуренцией, особенностями городской инфраструктуры или другими факторами.\n",
    "* Проанализировать частые поездки длительностью 30 секунд на предмет выявления возможных технических ошибок.  Это поможет оптимизировать работу сервиса и улучшить пользовательский опыт.</div>"
   ]
  },
  {
   "cell_type": "markdown",
   "id": "4ef51331",
   "metadata": {},
   "source": [
    "### Объединение данных"
   ]
  },
  {
   "cell_type": "markdown",
   "id": "001f8283",
   "metadata": {},
   "source": [
    "**Объедините данные о пользователях, поездках и подписках в один датафрейм и двух новых на основе подписки**"
   ]
  },
  {
   "cell_type": "code",
   "execution_count": 53,
   "id": "83e6fb80",
   "metadata": {},
   "outputs": [],
   "source": [
    "pd.set_option('display.max_columns', None)\n"
   ]
  },
  {
   "cell_type": "code",
   "execution_count": 54,
   "id": "5e692a14",
   "metadata": {},
   "outputs": [
    {
     "data": {
      "text/html": [
       "<div>\n",
       "<style scoped>\n",
       "    .dataframe tbody tr th:only-of-type {\n",
       "        vertical-align: middle;\n",
       "    }\n",
       "\n",
       "    .dataframe tbody tr th {\n",
       "        vertical-align: top;\n",
       "    }\n",
       "\n",
       "    .dataframe thead th {\n",
       "        text-align: right;\n",
       "    }\n",
       "</style>\n",
       "<table border=\"1\" class=\"dataframe\">\n",
       "  <thead>\n",
       "    <tr style=\"text-align: right;\">\n",
       "      <th></th>\n",
       "      <th>user_id</th>\n",
       "      <th>name</th>\n",
       "      <th>age</th>\n",
       "      <th>city</th>\n",
       "      <th>subscription_type</th>\n",
       "      <th>age_group</th>\n",
       "      <th>distance</th>\n",
       "      <th>duration</th>\n",
       "      <th>date</th>\n",
       "      <th>beautiful_time</th>\n",
       "      <th>month</th>\n",
       "      <th>speed</th>\n",
       "      <th>minute_price</th>\n",
       "      <th>start_ride_price</th>\n",
       "      <th>subscription_fee</th>\n",
       "    </tr>\n",
       "  </thead>\n",
       "  <tbody>\n",
       "    <tr>\n",
       "      <th>15095</th>\n",
       "      <td>1400</td>\n",
       "      <td>Эльвира</td>\n",
       "      <td>26</td>\n",
       "      <td>Ростов-на-Дону</td>\n",
       "      <td>free</td>\n",
       "      <td>25-34 года</td>\n",
       "      <td>3179.499712</td>\n",
       "      <td>14.630799</td>\n",
       "      <td>2021-09-09</td>\n",
       "      <td>00:14:37</td>\n",
       "      <td>9</td>\n",
       "      <td>13.04</td>\n",
       "      <td>8</td>\n",
       "      <td>50</td>\n",
       "      <td>0</td>\n",
       "    </tr>\n",
       "    <tr>\n",
       "      <th>6461</th>\n",
       "      <td>714</td>\n",
       "      <td>Яна</td>\n",
       "      <td>31</td>\n",
       "      <td>Омск</td>\n",
       "      <td>free</td>\n",
       "      <td>25-34 года</td>\n",
       "      <td>3862.459498</td>\n",
       "      <td>28.312297</td>\n",
       "      <td>2021-04-10</td>\n",
       "      <td>00:28:18</td>\n",
       "      <td>4</td>\n",
       "      <td>8.19</td>\n",
       "      <td>8</td>\n",
       "      <td>50</td>\n",
       "      <td>0</td>\n",
       "    </tr>\n",
       "    <tr>\n",
       "      <th>15821</th>\n",
       "      <td>1455</td>\n",
       "      <td>Кирилл</td>\n",
       "      <td>18</td>\n",
       "      <td>Екатеринбург</td>\n",
       "      <td>free</td>\n",
       "      <td>18-24 года</td>\n",
       "      <td>4028.135667</td>\n",
       "      <td>11.631719</td>\n",
       "      <td>2021-09-25</td>\n",
       "      <td>00:11:37</td>\n",
       "      <td>9</td>\n",
       "      <td>20.78</td>\n",
       "      <td>8</td>\n",
       "      <td>50</td>\n",
       "      <td>0</td>\n",
       "    </tr>\n",
       "    <tr>\n",
       "      <th>7366</th>\n",
       "      <td>786</td>\n",
       "      <td>Виолетта</td>\n",
       "      <td>23</td>\n",
       "      <td>Сочи</td>\n",
       "      <td>free</td>\n",
       "      <td>18-24 года</td>\n",
       "      <td>4136.182169</td>\n",
       "      <td>14.191516</td>\n",
       "      <td>2021-05-26</td>\n",
       "      <td>00:14:11</td>\n",
       "      <td>5</td>\n",
       "      <td>17.49</td>\n",
       "      <td>8</td>\n",
       "      <td>50</td>\n",
       "      <td>0</td>\n",
       "    </tr>\n",
       "    <tr>\n",
       "      <th>9396</th>\n",
       "      <td>951</td>\n",
       "      <td>Владислава</td>\n",
       "      <td>23</td>\n",
       "      <td>Пятигорск</td>\n",
       "      <td>free</td>\n",
       "      <td>18-24 года</td>\n",
       "      <td>2691.179670</td>\n",
       "      <td>21.689085</td>\n",
       "      <td>2021-10-06</td>\n",
       "      <td>00:21:41</td>\n",
       "      <td>10</td>\n",
       "      <td>7.44</td>\n",
       "      <td>8</td>\n",
       "      <td>50</td>\n",
       "      <td>0</td>\n",
       "    </tr>\n",
       "  </tbody>\n",
       "</table>\n",
       "</div>"
      ],
      "text/plain": [
       "       user_id        name  age            city subscription_type   age_group  \\\n",
       "15095     1400     Эльвира   26  Ростов-на-Дону              free  25-34 года   \n",
       "6461       714         Яна   31            Омск              free  25-34 года   \n",
       "15821     1455      Кирилл   18    Екатеринбург              free  18-24 года   \n",
       "7366       786    Виолетта   23            Сочи              free  18-24 года   \n",
       "9396       951  Владислава   23       Пятигорск              free  18-24 года   \n",
       "\n",
       "          distance   duration       date beautiful_time  month  speed  \\\n",
       "15095  3179.499712  14.630799 2021-09-09       00:14:37      9  13.04   \n",
       "6461   3862.459498  28.312297 2021-04-10       00:28:18      4   8.19   \n",
       "15821  4028.135667  11.631719 2021-09-25       00:11:37      9  20.78   \n",
       "7366   4136.182169  14.191516 2021-05-26       00:14:11      5  17.49   \n",
       "9396   2691.179670  21.689085 2021-10-06       00:21:41     10   7.44   \n",
       "\n",
       "       minute_price  start_ride_price  subscription_fee  \n",
       "15095             8                50                 0  \n",
       "6461              8                50                 0  \n",
       "15821             8                50                 0  \n",
       "7366              8                50                 0  \n",
       "9396              8                50                 0  "
      ]
     },
     "execution_count": 54,
     "metadata": {},
     "output_type": "execute_result"
    }
   ],
   "source": [
    "df = df_users.merge(df_rides, on='user_id').merge(df_sub, on='subscription_type')\n",
    "df.sample(5)\n"
   ]
  },
  {
   "cell_type": "markdown",
   "id": "39449b43",
   "metadata": {},
   "source": [
    "Создайте ещё два датафрейма из датафрейма:\n",
    "- c данными о пользователях без подписки (df_free);\n",
    "- с данными о пользователях с подпиской (df_ultra)."
   ]
  },
  {
   "cell_type": "code",
   "execution_count": 55,
   "id": "a38b81a6",
   "metadata": {},
   "outputs": [
    {
     "data": {
      "text/html": [
       "<div>\n",
       "<style scoped>\n",
       "    .dataframe tbody tr th:only-of-type {\n",
       "        vertical-align: middle;\n",
       "    }\n",
       "\n",
       "    .dataframe tbody tr th {\n",
       "        vertical-align: top;\n",
       "    }\n",
       "\n",
       "    .dataframe thead th {\n",
       "        text-align: right;\n",
       "    }\n",
       "</style>\n",
       "<table border=\"1\" class=\"dataframe\">\n",
       "  <thead>\n",
       "    <tr style=\"text-align: right;\">\n",
       "      <th></th>\n",
       "      <th>user_id</th>\n",
       "      <th>name</th>\n",
       "      <th>age</th>\n",
       "      <th>city</th>\n",
       "      <th>subscription_type</th>\n",
       "      <th>age_group</th>\n",
       "      <th>distance</th>\n",
       "      <th>duration</th>\n",
       "      <th>date</th>\n",
       "      <th>beautiful_time</th>\n",
       "      <th>month</th>\n",
       "      <th>speed</th>\n",
       "      <th>minute_price</th>\n",
       "      <th>start_ride_price</th>\n",
       "      <th>subscription_fee</th>\n",
       "    </tr>\n",
       "  </thead>\n",
       "  <tbody>\n",
       "    <tr>\n",
       "      <th>8510</th>\n",
       "      <td>882</td>\n",
       "      <td>Ян</td>\n",
       "      <td>27</td>\n",
       "      <td>Сочи</td>\n",
       "      <td>free</td>\n",
       "      <td>25-34 года</td>\n",
       "      <td>2568.425452</td>\n",
       "      <td>14.561418</td>\n",
       "      <td>2021-06-20</td>\n",
       "      <td>00:14:33</td>\n",
       "      <td>6</td>\n",
       "      <td>10.58</td>\n",
       "      <td>8</td>\n",
       "      <td>50</td>\n",
       "      <td>0</td>\n",
       "    </tr>\n",
       "    <tr>\n",
       "      <th>7081</th>\n",
       "      <td>762</td>\n",
       "      <td>Ярослава</td>\n",
       "      <td>34</td>\n",
       "      <td>Ростов-на-Дону</td>\n",
       "      <td>free</td>\n",
       "      <td>25-34 года</td>\n",
       "      <td>2338.158753</td>\n",
       "      <td>18.099545</td>\n",
       "      <td>2021-02-14</td>\n",
       "      <td>00:18:05</td>\n",
       "      <td>2</td>\n",
       "      <td>7.75</td>\n",
       "      <td>8</td>\n",
       "      <td>50</td>\n",
       "      <td>0</td>\n",
       "    </tr>\n",
       "    <tr>\n",
       "      <th>8520</th>\n",
       "      <td>883</td>\n",
       "      <td>Александр</td>\n",
       "      <td>28</td>\n",
       "      <td>Омск</td>\n",
       "      <td>free</td>\n",
       "      <td>25-34 года</td>\n",
       "      <td>1655.190586</td>\n",
       "      <td>8.137976</td>\n",
       "      <td>2021-10-31</td>\n",
       "      <td>00:08:08</td>\n",
       "      <td>10</td>\n",
       "      <td>12.20</td>\n",
       "      <td>8</td>\n",
       "      <td>50</td>\n",
       "      <td>0</td>\n",
       "    </tr>\n",
       "    <tr>\n",
       "      <th>12617</th>\n",
       "      <td>1205</td>\n",
       "      <td>Марк</td>\n",
       "      <td>16</td>\n",
       "      <td>Москва</td>\n",
       "      <td>free</td>\n",
       "      <td>12-17 лет</td>\n",
       "      <td>2471.265328</td>\n",
       "      <td>11.112963</td>\n",
       "      <td>2021-02-20</td>\n",
       "      <td>00:11:06</td>\n",
       "      <td>2</td>\n",
       "      <td>13.34</td>\n",
       "      <td>8</td>\n",
       "      <td>50</td>\n",
       "      <td>0</td>\n",
       "    </tr>\n",
       "    <tr>\n",
       "      <th>14203</th>\n",
       "      <td>1328</td>\n",
       "      <td>Нелли</td>\n",
       "      <td>30</td>\n",
       "      <td>Омск</td>\n",
       "      <td>free</td>\n",
       "      <td>25-34 года</td>\n",
       "      <td>2931.029493</td>\n",
       "      <td>12.513399</td>\n",
       "      <td>2021-11-16</td>\n",
       "      <td>00:12:30</td>\n",
       "      <td>11</td>\n",
       "      <td>14.05</td>\n",
       "      <td>8</td>\n",
       "      <td>50</td>\n",
       "      <td>0</td>\n",
       "    </tr>\n",
       "  </tbody>\n",
       "</table>\n",
       "</div>"
      ],
      "text/plain": [
       "       user_id       name  age            city subscription_type   age_group  \\\n",
       "8510       882         Ян   27            Сочи              free  25-34 года   \n",
       "7081       762   Ярослава   34  Ростов-на-Дону              free  25-34 года   \n",
       "8520       883  Александр   28            Омск              free  25-34 года   \n",
       "12617     1205       Марк   16          Москва              free   12-17 лет   \n",
       "14203     1328      Нелли   30            Омск              free  25-34 года   \n",
       "\n",
       "          distance   duration       date beautiful_time  month  speed  \\\n",
       "8510   2568.425452  14.561418 2021-06-20       00:14:33      6  10.58   \n",
       "7081   2338.158753  18.099545 2021-02-14       00:18:05      2   7.75   \n",
       "8520   1655.190586   8.137976 2021-10-31       00:08:08     10  12.20   \n",
       "12617  2471.265328  11.112963 2021-02-20       00:11:06      2  13.34   \n",
       "14203  2931.029493  12.513399 2021-11-16       00:12:30     11  14.05   \n",
       "\n",
       "       minute_price  start_ride_price  subscription_fee  \n",
       "8510              8                50                 0  \n",
       "7081              8                50                 0  \n",
       "8520              8                50                 0  \n",
       "12617             8                50                 0  \n",
       "14203             8                50                 0  "
      ]
     },
     "execution_count": 55,
     "metadata": {},
     "output_type": "execute_result"
    }
   ],
   "source": [
    "df_free = df.query(\"subscription_type == 'free'\")\n",
    "df_free.sample(5)\n"
   ]
  },
  {
   "cell_type": "code",
   "execution_count": 56,
   "id": "b906a8b2",
   "metadata": {
    "scrolled": true
   },
   "outputs": [
    {
     "data": {
      "text/html": [
       "<div>\n",
       "<style scoped>\n",
       "    .dataframe tbody tr th:only-of-type {\n",
       "        vertical-align: middle;\n",
       "    }\n",
       "\n",
       "    .dataframe tbody tr th {\n",
       "        vertical-align: top;\n",
       "    }\n",
       "\n",
       "    .dataframe thead th {\n",
       "        text-align: right;\n",
       "    }\n",
       "</style>\n",
       "<table border=\"1\" class=\"dataframe\">\n",
       "  <thead>\n",
       "    <tr style=\"text-align: right;\">\n",
       "      <th></th>\n",
       "      <th>user_id</th>\n",
       "      <th>name</th>\n",
       "      <th>age</th>\n",
       "      <th>city</th>\n",
       "      <th>subscription_type</th>\n",
       "      <th>age_group</th>\n",
       "      <th>distance</th>\n",
       "      <th>duration</th>\n",
       "      <th>date</th>\n",
       "      <th>beautiful_time</th>\n",
       "      <th>month</th>\n",
       "      <th>speed</th>\n",
       "      <th>minute_price</th>\n",
       "      <th>start_ride_price</th>\n",
       "      <th>subscription_fee</th>\n",
       "    </tr>\n",
       "  </thead>\n",
       "  <tbody>\n",
       "    <tr>\n",
       "      <th>414</th>\n",
       "      <td>46</td>\n",
       "      <td>Александр</td>\n",
       "      <td>29</td>\n",
       "      <td>Пятигорск</td>\n",
       "      <td>ultra</td>\n",
       "      <td>25-34 года</td>\n",
       "      <td>3333.896016</td>\n",
       "      <td>18.335584</td>\n",
       "      <td>2021-07-07</td>\n",
       "      <td>00:18:20</td>\n",
       "      <td>7</td>\n",
       "      <td>10.91</td>\n",
       "      <td>6</td>\n",
       "      <td>0</td>\n",
       "      <td>199</td>\n",
       "    </tr>\n",
       "    <tr>\n",
       "      <th>2646</th>\n",
       "      <td>293</td>\n",
       "      <td>Агата</td>\n",
       "      <td>26</td>\n",
       "      <td>Краснодар</td>\n",
       "      <td>ultra</td>\n",
       "      <td>25-34 года</td>\n",
       "      <td>3322.037820</td>\n",
       "      <td>14.873182</td>\n",
       "      <td>2021-02-11</td>\n",
       "      <td>00:14:52</td>\n",
       "      <td>2</td>\n",
       "      <td>13.40</td>\n",
       "      <td>6</td>\n",
       "      <td>0</td>\n",
       "      <td>199</td>\n",
       "    </tr>\n",
       "    <tr>\n",
       "      <th>2692</th>\n",
       "      <td>298</td>\n",
       "      <td>Ростислав</td>\n",
       "      <td>31</td>\n",
       "      <td>Омск</td>\n",
       "      <td>ultra</td>\n",
       "      <td>25-34 года</td>\n",
       "      <td>4802.856669</td>\n",
       "      <td>28.583671</td>\n",
       "      <td>2021-05-31</td>\n",
       "      <td>00:28:35</td>\n",
       "      <td>5</td>\n",
       "      <td>10.08</td>\n",
       "      <td>6</td>\n",
       "      <td>0</td>\n",
       "      <td>199</td>\n",
       "    </tr>\n",
       "    <tr>\n",
       "      <th>5236</th>\n",
       "      <td>578</td>\n",
       "      <td>Айдар</td>\n",
       "      <td>25</td>\n",
       "      <td>Сочи</td>\n",
       "      <td>ultra</td>\n",
       "      <td>25-34 года</td>\n",
       "      <td>2447.275381</td>\n",
       "      <td>17.488323</td>\n",
       "      <td>2021-12-30</td>\n",
       "      <td>00:17:29</td>\n",
       "      <td>12</td>\n",
       "      <td>8.40</td>\n",
       "      <td>6</td>\n",
       "      <td>0</td>\n",
       "      <td>199</td>\n",
       "    </tr>\n",
       "    <tr>\n",
       "      <th>4965</th>\n",
       "      <td>553</td>\n",
       "      <td>Назар</td>\n",
       "      <td>31</td>\n",
       "      <td>Тюмень</td>\n",
       "      <td>ultra</td>\n",
       "      <td>25-34 года</td>\n",
       "      <td>1704.054051</td>\n",
       "      <td>16.816216</td>\n",
       "      <td>2021-01-01</td>\n",
       "      <td>00:16:48</td>\n",
       "      <td>1</td>\n",
       "      <td>6.08</td>\n",
       "      <td>6</td>\n",
       "      <td>0</td>\n",
       "      <td>199</td>\n",
       "    </tr>\n",
       "  </tbody>\n",
       "</table>\n",
       "</div>"
      ],
      "text/plain": [
       "      user_id       name  age       city subscription_type   age_group  \\\n",
       "414        46  Александр   29  Пятигорск             ultra  25-34 года   \n",
       "2646      293      Агата   26  Краснодар             ultra  25-34 года   \n",
       "2692      298  Ростислав   31       Омск             ultra  25-34 года   \n",
       "5236      578      Айдар   25       Сочи             ultra  25-34 года   \n",
       "4965      553      Назар   31     Тюмень             ultra  25-34 года   \n",
       "\n",
       "         distance   duration       date beautiful_time  month  speed  \\\n",
       "414   3333.896016  18.335584 2021-07-07       00:18:20      7  10.91   \n",
       "2646  3322.037820  14.873182 2021-02-11       00:14:52      2  13.40   \n",
       "2692  4802.856669  28.583671 2021-05-31       00:28:35      5  10.08   \n",
       "5236  2447.275381  17.488323 2021-12-30       00:17:29     12   8.40   \n",
       "4965  1704.054051  16.816216 2021-01-01       00:16:48      1   6.08   \n",
       "\n",
       "      minute_price  start_ride_price  subscription_fee  \n",
       "414              6                 0               199  \n",
       "2646             6                 0               199  \n",
       "2692             6                 0               199  \n",
       "5236             6                 0               199  \n",
       "4965             6                 0               199  "
      ]
     },
     "execution_count": 56,
     "metadata": {},
     "output_type": "execute_result"
    }
   ],
   "source": [
    "df_ultra = df.query(\"subscription_type == 'ultra'\")\n",
    "df_ultra.sample(5)\n"
   ]
  },
  {
   "cell_type": "markdown",
   "id": "ae2276e9",
   "metadata": {},
   "source": [
    "**Информация о расстоянии и времени поездок для пользователей free**"
   ]
  },
  {
   "cell_type": "code",
   "execution_count": 57,
   "id": "7c3291a2",
   "metadata": {},
   "outputs": [
    {
     "data": {
      "image/png": "[encoded data removed]",
      "text/plain": [
       "<Figure size 720x360 with 2 Axes>"
      ]
     },
     "metadata": {
      "needs_background": "light"
     },
     "output_type": "display_data"
    }
   ],
   "source": [
    "# Создание фигуры и подграфиков\n",
    "fig, axes = plt.subplots(1, 2, figsize=(10, 5))\n",
    "\n",
    "# Построение гистограммы на первом подграфике\n",
    "axes[0].hist(df_free['distance'], bins=50)\n",
    "axes[0].set_title('Расстояние пользователей free')\n",
    "axes[0].set_xlabel('Расстояние, м')\n",
    "\n",
    "# Построение боксплота на втором подграфике\n",
    "axes[1].hist(df_free['duration'], bins=50)\n",
    "axes[1].set_title('Продолжительность сессии free')\n",
    "axes[1].set_xlabel('Время в минутах')\n",
    "\n",
    "# Отображение графиков\n",
    "plt.tight_layout()# Автоматическая подгонка расположения подграфиков, чтобы они не перекрывались.\n",
    "plt.show()\n"
   ]
  },
  {
   "cell_type": "code",
   "execution_count": 58,
   "id": "9259544b",
   "metadata": {},
   "outputs": [
    {
     "data": {
      "text/html": [
       "<div>\n",
       "<style scoped>\n",
       "    .dataframe tbody tr th:only-of-type {\n",
       "        vertical-align: middle;\n",
       "    }\n",
       "\n",
       "    .dataframe tbody tr th {\n",
       "        vertical-align: top;\n",
       "    }\n",
       "\n",
       "    .dataframe thead th {\n",
       "        text-align: right;\n",
       "    }\n",
       "</style>\n",
       "<table border=\"1\" class=\"dataframe\">\n",
       "  <thead>\n",
       "    <tr style=\"text-align: right;\">\n",
       "      <th></th>\n",
       "      <th>distance</th>\n",
       "      <th>duration</th>\n",
       "    </tr>\n",
       "  </thead>\n",
       "  <tbody>\n",
       "    <tr>\n",
       "      <th>count</th>\n",
       "      <td>10567.000000</td>\n",
       "      <td>10567.000000</td>\n",
       "    </tr>\n",
       "    <tr>\n",
       "      <th>mean</th>\n",
       "      <td>3244.708940</td>\n",
       "      <td>18.084678</td>\n",
       "    </tr>\n",
       "    <tr>\n",
       "      <th>std</th>\n",
       "      <td>1027.249079</td>\n",
       "      <td>5.997013</td>\n",
       "    </tr>\n",
       "    <tr>\n",
       "      <th>min</th>\n",
       "      <td>214.587357</td>\n",
       "      <td>2.480577</td>\n",
       "    </tr>\n",
       "    <tr>\n",
       "      <th>25%</th>\n",
       "      <td>2536.890208</td>\n",
       "      <td>13.740910</td>\n",
       "    </tr>\n",
       "    <tr>\n",
       "      <th>50%</th>\n",
       "      <td>3224.545837</td>\n",
       "      <td>18.000471</td>\n",
       "    </tr>\n",
       "    <tr>\n",
       "      <th>75%</th>\n",
       "      <td>3960.012037</td>\n",
       "      <td>22.040487</td>\n",
       "    </tr>\n",
       "    <tr>\n",
       "      <th>max</th>\n",
       "      <td>7066.003772</td>\n",
       "      <td>34.948498</td>\n",
       "    </tr>\n",
       "  </tbody>\n",
       "</table>\n",
       "</div>"
      ],
      "text/plain": [
       "           distance      duration\n",
       "count  10567.000000  10567.000000\n",
       "mean    3244.708940     18.084678\n",
       "std     1027.249079      5.997013\n",
       "min      214.587357      2.480577\n",
       "25%     2536.890208     13.740910\n",
       "50%     3224.545837     18.000471\n",
       "75%     3960.012037     22.040487\n",
       "max     7066.003772     34.948498"
      ]
     },
     "execution_count": 58,
     "metadata": {},
     "output_type": "execute_result"
    }
   ],
   "source": [
    "df_free[['distance', 'duration']].describe()\n"
   ]
  },
  {
   "cell_type": "markdown",
   "id": "f0fd5069",
   "metadata": {},
   "source": [
    "**Информация о расстоянии и времени поездок для пользователей ultra**"
   ]
  },
  {
   "cell_type": "code",
   "execution_count": 59,
   "id": "394d8a1a",
   "metadata": {},
   "outputs": [
    {
     "data": {
      "image/png": "[encoded data removed]",
      "text/plain": [
       "<Figure size 720x360 with 2 Axes>"
      ]
     },
     "metadata": {
      "needs_background": "light"
     },
     "output_type": "display_data"
    }
   ],
   "source": [
    "fig, axes = plt.subplots(1, 2, figsize=(10, 5))\n",
    "\n",
    "axes[0].hist(df_ultra['distance'], bins=50)\n",
    "axes[0].set_title('Расстояние пользователей ultra')\n",
    "axes[0].set_xlabel('Расстояние, м')\n",
    "\n",
    "axes[1].hist(df_ultra['duration'], bins=50)\n",
    "axes[1].set_title('Продолжительность сессии ultra')\n",
    "axes[1].set_xlabel('Время в минутах')\n",
    "\n",
    "plt.tight_layout()\n",
    "plt.show()\n"
   ]
  },
  {
   "cell_type": "code",
   "execution_count": 60,
   "id": "5af9153a",
   "metadata": {},
   "outputs": [
    {
     "data": {
      "text/html": [
       "<div>\n",
       "<style scoped>\n",
       "    .dataframe tbody tr th:only-of-type {\n",
       "        vertical-align: middle;\n",
       "    }\n",
       "\n",
       "    .dataframe tbody tr th {\n",
       "        vertical-align: top;\n",
       "    }\n",
       "\n",
       "    .dataframe thead th {\n",
       "        text-align: right;\n",
       "    }\n",
       "</style>\n",
       "<table border=\"1\" class=\"dataframe\">\n",
       "  <thead>\n",
       "    <tr style=\"text-align: right;\">\n",
       "      <th></th>\n",
       "      <th>distance</th>\n",
       "      <th>duration</th>\n",
       "    </tr>\n",
       "  </thead>\n",
       "  <tbody>\n",
       "    <tr>\n",
       "      <th>count</th>\n",
       "      <td>6277.000000</td>\n",
       "      <td>6277.000000</td>\n",
       "    </tr>\n",
       "    <tr>\n",
       "      <th>mean</th>\n",
       "      <td>3195.678486</td>\n",
       "      <td>18.719521</td>\n",
       "    </tr>\n",
       "    <tr>\n",
       "      <th>std</th>\n",
       "      <td>731.291516</td>\n",
       "      <td>5.556211</td>\n",
       "    </tr>\n",
       "    <tr>\n",
       "      <th>min</th>\n",
       "      <td>419.074576</td>\n",
       "      <td>4.228664</td>\n",
       "    </tr>\n",
       "    <tr>\n",
       "      <th>25%</th>\n",
       "      <td>2828.828107</td>\n",
       "      <td>14.736116</td>\n",
       "    </tr>\n",
       "    <tr>\n",
       "      <th>50%</th>\n",
       "      <td>3166.909903</td>\n",
       "      <td>18.343107</td>\n",
       "    </tr>\n",
       "    <tr>\n",
       "      <th>75%</th>\n",
       "      <td>3586.661830</td>\n",
       "      <td>22.011059</td>\n",
       "    </tr>\n",
       "    <tr>\n",
       "      <th>max</th>\n",
       "      <td>5699.769662</td>\n",
       "      <td>40.823963</td>\n",
       "    </tr>\n",
       "  </tbody>\n",
       "</table>\n",
       "</div>"
      ],
      "text/plain": [
       "          distance     duration\n",
       "count  6277.000000  6277.000000\n",
       "mean   3195.678486    18.719521\n",
       "std     731.291516     5.556211\n",
       "min     419.074576     4.228664\n",
       "25%    2828.828107    14.736116\n",
       "50%    3166.909903    18.343107\n",
       "75%    3586.661830    22.011059\n",
       "max    5699.769662    40.823963"
      ]
     },
     "execution_count": 60,
     "metadata": {},
     "output_type": "execute_result"
    }
   ],
   "source": [
    "df_ultra[['distance', 'duration']].describe()\n"
   ]
  },
  {
   "cell_type": "markdown",
   "id": "39121b22",
   "metadata": {},
   "source": [
    "Distance (расстояние):\n",
    "\n",
    "* Среднее расстояние:  Пользователи без подписки проезжают в среднем немного больше (3244.7 метра) по сравнению с пользователями с подпиской (3195.7 метра).\n",
    "* Стандартное отклонение:  У пользователей без подписки разброс расстояний больше (1027.2 метра) по сравнению с пользователями с подпиской (731.3 метра). Это говорит о том, что поездки пользователей без подписки более разнообразны по протяженности.\n",
    "* Минимальное и максимальное расстояние:  Минимальное расстояние для пользователей без подписки (214.6 метра) меньше, чем для пользователей с подпиской (419.1 метра). Максимальное расстояние для пользователей без подписки (7066 метров) также больше, чем для пользователей с подпиской (5699.8 метра).\n",
    "\n",
    "Duration (длительность):\n",
    "\n",
    "* Средняя длительность:  Пользователи с подпиской проводят в поездках в среднем немного больше времени (18.7 минут) по сравнению с пользователями без подписки (18.1 минуты).\n",
    "* Стандартное отклонение:  Разброс длительности поездок у пользователей без подписки (5.99 минут) немного больше, чем у пользователей с подпиской (5.55 минут).\n",
    "* Минимальное и максимальное время:  Минимальное время поездки для пользователей с подпиской (4.2 минуты) меньше, чем для пользователей без подписки (2.5 минуты).  Максимальное время поездки для пользователей с подпиской (40.8 минут) больше, чем для пользователей без подписки (34.9 минут).\n",
    "\n",
    "Вероятно, пользователи без подписки, ориентируясь на экономию,  склонны развивать более высокую скорость, чтобы проехать большее расстояние за более короткий промежуток времени.  Это может пролить свет на разницу в средних показателях расстояния и времени между пользователями с разными типами подписок."
   ]
  },
  {
   "cell_type": "code",
   "execution_count": 61,
   "id": "b3590232",
   "metadata": {},
   "outputs": [
    {
     "name": "stdout",
     "output_type": "stream",
     "text": [
      "Описание скорости для пользователей free:\n",
      "count    10567.00000\n",
      "mean        11.32833\n",
      "std          3.72017\n",
      "min          5.00000\n",
      "25%          8.59000\n",
      "50%         10.67000\n",
      "75%         13.38000\n",
      "max         25.39000\n",
      "Name: speed, dtype: float64\n",
      "__________________________________________________\n",
      "Описание скорости для пользователей ultra:\n",
      "count    6277.000000\n",
      "mean       10.799740\n",
      "std         3.138528\n",
      "min         5.000000\n",
      "25%         8.470000\n",
      "50%        10.250000\n",
      "75%        12.640000\n",
      "max        21.790000\n",
      "Name: speed, dtype: float64\n"
     ]
    }
   ],
   "source": [
    "print('Описание скорости для пользователей free:')\n",
    "print(df_free['speed'].describe())\n",
    "print('_' * 50)\n",
    "print('Описание скорости для пользователей ultra:')\n",
    "print(df_ultra['speed'].describe())"
   ]
  },
  {
   "cell_type": "markdown",
   "id": "3116f6f8",
   "metadata": {},
   "source": [
    "Средняя скорость (mean):\n",
    "\n",
    "* Free: 11.33 км/ч\n",
    "* Ultra: 10.80 км/ч\n",
    "\n",
    "Минимальная и максимальная скорость (min, max):\n",
    "\n",
    "* Free: 5.00 - 25.39 км/ч\n",
    "* Ultra: 5.00 - 21.79 км/ч\n",
    "\n",
    "Минимальная скорость одинакова для обеих групп пользователей. Однако, максимальная скорость у пользователей Free выше, чем у пользователей Ultra.\n",
    "\n",
    "Как было предположено ранее, пользователи без подписки (Free) могут стремиться к экономии и ехать быстрее, чтобы проехать большее расстояние за меньшее время."
   ]
  },
  {
   "cell_type": "markdown",
   "id": "a0f07529",
   "metadata": {},
   "source": [
    "<div style=\"background-color: PaleTurquoise; padding: 20px\"> <b>Вывод:</b> анализ объединенных данных о пользователях, поездках и подписках выявил различия в характеристиках поездок пользователей с подпиской Free и Ultra.\n",
    "\n",
    "Основные выводы:\n",
    "\n",
    "* Пользователи без подписки (Free) в среднем проезжают большие расстояния, но с большим разбросом, чем пользователи с подпиской Ultra. Это может быть связано со стремлением пользователей Free к экономии: они едут быстрее, чтобы покрыть большее расстояние за меньшее время.\n",
    "* Пользователи с подпиской Ultra проводят в поездках в среднем немного больше времени, но с меньшим разбросом, чем пользователи Free.  Возможно, пользователи Ultra не так сильно ограничены во времени и могут позволить себе более длительные поездки.\n",
    "* Средняя скорость пользователей Free выше, чем у пользователей Ultra.  Это подтверждает гипотезу о том, что пользователи Free едут быстрее, чтобы сэкономить.\n",
    "</div>"
   ]
  },
  {
   "cell_type": "markdown",
   "id": "402d620f",
   "metadata": {},
   "source": [
    "###  Подсчёт выручки"
   ]
  },
  {
   "cell_type": "markdown",
   "id": "9562ff6a",
   "metadata": {},
   "source": [
    "Создание датафрейма с агрегированными данными о поездках на основе датафрейма df: найдем суммарное расстояние, количество поездок и суммарное время для каждого пользователя за каждый месяц."
   ]
  },
  {
   "cell_type": "code",
   "execution_count": 62,
   "id": "ff1fe9c0",
   "metadata": {},
   "outputs": [],
   "source": [
    "df['duration'] = np.ceil(df['duration'])"
   ]
  },
  {
   "cell_type": "code",
   "execution_count": 63,
   "id": "9422e37a",
   "metadata": {},
   "outputs": [
    {
     "data": {
      "text/html": [
       "<div>\n",
       "<style scoped>\n",
       "    .dataframe tbody tr th:only-of-type {\n",
       "        vertical-align: middle;\n",
       "    }\n",
       "\n",
       "    .dataframe tbody tr th {\n",
       "        vertical-align: top;\n",
       "    }\n",
       "\n",
       "    .dataframe thead th {\n",
       "        text-align: right;\n",
       "    }\n",
       "</style>\n",
       "<table border=\"1\" class=\"dataframe\">\n",
       "  <thead>\n",
       "    <tr style=\"text-align: right;\">\n",
       "      <th></th>\n",
       "      <th>month</th>\n",
       "      <th>user_id</th>\n",
       "      <th>subscription_type</th>\n",
       "      <th>distance_sum</th>\n",
       "      <th>duration_sum</th>\n",
       "      <th>count</th>\n",
       "    </tr>\n",
       "  </thead>\n",
       "  <tbody>\n",
       "    <tr>\n",
       "      <th>0</th>\n",
       "      <td>1</td>\n",
       "      <td>1</td>\n",
       "      <td>ultra</td>\n",
       "      <td>7027.511294</td>\n",
       "      <td>42.0</td>\n",
       "      <td>2</td>\n",
       "    </tr>\n",
       "    <tr>\n",
       "      <th>1</th>\n",
       "      <td>1</td>\n",
       "      <td>3</td>\n",
       "      <td>ultra</td>\n",
       "      <td>3061.777147</td>\n",
       "      <td>13.0</td>\n",
       "      <td>1</td>\n",
       "    </tr>\n",
       "    <tr>\n",
       "      <th>2</th>\n",
       "      <td>1</td>\n",
       "      <td>5</td>\n",
       "      <td>ultra</td>\n",
       "      <td>3914.646990</td>\n",
       "      <td>13.0</td>\n",
       "      <td>1</td>\n",
       "    </tr>\n",
       "    <tr>\n",
       "      <th>3</th>\n",
       "      <td>1</td>\n",
       "      <td>7</td>\n",
       "      <td>ultra</td>\n",
       "      <td>6478.080979</td>\n",
       "      <td>28.0</td>\n",
       "      <td>2</td>\n",
       "    </tr>\n",
       "    <tr>\n",
       "      <th>4</th>\n",
       "      <td>1</td>\n",
       "      <td>12</td>\n",
       "      <td>ultra</td>\n",
       "      <td>3577.151148</td>\n",
       "      <td>33.0</td>\n",
       "      <td>1</td>\n",
       "    </tr>\n",
       "    <tr>\n",
       "      <th>...</th>\n",
       "      <td>...</td>\n",
       "      <td>...</td>\n",
       "      <td>...</td>\n",
       "      <td>...</td>\n",
       "      <td>...</td>\n",
       "      <td>...</td>\n",
       "    </tr>\n",
       "    <tr>\n",
       "      <th>10896</th>\n",
       "      <td>12</td>\n",
       "      <td>1525</td>\n",
       "      <td>free</td>\n",
       "      <td>4597.854350</td>\n",
       "      <td>34.0</td>\n",
       "      <td>1</td>\n",
       "    </tr>\n",
       "    <tr>\n",
       "      <th>10897</th>\n",
       "      <td>12</td>\n",
       "      <td>1526</td>\n",
       "      <td>free</td>\n",
       "      <td>3644.121544</td>\n",
       "      <td>23.0</td>\n",
       "      <td>1</td>\n",
       "    </tr>\n",
       "    <tr>\n",
       "      <th>10898</th>\n",
       "      <td>12</td>\n",
       "      <td>1528</td>\n",
       "      <td>free</td>\n",
       "      <td>3998.569324</td>\n",
       "      <td>11.0</td>\n",
       "      <td>1</td>\n",
       "    </tr>\n",
       "    <tr>\n",
       "      <th>10899</th>\n",
       "      <td>12</td>\n",
       "      <td>1532</td>\n",
       "      <td>free</td>\n",
       "      <td>6111.889853</td>\n",
       "      <td>42.0</td>\n",
       "      <td>2</td>\n",
       "    </tr>\n",
       "    <tr>\n",
       "      <th>10900</th>\n",
       "      <td>12</td>\n",
       "      <td>1534</td>\n",
       "      <td>free</td>\n",
       "      <td>2371.711192</td>\n",
       "      <td>16.0</td>\n",
       "      <td>1</td>\n",
       "    </tr>\n",
       "  </tbody>\n",
       "</table>\n",
       "<p>10901 rows × 6 columns</p>\n",
       "</div>"
      ],
      "text/plain": [
       "       month  user_id subscription_type  distance_sum  duration_sum  count\n",
       "0          1        1             ultra   7027.511294          42.0      2\n",
       "1          1        3             ultra   3061.777147          13.0      1\n",
       "2          1        5             ultra   3914.646990          13.0      1\n",
       "3          1        7             ultra   6478.080979          28.0      2\n",
       "4          1       12             ultra   3577.151148          33.0      1\n",
       "...      ...      ...               ...           ...           ...    ...\n",
       "10896     12     1525              free   4597.854350          34.0      1\n",
       "10897     12     1526              free   3644.121544          23.0      1\n",
       "10898     12     1528              free   3998.569324          11.0      1\n",
       "10899     12     1532              free   6111.889853          42.0      2\n",
       "10900     12     1534              free   2371.711192          16.0      1\n",
       "\n",
       "[10901 rows x 6 columns]"
      ]
     },
     "execution_count": 63,
     "metadata": {},
     "output_type": "execute_result"
    }
   ],
   "source": [
    "aggregated_df = df.pivot_table(index=['month', 'user_id', 'subscription_type'], \n",
    "                                 values=['distance', 'duration', 'name'], \n",
    "                                 aggfunc={'distance': \"sum\", 'name': \"count\", 'duration': \"sum\"})\n",
    "\n",
    "aggregated_df.columns = ['distance_sum', 'duration_sum', 'count']\n",
    "aggregated_df = aggregated_df.reset_index()\n",
    "\n",
    "aggregated_df"
   ]
  },
  {
   "cell_type": "markdown",
   "id": "f23f7ff2",
   "metadata": {},
   "source": [
    "Добавление столбеца с помесячной выручкой, которую принёс каждый пользователь. "
   ]
  },
  {
   "cell_type": "code",
   "execution_count": 64,
   "id": "e60c37da",
   "metadata": {},
   "outputs": [],
   "source": [
    "def cost_calculation(row):\n",
    "    \"\"\"\n",
    "    Функция для расчета выручки\n",
    "    Вход: строка датафрейма\n",
    "    Выход: стоимость за поездку\n",
    "    \"\"\"\n",
    "    if row['subscription_type'] == 'ultra':\n",
    "        return 199 + row['duration_sum'] * 6\n",
    "    else:\n",
    "        return row['count'] * 50 + row['duration_sum'] * 6"
   ]
  },
  {
   "cell_type": "code",
   "execution_count": 65,
   "id": "0eefdbd2",
   "metadata": {},
   "outputs": [
    {
     "data": {
      "text/html": [
       "<div>\n",
       "<style scoped>\n",
       "    .dataframe tbody tr th:only-of-type {\n",
       "        vertical-align: middle;\n",
       "    }\n",
       "\n",
       "    .dataframe tbody tr th {\n",
       "        vertical-align: top;\n",
       "    }\n",
       "\n",
       "    .dataframe thead th {\n",
       "        text-align: right;\n",
       "    }\n",
       "</style>\n",
       "<table border=\"1\" class=\"dataframe\">\n",
       "  <thead>\n",
       "    <tr style=\"text-align: right;\">\n",
       "      <th></th>\n",
       "      <th>month</th>\n",
       "      <th>user_id</th>\n",
       "      <th>subscription_type</th>\n",
       "      <th>distance_sum</th>\n",
       "      <th>duration_sum</th>\n",
       "      <th>count</th>\n",
       "      <th>money</th>\n",
       "    </tr>\n",
       "  </thead>\n",
       "  <tbody>\n",
       "    <tr>\n",
       "      <th>4043</th>\n",
       "      <td>5</td>\n",
       "      <td>745</td>\n",
       "      <td>free</td>\n",
       "      <td>4837.074937</td>\n",
       "      <td>18.0</td>\n",
       "      <td>1</td>\n",
       "      <td>158.0</td>\n",
       "    </tr>\n",
       "    <tr>\n",
       "      <th>9165</th>\n",
       "      <td>11</td>\n",
       "      <td>63</td>\n",
       "      <td>ultra</td>\n",
       "      <td>2656.964156</td>\n",
       "      <td>15.0</td>\n",
       "      <td>1</td>\n",
       "      <td>289.0</td>\n",
       "    </tr>\n",
       "    <tr>\n",
       "      <th>543</th>\n",
       "      <td>1</td>\n",
       "      <td>927</td>\n",
       "      <td>free</td>\n",
       "      <td>2626.438306</td>\n",
       "      <td>15.0</td>\n",
       "      <td>1</td>\n",
       "      <td>140.0</td>\n",
       "    </tr>\n",
       "    <tr>\n",
       "      <th>5875</th>\n",
       "      <td>7</td>\n",
       "      <td>660</td>\n",
       "      <td>ultra</td>\n",
       "      <td>2511.015351</td>\n",
       "      <td>17.0</td>\n",
       "      <td>1</td>\n",
       "      <td>301.0</td>\n",
       "    </tr>\n",
       "    <tr>\n",
       "      <th>3016</th>\n",
       "      <td>4</td>\n",
       "      <td>559</td>\n",
       "      <td>ultra</td>\n",
       "      <td>3114.680891</td>\n",
       "      <td>19.0</td>\n",
       "      <td>1</td>\n",
       "      <td>313.0</td>\n",
       "    </tr>\n",
       "    <tr>\n",
       "      <th>10440</th>\n",
       "      <td>12</td>\n",
       "      <td>852</td>\n",
       "      <td>free</td>\n",
       "      <td>2723.034857</td>\n",
       "      <td>18.0</td>\n",
       "      <td>1</td>\n",
       "      <td>158.0</td>\n",
       "    </tr>\n",
       "    <tr>\n",
       "      <th>1433</th>\n",
       "      <td>2</td>\n",
       "      <td>920</td>\n",
       "      <td>free</td>\n",
       "      <td>2650.212438</td>\n",
       "      <td>15.0</td>\n",
       "      <td>1</td>\n",
       "      <td>140.0</td>\n",
       "    </tr>\n",
       "    <tr>\n",
       "      <th>4465</th>\n",
       "      <td>5</td>\n",
       "      <td>1393</td>\n",
       "      <td>free</td>\n",
       "      <td>2272.797571</td>\n",
       "      <td>12.0</td>\n",
       "      <td>1</td>\n",
       "      <td>122.0</td>\n",
       "    </tr>\n",
       "    <tr>\n",
       "      <th>5829</th>\n",
       "      <td>7</td>\n",
       "      <td>583</td>\n",
       "      <td>ultra</td>\n",
       "      <td>5435.501980</td>\n",
       "      <td>32.0</td>\n",
       "      <td>2</td>\n",
       "      <td>391.0</td>\n",
       "    </tr>\n",
       "    <tr>\n",
       "      <th>5711</th>\n",
       "      <td>7</td>\n",
       "      <td>371</td>\n",
       "      <td>ultra</td>\n",
       "      <td>5082.060591</td>\n",
       "      <td>39.0</td>\n",
       "      <td>2</td>\n",
       "      <td>433.0</td>\n",
       "    </tr>\n",
       "  </tbody>\n",
       "</table>\n",
       "</div>"
      ],
      "text/plain": [
       "       month  user_id subscription_type  distance_sum  duration_sum  count  \\\n",
       "4043       5      745              free   4837.074937          18.0      1   \n",
       "9165      11       63             ultra   2656.964156          15.0      1   \n",
       "543        1      927              free   2626.438306          15.0      1   \n",
       "5875       7      660             ultra   2511.015351          17.0      1   \n",
       "3016       4      559             ultra   3114.680891          19.0      1   \n",
       "10440     12      852              free   2723.034857          18.0      1   \n",
       "1433       2      920              free   2650.212438          15.0      1   \n",
       "4465       5     1393              free   2272.797571          12.0      1   \n",
       "5829       7      583             ultra   5435.501980          32.0      2   \n",
       "5711       7      371             ultra   5082.060591          39.0      2   \n",
       "\n",
       "       money  \n",
       "4043   158.0  \n",
       "9165   289.0  \n",
       "543    140.0  \n",
       "5875   301.0  \n",
       "3016   313.0  \n",
       "10440  158.0  \n",
       "1433   140.0  \n",
       "4465   122.0  \n",
       "5829   391.0  \n",
       "5711   433.0  "
      ]
     },
     "execution_count": 65,
     "metadata": {},
     "output_type": "execute_result"
    }
   ],
   "source": [
    "aggregated_df['money'] = aggregated_df.apply(cost_calculation, axis=1)\n",
    "aggregated_df.sample(10)"
   ]
  },
  {
   "cell_type": "markdown",
   "id": "69894883",
   "metadata": {},
   "source": [
    "Посмотрим доходы компании за каждый месяц и за весь год"
   ]
  },
  {
   "cell_type": "code",
   "execution_count": 66,
   "id": "7b69f43d",
   "metadata": {},
   "outputs": [
    {
     "data": {
      "text/html": [
       "<div>\n",
       "<style scoped>\n",
       "    .dataframe tbody tr th:only-of-type {\n",
       "        vertical-align: middle;\n",
       "    }\n",
       "\n",
       "    .dataframe tbody tr th {\n",
       "        vertical-align: top;\n",
       "    }\n",
       "\n",
       "    .dataframe thead th {\n",
       "        text-align: right;\n",
       "    }\n",
       "</style>\n",
       "<table border=\"1\" class=\"dataframe\">\n",
       "  <thead>\n",
       "    <tr style=\"text-align: right;\">\n",
       "      <th></th>\n",
       "      <th>money</th>\n",
       "    </tr>\n",
       "    <tr>\n",
       "      <th>month</th>\n",
       "      <th></th>\n",
       "    </tr>\n",
       "  </thead>\n",
       "  <tbody>\n",
       "    <tr>\n",
       "      <th>1</th>\n",
       "      <td>289615.0</td>\n",
       "    </tr>\n",
       "    <tr>\n",
       "      <th>2</th>\n",
       "      <td>247180.0</td>\n",
       "    </tr>\n",
       "    <tr>\n",
       "      <th>3</th>\n",
       "      <td>282854.0</td>\n",
       "    </tr>\n",
       "    <tr>\n",
       "      <th>4</th>\n",
       "      <td>275750.0</td>\n",
       "    </tr>\n",
       "    <tr>\n",
       "      <th>5</th>\n",
       "      <td>291229.0</td>\n",
       "    </tr>\n",
       "    <tr>\n",
       "      <th>6</th>\n",
       "      <td>288851.0</td>\n",
       "    </tr>\n",
       "    <tr>\n",
       "      <th>7</th>\n",
       "      <td>281863.0</td>\n",
       "    </tr>\n",
       "    <tr>\n",
       "      <th>8</th>\n",
       "      <td>276158.0</td>\n",
       "    </tr>\n",
       "    <tr>\n",
       "      <th>9</th>\n",
       "      <td>274900.0</td>\n",
       "    </tr>\n",
       "    <tr>\n",
       "      <th>10</th>\n",
       "      <td>270882.0</td>\n",
       "    </tr>\n",
       "    <tr>\n",
       "      <th>11</th>\n",
       "      <td>257394.0</td>\n",
       "    </tr>\n",
       "    <tr>\n",
       "      <th>12</th>\n",
       "      <td>275341.0</td>\n",
       "    </tr>\n",
       "  </tbody>\n",
       "</table>\n",
       "</div>"
      ],
      "text/plain": [
       "          money\n",
       "month          \n",
       "1      289615.0\n",
       "2      247180.0\n",
       "3      282854.0\n",
       "4      275750.0\n",
       "5      291229.0\n",
       "6      288851.0\n",
       "7      281863.0\n",
       "8      276158.0\n",
       "9      274900.0\n",
       "10     270882.0\n",
       "11     257394.0\n",
       "12     275341.0"
      ]
     },
     "execution_count": 66,
     "metadata": {},
     "output_type": "execute_result"
    }
   ],
   "source": [
    "month_money = aggregated_df.pivot_table(index=['month'], \n",
    "                                 values=['money'], \n",
    "                                 aggfunc='sum')\n",
    "month_money"
   ]
  },
  {
   "cell_type": "code",
   "execution_count": 67,
   "id": "89c09d6b",
   "metadata": {},
   "outputs": [
    {
     "data": {
      "image/png": "[encoded data removed]",
      "text/plain": [
       "<Figure size 720x360 with 1 Axes>"
      ]
     },
     "metadata": {
      "needs_background": "light"
     },
     "output_type": "display_data"
    }
   ],
   "source": [
    "month_money.plot(figsize=(10,5))\n",
    "plt.title('Доходы компании GoFast за 2021 г.')\n",
    "plt.xlabel('Месяц')\n",
    "plt.ylabel('Выручка, руб')\n",
    "plt.show()"
   ]
  },
  {
   "cell_type": "markdown",
   "id": "8d964656",
   "metadata": {},
   "source": [
    "Основные наблюдения:\n",
    "* Пик выручки: Самая высокая выручка наблюдается в мае (289537.0).\n",
    "* Спад выручки: Самая низкая выручка наблюдается в феврале (246022.0).\n",
    "* Летний сезон: Выручка в летние месяцы (июнь-август) относительно стабильна и высокая, что может указывать на повышенный спрос на электросамокаты в этот период.\n",
    "* Осенний спад: Начиная с сентября, наблюдается постепенное снижение выручки, достигающее минимума в ноябре.\n",
    "* Зимний период: Выручка в декабре немного восстанавливается, но остается ниже летних показателей.\n",
    "\n",
    "Спрос на электросамокаты, вероятно, зависит от погодных условий и времени года. В теплые месяцы люди больше склонны использовать электросамокаты для передвижения и развлечений."
   ]
  },
  {
   "cell_type": "code",
   "execution_count": 68,
   "id": "15ff948d",
   "metadata": {},
   "outputs": [
    {
     "name": "stdout",
     "output_type": "stream",
     "text": [
      "Значит выручка за год составит: 3312017.0 руб.\n"
     ]
    }
   ],
   "source": [
    "print('Значит выручка за год составит:', month_money['money'].sum(), 'руб.')"
   ]
  },
  {
   "cell_type": "markdown",
   "id": "f5711914",
   "metadata": {},
   "source": [
    "Определим, кто является наиболее ценным клиентом с точки зрения выручки."
   ]
  },
  {
   "cell_type": "code",
   "execution_count": 69,
   "id": "45e38be1",
   "metadata": {},
   "outputs": [
    {
     "data": {
      "text/html": [
       "<div>\n",
       "<style scoped>\n",
       "    .dataframe tbody tr th:only-of-type {\n",
       "        vertical-align: middle;\n",
       "    }\n",
       "\n",
       "    .dataframe tbody tr th {\n",
       "        vertical-align: top;\n",
       "    }\n",
       "\n",
       "    .dataframe thead th {\n",
       "        text-align: right;\n",
       "    }\n",
       "</style>\n",
       "<table border=\"1\" class=\"dataframe\">\n",
       "  <thead>\n",
       "    <tr style=\"text-align: right;\">\n",
       "      <th></th>\n",
       "      <th>money</th>\n",
       "    </tr>\n",
       "    <tr>\n",
       "      <th>user_id</th>\n",
       "      <th></th>\n",
       "    </tr>\n",
       "  </thead>\n",
       "  <tbody>\n",
       "    <tr>\n",
       "      <th>584</th>\n",
       "      <td>4848.0</td>\n",
       "    </tr>\n",
       "    <tr>\n",
       "      <th>90</th>\n",
       "      <td>4721.0</td>\n",
       "    </tr>\n",
       "    <tr>\n",
       "      <th>458</th>\n",
       "      <td>4252.0</td>\n",
       "    </tr>\n",
       "    <tr>\n",
       "      <th>164</th>\n",
       "      <td>4102.0</td>\n",
       "    </tr>\n",
       "    <tr>\n",
       "      <th>577</th>\n",
       "      <td>4031.0</td>\n",
       "    </tr>\n",
       "  </tbody>\n",
       "</table>\n",
       "</div>"
      ],
      "text/plain": [
       "          money\n",
       "user_id        \n",
       "584      4848.0\n",
       "90       4721.0\n",
       "458      4252.0\n",
       "164      4102.0\n",
       "577      4031.0"
      ]
     },
     "execution_count": 69,
     "metadata": {},
     "output_type": "execute_result"
    }
   ],
   "source": [
    "user_money = aggregated_df.pivot_table(index=['user_id'], \n",
    "                                 values=['money'], \n",
    "                                 aggfunc='sum')\n",
    "user_money.sort_values(by='money', ascending=False).head(5)"
   ]
  },
  {
   "cell_type": "markdown",
   "id": "2e8178bb",
   "metadata": {},
   "source": [
    "Может этим людям стоит вручить небольшие подарки, например, сертификаты, брендированные сувениры или билеты на мероприятия."
   ]
  },
  {
   "cell_type": "markdown",
   "id": "226830b7",
   "metadata": {},
   "source": [
    "Несмотря на то, что удаление 1224 наблюдений на начальном этапе может сказаться на итоговых результатах, анализ проведен для изучения доступной информации и удовлетворения исследовательского интереса."
   ]
  },
  {
   "cell_type": "markdown",
   "id": "31d3008b",
   "metadata": {},
   "source": [
    "<div style=\"background-color: PaleTurquoise; padding: 20px\"> <b>Вывод:</b> был создан датафрейм с агрегированными показателями для каждого пользователя по месяцам, включая суммарное расстояние, количество поездок, суммарное время и выручку. \n",
    "\n",
    "Анализ выручки показал, что пик приходится на май, а спад - на февраль. Летний период характеризуется стабильно высокой выручкой, а с сентября наблюдается постепенное снижение, достигающее минимума в ноябре. Выручка за год составила 3 312 017 рублей.\n",
    "\n",
    "Полученные данные свидетельствуют о сезонном характере спроса на электросамокаты, который, вероятно, обусловлен погодными условиями.  \n",
    "\n",
    "Для повышения лояльности и стимулирования дальнейшего использования сервиса, рекомендуется определить наиболее ценных клиентов с точки зрения выручки и  рассмотреть возможность поощрения их  небольшими подарками, такими как сертификаты, брендированные сувениры или билеты на мероприятия.</div>"
   ]
  },
  {
   "cell_type": "markdown",
   "id": "41545ac0",
   "metadata": {},
   "source": [
    "###  Проверка гипотез"
   ]
  },
  {
   "cell_type": "markdown",
   "id": "600bbb95",
   "metadata": {},
   "source": [
    "> 6.1 Важно понять, тратят ли пользователи с подпиской больше времени на поездки? Если да, то пользователи с подпиской могут быть «выгоднее» для компании. Проверьте гипотезу. Используйте исходные данные о продолжительности каждой сессии — отдельно для подписчиков и тех, у кого нет подписки."
   ]
  },
  {
   "cell_type": "markdown",
   "id": "e9fafde7",
   "metadata": {},
   "source": [
    "* Нулевая гипотеза (H0): Средняя продолжительность поездки у пользователей с подпиской не отличается от средней продолжительности поездки у пользователей без подписки.\n",
    "* Альтернативная гипотеза (H1): Средняя продолжительность поездки у пользователей с подпиской больше, чем средняя продолжительность поездки у пользователей без подписки."
   ]
  },
  {
   "cell_type": "code",
   "execution_count": 70,
   "id": "2f41d46c",
   "metadata": {
    "scrolled": false
   },
   "outputs": [
    {
     "data": {
      "image/png": "[encoded data removed]",
      "text/plain": [
       "<Figure size 432x288 with 1 Axes>"
      ]
     },
     "metadata": {
      "needs_background": "light"
     },
     "output_type": "display_data"
    }
   ],
   "source": [
    "sns.distplot(df_ultra['duration'])\n",
    "plt.title('Проверка нормальности распределения (Время поезки с ultra)')\n",
    "plt.xlabel('Время в минутах')\n",
    "plt.show()"
   ]
  },
  {
   "cell_type": "code",
   "execution_count": 71,
   "id": "ae14c904",
   "metadata": {
    "scrolled": false
   },
   "outputs": [
    {
     "data": {
      "image/png": "[encoded data removed]",
      "text/plain": [
       "<Figure size 432x288 with 1 Axes>"
      ]
     },
     "metadata": {
      "needs_background": "light"
     },
     "output_type": "display_data"
    }
   ],
   "source": [
    "sns.distplot(df_free['duration'])\n",
    "plt.title('Проверка нормальности распределения (Время поезки с free)')\n",
    "plt.xlabel('Время в минутах')\n",
    "plt.show()"
   ]
  },
  {
   "cell_type": "markdown",
   "id": "1929fd75",
   "metadata": {},
   "source": [
    "Честно говоря, я немного запутался.  В разных источниках по-разному объясняют, как проверить, является ли распределение нормальным.  Одни говорят про графики, другие про тесты Шапиро-Уилка или Колмогорова-Смирнова, про которые в теории практикума ничего не сказано.  В общем, я решил действовать по инструкции из практикума, но дополнительно попробую использовать эти тесты.\n"
   ]
  },
  {
   "cell_type": "code",
   "execution_count": 72,
   "id": "df17be49",
   "metadata": {},
   "outputs": [
    {
     "name": "stdout",
     "output_type": "stream",
     "text": [
      "Test used: Mann-Whitney U test\n",
      "Statistic: 34967294.0\n",
      "P-value: 1.7312031783261743e-09\n",
      "Пользователи с подпиской тратят статистически значимо больше времени на поездки.\n"
     ]
    }
   ],
   "source": [
    "# Пример данных (замените на ваши реальные данные)\n",
    "duration_ultra = df_ultra['duration']  # Продолжительность поездок подписчиков\n",
    "duration_free = df_free['duration']  # Продолжительность поездок без подписки\n",
    "\n",
    "# Проверка на нормальность распределения\n",
    "p_value_duration_ultra = st.shapiro(duration_ultra)\n",
    "p_value_duration_free = st.shapiro(duration_free)\n",
    "\n",
    "# Проверка на равенство дисперсий\n",
    "p_value_levene = st.levene(duration_ultra, duration_free)\n",
    "\n",
    "# Выбор теста\n",
    "if p_value_duration_ultra[1] > 0.05 and p_value_duration_free[1] > 0.05 and p_value_levene[1] > 0.05:\n",
    "    # t-тест Стьюдента\n",
    "    statistic, p_value = st.ttest_ind(duration_ultra, duration_free, alternative='greater')\n",
    "    test_used = \"t-test\"\n",
    "else:\n",
    "    # U-тест Манна-Уитни\n",
    "    statistic, p_value = st.mannwhitneyu(duration_ultra, duration_free, alternative='greater')\n",
    "    test_used = \"Mann-Whitney U test\"\n",
    "\n",
    "# Вывод результатов\n",
    "print(f\"Test used: {test_used}\")\n",
    "print(f\"Statistic: {statistic}\")\n",
    "print(f\"P-value: {p_value}\")\n",
    "\n",
    "# Интерпретация результатов\n",
    "alpha = 0.05\n",
    "if p_value < alpha:\n",
    "    print(\"Пользователи с подпиской тратят статистически значимо больше времени на поездки.\")\n",
    "else:\n",
    "    print(\"Нет статистически значимой разницы во времени поездок между пользователями с подпиской и без подписки.\")"
   ]
  },
  {
   "cell_type": "markdown",
   "id": "bdbfb0a9",
   "metadata": {},
   "source": [
    "Чтобы убедиться в наличии статистически значимых различий, применим t-тест.  Мы можем предположить нормальное распределение данных, так как визуализация данных напоминает форму колокола, характерную для нормального распределения."
   ]
  },
  {
   "cell_type": "code",
   "execution_count": 73,
   "id": "1ba72207",
   "metadata": {},
   "outputs": [
    {
     "name": "stdout",
     "output_type": "stream",
     "text": [
      "p-значение:  4.531191983925177e-12\n",
      "Отвергаем нулевую гипотезу\n"
     ]
    }
   ],
   "source": [
    "alpha = 0.05 # критический уровень статистической значимости\n",
    "\n",
    "results = st.stats.ttest_ind(df_ultra['duration'], df_free['duration'], alternative='greater')\n",
    "\n",
    "print('p-значение: ', results.pvalue)\n",
    "if results.pvalue < alpha:\n",
    "    print(\"Отвергаем нулевую гипотезу\")\n",
    "else:\n",
    "    print(\"Не получилось отвергнуть нулевую гипотезу\")"
   ]
  },
  {
   "cell_type": "markdown",
   "id": "1faa0149",
   "metadata": {},
   "source": [
    "Основываясь на полученных данных и проведенном статистическом тесте, можно сделать вывод, что средняя продолжительность поездки у пользователей с подпиской статистически значимо больше, чем средняя продолжительность поездки у пользователей без подписки."
   ]
  },
  {
   "cell_type": "markdown",
   "id": "4b70dc9f",
   "metadata": {},
   "source": [
    "> 6.2 Расстояние одной поездки в 3130 метров — оптимальное с точки зрения износа самоката. Можно ли сказать, что среднее расстояние, которое проезжают пользователи с подпиской за одну поездку, не превышает 3130 метров? Проверьте гипотезу и сделайте выводы."
   ]
  },
  {
   "cell_type": "markdown",
   "id": "7496effb",
   "metadata": {},
   "source": [
    "* Нулевая гипотеза (H0): Среднее расстояние поездки пользователей с подпиской равно 3130 метров (μ = 3130).\n",
    "* Альтернативная гипотеза (H1): Среднее расстояние поездки пользователей с подпиской больше 3130 метров (μ > 3130)."
   ]
  },
  {
   "cell_type": "code",
   "execution_count": 74,
   "id": "c41c798f",
   "metadata": {},
   "outputs": [
    {
     "name": "stdout",
     "output_type": "stream",
     "text": [
      "p-значение: 6.193685497607538e-13\n",
      "Отвергаем нулевую гипотезу\n"
     ]
    }
   ],
   "source": [
    "value = 3130\n",
    "\n",
    "alpha = 0.05 # уровень статистической значимости\n",
    "\n",
    "results = st.ttest_1samp(\n",
    "    df_ultra['distance'], \n",
    "    value,\n",
    "      alternative='greater')\n",
    "\n",
    "print('p-значение:', results.pvalue)\n",
    "\n",
    "if (results.pvalue < alpha):\n",
    "    print('Отвергаем нулевую гипотезу')\n",
    "else:\n",
    "    print('Не отвергаем нулевую гипотезу') "
   ]
  },
  {
   "cell_type": "markdown",
   "id": "982686a5",
   "metadata": {},
   "source": [
    "Проведенный статистический анализ позволил опровергнуть гипотезу о том, что среднее расстояние поездки пользователей с подпиской равно 3130 метров.  Полученное p-значение, существенно меньшее уровня значимости 0.05, свидетельствует о наличии статистически значимой разницы.  Таким образом, с высокой степенью уверенности можно утверждать, что среднее расстояние поездки пользователей с подпиской превышает 3130 метров. "
   ]
  },
  {
   "cell_type": "markdown",
   "id": "0f9eeb58",
   "metadata": {},
   "source": [
    "> 6.3 Проверьте гипотезу о том, будет ли помесячная выручка от пользователей с подпиской по месяцам выше, чем выручка от пользователей без подписки. Сделайте вывод."
   ]
  },
  {
   "cell_type": "markdown",
   "id": "107d4681",
   "metadata": {},
   "source": [
    "* Нулевая гипотеза (H0): Средняя помесячная выручка от пользователей с подпиской не отличается от средней помесячной выручки от пользователей без подписки (μ1 = μ2).\n",
    "* Альтернативная гипотеза (H1): Средняя помесячная выручка от пользователей с подпиской выше, чем средняя помесячная выручка от пользователей без подписки (μ1 > μ2)."
   ]
  },
  {
   "cell_type": "markdown",
   "id": "5ced05c8",
   "metadata": {},
   "source": [
    "Подготовим данные"
   ]
  },
  {
   "cell_type": "code",
   "execution_count": 75,
   "id": "916fe4b0",
   "metadata": {},
   "outputs": [
    {
     "data": {
      "text/html": [
       "<div>\n",
       "<style scoped>\n",
       "    .dataframe tbody tr th:only-of-type {\n",
       "        vertical-align: middle;\n",
       "    }\n",
       "\n",
       "    .dataframe tbody tr th {\n",
       "        vertical-align: top;\n",
       "    }\n",
       "\n",
       "    .dataframe thead th {\n",
       "        text-align: right;\n",
       "    }\n",
       "</style>\n",
       "<table border=\"1\" class=\"dataframe\">\n",
       "  <thead>\n",
       "    <tr style=\"text-align: right;\">\n",
       "      <th></th>\n",
       "      <th>month</th>\n",
       "      <th>subscription_type</th>\n",
       "      <th>money</th>\n",
       "    </tr>\n",
       "  </thead>\n",
       "  <tbody>\n",
       "    <tr>\n",
       "      <th>0</th>\n",
       "      <td>1</td>\n",
       "      <td>free</td>\n",
       "      <td>259.702797</td>\n",
       "    </tr>\n",
       "    <tr>\n",
       "      <th>1</th>\n",
       "      <td>1</td>\n",
       "      <td>ultra</td>\n",
       "      <td>368.315927</td>\n",
       "    </tr>\n",
       "    <tr>\n",
       "      <th>2</th>\n",
       "      <td>2</td>\n",
       "      <td>free</td>\n",
       "      <td>252.580000</td>\n",
       "    </tr>\n",
       "    <tr>\n",
       "      <th>3</th>\n",
       "      <td>2</td>\n",
       "      <td>ultra</td>\n",
       "      <td>351.424419</td>\n",
       "    </tr>\n",
       "    <tr>\n",
       "      <th>4</th>\n",
       "      <td>3</td>\n",
       "      <td>free</td>\n",
       "      <td>272.255725</td>\n",
       "    </tr>\n",
       "    <tr>\n",
       "      <th>5</th>\n",
       "      <td>3</td>\n",
       "      <td>ultra</td>\n",
       "      <td>357.632653</td>\n",
       "    </tr>\n",
       "    <tr>\n",
       "      <th>6</th>\n",
       "      <td>4</td>\n",
       "      <td>free</td>\n",
       "      <td>266.601504</td>\n",
       "    </tr>\n",
       "    <tr>\n",
       "      <th>7</th>\n",
       "      <td>4</td>\n",
       "      <td>ultra</td>\n",
       "      <td>367.906593</td>\n",
       "    </tr>\n",
       "    <tr>\n",
       "      <th>8</th>\n",
       "      <td>5</td>\n",
       "      <td>free</td>\n",
       "      <td>263.416514</td>\n",
       "    </tr>\n",
       "    <tr>\n",
       "      <th>9</th>\n",
       "      <td>5</td>\n",
       "      <td>ultra</td>\n",
       "      <td>366.419355</td>\n",
       "    </tr>\n",
       "    <tr>\n",
       "      <th>10</th>\n",
       "      <td>6</td>\n",
       "      <td>free</td>\n",
       "      <td>261.830088</td>\n",
       "    </tr>\n",
       "    <tr>\n",
       "      <th>11</th>\n",
       "      <td>6</td>\n",
       "      <td>ultra</td>\n",
       "      <td>360.401535</td>\n",
       "    </tr>\n",
       "    <tr>\n",
       "      <th>12</th>\n",
       "      <td>7</td>\n",
       "      <td>free</td>\n",
       "      <td>262.486188</td>\n",
       "    </tr>\n",
       "    <tr>\n",
       "      <th>13</th>\n",
       "      <td>7</td>\n",
       "      <td>ultra</td>\n",
       "      <td>367.633245</td>\n",
       "    </tr>\n",
       "    <tr>\n",
       "      <th>14</th>\n",
       "      <td>8</td>\n",
       "      <td>free</td>\n",
       "      <td>263.147664</td>\n",
       "    </tr>\n",
       "    <tr>\n",
       "      <th>15</th>\n",
       "      <td>8</td>\n",
       "      <td>ultra</td>\n",
       "      <td>361.962567</td>\n",
       "    </tr>\n",
       "    <tr>\n",
       "      <th>16</th>\n",
       "      <td>9</td>\n",
       "      <td>free</td>\n",
       "      <td>270.848816</td>\n",
       "    </tr>\n",
       "    <tr>\n",
       "      <th>17</th>\n",
       "      <td>9</td>\n",
       "      <td>ultra</td>\n",
       "      <td>362.655172</td>\n",
       "    </tr>\n",
       "    <tr>\n",
       "      <th>18</th>\n",
       "      <td>10</td>\n",
       "      <td>free</td>\n",
       "      <td>264.156190</td>\n",
       "    </tr>\n",
       "    <tr>\n",
       "      <th>19</th>\n",
       "      <td>10</td>\n",
       "      <td>ultra</td>\n",
       "      <td>359.239130</td>\n",
       "    </tr>\n",
       "    <tr>\n",
       "      <th>20</th>\n",
       "      <td>11</td>\n",
       "      <td>free</td>\n",
       "      <td>258.990512</td>\n",
       "    </tr>\n",
       "    <tr>\n",
       "      <th>21</th>\n",
       "      <td>11</td>\n",
       "      <td>ultra</td>\n",
       "      <td>359.839286</td>\n",
       "    </tr>\n",
       "    <tr>\n",
       "      <th>22</th>\n",
       "      <td>12</td>\n",
       "      <td>free</td>\n",
       "      <td>268.698011</td>\n",
       "    </tr>\n",
       "    <tr>\n",
       "      <th>23</th>\n",
       "      <td>12</td>\n",
       "      <td>ultra</td>\n",
       "      <td>363.183381</td>\n",
       "    </tr>\n",
       "  </tbody>\n",
       "</table>\n",
       "</div>"
      ],
      "text/plain": [
       "    month subscription_type       money\n",
       "0       1              free  259.702797\n",
       "1       1             ultra  368.315927\n",
       "2       2              free  252.580000\n",
       "3       2             ultra  351.424419\n",
       "4       3              free  272.255725\n",
       "5       3             ultra  357.632653\n",
       "6       4              free  266.601504\n",
       "7       4             ultra  367.906593\n",
       "8       5              free  263.416514\n",
       "9       5             ultra  366.419355\n",
       "10      6              free  261.830088\n",
       "11      6             ultra  360.401535\n",
       "12      7              free  262.486188\n",
       "13      7             ultra  367.633245\n",
       "14      8              free  263.147664\n",
       "15      8             ultra  361.962567\n",
       "16      9              free  270.848816\n",
       "17      9             ultra  362.655172\n",
       "18     10              free  264.156190\n",
       "19     10             ultra  359.239130\n",
       "20     11              free  258.990512\n",
       "21     11             ultra  359.839286\n",
       "22     12              free  268.698011\n",
       "23     12             ultra  363.183381"
      ]
     },
     "execution_count": 75,
     "metadata": {},
     "output_type": "execute_result"
    }
   ],
   "source": [
    "group_data = aggregated_df.groupby(['month', 'subscription_type'])['money'].mean().reset_index()\n",
    "group_data"
   ]
  },
  {
   "cell_type": "code",
   "execution_count": 76,
   "id": "33e555cc",
   "metadata": {},
   "outputs": [
    {
     "data": {
      "text/html": [
       "<div>\n",
       "<style scoped>\n",
       "    .dataframe tbody tr th:only-of-type {\n",
       "        vertical-align: middle;\n",
       "    }\n",
       "\n",
       "    .dataframe tbody tr th {\n",
       "        vertical-align: top;\n",
       "    }\n",
       "\n",
       "    .dataframe thead th {\n",
       "        text-align: right;\n",
       "    }\n",
       "</style>\n",
       "<table border=\"1\" class=\"dataframe\">\n",
       "  <thead>\n",
       "    <tr style=\"text-align: right;\">\n",
       "      <th></th>\n",
       "      <th>month</th>\n",
       "      <th>subscription_type</th>\n",
       "      <th>money</th>\n",
       "    </tr>\n",
       "  </thead>\n",
       "  <tbody>\n",
       "    <tr>\n",
       "      <th>1</th>\n",
       "      <td>1</td>\n",
       "      <td>ultra</td>\n",
       "      <td>368.315927</td>\n",
       "    </tr>\n",
       "    <tr>\n",
       "      <th>3</th>\n",
       "      <td>2</td>\n",
       "      <td>ultra</td>\n",
       "      <td>351.424419</td>\n",
       "    </tr>\n",
       "    <tr>\n",
       "      <th>5</th>\n",
       "      <td>3</td>\n",
       "      <td>ultra</td>\n",
       "      <td>357.632653</td>\n",
       "    </tr>\n",
       "    <tr>\n",
       "      <th>7</th>\n",
       "      <td>4</td>\n",
       "      <td>ultra</td>\n",
       "      <td>367.906593</td>\n",
       "    </tr>\n",
       "    <tr>\n",
       "      <th>9</th>\n",
       "      <td>5</td>\n",
       "      <td>ultra</td>\n",
       "      <td>366.419355</td>\n",
       "    </tr>\n",
       "    <tr>\n",
       "      <th>11</th>\n",
       "      <td>6</td>\n",
       "      <td>ultra</td>\n",
       "      <td>360.401535</td>\n",
       "    </tr>\n",
       "    <tr>\n",
       "      <th>13</th>\n",
       "      <td>7</td>\n",
       "      <td>ultra</td>\n",
       "      <td>367.633245</td>\n",
       "    </tr>\n",
       "    <tr>\n",
       "      <th>15</th>\n",
       "      <td>8</td>\n",
       "      <td>ultra</td>\n",
       "      <td>361.962567</td>\n",
       "    </tr>\n",
       "    <tr>\n",
       "      <th>17</th>\n",
       "      <td>9</td>\n",
       "      <td>ultra</td>\n",
       "      <td>362.655172</td>\n",
       "    </tr>\n",
       "    <tr>\n",
       "      <th>19</th>\n",
       "      <td>10</td>\n",
       "      <td>ultra</td>\n",
       "      <td>359.239130</td>\n",
       "    </tr>\n",
       "    <tr>\n",
       "      <th>21</th>\n",
       "      <td>11</td>\n",
       "      <td>ultra</td>\n",
       "      <td>359.839286</td>\n",
       "    </tr>\n",
       "    <tr>\n",
       "      <th>23</th>\n",
       "      <td>12</td>\n",
       "      <td>ultra</td>\n",
       "      <td>363.183381</td>\n",
       "    </tr>\n",
       "  </tbody>\n",
       "</table>\n",
       "</div>"
      ],
      "text/plain": [
       "    month subscription_type       money\n",
       "1       1             ultra  368.315927\n",
       "3       2             ultra  351.424419\n",
       "5       3             ultra  357.632653\n",
       "7       4             ultra  367.906593\n",
       "9       5             ultra  366.419355\n",
       "11      6             ultra  360.401535\n",
       "13      7             ultra  367.633245\n",
       "15      8             ultra  361.962567\n",
       "17      9             ultra  362.655172\n",
       "19     10             ultra  359.239130\n",
       "21     11             ultra  359.839286\n",
       "23     12             ultra  363.183381"
      ]
     },
     "execution_count": 76,
     "metadata": {},
     "output_type": "execute_result"
    }
   ],
   "source": [
    "ultra_mean = group_data[group_data['subscription_type'] == 'ultra']\n",
    "ultra_mean"
   ]
  },
  {
   "cell_type": "code",
   "execution_count": 77,
   "id": "7b83e981",
   "metadata": {},
   "outputs": [
    {
     "data": {
      "text/html": [
       "<div>\n",
       "<style scoped>\n",
       "    .dataframe tbody tr th:only-of-type {\n",
       "        vertical-align: middle;\n",
       "    }\n",
       "\n",
       "    .dataframe tbody tr th {\n",
       "        vertical-align: top;\n",
       "    }\n",
       "\n",
       "    .dataframe thead th {\n",
       "        text-align: right;\n",
       "    }\n",
       "</style>\n",
       "<table border=\"1\" class=\"dataframe\">\n",
       "  <thead>\n",
       "    <tr style=\"text-align: right;\">\n",
       "      <th></th>\n",
       "      <th>month</th>\n",
       "      <th>subscription_type</th>\n",
       "      <th>money</th>\n",
       "    </tr>\n",
       "  </thead>\n",
       "  <tbody>\n",
       "    <tr>\n",
       "      <th>0</th>\n",
       "      <td>1</td>\n",
       "      <td>free</td>\n",
       "      <td>259.702797</td>\n",
       "    </tr>\n",
       "    <tr>\n",
       "      <th>2</th>\n",
       "      <td>2</td>\n",
       "      <td>free</td>\n",
       "      <td>252.580000</td>\n",
       "    </tr>\n",
       "    <tr>\n",
       "      <th>4</th>\n",
       "      <td>3</td>\n",
       "      <td>free</td>\n",
       "      <td>272.255725</td>\n",
       "    </tr>\n",
       "    <tr>\n",
       "      <th>6</th>\n",
       "      <td>4</td>\n",
       "      <td>free</td>\n",
       "      <td>266.601504</td>\n",
       "    </tr>\n",
       "    <tr>\n",
       "      <th>8</th>\n",
       "      <td>5</td>\n",
       "      <td>free</td>\n",
       "      <td>263.416514</td>\n",
       "    </tr>\n",
       "    <tr>\n",
       "      <th>10</th>\n",
       "      <td>6</td>\n",
       "      <td>free</td>\n",
       "      <td>261.830088</td>\n",
       "    </tr>\n",
       "    <tr>\n",
       "      <th>12</th>\n",
       "      <td>7</td>\n",
       "      <td>free</td>\n",
       "      <td>262.486188</td>\n",
       "    </tr>\n",
       "    <tr>\n",
       "      <th>14</th>\n",
       "      <td>8</td>\n",
       "      <td>free</td>\n",
       "      <td>263.147664</td>\n",
       "    </tr>\n",
       "    <tr>\n",
       "      <th>16</th>\n",
       "      <td>9</td>\n",
       "      <td>free</td>\n",
       "      <td>270.848816</td>\n",
       "    </tr>\n",
       "    <tr>\n",
       "      <th>18</th>\n",
       "      <td>10</td>\n",
       "      <td>free</td>\n",
       "      <td>264.156190</td>\n",
       "    </tr>\n",
       "    <tr>\n",
       "      <th>20</th>\n",
       "      <td>11</td>\n",
       "      <td>free</td>\n",
       "      <td>258.990512</td>\n",
       "    </tr>\n",
       "    <tr>\n",
       "      <th>22</th>\n",
       "      <td>12</td>\n",
       "      <td>free</td>\n",
       "      <td>268.698011</td>\n",
       "    </tr>\n",
       "  </tbody>\n",
       "</table>\n",
       "</div>"
      ],
      "text/plain": [
       "    month subscription_type       money\n",
       "0       1              free  259.702797\n",
       "2       2              free  252.580000\n",
       "4       3              free  272.255725\n",
       "6       4              free  266.601504\n",
       "8       5              free  263.416514\n",
       "10      6              free  261.830088\n",
       "12      7              free  262.486188\n",
       "14      8              free  263.147664\n",
       "16      9              free  270.848816\n",
       "18     10              free  264.156190\n",
       "20     11              free  258.990512\n",
       "22     12              free  268.698011"
      ]
     },
     "execution_count": 77,
     "metadata": {},
     "output_type": "execute_result"
    }
   ],
   "source": [
    "free_mean = group_data[group_data['subscription_type'] == 'free']\n",
    "free_mean"
   ]
  },
  {
   "cell_type": "code",
   "execution_count": 78,
   "id": "27d7fc2e",
   "metadata": {},
   "outputs": [
    {
     "name": "stdout",
     "output_type": "stream",
     "text": [
      "Среднее первой выборки: 362.22\n",
      "Среднее второй выборки: 263.73\n",
      "p-значение:  1.0193741663735516e-23\n",
      "Отвергаем нулевую гипотезу\n"
     ]
    }
   ],
   "source": [
    "print(f\"Среднее первой выборки: {round(np.mean(ultra_mean['money']), 2)}\")\n",
    "print(f\"Среднее второй выборки: {round(np.mean(free_mean['money']), 2)}\")\n",
    "\n",
    "alpha = 0.05 \n",
    "\n",
    "results = st.stats.ttest_ind(ultra_mean['money'], free_mean['money'], alternative='greater')\n",
    "\n",
    "print('p-значение: ', results.pvalue)\n",
    "if results.pvalue < alpha:\n",
    "    print(\"Отвергаем нулевую гипотезу\")\n",
    "else:\n",
    "    print(\"Не получилось отвергнуть нулевую гипотезу\")"
   ]
  },
  {
   "cell_type": "markdown",
   "id": "2848e5f6",
   "metadata": {},
   "source": [
    "Проведенный статистический анализ, целью которого было сравнение средней помесячной выручки от пользователей с подпиской и без подписки, позволил опровергнуть нулевую гипотезу о равенстве средних значений.  \n",
    "\n",
    "Полученное p-значение (1.0193741663735516e-23) значительно меньше уровня значимости 0.05 (5%), что свидетельствует о наличии статистически значимой разницы между средними значениями.  "
   ]
  },
  {
   "cell_type": "markdown",
   "id": "409708a0",
   "metadata": {},
   "source": [
    "> 6.4 Представьте такую ситуацию: техническая команда сервиса обновила сервера, с которыми взаимодействует мобильное приложение. Она надеется, что из-за этого количество обращений в техподдержку значимо снизилось. Некоторый файл содержит для каждого пользователя данные о количестве обращений до обновления и после него. Какой тест вам понадобился бы для проверки этой гипотезы?"
   ]
  },
  {
   "cell_type": "markdown",
   "id": "5742d427",
   "metadata": {},
   "source": [
    "* Нулевая гипотеза (H0): Среднее количество обращений в техподдержку до обновления не отличается от среднего количества обращений после обновления (μd = 0, где μd - средняя разность между количеством обращений до и после обновления).\n",
    "* Альтернативная гипотеза (H1): Среднее количество обращений в техподдержку после обновления меньше, чем до обновления (μd > 0).\n",
    "\n",
    "Выборки в этом случае будут зависимыми, иначе — парными. Парная выборка означает, что некоторая переменная измеряется дважды для одних и тех же объектов. В нашем примере это пара измерений для каждого пользователя — до и после изменения расчёта.\n",
    "Чтобы проверить гипотезу о равенстве среднего генеральной совокупности для зависимых (парных) выборок, применим метод scipy.stats.ttest_rel().\n",
    "Ему достаточно передать всего два параметра: наборы данных до и после. Оба набора должны быть одинаковыми по размеру"
   ]
  },
  {
   "cell_type": "markdown",
   "id": "bcd224ce",
   "metadata": {},
   "source": [
    "<div style=\"background-color: PaleTurquoise; padding: 20px\"> <b>Вывод:</b> \n",
    "\n",
    "Продолжительность и расстояние поездок:\n",
    "\n",
    "* Пользователи с подпиской в среднем совершают более длительные поездки, чем пользователи без подписки. Эта разница статистически значима.\n",
    "* Данных недостаточно, чтобы утверждать, что среднее расстояние поездки меньше 3130 метров. Возможно, среднее расстояние равно или больше этой величины, но для подтверждения этого требуется больше данных.\n",
    "\n",
    "Помесячная выручка:\n",
    "\n",
    "* Проведенный статистический анализ, целью которого было сравнение средней помесячной выручки от пользователей с подпиской и без подписки, позволил опровергнуть нулевую гипотезу о равенстве средних значений. Полученное p-значение (1.0193741663735516e-23) значительно меньше уровня значимости 0.05 (5%), что свидетельствует о наличии статистически значимой разницы между средними значениями.\n",
    "\n",
    "Обращения в техподдержку:\n",
    "\n",
    "* Чтобы проверить, привело ли обновление серверов к снижению количества обращений в техподдержку, необходимо провести парный t-тест.</div>"
   ]
  },
  {
   "cell_type": "markdown",
   "id": "61213c5e",
   "metadata": {},
   "source": [
    "###  Распределения"
   ]
  },
  {
   "cell_type": "markdown",
   "id": "a3295b72",
   "metadata": {},
   "source": [
    "> 7.1 Отделу маркетинга GoFast поставили задачу: нужно провести акцию с раздачей промокодов на один бесплатный месяц подписки, в рамках которой как минимум 100 существующих клиентов должны продлить эту подписку. То есть по завершении периода действия подписки пользователь может либо отказаться от неё, либо продлить, совершив соответствующий платёж. Эта акция уже проводилась ранее и по итогу выяснилось, что после бесплатного пробного периода подписку продлевают 10 % пользователей. Выясните, какое минимальное количество промокодов нужно разослать, чтобы вероятность не выполнить план была примерно 5 %. Подберите параметры распределения, описывающего эту ситуацию, постройте график распределения и сформулируйте ответ на вопрос о количестве промокодов."
   ]
  },
  {
   "cell_type": "markdown",
   "id": "01358709",
   "metadata": {},
   "source": [
    "Можно использовать функцию распределения (cdf) для биномиального распределения и подбирать n, пока не будет достигнута нужная вероятность."
   ]
  },
  {
   "cell_type": "code",
   "execution_count": 79,
   "id": "d14b688d",
   "metadata": {},
   "outputs": [
    {
     "name": "stdout",
     "output_type": "stream",
     "text": [
      "1161\n"
     ]
    }
   ],
   "source": [
    "# Параметры распределения\n",
    "p = 0.1  # Вероятность успеха (продления подписки)\n",
    "k = 100  # Необходимое количество успехов (продлений)\n",
    "\n",
    "# Поиск минимального n\n",
    "n = 1000  # Начальное значение\n",
    "while st.binom.cdf(k - 1, n, p) > 0.05:\n",
    "    n += 1\n",
    "print(n)"
   ]
  },
  {
   "cell_type": "code",
   "execution_count": 80,
   "id": "0fc274e5",
   "metadata": {
    "scrolled": true
   },
   "outputs": [
    {
     "data": {
      "image/png": "[encoded data removed]",
      "text/plain": [
       "<Figure size 432x288 with 1 Axes>"
      ]
     },
     "metadata": {
      "needs_background": "light"
     },
     "output_type": "display_data"
    }
   ],
   "source": [
    "x = np.arange(0, n + 1)\n",
    "y = st.binom.pmf(x, n, p)\n",
    "\n",
    "plt.plot(x, y)\n",
    "plt.xlabel('Количество продлений подписки')\n",
    "plt.ylabel('Вероятность')\n",
    "plt.title('Биномиальное распределение (n={}, p={})'.format(n, p))\n",
    "plt.axvline(x=k, color='r', linestyle='--')\n",
    "plt.show()"
   ]
  },
  {
   "cell_type": "markdown",
   "id": "2a6138a1",
   "metadata": {},
   "source": [
    "**Вывод:** для решения этой задачи мы использовали биномиальное распределение, которое подходит для моделирования ситуаций с фиксированным количеством испытаний (рассылка промокодов) и двумя возможными исходами каждого испытания (продление или непродление подписки). Минимальное количество промокодов, которое необходимо разослать, чтобы вероятность невыполнения плана была примерно 5%, составляет 1161."
   ]
  },
  {
   "cell_type": "markdown",
   "id": "4a0be694",
   "metadata": {},
   "source": [
    "> 7.2 Отдел маркетинга рассылает клиентам push-уведомления в мобильном приложении. Клиенты могут открыть его или не открывать. Известно, что уведомления открывают около 40 % получивших клиентов. Отдел планирует разослать 1 млн уведомлений. С помощью аппроксимации постройте примерный график распределения и оцените вероятность того, что уведомление откроют не более 399,5 тыс. пользователей."
   ]
  },
  {
   "cell_type": "markdown",
   "id": "2fd1a106",
   "metadata": {},
   "source": [
    "Проверим условие аппроксимации"
   ]
  },
  {
   "cell_type": "markdown",
   "id": "5b2d2d78",
   "metadata": {},
   "source": [
    "> Нужно взять промежуток от математического ожидания биномиального распределения плюс-минус три его стандартных отклонения. Если он лежит в пределах [0,n] (то есть там, где биномиальное распределение определено), то его форма будет симметрична и близка к нормальному распределению."
   ]
  },
  {
   "cell_type": "code",
   "execution_count": 81,
   "id": "32cc186d",
   "metadata": {},
   "outputs": [
    {
     "name": "stdout",
     "output_type": "stream",
     "text": [
      "Условие выполняется\n"
     ]
    }
   ],
   "source": [
    "# задаём параметры биномиального распределения\n",
    "n = 1_000_000\n",
    "p = 0.4\n",
    "\n",
    "# зададим мат.ожидание и ст.отклонение нормального распределения равными\n",
    "# мат.ожиданию и ст.отклонению биномиального распределения\n",
    "mu = n * p\n",
    "sigma = sqrt(n * p * (1 - p))\n",
    "\n",
    "# выводим, выполняется ли наше условие аппроксимации:\n",
    "# лежит ли mu ± 3 sigma в промежутке от 0 до n:\n",
    "if (mu - (3 * sigma) >= 0) and ((mu + (3 * sigma) <= n)):\n",
    "    print('Условие выполняется')\n",
    "else:\n",
    "    print('Условие не выполняется')"
   ]
  },
  {
   "cell_type": "code",
   "execution_count": 82,
   "id": "6e2310ed",
   "metadata": {},
   "outputs": [
    {
     "name": "stdout",
     "output_type": "stream",
     "text": [
      "0.15371708296369768\n"
     ]
    }
   ],
   "source": [
    "n = 1_000_000\n",
    "p = 0.4\n",
    "\n",
    "mu = n * p\n",
    "sigma = sqrt(n * p * (1 - p))\n",
    "\n",
    "distr = st.norm(mu, sigma)\n",
    "\n",
    "result = distr.cdf(399_500)\n",
    "print(result)"
   ]
  },
  {
   "cell_type": "markdown",
   "id": "d7edc50f",
   "metadata": {},
   "source": [
    "**Вывод:** используя аппроксимацию нормальным распределением, мы оценили вероятность того, что уведомление откроют не более 399 500 пользователей, которая составляет около 0.1537 (или 15.37%). "
   ]
  },
  {
   "cell_type": "markdown",
   "id": "4063d24e",
   "metadata": {},
   "source": [
    "### Общий вывод"
   ]
  },
  {
   "cell_type": "markdown",
   "id": "a683d532",
   "metadata": {},
   "source": [
    "<div style=\"background-color: PaleTurquoise; padding: 20px\"> <b>Вывод:</b> в результате проведенного анализа данных о пользователях и поездках сервиса GoFast, мы получили ценную информацию о его функционировании и популярности.  Данные были проверены на корректность и согласованность, выявлены и устранены некоторые несоответствия, а также проведена необходимая предобработка для удобства анализа.\n",
    "\n",
    "Основные выводы:\n",
    "\n",
    "* Сервис GoFast наиболее популярен среди молодежи в возрасте 18-34 лет.  Это ключевая аудитория, на которую стоит ориентировать маркетинговые кампании и специальные предложения.\n",
    "* Бесплатная подписка \"Free\" привлекает больше пользователей, чем платная \"Ultra\".  Это ожидаемо, учитывая отсутствие абонентской платы.  Однако, подписка \"Ultra\" может быть более выгодна для активных пользователей благодаря низкой стоимости минуты и отсутствию платы за старт.\n",
    "* Пятигорск лидирует по количеству пользователей, возможно, из-за низкой конкуренции, в то время как Москва демонстрирует наименьший показатель.  Это важный момент для стратегического развития компании, требующий детального изучения причин низкой популярности в Москве.\n",
    "* Анализ данных о времени и расстоянии поездок показал ожидаемые результаты:  \n",
    "    * Среднее расстояние поездки составляет около 3.2 км, что соответствует типичным сценариям использования электросамокатов.\n",
    "    * Среднее время поездки составляет 18 минут 12 секунд, что также согласуется с ожиданиями.\n",
    "* Выявлены некоторые аномалии, требующие дополнительного исследования:  \n",
    "    * Несоответствия в колонке \"user_id\" первого датафрейма.\n",
    "    * Минимальные значения расстояния и длительности поездок во втором датафрейме, в частности, частые поездки длительностью 30 секунд, которые могут указывать на технические ошибки.\n",
    "* Различия в поведении пользователей с подпиской Free и Ultra:\n",
    "    * Пользователи Free: В среднем проезжают большие расстояния, но с большим разбросом, чем пользователи Ultra.  Это может быть связано со стремлением к экономии,  побуждающим их ехать быстрее и покрывать большее расстояние за меньшее время.  Также наблюдается более высокая средняя скорость, подтверждающая эту гипотезу.\n",
    "    * Пользователи Ultra: Проводят в поездках в среднем больше времени с меньшим разбросом, возможно, из-за меньшей зависимости от времени и большей свободы в выборе маршрута.\n",
    "\n",
    "* Сезонность спроса:\n",
    "    * Анализ выручки выявил пик спроса в мае и спад в феврале.  Летний период характеризуется стабильно высокой выручкой, с постепенным снижением с сентября и минимумом в ноябре.  Это указывает на сезонный характер спроса, вероятно, обусловленный погодными условиями.\n",
    "\n",
    "* Продолжительность и расстояние поездок:\n",
    "    * Пользователи с подпиской в среднем совершают более длительные поездки, чем пользователи без подписки.  Эта разница статистически значима.\n",
    "\n",
    "* Помесячная выручка:\n",
    "    * Статистический анализ подтвердил, что средняя помесячная выручка от пользователей с подпиской выше, чем от пользователей без подписки.  Это важный показатель эффективности подписочной модели.\n",
    "\n",
    "* Обращения в техподдержку:\n",
    "    * Для оценки влияния обновления серверов на количество обращений в техподдержку рекомендуется провести парный t-тест.  Это позволит определить, привело ли обновление к статистически значимому снижению обращений.\n",
    "\n",
    "Рекомендации:\n",
    "\n",
    "* Разработать специальные тарифы или рекламные кампании для привлечения подростков (12-17 лет) и пользователей старше 35 лет.  Это позволит расширить аудиторию сервиса.\n",
    "* Исследовать причины низкой популярности сервиса в Москве.  Возможно, это связано с высокой конкуренцией, особенностями городской инфраструктуры или другими факторами.\n",
    "* Проанализировать частые поездки длительностью 30 секунд на предмет выявления возможных технических ошибок.  Это поможет оптимизировать работу сервиса и улучшить пользовательский опыт.\n",
    "* Разработать стратегии для удержания пользователей Free и стимулирования их перехода на подписку Ultra.  Например, предложить специальные акции или бонусы.\n",
    "* Учитывать сезонность спроса при планировании маркетинговых кампаний и управлении ресурсами.  Например,  в летний период можно увеличить количество доступных самокатов.\n",
    "* Определить наиболее ценных клиентов с точки зрения выручки и рассмотреть возможность их поощрения.  Это поможет повысить лояльность и стимулировать дальнейшее использование сервиса.</div>"
   ]
  }
 ],
 "metadata": {
  "ExecuteTimeLog": [
   {
    "duration": 92,
    "start_time": "2024-08-03T07:15:43.912Z"
   },
   {
    "duration": 63,
    "start_time": "2024-08-03T08:05:21.388Z"
   },
   {
    "duration": 1399,
    "start_time": "2024-08-03T08:08:44.826Z"
   },
   {
    "duration": 3,
    "start_time": "2024-08-03T08:11:39.344Z"
   },
   {
    "duration": 105,
    "start_time": "2024-08-03T08:13:02.395Z"
   },
   {
    "duration": 63,
    "start_time": "2024-08-03T08:13:28.132Z"
   },
   {
    "duration": 13,
    "start_time": "2024-08-03T08:13:39.076Z"
   },
   {
    "duration": 1242,
    "start_time": "2024-08-03T08:14:51.083Z"
   },
   {
    "duration": 3,
    "start_time": "2024-08-03T08:14:52.327Z"
   },
   {
    "duration": 60,
    "start_time": "2024-08-03T08:14:52.345Z"
   },
   {
    "duration": 171,
    "start_time": "2024-08-03T08:14:52.407Z"
   },
   {
    "duration": 96,
    "start_time": "2024-08-03T08:14:52.580Z"
   },
   {
    "duration": 1100,
    "start_time": "2024-08-03T08:15:34.400Z"
   },
   {
    "duration": 4,
    "start_time": "2024-08-03T08:15:35.502Z"
   },
   {
    "duration": 71,
    "start_time": "2024-08-03T08:15:35.507Z"
   },
   {
    "duration": 59,
    "start_time": "2024-08-03T08:15:35.580Z"
   },
   {
    "duration": 49,
    "start_time": "2024-08-03T08:15:35.640Z"
   },
   {
    "duration": 3,
    "start_time": "2024-08-03T08:24:38.698Z"
   },
   {
    "duration": 18,
    "start_time": "2024-08-03T08:24:54.029Z"
   },
   {
    "duration": 3,
    "start_time": "2024-08-03T08:25:17.160Z"
   },
   {
    "duration": 27,
    "start_time": "2024-08-03T08:25:17.543Z"
   },
   {
    "duration": 3,
    "start_time": "2024-08-03T08:25:30.317Z"
   },
   {
    "duration": 24,
    "start_time": "2024-08-03T08:25:30.972Z"
   },
   {
    "duration": 3,
    "start_time": "2024-08-03T08:25:57.026Z"
   },
   {
    "duration": 22,
    "start_time": "2024-08-03T08:25:58.057Z"
   },
   {
    "duration": 3,
    "start_time": "2024-08-03T08:27:00.282Z"
   },
   {
    "duration": 33,
    "start_time": "2024-08-03T08:27:00.810Z"
   },
   {
    "duration": 4,
    "start_time": "2024-08-03T08:36:38.409Z"
   },
   {
    "duration": 24,
    "start_time": "2024-08-03T08:36:39.958Z"
   },
   {
    "duration": 27,
    "start_time": "2024-08-03T08:37:15.495Z"
   },
   {
    "duration": 372,
    "start_time": "2024-08-03T08:37:36.719Z"
   },
   {
    "duration": 9,
    "start_time": "2024-08-03T08:38:28.882Z"
   },
   {
    "duration": 61,
    "start_time": "2024-08-03T08:39:19.749Z"
   },
   {
    "duration": 5,
    "start_time": "2024-08-03T09:12:36.646Z"
   },
   {
    "duration": 25,
    "start_time": "2024-08-03T09:12:37.144Z"
   },
   {
    "duration": 3,
    "start_time": "2024-08-03T09:12:57.277Z"
   },
   {
    "duration": 29,
    "start_time": "2024-08-03T09:12:57.656Z"
   },
   {
    "duration": 3,
    "start_time": "2024-08-03T09:13:04.707Z"
   },
   {
    "duration": 22,
    "start_time": "2024-08-03T09:13:05.037Z"
   },
   {
    "duration": 28,
    "start_time": "2024-08-03T09:13:10.009Z"
   },
   {
    "duration": 65,
    "start_time": "2024-08-03T09:22:22.754Z"
   },
   {
    "duration": 1143,
    "start_time": "2024-08-03T09:33:28.398Z"
   },
   {
    "duration": 3,
    "start_time": "2024-08-03T09:33:29.543Z"
   },
   {
    "duration": 106,
    "start_time": "2024-08-03T09:33:29.547Z"
   },
   {
    "duration": 58,
    "start_time": "2024-08-03T09:33:29.654Z"
   },
   {
    "duration": 43,
    "start_time": "2024-08-03T09:33:29.714Z"
   },
   {
    "duration": 4,
    "start_time": "2024-08-03T09:33:29.758Z"
   },
   {
    "duration": 26,
    "start_time": "2024-08-03T09:33:29.763Z"
   },
   {
    "duration": 28,
    "start_time": "2024-08-03T09:33:29.790Z"
   },
   {
    "duration": 27,
    "start_time": "2024-08-03T09:33:29.820Z"
   },
   {
    "duration": 7,
    "start_time": "2024-08-03T09:34:38.508Z"
   },
   {
    "duration": 12,
    "start_time": "2024-08-03T09:34:51.224Z"
   },
   {
    "duration": 8,
    "start_time": "2024-08-03T09:35:45.366Z"
   },
   {
    "duration": 66,
    "start_time": "2024-08-03T13:34:29.527Z"
   },
   {
    "duration": 38,
    "start_time": "2024-08-03T13:35:00.603Z"
   },
   {
    "duration": 1173,
    "start_time": "2024-08-03T13:35:08.448Z"
   },
   {
    "duration": 3,
    "start_time": "2024-08-03T13:35:09.623Z"
   },
   {
    "duration": 111,
    "start_time": "2024-08-03T13:35:09.627Z"
   },
   {
    "duration": 173,
    "start_time": "2024-08-03T13:35:09.740Z"
   },
   {
    "duration": 98,
    "start_time": "2024-08-03T13:35:09.914Z"
   },
   {
    "duration": 4,
    "start_time": "2024-08-03T13:35:10.013Z"
   },
   {
    "duration": 42,
    "start_time": "2024-08-03T13:35:10.018Z"
   },
   {
    "duration": 22,
    "start_time": "2024-08-03T13:35:10.061Z"
   },
   {
    "duration": 23,
    "start_time": "2024-08-03T13:35:10.084Z"
   },
   {
    "duration": 30,
    "start_time": "2024-08-03T13:35:10.109Z"
   },
   {
    "duration": 84,
    "start_time": "2024-08-03T13:35:46.865Z"
   },
   {
    "duration": 4,
    "start_time": "2024-08-03T13:36:00.947Z"
   },
   {
    "duration": 8,
    "start_time": "2024-08-03T13:36:18.373Z"
   },
   {
    "duration": 7,
    "start_time": "2024-08-03T13:36:22.323Z"
   },
   {
    "duration": 7,
    "start_time": "2024-08-03T13:36:44.443Z"
   },
   {
    "duration": 4,
    "start_time": "2024-08-03T13:36:54.166Z"
   },
   {
    "duration": 5,
    "start_time": "2024-08-03T13:37:28.239Z"
   },
   {
    "duration": 6,
    "start_time": "2024-08-03T13:37:59.749Z"
   },
   {
    "duration": 10,
    "start_time": "2024-08-03T13:38:19.857Z"
   },
   {
    "duration": 8,
    "start_time": "2024-08-03T13:40:36.294Z"
   },
   {
    "duration": 11,
    "start_time": "2024-08-03T13:40:49.452Z"
   },
   {
    "duration": 7,
    "start_time": "2024-08-03T14:05:44.804Z"
   },
   {
    "duration": 6,
    "start_time": "2024-08-03T14:05:50.688Z"
   },
   {
    "duration": 70,
    "start_time": "2024-08-03T14:07:37.293Z"
   },
   {
    "duration": 60,
    "start_time": "2024-08-03T14:07:58.045Z"
   },
   {
    "duration": 58,
    "start_time": "2024-08-03T14:09:40.935Z"
   },
   {
    "duration": 986,
    "start_time": "2024-08-03T14:10:08.221Z"
   },
   {
    "duration": 3,
    "start_time": "2024-08-03T14:10:09.209Z"
   },
   {
    "duration": 91,
    "start_time": "2024-08-03T14:10:09.213Z"
   },
   {
    "duration": 55,
    "start_time": "2024-08-03T14:10:09.306Z"
   },
   {
    "duration": 45,
    "start_time": "2024-08-03T14:10:09.362Z"
   },
   {
    "duration": 3,
    "start_time": "2024-08-03T14:10:09.409Z"
   },
   {
    "duration": 48,
    "start_time": "2024-08-03T14:10:09.413Z"
   },
   {
    "duration": 22,
    "start_time": "2024-08-03T14:10:09.463Z"
   },
   {
    "duration": 8,
    "start_time": "2024-08-03T14:10:09.486Z"
   },
   {
    "duration": 14,
    "start_time": "2024-08-03T14:10:09.496Z"
   },
   {
    "duration": 32,
    "start_time": "2024-08-03T14:10:09.511Z"
   },
   {
    "duration": 32,
    "start_time": "2024-08-03T14:10:09.545Z"
   },
   {
    "duration": 62,
    "start_time": "2024-08-03T14:10:09.578Z"
   },
   {
    "duration": 60,
    "start_time": "2024-08-03T14:10:16.846Z"
   },
   {
    "duration": 85,
    "start_time": "2024-08-03T14:10:33.339Z"
   },
   {
    "duration": 5,
    "start_time": "2024-08-03T14:10:45.105Z"
   },
   {
    "duration": 8,
    "start_time": "2024-08-03T14:13:59.479Z"
   },
   {
    "duration": 9,
    "start_time": "2024-08-03T14:14:09.676Z"
   },
   {
    "duration": 4,
    "start_time": "2024-08-03T14:17:03.794Z"
   },
   {
    "duration": 80,
    "start_time": "2024-08-03T14:29:44.234Z"
   },
   {
    "duration": 4,
    "start_time": "2024-08-03T14:32:36.118Z"
   },
   {
    "duration": 8,
    "start_time": "2024-08-03T14:32:51.025Z"
   },
   {
    "duration": 7,
    "start_time": "2024-08-03T14:38:00.677Z"
   },
   {
    "duration": 4,
    "start_time": "2024-08-03T14:38:17.661Z"
   },
   {
    "duration": 62,
    "start_time": "2024-08-03T14:38:45.786Z"
   },
   {
    "duration": 5,
    "start_time": "2024-08-03T14:40:42.321Z"
   },
   {
    "duration": 79,
    "start_time": "2024-08-03T14:41:06.844Z"
   },
   {
    "duration": 4,
    "start_time": "2024-08-03T15:04:29.970Z"
   },
   {
    "duration": 3,
    "start_time": "2024-08-03T15:04:39.780Z"
   },
   {
    "duration": 7,
    "start_time": "2024-08-03T15:04:53.101Z"
   },
   {
    "duration": 7,
    "start_time": "2024-08-03T15:05:21.434Z"
   },
   {
    "duration": 11,
    "start_time": "2024-08-03T15:05:45.148Z"
   },
   {
    "duration": 2,
    "start_time": "2024-08-03T15:06:06.576Z"
   },
   {
    "duration": 3,
    "start_time": "2024-08-03T15:06:18.219Z"
   },
   {
    "duration": 12,
    "start_time": "2024-08-03T15:07:09.553Z"
   },
   {
    "duration": 11,
    "start_time": "2024-08-03T15:07:36.905Z"
   },
   {
    "duration": 11,
    "start_time": "2024-08-03T15:08:53.423Z"
   },
   {
    "duration": 3,
    "start_time": "2024-08-03T15:33:25.928Z"
   },
   {
    "duration": 4,
    "start_time": "2024-08-03T15:34:17.126Z"
   },
   {
    "duration": 8,
    "start_time": "2024-08-03T15:34:46.112Z"
   },
   {
    "duration": 3,
    "start_time": "2024-08-03T15:36:06.095Z"
   },
   {
    "duration": 4,
    "start_time": "2024-08-03T15:36:06.500Z"
   },
   {
    "duration": 11,
    "start_time": "2024-08-03T15:36:07.773Z"
   },
   {
    "duration": 1070,
    "start_time": "2024-08-03T16:13:03.724Z"
   },
   {
    "duration": 2,
    "start_time": "2024-08-03T16:13:04.796Z"
   },
   {
    "duration": 112,
    "start_time": "2024-08-03T16:13:04.801Z"
   },
   {
    "duration": 88,
    "start_time": "2024-08-03T16:13:04.914Z"
   },
   {
    "duration": 46,
    "start_time": "2024-08-03T16:13:05.003Z"
   },
   {
    "duration": 4,
    "start_time": "2024-08-03T16:13:05.050Z"
   },
   {
    "duration": 190,
    "start_time": "2024-08-03T16:13:05.055Z"
   },
   {
    "duration": 35,
    "start_time": "2024-08-03T16:13:05.247Z"
   },
   {
    "duration": 9,
    "start_time": "2024-08-03T16:13:05.284Z"
   },
   {
    "duration": 8,
    "start_time": "2024-08-03T16:13:05.296Z"
   },
   {
    "duration": 10,
    "start_time": "2024-08-03T16:13:05.305Z"
   },
   {
    "duration": 22,
    "start_time": "2024-08-03T16:13:05.317Z"
   },
   {
    "duration": 6,
    "start_time": "2024-08-03T16:13:05.340Z"
   },
   {
    "duration": 38,
    "start_time": "2024-08-03T16:13:05.348Z"
   },
   {
    "duration": 20,
    "start_time": "2024-08-03T16:13:05.387Z"
   },
   {
    "duration": 10,
    "start_time": "2024-08-03T16:13:05.408Z"
   },
   {
    "duration": 19,
    "start_time": "2024-08-03T16:13:05.419Z"
   },
   {
    "duration": 4,
    "start_time": "2024-08-03T16:13:05.439Z"
   },
   {
    "duration": 82,
    "start_time": "2024-08-03T16:13:05.444Z"
   },
   {
    "duration": 7,
    "start_time": "2024-08-03T16:13:05.527Z"
   },
   {
    "duration": 5,
    "start_time": "2024-08-03T16:13:05.536Z"
   },
   {
    "duration": 15,
    "start_time": "2024-08-03T16:13:05.542Z"
   },
   {
    "duration": 10,
    "start_time": "2024-08-03T16:13:05.558Z"
   },
   {
    "duration": 56,
    "start_time": "2024-08-03T16:14:04.701Z"
   },
   {
    "duration": 59,
    "start_time": "2024-08-03T16:14:19.829Z"
   },
   {
    "duration": 57,
    "start_time": "2024-08-03T16:14:48.688Z"
   },
   {
    "duration": 71,
    "start_time": "2024-08-03T16:15:08.634Z"
   },
   {
    "duration": 95,
    "start_time": "2024-08-03T16:17:41.623Z"
   },
   {
    "duration": 4,
    "start_time": "2024-08-03T16:20:54.479Z"
   },
   {
    "duration": 5,
    "start_time": "2024-08-03T16:21:04.425Z"
   },
   {
    "duration": 3,
    "start_time": "2024-08-03T16:21:27.687Z"
   },
   {
    "duration": 3,
    "start_time": "2024-08-03T16:21:28.256Z"
   },
   {
    "duration": 7,
    "start_time": "2024-08-03T16:22:10.709Z"
   },
   {
    "duration": 8,
    "start_time": "2024-08-03T16:22:48.962Z"
   },
   {
    "duration": 8,
    "start_time": "2024-08-03T16:23:12.974Z"
   },
   {
    "duration": 4,
    "start_time": "2024-08-03T16:24:10.682Z"
   },
   {
    "duration": 4,
    "start_time": "2024-08-03T16:24:14.522Z"
   },
   {
    "duration": 8,
    "start_time": "2024-08-03T16:24:47.807Z"
   },
   {
    "duration": 4,
    "start_time": "2024-08-03T16:24:54.257Z"
   },
   {
    "duration": 9,
    "start_time": "2024-08-03T16:24:54.752Z"
   },
   {
    "duration": 10,
    "start_time": "2024-08-03T16:24:55.288Z"
   },
   {
    "duration": 5,
    "start_time": "2024-08-03T16:25:02.498Z"
   },
   {
    "duration": 160,
    "start_time": "2024-08-03T16:25:05.773Z"
   },
   {
    "duration": 166,
    "start_time": "2024-08-03T16:25:28.966Z"
   },
   {
    "duration": 140,
    "start_time": "2024-08-03T16:25:35.566Z"
   },
   {
    "duration": 13,
    "start_time": "2024-08-03T16:26:57.010Z"
   },
   {
    "duration": 93,
    "start_time": "2024-08-03T16:28:05.024Z"
   },
   {
    "duration": 8,
    "start_time": "2024-08-03T16:28:18.044Z"
   },
   {
    "duration": 5,
    "start_time": "2024-08-03T16:28:20.161Z"
   },
   {
    "duration": 183,
    "start_time": "2024-08-03T16:28:24.686Z"
   },
   {
    "duration": 1063,
    "start_time": "2024-08-03T16:29:09.504Z"
   },
   {
    "duration": 2,
    "start_time": "2024-08-03T16:29:10.569Z"
   },
   {
    "duration": 64,
    "start_time": "2024-08-03T16:29:10.572Z"
   },
   {
    "duration": 52,
    "start_time": "2024-08-03T16:29:10.638Z"
   },
   {
    "duration": 42,
    "start_time": "2024-08-03T16:29:10.691Z"
   },
   {
    "duration": 4,
    "start_time": "2024-08-03T16:29:10.734Z"
   },
   {
    "duration": 36,
    "start_time": "2024-08-03T16:29:10.740Z"
   },
   {
    "duration": 21,
    "start_time": "2024-08-03T16:29:10.777Z"
   },
   {
    "duration": 8,
    "start_time": "2024-08-03T16:29:10.799Z"
   },
   {
    "duration": 4,
    "start_time": "2024-08-03T16:29:10.809Z"
   },
   {
    "duration": 12,
    "start_time": "2024-08-03T16:29:10.814Z"
   },
   {
    "duration": 20,
    "start_time": "2024-08-03T16:29:10.827Z"
   },
   {
    "duration": 5,
    "start_time": "2024-08-03T16:29:10.848Z"
   },
   {
    "duration": 8,
    "start_time": "2024-08-03T16:29:10.854Z"
   },
   {
    "duration": 10,
    "start_time": "2024-08-03T16:29:10.863Z"
   },
   {
    "duration": 5,
    "start_time": "2024-08-03T16:29:10.874Z"
   },
   {
    "duration": 23,
    "start_time": "2024-08-03T16:29:10.880Z"
   },
   {
    "duration": 7,
    "start_time": "2024-08-03T16:29:10.905Z"
   },
   {
    "duration": 4,
    "start_time": "2024-08-03T16:29:10.914Z"
   },
   {
    "duration": 9,
    "start_time": "2024-08-03T16:29:10.920Z"
   },
   {
    "duration": 6,
    "start_time": "2024-08-03T16:29:10.931Z"
   },
   {
    "duration": 5,
    "start_time": "2024-08-03T16:29:10.938Z"
   },
   {
    "duration": 15,
    "start_time": "2024-08-03T16:29:10.945Z"
   },
   {
    "duration": 10,
    "start_time": "2024-08-03T16:29:10.961Z"
   },
   {
    "duration": 33,
    "start_time": "2024-08-03T16:29:10.972Z"
   },
   {
    "duration": 167,
    "start_time": "2024-08-03T16:29:11.007Z"
   },
   {
    "duration": 90,
    "start_time": "2024-08-03T16:30:32.154Z"
   },
   {
    "duration": 10,
    "start_time": "2024-08-03T16:30:40.357Z"
   },
   {
    "duration": 12,
    "start_time": "2024-08-03T16:31:07.839Z"
   },
   {
    "duration": 10,
    "start_time": "2024-08-03T16:31:17.938Z"
   },
   {
    "duration": 7,
    "start_time": "2024-08-03T16:31:18.951Z"
   },
   {
    "duration": 14,
    "start_time": "2024-08-03T16:31:53.185Z"
   },
   {
    "duration": 10,
    "start_time": "2024-08-03T16:32:07.619Z"
   },
   {
    "duration": 11,
    "start_time": "2024-08-03T16:32:10.347Z"
   },
   {
    "duration": 8,
    "start_time": "2024-08-03T16:32:10.860Z"
   },
   {
    "duration": 148,
    "start_time": "2024-08-03T16:32:35.415Z"
   },
   {
    "duration": 152,
    "start_time": "2024-08-03T16:33:59.980Z"
   },
   {
    "duration": 143,
    "start_time": "2024-08-03T16:34:12.334Z"
   },
   {
    "duration": 7,
    "start_time": "2024-08-03T16:37:05.474Z"
   },
   {
    "duration": 176,
    "start_time": "2024-08-03T16:37:31.727Z"
   },
   {
    "duration": 11,
    "start_time": "2024-08-03T16:37:43.085Z"
   },
   {
    "duration": 132,
    "start_time": "2024-08-03T16:37:43.706Z"
   },
   {
    "duration": 149,
    "start_time": "2024-08-03T16:38:09.706Z"
   },
   {
    "duration": 139,
    "start_time": "2024-08-03T16:40:32.175Z"
   },
   {
    "duration": 4,
    "start_time": "2024-08-03T16:41:24.471Z"
   },
   {
    "duration": 92,
    "start_time": "2024-08-03T16:41:36.107Z"
   },
   {
    "duration": 182,
    "start_time": "2024-08-03T16:41:52.364Z"
   },
   {
    "duration": 50,
    "start_time": "2024-08-03T16:42:16.172Z"
   },
   {
    "duration": 153,
    "start_time": "2024-08-03T16:43:21.722Z"
   },
   {
    "duration": 10,
    "start_time": "2024-08-03T16:43:40.996Z"
   },
   {
    "duration": 1126,
    "start_time": "2024-08-03T16:43:42.316Z"
   },
   {
    "duration": 162,
    "start_time": "2024-08-03T16:43:47.173Z"
   },
   {
    "duration": 154,
    "start_time": "2024-08-03T16:45:19.904Z"
   },
   {
    "duration": 11,
    "start_time": "2024-08-03T16:46:18.006Z"
   },
   {
    "duration": 12,
    "start_time": "2024-08-03T16:46:40.607Z"
   },
   {
    "duration": 165,
    "start_time": "2024-08-03T16:46:42.537Z"
   },
   {
    "duration": 12,
    "start_time": "2024-08-03T16:47:52.942Z"
   },
   {
    "duration": 13,
    "start_time": "2024-08-03T16:48:25.504Z"
   },
   {
    "duration": 10,
    "start_time": "2024-08-03T16:48:32.279Z"
   },
   {
    "duration": 149,
    "start_time": "2024-08-03T16:48:36.162Z"
   },
   {
    "duration": 151,
    "start_time": "2024-08-03T16:49:32.144Z"
   },
   {
    "duration": 66,
    "start_time": "2024-08-03T16:49:58.442Z"
   },
   {
    "duration": 152,
    "start_time": "2024-08-03T16:50:07.926Z"
   },
   {
    "duration": 955,
    "start_time": "2024-08-03T16:50:35.630Z"
   },
   {
    "duration": 2,
    "start_time": "2024-08-03T16:50:36.587Z"
   },
   {
    "duration": 65,
    "start_time": "2024-08-03T16:50:36.591Z"
   },
   {
    "duration": 57,
    "start_time": "2024-08-03T16:50:36.657Z"
   },
   {
    "duration": 47,
    "start_time": "2024-08-03T16:50:36.715Z"
   },
   {
    "duration": 3,
    "start_time": "2024-08-03T16:50:36.763Z"
   },
   {
    "duration": 59,
    "start_time": "2024-08-03T16:50:36.768Z"
   },
   {
    "duration": 32,
    "start_time": "2024-08-03T16:50:36.828Z"
   },
   {
    "duration": 28,
    "start_time": "2024-08-03T16:50:36.861Z"
   },
   {
    "duration": 14,
    "start_time": "2024-08-03T16:50:36.891Z"
   },
   {
    "duration": 10,
    "start_time": "2024-08-03T16:50:36.906Z"
   },
   {
    "duration": 13,
    "start_time": "2024-08-03T16:50:36.917Z"
   },
   {
    "duration": 4,
    "start_time": "2024-08-03T16:50:36.932Z"
   },
   {
    "duration": 9,
    "start_time": "2024-08-03T16:50:36.936Z"
   },
   {
    "duration": 12,
    "start_time": "2024-08-03T16:50:36.946Z"
   },
   {
    "duration": 4,
    "start_time": "2024-08-03T16:50:36.959Z"
   },
   {
    "duration": 11,
    "start_time": "2024-08-03T16:50:36.964Z"
   },
   {
    "duration": 13,
    "start_time": "2024-08-03T16:50:36.976Z"
   },
   {
    "duration": 15,
    "start_time": "2024-08-03T16:50:36.990Z"
   },
   {
    "duration": 22,
    "start_time": "2024-08-03T16:50:37.006Z"
   },
   {
    "duration": 28,
    "start_time": "2024-08-03T16:50:37.029Z"
   },
   {
    "duration": 9,
    "start_time": "2024-08-03T16:50:37.058Z"
   },
   {
    "duration": 15,
    "start_time": "2024-08-03T16:50:37.069Z"
   },
   {
    "duration": 21,
    "start_time": "2024-08-03T16:50:37.085Z"
   },
   {
    "duration": 174,
    "start_time": "2024-08-03T16:50:37.107Z"
   },
   {
    "duration": 242,
    "start_time": "2024-08-03T17:18:01.821Z"
   },
   {
    "duration": 157,
    "start_time": "2024-08-03T17:18:29.973Z"
   },
   {
    "duration": 95,
    "start_time": "2024-08-03T17:26:50.057Z"
   },
   {
    "duration": 10,
    "start_time": "2024-08-03T17:27:11.106Z"
   },
   {
    "duration": 132,
    "start_time": "2024-08-03T17:27:44.604Z"
   },
   {
    "duration": 128,
    "start_time": "2024-08-03T17:27:55.569Z"
   },
   {
    "duration": 151,
    "start_time": "2024-08-03T17:28:01.222Z"
   },
   {
    "duration": 10,
    "start_time": "2024-08-03T17:28:24.892Z"
   },
   {
    "duration": 69,
    "start_time": "2024-08-03T17:28:27.689Z"
   },
   {
    "duration": 128,
    "start_time": "2024-08-03T17:28:33.318Z"
   },
   {
    "duration": 131,
    "start_time": "2024-08-03T17:28:44.115Z"
   },
   {
    "duration": 176,
    "start_time": "2024-08-03T17:28:53.929Z"
   },
   {
    "duration": 129,
    "start_time": "2024-08-03T17:29:03.777Z"
   },
   {
    "duration": 131,
    "start_time": "2024-08-03T17:29:17.187Z"
   },
   {
    "duration": 134,
    "start_time": "2024-08-03T17:29:23.527Z"
   },
   {
    "duration": 132,
    "start_time": "2024-08-03T17:29:31.307Z"
   },
   {
    "duration": 129,
    "start_time": "2024-08-03T17:30:10.722Z"
   },
   {
    "duration": 178,
    "start_time": "2024-08-03T17:36:59.273Z"
   },
   {
    "duration": 989,
    "start_time": "2024-08-03T17:38:20.109Z"
   },
   {
    "duration": 2,
    "start_time": "2024-08-03T17:38:21.101Z"
   },
   {
    "duration": 67,
    "start_time": "2024-08-03T17:38:21.104Z"
   },
   {
    "duration": 55,
    "start_time": "2024-08-03T17:38:21.173Z"
   },
   {
    "duration": 43,
    "start_time": "2024-08-03T17:38:21.229Z"
   },
   {
    "duration": 3,
    "start_time": "2024-08-03T17:38:21.273Z"
   },
   {
    "duration": 32,
    "start_time": "2024-08-03T17:38:21.277Z"
   },
   {
    "duration": 48,
    "start_time": "2024-08-03T17:38:21.310Z"
   },
   {
    "duration": 8,
    "start_time": "2024-08-03T17:38:21.359Z"
   },
   {
    "duration": 12,
    "start_time": "2024-08-03T17:38:21.369Z"
   },
   {
    "duration": 16,
    "start_time": "2024-08-03T17:38:21.382Z"
   },
   {
    "duration": 81,
    "start_time": "2024-08-03T17:38:21.399Z"
   },
   {
    "duration": 4,
    "start_time": "2024-08-03T17:38:21.482Z"
   },
   {
    "duration": 7,
    "start_time": "2024-08-03T17:38:21.487Z"
   },
   {
    "duration": 7,
    "start_time": "2024-08-03T17:38:21.496Z"
   },
   {
    "duration": 4,
    "start_time": "2024-08-03T17:38:21.504Z"
   },
   {
    "duration": 12,
    "start_time": "2024-08-03T17:38:21.509Z"
   },
   {
    "duration": 6,
    "start_time": "2024-08-03T17:38:21.522Z"
   },
   {
    "duration": 10,
    "start_time": "2024-08-03T17:38:21.529Z"
   },
   {
    "duration": 10,
    "start_time": "2024-08-03T17:38:21.540Z"
   },
   {
    "duration": 11,
    "start_time": "2024-08-03T17:38:21.551Z"
   },
   {
    "duration": 14,
    "start_time": "2024-08-03T17:38:21.563Z"
   },
   {
    "duration": 23,
    "start_time": "2024-08-03T17:38:21.578Z"
   },
   {
    "duration": 92,
    "start_time": "2024-08-03T17:38:21.602Z"
   },
   {
    "duration": 163,
    "start_time": "2024-08-03T17:38:21.695Z"
   },
   {
    "duration": 9,
    "start_time": "2024-08-03T17:38:21.860Z"
   },
   {
    "duration": 171,
    "start_time": "2024-08-03T17:38:21.870Z"
   },
   {
    "duration": 185,
    "start_time": "2024-08-03T17:38:22.043Z"
   },
   {
    "duration": 115,
    "start_time": "2024-08-03T17:39:13.086Z"
   },
   {
    "duration": 118,
    "start_time": "2024-08-03T17:39:47.019Z"
   },
   {
    "duration": 136,
    "start_time": "2024-08-03T17:39:54.247Z"
   },
   {
    "duration": 202,
    "start_time": "2024-08-03T17:42:43.797Z"
   },
   {
    "duration": 208,
    "start_time": "2024-08-03T17:43:30.991Z"
   },
   {
    "duration": 241,
    "start_time": "2024-08-03T17:43:40.513Z"
   },
   {
    "duration": 154,
    "start_time": "2024-08-03T17:44:17.589Z"
   },
   {
    "duration": 200,
    "start_time": "2024-08-03T17:44:30.239Z"
   },
   {
    "duration": 217,
    "start_time": "2024-08-03T17:45:14.207Z"
   },
   {
    "duration": 243,
    "start_time": "2024-08-03T17:45:20.031Z"
   },
   {
    "duration": 278,
    "start_time": "2024-08-03T17:45:29.684Z"
   },
   {
    "duration": 2,
    "start_time": "2024-08-03T17:46:35.201Z"
   },
   {
    "duration": 207,
    "start_time": "2024-08-03T17:46:40.238Z"
   },
   {
    "duration": 313,
    "start_time": "2024-08-03T17:47:53.567Z"
   },
   {
    "duration": 220,
    "start_time": "2024-08-03T17:48:03.776Z"
   },
   {
    "duration": 246,
    "start_time": "2024-08-03T17:48:16.524Z"
   },
   {
    "duration": 6,
    "start_time": "2024-08-03T17:49:13.092Z"
   },
   {
    "duration": 206,
    "start_time": "2024-08-03T17:54:21.744Z"
   },
   {
    "duration": 183,
    "start_time": "2024-08-03T17:56:06.556Z"
   },
   {
    "duration": 237,
    "start_time": "2024-08-03T17:56:18.221Z"
   },
   {
    "duration": 296,
    "start_time": "2024-08-03T17:56:29.552Z"
   },
   {
    "duration": 219,
    "start_time": "2024-08-03T17:56:45.335Z"
   },
   {
    "duration": 7,
    "start_time": "2024-08-03T17:58:18.559Z"
   },
   {
    "duration": 8,
    "start_time": "2024-08-03T17:58:28.434Z"
   },
   {
    "duration": 12,
    "start_time": "2024-08-03T17:58:42.453Z"
   },
   {
    "duration": 10,
    "start_time": "2024-08-03T18:00:44.401Z"
   },
   {
    "duration": 12,
    "start_time": "2024-08-03T18:00:51.814Z"
   },
   {
    "duration": 9,
    "start_time": "2024-08-03T18:01:33.372Z"
   },
   {
    "duration": 11,
    "start_time": "2024-08-03T18:01:54.683Z"
   },
   {
    "duration": 7,
    "start_time": "2024-08-03T18:04:28.051Z"
   },
   {
    "duration": 8,
    "start_time": "2024-08-03T18:04:49.118Z"
   },
   {
    "duration": 11,
    "start_time": "2024-08-03T18:04:58.878Z"
   },
   {
    "duration": 42,
    "start_time": "2024-08-04T04:16:21.883Z"
   },
   {
    "duration": 1200,
    "start_time": "2024-08-04T04:16:26.626Z"
   },
   {
    "duration": 3,
    "start_time": "2024-08-04T04:16:27.828Z"
   },
   {
    "duration": 103,
    "start_time": "2024-08-04T04:16:27.832Z"
   },
   {
    "duration": 182,
    "start_time": "2024-08-04T04:16:27.938Z"
   },
   {
    "duration": 93,
    "start_time": "2024-08-04T04:16:28.122Z"
   },
   {
    "duration": 3,
    "start_time": "2024-08-04T04:16:28.217Z"
   },
   {
    "duration": 29,
    "start_time": "2024-08-04T04:16:28.221Z"
   },
   {
    "duration": 26,
    "start_time": "2024-08-04T04:16:28.251Z"
   },
   {
    "duration": 9,
    "start_time": "2024-08-04T04:16:28.278Z"
   },
   {
    "duration": 6,
    "start_time": "2024-08-04T04:16:28.290Z"
   },
   {
    "duration": 7,
    "start_time": "2024-08-04T04:16:28.297Z"
   },
   {
    "duration": 12,
    "start_time": "2024-08-04T04:16:28.305Z"
   },
   {
    "duration": 6,
    "start_time": "2024-08-04T04:16:28.319Z"
   },
   {
    "duration": 8,
    "start_time": "2024-08-04T04:16:28.327Z"
   },
   {
    "duration": 36,
    "start_time": "2024-08-04T04:16:28.336Z"
   },
   {
    "duration": 5,
    "start_time": "2024-08-04T04:16:28.374Z"
   },
   {
    "duration": 15,
    "start_time": "2024-08-04T04:16:28.380Z"
   },
   {
    "duration": 18,
    "start_time": "2024-08-04T04:16:28.397Z"
   },
   {
    "duration": 5,
    "start_time": "2024-08-04T04:16:28.417Z"
   },
   {
    "duration": 8,
    "start_time": "2024-08-04T04:16:28.424Z"
   },
   {
    "duration": 3,
    "start_time": "2024-08-04T04:16:28.433Z"
   },
   {
    "duration": 6,
    "start_time": "2024-08-04T04:16:28.437Z"
   },
   {
    "duration": 23,
    "start_time": "2024-08-04T04:16:28.445Z"
   },
   {
    "duration": 14,
    "start_time": "2024-08-04T04:16:28.469Z"
   },
   {
    "duration": 198,
    "start_time": "2024-08-04T04:16:28.484Z"
   },
   {
    "duration": 12,
    "start_time": "2024-08-04T04:16:28.684Z"
   },
   {
    "duration": 159,
    "start_time": "2024-08-04T04:16:28.697Z"
   },
   {
    "duration": 11,
    "start_time": "2024-08-04T04:16:28.859Z"
   },
   {
    "duration": 279,
    "start_time": "2024-08-04T04:16:28.872Z"
   },
   {
    "duration": 280,
    "start_time": "2024-08-04T04:16:29.153Z"
   },
   {
    "duration": 14,
    "start_time": "2024-08-04T04:16:29.434Z"
   },
   {
    "duration": 285,
    "start_time": "2024-08-04T04:16:29.449Z"
   },
   {
    "duration": 16,
    "start_time": "2024-08-04T04:16:29.736Z"
   },
   {
    "duration": 12,
    "start_time": "2024-08-04T04:19:58.033Z"
   },
   {
    "duration": 176,
    "start_time": "2024-08-04T04:20:34.952Z"
   },
   {
    "duration": 242,
    "start_time": "2024-08-04T04:37:28.709Z"
   },
   {
    "duration": 160,
    "start_time": "2024-08-04T04:41:14.857Z"
   },
   {
    "duration": 104,
    "start_time": "2024-08-04T05:26:31.473Z"
   },
   {
    "duration": 5,
    "start_time": "2024-08-04T05:28:21.084Z"
   },
   {
    "duration": 6,
    "start_time": "2024-08-04T05:33:01.605Z"
   },
   {
    "duration": 5,
    "start_time": "2024-08-04T05:33:45.053Z"
   },
   {
    "duration": 17,
    "start_time": "2024-08-04T05:35:04.635Z"
   },
   {
    "duration": 4,
    "start_time": "2024-08-04T05:35:17.687Z"
   },
   {
    "duration": 5,
    "start_time": "2024-08-04T05:35:24.645Z"
   },
   {
    "duration": 4,
    "start_time": "2024-08-04T05:36:16.524Z"
   },
   {
    "duration": 4,
    "start_time": "2024-08-04T05:36:35.660Z"
   },
   {
    "duration": 4,
    "start_time": "2024-08-04T05:36:45.404Z"
   },
   {
    "duration": 3,
    "start_time": "2024-08-04T05:36:55.319Z"
   },
   {
    "duration": 4,
    "start_time": "2024-08-04T05:37:35.478Z"
   },
   {
    "duration": 5,
    "start_time": "2024-08-04T05:37:43.689Z"
   },
   {
    "duration": 5,
    "start_time": "2024-08-04T05:39:10.906Z"
   },
   {
    "duration": 6,
    "start_time": "2024-08-04T05:39:18.749Z"
   },
   {
    "duration": 25,
    "start_time": "2024-08-04T05:42:59.672Z"
   },
   {
    "duration": 11,
    "start_time": "2024-08-04T05:43:18.417Z"
   },
   {
    "duration": 6,
    "start_time": "2024-08-04T05:43:42.590Z"
   },
   {
    "duration": 27,
    "start_time": "2024-08-04T05:43:44.298Z"
   },
   {
    "duration": 10,
    "start_time": "2024-08-04T05:43:44.882Z"
   },
   {
    "duration": 18,
    "start_time": "2024-08-04T05:44:50.384Z"
   },
   {
    "duration": 9,
    "start_time": "2024-08-04T05:46:07.511Z"
   },
   {
    "duration": 10,
    "start_time": "2024-08-04T05:46:16.558Z"
   },
   {
    "duration": 9,
    "start_time": "2024-08-04T05:48:09.065Z"
   },
   {
    "duration": 48,
    "start_time": "2024-08-04T05:48:34.005Z"
   },
   {
    "duration": 11,
    "start_time": "2024-08-04T05:48:42.610Z"
   },
   {
    "duration": 12,
    "start_time": "2024-08-04T05:49:06.705Z"
   },
   {
    "duration": 25,
    "start_time": "2024-08-04T05:58:00.626Z"
   },
   {
    "duration": 13,
    "start_time": "2024-08-04T05:58:01.356Z"
   },
   {
    "duration": 1195,
    "start_time": "2024-08-04T05:58:12.906Z"
   },
   {
    "duration": 4,
    "start_time": "2024-08-04T05:58:14.103Z"
   },
   {
    "duration": 69,
    "start_time": "2024-08-04T05:58:14.109Z"
   },
   {
    "duration": 74,
    "start_time": "2024-08-04T05:58:14.180Z"
   },
   {
    "duration": 63,
    "start_time": "2024-08-04T05:58:14.255Z"
   },
   {
    "duration": 4,
    "start_time": "2024-08-04T05:58:14.320Z"
   },
   {
    "duration": 23,
    "start_time": "2024-08-04T05:58:14.325Z"
   },
   {
    "duration": 28,
    "start_time": "2024-08-04T05:58:14.349Z"
   },
   {
    "duration": 11,
    "start_time": "2024-08-04T05:58:14.379Z"
   },
   {
    "duration": 4,
    "start_time": "2024-08-04T05:58:14.393Z"
   },
   {
    "duration": 7,
    "start_time": "2024-08-04T05:58:14.399Z"
   },
   {
    "duration": 12,
    "start_time": "2024-08-04T05:58:14.408Z"
   },
   {
    "duration": 5,
    "start_time": "2024-08-04T05:58:14.422Z"
   },
   {
    "duration": 41,
    "start_time": "2024-08-04T05:58:14.429Z"
   },
   {
    "duration": 11,
    "start_time": "2024-08-04T05:58:14.472Z"
   },
   {
    "duration": 5,
    "start_time": "2024-08-04T05:58:14.484Z"
   },
   {
    "duration": 24,
    "start_time": "2024-08-04T05:58:14.491Z"
   },
   {
    "duration": 9,
    "start_time": "2024-08-04T05:58:14.518Z"
   },
   {
    "duration": 9,
    "start_time": "2024-08-04T05:58:14.529Z"
   },
   {
    "duration": 56,
    "start_time": "2024-08-04T05:58:14.540Z"
   },
   {
    "duration": 11,
    "start_time": "2024-08-04T05:58:14.597Z"
   },
   {
    "duration": 10,
    "start_time": "2024-08-04T05:58:14.609Z"
   },
   {
    "duration": 9,
    "start_time": "2024-08-04T05:58:14.621Z"
   },
   {
    "duration": 4,
    "start_time": "2024-08-04T05:58:14.631Z"
   },
   {
    "duration": 4,
    "start_time": "2024-08-04T05:58:14.637Z"
   },
   {
    "duration": 11,
    "start_time": "2024-08-04T05:58:14.664Z"
   },
   {
    "duration": 19,
    "start_time": "2024-08-04T05:58:14.677Z"
   },
   {
    "duration": 205,
    "start_time": "2024-08-04T05:58:14.699Z"
   },
   {
    "duration": 12,
    "start_time": "2024-08-04T05:58:14.906Z"
   },
   {
    "duration": 173,
    "start_time": "2024-08-04T05:58:14.919Z"
   },
   {
    "duration": 12,
    "start_time": "2024-08-04T05:58:15.093Z"
   },
   {
    "duration": 225,
    "start_time": "2024-08-04T05:58:15.107Z"
   },
   {
    "duration": 7,
    "start_time": "2024-08-04T05:58:15.333Z"
   },
   {
    "duration": 285,
    "start_time": "2024-08-04T05:58:15.342Z"
   },
   {
    "duration": 297,
    "start_time": "2024-08-04T05:58:15.628Z"
   },
   {
    "duration": 17,
    "start_time": "2024-08-04T05:58:15.928Z"
   },
   {
    "duration": 291,
    "start_time": "2024-08-04T05:58:15.947Z"
   },
   {
    "duration": 26,
    "start_time": "2024-08-04T05:58:16.240Z"
   },
   {
    "duration": 7,
    "start_time": "2024-08-04T06:21:39.566Z"
   },
   {
    "duration": 19,
    "start_time": "2024-08-04T06:21:49.831Z"
   },
   {
    "duration": 7,
    "start_time": "2024-08-04T06:22:17.784Z"
   },
   {
    "duration": 18,
    "start_time": "2024-08-04T06:22:18.574Z"
   },
   {
    "duration": 5,
    "start_time": "2024-08-04T06:22:24.857Z"
   },
   {
    "duration": 26,
    "start_time": "2024-08-04T06:22:26.663Z"
   },
   {
    "duration": 338,
    "start_time": "2024-08-04T06:23:01.077Z"
   },
   {
    "duration": 221,
    "start_time": "2024-08-04T06:24:15.191Z"
   },
   {
    "duration": 116,
    "start_time": "2024-08-04T06:24:48.628Z"
   },
   {
    "duration": 119,
    "start_time": "2024-08-04T06:25:28.312Z"
   },
   {
    "duration": 56,
    "start_time": "2024-08-04T06:27:12.358Z"
   },
   {
    "duration": 135,
    "start_time": "2024-08-04T06:27:20.709Z"
   },
   {
    "duration": 132,
    "start_time": "2024-08-04T06:27:30.580Z"
   },
   {
    "duration": 8,
    "start_time": "2024-08-04T06:38:57.297Z"
   },
   {
    "duration": 282,
    "start_time": "2024-08-04T06:39:39.495Z"
   },
   {
    "duration": 1172,
    "start_time": "2024-08-04T06:55:01.587Z"
   },
   {
    "duration": 11,
    "start_time": "2024-08-04T06:55:02.763Z"
   },
   {
    "duration": 57,
    "start_time": "2024-08-04T06:55:02.781Z"
   },
   {
    "duration": 64,
    "start_time": "2024-08-04T06:55:02.841Z"
   },
   {
    "duration": 43,
    "start_time": "2024-08-04T06:55:02.907Z"
   },
   {
    "duration": 4,
    "start_time": "2024-08-04T06:55:02.952Z"
   },
   {
    "duration": 62,
    "start_time": "2024-08-04T06:55:02.958Z"
   },
   {
    "duration": 27,
    "start_time": "2024-08-04T06:55:03.022Z"
   },
   {
    "duration": 34,
    "start_time": "2024-08-04T06:55:03.050Z"
   },
   {
    "duration": 35,
    "start_time": "2024-08-04T06:55:03.088Z"
   },
   {
    "duration": 17,
    "start_time": "2024-08-04T06:55:03.127Z"
   },
   {
    "duration": 39,
    "start_time": "2024-08-04T06:55:03.145Z"
   },
   {
    "duration": 17,
    "start_time": "2024-08-04T06:55:03.185Z"
   },
   {
    "duration": 8,
    "start_time": "2024-08-04T06:55:03.204Z"
   },
   {
    "duration": 43,
    "start_time": "2024-08-04T06:55:03.214Z"
   },
   {
    "duration": 21,
    "start_time": "2024-08-04T06:55:03.258Z"
   },
   {
    "duration": 59,
    "start_time": "2024-08-04T06:55:03.281Z"
   },
   {
    "duration": 14,
    "start_time": "2024-08-04T06:55:03.342Z"
   },
   {
    "duration": 27,
    "start_time": "2024-08-04T06:55:03.357Z"
   },
   {
    "duration": 38,
    "start_time": "2024-08-04T06:55:03.386Z"
   },
   {
    "duration": 10,
    "start_time": "2024-08-04T06:55:03.426Z"
   },
   {
    "duration": 17,
    "start_time": "2024-08-04T06:55:03.437Z"
   },
   {
    "duration": 44,
    "start_time": "2024-08-04T06:55:03.456Z"
   },
   {
    "duration": 17,
    "start_time": "2024-08-04T06:55:03.501Z"
   },
   {
    "duration": 15,
    "start_time": "2024-08-04T06:55:03.520Z"
   },
   {
    "duration": 41,
    "start_time": "2024-08-04T06:55:03.537Z"
   },
   {
    "duration": 34,
    "start_time": "2024-08-04T06:55:03.580Z"
   },
   {
    "duration": 198,
    "start_time": "2024-08-04T06:55:03.618Z"
   },
   {
    "duration": 12,
    "start_time": "2024-08-04T06:55:03.817Z"
   },
   {
    "duration": 179,
    "start_time": "2024-08-04T06:55:03.830Z"
   },
   {
    "duration": 11,
    "start_time": "2024-08-04T06:55:04.010Z"
   },
   {
    "duration": 214,
    "start_time": "2024-08-04T06:55:04.023Z"
   },
   {
    "duration": 8,
    "start_time": "2024-08-04T06:55:04.239Z"
   },
   {
    "duration": 629,
    "start_time": "2024-08-04T06:55:04.248Z"
   },
   {
    "duration": 607,
    "start_time": "2024-08-04T06:55:04.882Z"
   },
   {
    "duration": 16,
    "start_time": "2024-08-04T06:55:05.490Z"
   },
   {
    "duration": 504,
    "start_time": "2024-08-04T06:55:05.508Z"
   },
   {
    "duration": 15,
    "start_time": "2024-08-04T06:55:06.014Z"
   },
   {
    "duration": 12,
    "start_time": "2024-08-04T06:55:06.031Z"
   },
   {
    "duration": 362,
    "start_time": "2024-08-04T06:55:06.044Z"
   },
   {
    "duration": 135,
    "start_time": "2024-08-04T06:55:06.407Z"
   },
   {
    "duration": 140,
    "start_time": "2024-08-04T06:55:06.543Z"
   },
   {
    "duration": 62,
    "start_time": "2024-08-04T06:55:06.689Z"
   },
   {
    "duration": 0,
    "start_time": "2024-08-04T06:55:06.752Z"
   },
   {
    "duration": 0,
    "start_time": "2024-08-04T06:55:06.754Z"
   },
   {
    "duration": 9,
    "start_time": "2024-08-04T06:55:16.585Z"
   },
   {
    "duration": 317,
    "start_time": "2024-08-04T07:03:35.939Z"
   },
   {
    "duration": 8,
    "start_time": "2024-08-04T07:04:03.539Z"
   },
   {
    "duration": 8,
    "start_time": "2024-08-04T07:10:04.084Z"
   },
   {
    "duration": 252,
    "start_time": "2024-08-04T07:10:36.889Z"
   },
   {
    "duration": 264,
    "start_time": "2024-08-04T07:11:29.298Z"
   },
   {
    "duration": 18,
    "start_time": "2024-08-04T07:16:16.098Z"
   },
   {
    "duration": 16,
    "start_time": "2024-08-04T07:16:25.406Z"
   },
   {
    "duration": 12,
    "start_time": "2024-08-04T07:17:01.313Z"
   },
   {
    "duration": 12,
    "start_time": "2024-08-04T07:17:14.829Z"
   },
   {
    "duration": 32,
    "start_time": "2024-08-04T07:34:35.469Z"
   },
   {
    "duration": 35,
    "start_time": "2024-08-04T07:35:51.116Z"
   },
   {
    "duration": 3,
    "start_time": "2024-08-04T07:37:32.472Z"
   },
   {
    "duration": 34,
    "start_time": "2024-08-04T07:37:33.051Z"
   },
   {
    "duration": 135,
    "start_time": "2024-08-04T07:58:24.363Z"
   },
   {
    "duration": 28,
    "start_time": "2024-08-04T07:58:33.180Z"
   },
   {
    "duration": 24,
    "start_time": "2024-08-04T07:59:14.539Z"
   },
   {
    "duration": 34,
    "start_time": "2024-08-04T07:59:47.996Z"
   },
   {
    "duration": 28,
    "start_time": "2024-08-04T07:59:56.152Z"
   },
   {
    "duration": 28,
    "start_time": "2024-08-04T08:00:01.530Z"
   },
   {
    "duration": 19,
    "start_time": "2024-08-04T08:00:08.866Z"
   },
   {
    "duration": 18,
    "start_time": "2024-08-04T08:00:10.086Z"
   },
   {
    "duration": 1138,
    "start_time": "2024-08-04T08:03:26.303Z"
   },
   {
    "duration": 3,
    "start_time": "2024-08-04T08:03:27.443Z"
   },
   {
    "duration": 66,
    "start_time": "2024-08-04T08:03:27.447Z"
   },
   {
    "duration": 58,
    "start_time": "2024-08-04T08:03:27.514Z"
   },
   {
    "duration": 50,
    "start_time": "2024-08-04T08:03:27.574Z"
   },
   {
    "duration": 4,
    "start_time": "2024-08-04T08:03:27.625Z"
   },
   {
    "duration": 27,
    "start_time": "2024-08-04T08:03:27.630Z"
   },
   {
    "duration": 27,
    "start_time": "2024-08-04T08:03:27.659Z"
   },
   {
    "duration": 9,
    "start_time": "2024-08-04T08:03:27.688Z"
   },
   {
    "duration": 4,
    "start_time": "2024-08-04T08:03:27.700Z"
   },
   {
    "duration": 7,
    "start_time": "2024-08-04T08:03:27.705Z"
   },
   {
    "duration": 23,
    "start_time": "2024-08-04T08:03:27.713Z"
   },
   {
    "duration": 27,
    "start_time": "2024-08-04T08:03:27.738Z"
   },
   {
    "duration": 7,
    "start_time": "2024-08-04T08:03:27.767Z"
   },
   {
    "duration": 16,
    "start_time": "2024-08-04T08:03:27.775Z"
   },
   {
    "duration": 6,
    "start_time": "2024-08-04T08:03:27.792Z"
   },
   {
    "duration": 5,
    "start_time": "2024-08-04T08:03:27.800Z"
   },
   {
    "duration": 5,
    "start_time": "2024-08-04T08:03:27.807Z"
   },
   {
    "duration": 5,
    "start_time": "2024-08-04T08:03:27.813Z"
   },
   {
    "duration": 66,
    "start_time": "2024-08-04T08:03:27.820Z"
   },
   {
    "duration": 9,
    "start_time": "2024-08-04T08:03:27.888Z"
   },
   {
    "duration": 16,
    "start_time": "2024-08-04T08:03:27.899Z"
   },
   {
    "duration": 9,
    "start_time": "2024-08-04T08:03:27.917Z"
   },
   {
    "duration": 2,
    "start_time": "2024-08-04T08:03:27.928Z"
   },
   {
    "duration": 6,
    "start_time": "2024-08-04T08:03:27.931Z"
   },
   {
    "duration": 28,
    "start_time": "2024-08-04T08:03:27.938Z"
   },
   {
    "duration": 6,
    "start_time": "2024-08-04T08:03:27.968Z"
   },
   {
    "duration": 330,
    "start_time": "2024-08-04T08:03:27.977Z"
   },
   {
    "duration": 269,
    "start_time": "2024-08-04T08:03:28.308Z"
   },
   {
    "duration": 15,
    "start_time": "2024-08-04T08:03:28.579Z"
   },
   {
    "duration": 308,
    "start_time": "2024-08-04T08:03:28.596Z"
   },
   {
    "duration": 18,
    "start_time": "2024-08-04T08:03:28.905Z"
   },
   {
    "duration": 5,
    "start_time": "2024-08-04T08:03:28.925Z"
   },
   {
    "duration": 266,
    "start_time": "2024-08-04T08:03:28.931Z"
   },
   {
    "duration": 117,
    "start_time": "2024-08-04T08:03:29.199Z"
   },
   {
    "duration": 209,
    "start_time": "2024-08-04T08:03:29.318Z"
   },
   {
    "duration": 8,
    "start_time": "2024-08-04T08:03:29.529Z"
   },
   {
    "duration": 293,
    "start_time": "2024-08-04T08:03:29.539Z"
   },
   {
    "duration": 8,
    "start_time": "2024-08-04T08:03:29.834Z"
   },
   {
    "duration": 8,
    "start_time": "2024-08-04T08:03:29.843Z"
   },
   {
    "duration": 269,
    "start_time": "2024-08-04T08:03:29.864Z"
   },
   {
    "duration": 12,
    "start_time": "2024-08-04T08:03:30.135Z"
   },
   {
    "duration": 117,
    "start_time": "2024-08-04T08:03:30.149Z"
   },
   {
    "duration": 60,
    "start_time": "2024-08-04T08:03:30.268Z"
   },
   {
    "duration": 273,
    "start_time": "2024-08-04T08:03:30.329Z"
   },
   {
    "duration": 114,
    "start_time": "2024-08-04T08:03:30.605Z"
   },
   {
    "duration": 253,
    "start_time": "2024-08-04T08:03:30.721Z"
   },
   {
    "duration": 12,
    "start_time": "2024-08-04T08:03:30.975Z"
   },
   {
    "duration": 218,
    "start_time": "2024-08-04T08:03:30.989Z"
   },
   {
    "duration": 3,
    "start_time": "2024-08-04T08:03:31.208Z"
   },
   {
    "duration": 55,
    "start_time": "2024-08-04T08:03:31.212Z"
   },
   {
    "duration": 16,
    "start_time": "2024-08-04T08:03:31.269Z"
   },
   {
    "duration": 40,
    "start_time": "2024-08-04T08:03:31.286Z"
   },
   {
    "duration": 431,
    "start_time": "2024-08-04T08:09:59.722Z"
   },
   {
    "duration": 119,
    "start_time": "2024-08-04T08:10:18.855Z"
   },
   {
    "duration": 659,
    "start_time": "2024-08-04T08:10:57.110Z"
   },
   {
    "duration": 617,
    "start_time": "2024-08-04T08:12:58.076Z"
   },
   {
    "duration": 602,
    "start_time": "2024-08-04T08:14:15.719Z"
   },
   {
    "duration": 596,
    "start_time": "2024-08-04T08:14:29.685Z"
   },
   {
    "duration": 595,
    "start_time": "2024-08-04T08:16:09.683Z"
   },
   {
    "duration": 636,
    "start_time": "2024-08-04T08:16:31.155Z"
   },
   {
    "duration": 1007,
    "start_time": "2024-08-04T08:21:06.384Z"
   },
   {
    "duration": 1041,
    "start_time": "2024-08-04T08:22:09.631Z"
   },
   {
    "duration": 1045,
    "start_time": "2024-08-04T08:22:36.293Z"
   },
   {
    "duration": 528,
    "start_time": "2024-08-04T08:23:50.417Z"
   },
   {
    "duration": 21,
    "start_time": "2024-08-04T08:24:57.456Z"
   },
   {
    "duration": 10,
    "start_time": "2024-08-04T08:25:56.747Z"
   },
   {
    "duration": 9,
    "start_time": "2024-08-04T08:26:00.012Z"
   },
   {
    "duration": 11,
    "start_time": "2024-08-04T08:26:16.576Z"
   },
   {
    "duration": 10,
    "start_time": "2024-08-04T08:27:00.368Z"
   },
   {
    "duration": 11,
    "start_time": "2024-08-04T08:27:04.979Z"
   },
   {
    "duration": 9,
    "start_time": "2024-08-04T08:27:28.598Z"
   },
   {
    "duration": 136,
    "start_time": "2024-08-04T08:29:14.100Z"
   },
   {
    "duration": 12,
    "start_time": "2024-08-04T08:30:22.883Z"
   },
   {
    "duration": 12,
    "start_time": "2024-08-04T08:30:35.557Z"
   },
   {
    "duration": 39,
    "start_time": "2024-08-04T08:30:39.584Z"
   },
   {
    "duration": 1071,
    "start_time": "2024-08-04T08:34:26.301Z"
   },
   {
    "duration": 16,
    "start_time": "2024-08-04T08:35:11.031Z"
   },
   {
    "duration": 16,
    "start_time": "2024-08-04T08:35:36.733Z"
   },
   {
    "duration": 19,
    "start_time": "2024-08-04T08:37:30.911Z"
   },
   {
    "duration": 22,
    "start_time": "2024-08-04T08:37:35.343Z"
   },
   {
    "duration": 650,
    "start_time": "2024-08-04T09:02:21.307Z"
   },
   {
    "duration": 10,
    "start_time": "2024-08-04T09:03:12.339Z"
   },
   {
    "duration": 13,
    "start_time": "2024-08-04T09:03:26.653Z"
   },
   {
    "duration": 11,
    "start_time": "2024-08-04T09:03:41.459Z"
   },
   {
    "duration": 12,
    "start_time": "2024-08-04T09:03:56.056Z"
   },
   {
    "duration": 14,
    "start_time": "2024-08-04T09:07:08.484Z"
   },
   {
    "duration": 13,
    "start_time": "2024-08-04T09:08:03.137Z"
   },
   {
    "duration": 14,
    "start_time": "2024-08-04T09:24:41.557Z"
   },
   {
    "duration": 13,
    "start_time": "2024-08-04T09:27:25.501Z"
   },
   {
    "duration": 26,
    "start_time": "2024-08-04T09:27:31.591Z"
   },
   {
    "duration": 23,
    "start_time": "2024-08-04T09:27:42.594Z"
   },
   {
    "duration": 32,
    "start_time": "2024-08-04T09:28:19.147Z"
   },
   {
    "duration": 25,
    "start_time": "2024-08-04T09:34:44.365Z"
   },
   {
    "duration": 25,
    "start_time": "2024-08-04T09:36:25.037Z"
   },
   {
    "duration": 20,
    "start_time": "2024-08-04T09:36:38.492Z"
   },
   {
    "duration": 26,
    "start_time": "2024-08-04T09:37:19.174Z"
   },
   {
    "duration": 37,
    "start_time": "2024-08-04T09:38:13.100Z"
   },
   {
    "duration": 33,
    "start_time": "2024-08-04T09:43:44.443Z"
   },
   {
    "duration": 97,
    "start_time": "2024-08-04T09:44:05.706Z"
   },
   {
    "duration": 28,
    "start_time": "2024-08-04T09:44:22.420Z"
   },
   {
    "duration": 33,
    "start_time": "2024-08-04T09:44:30.761Z"
   },
   {
    "duration": 25,
    "start_time": "2024-08-04T09:45:54.690Z"
   },
   {
    "duration": 32,
    "start_time": "2024-08-04T09:46:39.876Z"
   },
   {
    "duration": 70,
    "start_time": "2024-08-04T09:50:02.709Z"
   },
   {
    "duration": 1035,
    "start_time": "2024-08-04T09:57:59.365Z"
   },
   {
    "duration": 1004,
    "start_time": "2024-08-04T09:58:10.689Z"
   },
   {
    "duration": 13,
    "start_time": "2024-08-04T09:59:19.980Z"
   },
   {
    "duration": 5,
    "start_time": "2024-08-04T09:59:32.705Z"
   },
   {
    "duration": 14,
    "start_time": "2024-08-04T10:00:09.441Z"
   },
   {
    "duration": 7,
    "start_time": "2024-08-04T10:00:45.636Z"
   },
   {
    "duration": 10,
    "start_time": "2024-08-04T10:01:05.715Z"
   },
   {
    "duration": 16,
    "start_time": "2024-08-04T10:01:21.240Z"
   },
   {
    "duration": 7,
    "start_time": "2024-08-04T10:01:34.293Z"
   },
   {
    "duration": 7,
    "start_time": "2024-08-04T10:01:57.949Z"
   },
   {
    "duration": 14,
    "start_time": "2024-08-04T10:02:10.433Z"
   },
   {
    "duration": 59,
    "start_time": "2024-08-04T10:03:47.579Z"
   },
   {
    "duration": 12,
    "start_time": "2024-08-04T10:04:12.081Z"
   },
   {
    "duration": 15,
    "start_time": "2024-08-04T10:04:55.328Z"
   },
   {
    "duration": 16,
    "start_time": "2024-08-04T10:06:05.816Z"
   },
   {
    "duration": 11,
    "start_time": "2024-08-04T10:08:59.685Z"
   },
   {
    "duration": 10,
    "start_time": "2024-08-04T10:10:25.517Z"
   },
   {
    "duration": 23,
    "start_time": "2024-08-04T10:10:42.515Z"
   },
   {
    "duration": 1005,
    "start_time": "2024-08-04T10:11:06.023Z"
   },
   {
    "duration": 18,
    "start_time": "2024-08-04T10:11:22.425Z"
   },
   {
    "duration": 1012,
    "start_time": "2024-08-04T10:17:48.443Z"
   },
   {
    "duration": 8,
    "start_time": "2024-08-04T10:17:57.603Z"
   },
   {
    "duration": 28,
    "start_time": "2024-08-04T10:18:56.040Z"
   },
   {
    "duration": 5,
    "start_time": "2024-08-04T10:19:16.387Z"
   },
   {
    "duration": 5,
    "start_time": "2024-08-04T10:20:14.917Z"
   },
   {
    "duration": 16,
    "start_time": "2024-08-04T10:20:21.786Z"
   },
   {
    "duration": 72,
    "start_time": "2024-08-04T10:21:05.524Z"
   },
   {
    "duration": 3,
    "start_time": "2024-08-04T10:21:13.232Z"
   },
   {
    "duration": 15,
    "start_time": "2024-08-04T10:21:36.638Z"
   },
   {
    "duration": 14,
    "start_time": "2024-08-04T10:23:04.197Z"
   },
   {
    "duration": 15,
    "start_time": "2024-08-04T10:23:32.917Z"
   },
   {
    "duration": 4,
    "start_time": "2024-08-04T10:25:39.480Z"
   },
   {
    "duration": 272,
    "start_time": "2024-08-04T10:26:46.774Z"
   },
   {
    "duration": 27,
    "start_time": "2024-08-04T10:27:15.884Z"
   },
   {
    "duration": 33,
    "start_time": "2024-08-04T10:27:49.491Z"
   },
   {
    "duration": 281,
    "start_time": "2024-08-04T10:28:07.568Z"
   },
   {
    "duration": 33,
    "start_time": "2024-08-04T10:28:14.749Z"
   },
   {
    "duration": 17,
    "start_time": "2024-08-04T10:29:48.841Z"
   },
   {
    "duration": 3,
    "start_time": "2024-08-04T10:30:47.810Z"
   },
   {
    "duration": 18,
    "start_time": "2024-08-04T10:30:51.373Z"
   },
   {
    "duration": 4,
    "start_time": "2024-08-04T10:31:50.283Z"
   },
   {
    "duration": 22,
    "start_time": "2024-08-04T10:31:51.483Z"
   },
   {
    "duration": 33,
    "start_time": "2024-08-04T10:32:06.045Z"
   },
   {
    "duration": 3,
    "start_time": "2024-08-04T10:32:08.890Z"
   },
   {
    "duration": 16,
    "start_time": "2024-08-04T10:32:09.696Z"
   },
   {
    "duration": 1192,
    "start_time": "2024-08-04T10:32:15.042Z"
   },
   {
    "duration": 3,
    "start_time": "2024-08-04T10:32:16.235Z"
   },
   {
    "duration": 56,
    "start_time": "2024-08-04T10:32:16.240Z"
   },
   {
    "duration": 58,
    "start_time": "2024-08-04T10:32:16.297Z"
   },
   {
    "duration": 40,
    "start_time": "2024-08-04T10:32:16.356Z"
   },
   {
    "duration": 4,
    "start_time": "2024-08-04T10:32:16.397Z"
   },
   {
    "duration": 26,
    "start_time": "2024-08-04T10:32:16.402Z"
   },
   {
    "duration": 27,
    "start_time": "2024-08-04T10:32:16.429Z"
   },
   {
    "duration": 8,
    "start_time": "2024-08-04T10:32:16.458Z"
   },
   {
    "duration": 4,
    "start_time": "2024-08-04T10:32:16.469Z"
   },
   {
    "duration": 6,
    "start_time": "2024-08-04T10:32:16.474Z"
   },
   {
    "duration": 12,
    "start_time": "2024-08-04T10:32:16.481Z"
   },
   {
    "duration": 5,
    "start_time": "2024-08-04T10:32:16.495Z"
   },
   {
    "duration": 7,
    "start_time": "2024-08-04T10:32:16.501Z"
   },
   {
    "duration": 10,
    "start_time": "2024-08-04T10:32:16.509Z"
   },
   {
    "duration": 4,
    "start_time": "2024-08-04T10:32:16.520Z"
   },
   {
    "duration": 43,
    "start_time": "2024-08-04T10:32:16.525Z"
   },
   {
    "duration": 8,
    "start_time": "2024-08-04T10:32:16.569Z"
   },
   {
    "duration": 13,
    "start_time": "2024-08-04T10:32:16.579Z"
   },
   {
    "duration": 29,
    "start_time": "2024-08-04T10:32:16.593Z"
   },
   {
    "duration": 9,
    "start_time": "2024-08-04T10:32:16.624Z"
   },
   {
    "duration": 63,
    "start_time": "2024-08-04T10:32:16.634Z"
   },
   {
    "duration": 10,
    "start_time": "2024-08-04T10:32:16.698Z"
   },
   {
    "duration": 4,
    "start_time": "2024-08-04T10:32:16.710Z"
   },
   {
    "duration": 5,
    "start_time": "2024-08-04T10:32:16.715Z"
   },
   {
    "duration": 12,
    "start_time": "2024-08-04T10:32:16.721Z"
   },
   {
    "duration": 11,
    "start_time": "2024-08-04T10:32:16.734Z"
   },
   {
    "duration": 290,
    "start_time": "2024-08-04T10:32:16.748Z"
   },
   {
    "duration": 254,
    "start_time": "2024-08-04T10:32:17.039Z"
   },
   {
    "duration": 17,
    "start_time": "2024-08-04T10:32:17.295Z"
   },
   {
    "duration": 277,
    "start_time": "2024-08-04T10:32:17.314Z"
   },
   {
    "duration": 15,
    "start_time": "2024-08-04T10:32:17.592Z"
   },
   {
    "duration": 5,
    "start_time": "2024-08-04T10:32:17.608Z"
   },
   {
    "duration": 266,
    "start_time": "2024-08-04T10:32:17.615Z"
   },
   {
    "duration": 114,
    "start_time": "2024-08-04T10:32:17.883Z"
   },
   {
    "duration": 201,
    "start_time": "2024-08-04T10:32:17.998Z"
   },
   {
    "duration": 7,
    "start_time": "2024-08-04T10:32:18.201Z"
   },
   {
    "duration": 272,
    "start_time": "2024-08-04T10:32:18.210Z"
   },
   {
    "duration": 8,
    "start_time": "2024-08-04T10:32:18.484Z"
   },
   {
    "duration": 14,
    "start_time": "2024-08-04T10:32:18.494Z"
   },
   {
    "duration": 268,
    "start_time": "2024-08-04T10:32:18.510Z"
   },
   {
    "duration": 12,
    "start_time": "2024-08-04T10:32:18.780Z"
   },
   {
    "duration": 11,
    "start_time": "2024-08-04T10:32:18.793Z"
   },
   {
    "duration": 14,
    "start_time": "2024-08-04T10:32:18.805Z"
   },
   {
    "duration": 198,
    "start_time": "2024-08-04T10:32:18.820Z"
   },
   {
    "duration": 13,
    "start_time": "2024-08-04T10:32:19.020Z"
   },
   {
    "duration": 160,
    "start_time": "2024-08-04T10:32:19.035Z"
   },
   {
    "duration": 11,
    "start_time": "2024-08-04T10:32:19.196Z"
   },
   {
    "duration": 170,
    "start_time": "2024-08-04T10:32:19.208Z"
   },
   {
    "duration": 2,
    "start_time": "2024-08-04T10:32:19.379Z"
   },
   {
    "duration": 39,
    "start_time": "2024-08-04T10:32:19.383Z"
   },
   {
    "duration": 17,
    "start_time": "2024-08-04T10:32:19.424Z"
   },
   {
    "duration": 30,
    "start_time": "2024-08-04T10:32:19.442Z"
   },
   {
    "duration": 575,
    "start_time": "2024-08-04T10:32:19.473Z"
   },
   {
    "duration": 25,
    "start_time": "2024-08-04T10:32:20.049Z"
   },
   {
    "duration": 691,
    "start_time": "2024-08-04T10:32:20.075Z"
   },
   {
    "duration": 15,
    "start_time": "2024-08-04T10:32:20.767Z"
   },
   {
    "duration": 29,
    "start_time": "2024-08-04T10:32:20.784Z"
   },
   {
    "duration": 35,
    "start_time": "2024-08-04T10:32:20.815Z"
   },
   {
    "duration": 14,
    "start_time": "2024-08-04T10:32:20.851Z"
   },
   {
    "duration": 119,
    "start_time": "2024-08-04T10:32:20.866Z"
   },
   {
    "duration": 1,
    "start_time": "2024-08-04T10:32:20.986Z"
   },
   {
    "duration": 3,
    "start_time": "2024-08-04T10:34:00.432Z"
   },
   {
    "duration": 16,
    "start_time": "2024-08-04T10:34:02.235Z"
   },
   {
    "duration": 3,
    "start_time": "2024-08-04T10:34:16.541Z"
   },
   {
    "duration": 17,
    "start_time": "2024-08-04T10:34:18.102Z"
   },
   {
    "duration": 6,
    "start_time": "2024-08-04T10:34:51.561Z"
   },
   {
    "duration": 3,
    "start_time": "2024-08-04T10:35:18.221Z"
   },
   {
    "duration": 19,
    "start_time": "2024-08-04T10:35:20.173Z"
   },
   {
    "duration": 3,
    "start_time": "2024-08-04T10:38:41.135Z"
   },
   {
    "duration": 6,
    "start_time": "2024-08-04T10:38:41.592Z"
   },
   {
    "duration": 20,
    "start_time": "2024-08-04T10:38:43.309Z"
   },
   {
    "duration": 1013,
    "start_time": "2024-08-04T10:39:09.072Z"
   },
   {
    "duration": 33,
    "start_time": "2024-08-04T10:44:13.476Z"
   },
   {
    "duration": 3,
    "start_time": "2024-08-04T10:44:18.665Z"
   },
   {
    "duration": 767,
    "start_time": "2024-08-04T10:44:21.379Z"
   },
   {
    "duration": 33,
    "start_time": "2024-08-04T10:44:39.130Z"
   },
   {
    "duration": 3,
    "start_time": "2024-08-04T10:44:41.042Z"
   },
   {
    "duration": 18,
    "start_time": "2024-08-04T10:44:41.730Z"
   },
   {
    "duration": 6,
    "start_time": "2024-08-04T10:46:19.889Z"
   },
   {
    "duration": 3,
    "start_time": "2024-08-04T10:47:04.244Z"
   },
   {
    "duration": 19,
    "start_time": "2024-08-04T10:47:07.375Z"
   },
   {
    "duration": 32,
    "start_time": "2024-08-04T10:51:52.768Z"
   },
   {
    "duration": 1112,
    "start_time": "2024-08-04T10:54:07.975Z"
   },
   {
    "duration": 3,
    "start_time": "2024-08-04T10:54:09.089Z"
   },
   {
    "duration": 72,
    "start_time": "2024-08-04T10:54:09.093Z"
   },
   {
    "duration": 54,
    "start_time": "2024-08-04T10:54:09.167Z"
   },
   {
    "duration": 41,
    "start_time": "2024-08-04T10:54:09.223Z"
   },
   {
    "duration": 4,
    "start_time": "2024-08-04T10:54:09.266Z"
   },
   {
    "duration": 34,
    "start_time": "2024-08-04T10:54:09.272Z"
   },
   {
    "duration": 34,
    "start_time": "2024-08-04T10:54:09.308Z"
   },
   {
    "duration": 26,
    "start_time": "2024-08-04T10:54:09.344Z"
   },
   {
    "duration": 6,
    "start_time": "2024-08-04T10:54:09.373Z"
   },
   {
    "duration": 29,
    "start_time": "2024-08-04T10:54:09.380Z"
   },
   {
    "duration": 16,
    "start_time": "2024-08-04T10:54:09.411Z"
   },
   {
    "duration": 7,
    "start_time": "2024-08-04T10:54:09.429Z"
   },
   {
    "duration": 8,
    "start_time": "2024-08-04T10:54:09.438Z"
   },
   {
    "duration": 29,
    "start_time": "2024-08-04T10:54:09.448Z"
   },
   {
    "duration": 5,
    "start_time": "2024-08-04T10:54:09.479Z"
   },
   {
    "duration": 11,
    "start_time": "2024-08-04T10:54:09.485Z"
   },
   {
    "duration": 8,
    "start_time": "2024-08-04T10:54:09.497Z"
   },
   {
    "duration": 8,
    "start_time": "2024-08-04T10:54:09.507Z"
   },
   {
    "duration": 26,
    "start_time": "2024-08-04T10:54:09.516Z"
   },
   {
    "duration": 10,
    "start_time": "2024-08-04T10:54:09.565Z"
   },
   {
    "duration": 5,
    "start_time": "2024-08-04T10:54:09.577Z"
   },
   {
    "duration": 9,
    "start_time": "2024-08-04T10:54:09.584Z"
   },
   {
    "duration": 4,
    "start_time": "2024-08-04T10:54:09.595Z"
   },
   {
    "duration": 5,
    "start_time": "2024-08-04T10:54:09.601Z"
   },
   {
    "duration": 18,
    "start_time": "2024-08-04T10:54:09.608Z"
   },
   {
    "duration": 39,
    "start_time": "2024-08-04T10:54:09.628Z"
   },
   {
    "duration": 333,
    "start_time": "2024-08-04T10:54:09.671Z"
   },
   {
    "duration": 289,
    "start_time": "2024-08-04T10:54:10.006Z"
   },
   {
    "duration": 16,
    "start_time": "2024-08-04T10:54:10.296Z"
   },
   {
    "duration": 274,
    "start_time": "2024-08-04T10:54:10.314Z"
   },
   {
    "duration": 15,
    "start_time": "2024-08-04T10:54:10.591Z"
   },
   {
    "duration": 5,
    "start_time": "2024-08-04T10:54:10.608Z"
   },
   {
    "duration": 329,
    "start_time": "2024-08-04T10:54:10.615Z"
   },
   {
    "duration": 133,
    "start_time": "2024-08-04T10:54:10.946Z"
   },
   {
    "duration": 199,
    "start_time": "2024-08-04T10:54:11.081Z"
   },
   {
    "duration": 8,
    "start_time": "2024-08-04T10:54:11.282Z"
   },
   {
    "duration": 306,
    "start_time": "2024-08-04T10:54:11.291Z"
   },
   {
    "duration": 8,
    "start_time": "2024-08-04T10:54:11.599Z"
   },
   {
    "duration": 7,
    "start_time": "2024-08-04T10:54:11.609Z"
   },
   {
    "duration": 312,
    "start_time": "2024-08-04T10:54:11.618Z"
   },
   {
    "duration": 14,
    "start_time": "2024-08-04T10:54:11.932Z"
   },
   {
    "duration": 27,
    "start_time": "2024-08-04T10:54:11.947Z"
   },
   {
    "duration": 14,
    "start_time": "2024-08-04T10:54:11.976Z"
   },
   {
    "duration": 188,
    "start_time": "2024-08-04T10:54:11.991Z"
   },
   {
    "duration": 12,
    "start_time": "2024-08-04T10:54:12.180Z"
   },
   {
    "duration": 175,
    "start_time": "2024-08-04T10:54:12.194Z"
   },
   {
    "duration": 12,
    "start_time": "2024-08-04T10:54:12.370Z"
   },
   {
    "duration": 186,
    "start_time": "2024-08-04T10:54:12.383Z"
   },
   {
    "duration": 3,
    "start_time": "2024-08-04T10:54:12.571Z"
   },
   {
    "duration": 31,
    "start_time": "2024-08-04T10:54:12.575Z"
   },
   {
    "duration": 17,
    "start_time": "2024-08-04T10:54:12.607Z"
   },
   {
    "duration": 42,
    "start_time": "2024-08-04T10:54:12.625Z"
   },
   {
    "duration": 648,
    "start_time": "2024-08-04T10:54:12.668Z"
   },
   {
    "duration": 21,
    "start_time": "2024-08-04T10:54:13.318Z"
   },
   {
    "duration": 761,
    "start_time": "2024-08-04T10:54:13.340Z"
   },
   {
    "duration": 14,
    "start_time": "2024-08-04T10:54:14.102Z"
   },
   {
    "duration": 19,
    "start_time": "2024-08-04T10:54:14.117Z"
   },
   {
    "duration": 35,
    "start_time": "2024-08-04T10:54:14.137Z"
   },
   {
    "duration": 3,
    "start_time": "2024-08-04T10:54:14.173Z"
   },
   {
    "duration": 7,
    "start_time": "2024-08-04T10:54:14.177Z"
   },
   {
    "duration": 110,
    "start_time": "2024-08-04T10:54:14.185Z"
   },
   {
    "duration": 0,
    "start_time": "2024-08-04T10:54:14.297Z"
   },
   {
    "duration": 269,
    "start_time": "2024-08-04T10:57:07.101Z"
   },
   {
    "duration": 3,
    "start_time": "2024-08-04T10:57:22.422Z"
   },
   {
    "duration": 5,
    "start_time": "2024-08-04T10:57:23.957Z"
   },
   {
    "duration": 254,
    "start_time": "2024-08-04T10:57:24.404Z"
   },
   {
    "duration": 4,
    "start_time": "2024-08-04T10:58:16.778Z"
   },
   {
    "duration": 7,
    "start_time": "2024-08-04T10:58:20.075Z"
   },
   {
    "duration": 1012,
    "start_time": "2024-08-04T10:58:21.001Z"
   },
   {
    "duration": 3,
    "start_time": "2024-08-04T11:00:55.379Z"
   },
   {
    "duration": 5,
    "start_time": "2024-08-04T11:00:55.811Z"
   },
   {
    "duration": 100,
    "start_time": "2024-08-04T11:00:58.008Z"
   },
   {
    "duration": 9,
    "start_time": "2024-08-04T11:01:08.834Z"
   },
   {
    "duration": 9,
    "start_time": "2024-08-04T11:03:14.959Z"
   },
   {
    "duration": 11,
    "start_time": "2024-08-04T11:03:18.775Z"
   },
   {
    "duration": 3,
    "start_time": "2024-08-04T11:05:27.112Z"
   },
   {
    "duration": 79,
    "start_time": "2024-08-04T11:05:27.995Z"
   },
   {
    "duration": 129,
    "start_time": "2024-08-04T11:05:48.031Z"
   },
   {
    "duration": 124,
    "start_time": "2024-08-04T11:05:52.292Z"
   },
   {
    "duration": 46,
    "start_time": "2024-08-04T11:09:15.855Z"
   },
   {
    "duration": 3,
    "start_time": "2024-08-04T11:09:19.870Z"
   },
   {
    "duration": 129,
    "start_time": "2024-08-04T11:09:20.841Z"
   },
   {
    "duration": 126,
    "start_time": "2024-08-04T11:10:35.319Z"
   },
   {
    "duration": 1130,
    "start_time": "2024-08-04T11:10:46.777Z"
   },
   {
    "duration": 3,
    "start_time": "2024-08-04T11:10:47.909Z"
   },
   {
    "duration": 76,
    "start_time": "2024-08-04T11:10:47.914Z"
   },
   {
    "duration": 58,
    "start_time": "2024-08-04T11:10:47.993Z"
   },
   {
    "duration": 66,
    "start_time": "2024-08-04T11:10:48.053Z"
   },
   {
    "duration": 4,
    "start_time": "2024-08-04T11:10:48.121Z"
   },
   {
    "duration": 76,
    "start_time": "2024-08-04T11:10:48.126Z"
   },
   {
    "duration": 32,
    "start_time": "2024-08-04T11:10:48.204Z"
   },
   {
    "duration": 9,
    "start_time": "2024-08-04T11:10:48.237Z"
   },
   {
    "duration": 14,
    "start_time": "2024-08-04T11:10:48.248Z"
   },
   {
    "duration": 22,
    "start_time": "2024-08-04T11:10:48.263Z"
   },
   {
    "duration": 27,
    "start_time": "2024-08-04T11:10:48.286Z"
   },
   {
    "duration": 22,
    "start_time": "2024-08-04T11:10:48.315Z"
   },
   {
    "duration": 21,
    "start_time": "2024-08-04T11:10:48.339Z"
   },
   {
    "duration": 25,
    "start_time": "2024-08-04T11:10:48.362Z"
   },
   {
    "duration": 4,
    "start_time": "2024-08-04T11:10:48.389Z"
   },
   {
    "duration": 18,
    "start_time": "2024-08-04T11:10:48.394Z"
   },
   {
    "duration": 17,
    "start_time": "2024-08-04T11:10:48.414Z"
   },
   {
    "duration": 15,
    "start_time": "2024-08-04T11:10:48.433Z"
   },
   {
    "duration": 56,
    "start_time": "2024-08-04T11:10:48.450Z"
   },
   {
    "duration": 14,
    "start_time": "2024-08-04T11:10:48.508Z"
   },
   {
    "duration": 9,
    "start_time": "2024-08-04T11:10:48.523Z"
   },
   {
    "duration": 23,
    "start_time": "2024-08-04T11:10:48.534Z"
   },
   {
    "duration": 23,
    "start_time": "2024-08-04T11:10:48.559Z"
   },
   {
    "duration": 24,
    "start_time": "2024-08-04T11:10:48.583Z"
   },
   {
    "duration": 16,
    "start_time": "2024-08-04T11:10:48.609Z"
   },
   {
    "duration": 15,
    "start_time": "2024-08-04T11:10:48.627Z"
   },
   {
    "duration": 294,
    "start_time": "2024-08-04T11:10:48.646Z"
   },
   {
    "duration": 280,
    "start_time": "2024-08-04T11:10:48.942Z"
   },
   {
    "duration": 15,
    "start_time": "2024-08-04T11:10:49.223Z"
   },
   {
    "duration": 269,
    "start_time": "2024-08-04T11:10:49.240Z"
   },
   {
    "duration": 16,
    "start_time": "2024-08-04T11:10:49.511Z"
   },
   {
    "duration": 6,
    "start_time": "2024-08-04T11:10:49.528Z"
   },
   {
    "duration": 280,
    "start_time": "2024-08-04T11:10:49.535Z"
   },
   {
    "duration": 130,
    "start_time": "2024-08-04T11:10:49.816Z"
   },
   {
    "duration": 205,
    "start_time": "2024-08-04T11:10:49.948Z"
   },
   {
    "duration": 14,
    "start_time": "2024-08-04T11:10:50.154Z"
   },
   {
    "duration": 302,
    "start_time": "2024-08-04T11:10:50.169Z"
   },
   {
    "duration": 9,
    "start_time": "2024-08-04T11:10:50.473Z"
   },
   {
    "duration": 20,
    "start_time": "2024-08-04T11:10:50.484Z"
   },
   {
    "duration": 289,
    "start_time": "2024-08-04T11:10:50.506Z"
   },
   {
    "duration": 13,
    "start_time": "2024-08-04T11:10:50.797Z"
   },
   {
    "duration": 49,
    "start_time": "2024-08-04T11:10:50.812Z"
   },
   {
    "duration": 16,
    "start_time": "2024-08-04T11:10:50.863Z"
   },
   {
    "duration": 173,
    "start_time": "2024-08-04T11:10:50.881Z"
   },
   {
    "duration": 19,
    "start_time": "2024-08-04T11:10:51.056Z"
   },
   {
    "duration": 171,
    "start_time": "2024-08-04T11:10:51.077Z"
   },
   {
    "duration": 19,
    "start_time": "2024-08-04T11:10:51.250Z"
   },
   {
    "duration": 173,
    "start_time": "2024-08-04T11:10:51.270Z"
   },
   {
    "duration": 3,
    "start_time": "2024-08-04T11:10:51.444Z"
   },
   {
    "duration": 38,
    "start_time": "2024-08-04T11:10:51.448Z"
   },
   {
    "duration": 16,
    "start_time": "2024-08-04T11:10:51.488Z"
   },
   {
    "duration": 15,
    "start_time": "2024-08-04T11:10:51.505Z"
   },
   {
    "duration": 569,
    "start_time": "2024-08-04T11:10:51.522Z"
   },
   {
    "duration": 15,
    "start_time": "2024-08-04T11:10:52.093Z"
   },
   {
    "duration": 699,
    "start_time": "2024-08-04T11:10:52.110Z"
   },
   {
    "duration": 14,
    "start_time": "2024-08-04T11:10:52.811Z"
   },
   {
    "duration": 45,
    "start_time": "2024-08-04T11:10:52.827Z"
   },
   {
    "duration": 33,
    "start_time": "2024-08-04T11:10:52.873Z"
   },
   {
    "duration": 3,
    "start_time": "2024-08-04T11:10:52.907Z"
   },
   {
    "duration": 129,
    "start_time": "2024-08-04T11:10:52.912Z"
   },
   {
    "duration": 13,
    "start_time": "2024-08-04T11:16:50.161Z"
   },
   {
    "duration": 122,
    "start_time": "2024-08-04T11:19:37.192Z"
   },
   {
    "duration": 217,
    "start_time": "2024-08-04T11:20:29.229Z"
   },
   {
    "duration": 148,
    "start_time": "2024-08-04T11:20:38.716Z"
   },
   {
    "duration": 144,
    "start_time": "2024-08-04T11:23:10.928Z"
   },
   {
    "duration": 62,
    "start_time": "2024-08-04T11:24:13.561Z"
   },
   {
    "duration": 3,
    "start_time": "2024-08-04T11:29:16.892Z"
   },
   {
    "duration": 3,
    "start_time": "2024-08-04T11:29:36.878Z"
   },
   {
    "duration": 14,
    "start_time": "2024-08-04T11:33:20.156Z"
   },
   {
    "duration": 17,
    "start_time": "2024-08-04T11:34:07.148Z"
   },
   {
    "duration": 16,
    "start_time": "2024-08-04T11:34:26.467Z"
   },
   {
    "duration": 16,
    "start_time": "2024-08-04T11:34:51.304Z"
   },
   {
    "duration": 15,
    "start_time": "2024-08-04T11:35:04.383Z"
   },
   {
    "duration": 12,
    "start_time": "2024-08-04T11:35:16.805Z"
   },
   {
    "duration": 8,
    "start_time": "2024-08-04T11:36:14.250Z"
   },
   {
    "duration": 755,
    "start_time": "2024-08-04T11:36:29.865Z"
   },
   {
    "duration": 11,
    "start_time": "2024-08-04T11:37:09.501Z"
   },
   {
    "duration": 22,
    "start_time": "2024-08-04T11:37:30.480Z"
   },
   {
    "duration": 10,
    "start_time": "2024-08-04T11:37:39.038Z"
   },
   {
    "duration": 1082,
    "start_time": "2024-08-04T11:42:14.276Z"
   },
   {
    "duration": 5,
    "start_time": "2024-08-04T11:42:15.360Z"
   },
   {
    "duration": 59,
    "start_time": "2024-08-04T11:42:15.367Z"
   },
   {
    "duration": 54,
    "start_time": "2024-08-04T11:42:15.429Z"
   },
   {
    "duration": 40,
    "start_time": "2024-08-04T11:42:15.485Z"
   },
   {
    "duration": 29,
    "start_time": "2024-08-04T11:42:15.526Z"
   },
   {
    "duration": 50,
    "start_time": "2024-08-04T11:42:15.557Z"
   },
   {
    "duration": 24,
    "start_time": "2024-08-04T11:42:15.609Z"
   },
   {
    "duration": 8,
    "start_time": "2024-08-04T11:42:15.635Z"
   },
   {
    "duration": 15,
    "start_time": "2024-08-04T11:42:15.645Z"
   },
   {
    "duration": 7,
    "start_time": "2024-08-04T11:42:15.661Z"
   },
   {
    "duration": 11,
    "start_time": "2024-08-04T11:42:15.669Z"
   },
   {
    "duration": 5,
    "start_time": "2024-08-04T11:42:15.681Z"
   },
   {
    "duration": 10,
    "start_time": "2024-08-04T11:42:15.688Z"
   },
   {
    "duration": 10,
    "start_time": "2024-08-04T11:42:15.699Z"
   },
   {
    "duration": 5,
    "start_time": "2024-08-04T11:42:15.710Z"
   },
   {
    "duration": 8,
    "start_time": "2024-08-04T11:42:15.716Z"
   },
   {
    "duration": 4,
    "start_time": "2024-08-04T11:42:15.726Z"
   },
   {
    "duration": 35,
    "start_time": "2024-08-04T11:42:15.731Z"
   },
   {
    "duration": 30,
    "start_time": "2024-08-04T11:42:15.768Z"
   },
   {
    "duration": 14,
    "start_time": "2024-08-04T11:42:15.800Z"
   },
   {
    "duration": 6,
    "start_time": "2024-08-04T11:42:15.816Z"
   },
   {
    "duration": 29,
    "start_time": "2024-08-04T11:42:15.824Z"
   },
   {
    "duration": 11,
    "start_time": "2024-08-04T11:42:15.855Z"
   },
   {
    "duration": 5,
    "start_time": "2024-08-04T11:42:15.868Z"
   },
   {
    "duration": 10,
    "start_time": "2024-08-04T11:42:15.875Z"
   },
   {
    "duration": 8,
    "start_time": "2024-08-04T11:42:15.886Z"
   },
   {
    "duration": 315,
    "start_time": "2024-08-04T11:42:15.898Z"
   },
   {
    "duration": 268,
    "start_time": "2024-08-04T11:42:16.214Z"
   },
   {
    "duration": 15,
    "start_time": "2024-08-04T11:42:16.483Z"
   },
   {
    "duration": 268,
    "start_time": "2024-08-04T11:42:16.499Z"
   },
   {
    "duration": 15,
    "start_time": "2024-08-04T11:42:16.769Z"
   },
   {
    "duration": 5,
    "start_time": "2024-08-04T11:42:16.785Z"
   },
   {
    "duration": 265,
    "start_time": "2024-08-04T11:42:16.792Z"
   },
   {
    "duration": 110,
    "start_time": "2024-08-04T11:42:17.059Z"
   },
   {
    "duration": 194,
    "start_time": "2024-08-04T11:42:17.171Z"
   },
   {
    "duration": 7,
    "start_time": "2024-08-04T11:42:17.366Z"
   },
   {
    "duration": 285,
    "start_time": "2024-08-04T11:42:17.374Z"
   },
   {
    "duration": 10,
    "start_time": "2024-08-04T11:42:17.661Z"
   },
   {
    "duration": 35,
    "start_time": "2024-08-04T11:42:17.672Z"
   },
   {
    "duration": 273,
    "start_time": "2024-08-04T11:42:17.708Z"
   },
   {
    "duration": 12,
    "start_time": "2024-08-04T11:42:17.982Z"
   },
   {
    "duration": 13,
    "start_time": "2024-08-04T11:42:17.995Z"
   },
   {
    "duration": 14,
    "start_time": "2024-08-04T11:42:18.010Z"
   },
   {
    "duration": 193,
    "start_time": "2024-08-04T11:42:18.026Z"
   },
   {
    "duration": 12,
    "start_time": "2024-08-04T11:42:18.221Z"
   },
   {
    "duration": 210,
    "start_time": "2024-08-04T11:42:18.234Z"
   },
   {
    "duration": 12,
    "start_time": "2024-08-04T11:42:18.446Z"
   },
   {
    "duration": 171,
    "start_time": "2024-08-04T11:42:18.466Z"
   },
   {
    "duration": 3,
    "start_time": "2024-08-04T11:42:18.638Z"
   },
   {
    "duration": 45,
    "start_time": "2024-08-04T11:42:18.643Z"
   },
   {
    "duration": 17,
    "start_time": "2024-08-04T11:42:18.689Z"
   },
   {
    "duration": 18,
    "start_time": "2024-08-04T11:42:18.708Z"
   },
   {
    "duration": 554,
    "start_time": "2024-08-04T11:42:18.727Z"
   },
   {
    "duration": 15,
    "start_time": "2024-08-04T11:42:19.283Z"
   },
   {
    "duration": 701,
    "start_time": "2024-08-04T11:42:19.299Z"
   },
   {
    "duration": 14,
    "start_time": "2024-08-04T11:42:20.002Z"
   },
   {
    "duration": 11,
    "start_time": "2024-08-04T11:42:20.018Z"
   },
   {
    "duration": 46,
    "start_time": "2024-08-04T11:42:20.031Z"
   },
   {
    "duration": 4,
    "start_time": "2024-08-04T11:42:20.078Z"
   },
   {
    "duration": 126,
    "start_time": "2024-08-04T11:42:20.083Z"
   },
   {
    "duration": 12,
    "start_time": "2024-08-04T11:42:20.211Z"
   },
   {
    "duration": 215,
    "start_time": "2024-08-04T11:42:20.225Z"
   },
   {
    "duration": 4,
    "start_time": "2024-08-04T11:42:20.442Z"
   },
   {
    "duration": 51,
    "start_time": "2024-08-04T11:42:20.448Z"
   },
   {
    "duration": 6,
    "start_time": "2024-08-04T14:10:23.123Z"
   },
   {
    "duration": 9,
    "start_time": "2024-08-04T14:11:21.930Z"
   },
   {
    "duration": 6,
    "start_time": "2024-08-04T14:12:05.652Z"
   },
   {
    "duration": 98,
    "start_time": "2024-08-04T14:19:28.442Z"
   },
   {
    "duration": 20,
    "start_time": "2024-08-04T14:20:34.272Z"
   },
   {
    "duration": 23,
    "start_time": "2024-08-04T14:21:31.829Z"
   },
   {
    "duration": 22,
    "start_time": "2024-08-04T14:21:45.983Z"
   },
   {
    "duration": 1097,
    "start_time": "2024-08-04T15:06:20.393Z"
   },
   {
    "duration": 3,
    "start_time": "2024-08-04T15:06:21.492Z"
   },
   {
    "duration": 84,
    "start_time": "2024-08-04T15:06:21.497Z"
   },
   {
    "duration": 62,
    "start_time": "2024-08-04T15:06:21.583Z"
   },
   {
    "duration": 46,
    "start_time": "2024-08-04T15:06:21.647Z"
   },
   {
    "duration": 3,
    "start_time": "2024-08-04T15:06:21.694Z"
   },
   {
    "duration": 24,
    "start_time": "2024-08-04T15:06:21.699Z"
   },
   {
    "duration": 25,
    "start_time": "2024-08-04T15:06:21.725Z"
   },
   {
    "duration": 10,
    "start_time": "2024-08-04T15:06:21.752Z"
   },
   {
    "duration": 5,
    "start_time": "2024-08-04T15:06:21.763Z"
   },
   {
    "duration": 12,
    "start_time": "2024-08-04T15:06:21.770Z"
   },
   {
    "duration": 12,
    "start_time": "2024-08-04T15:06:21.784Z"
   },
   {
    "duration": 6,
    "start_time": "2024-08-04T15:06:21.798Z"
   },
   {
    "duration": 6,
    "start_time": "2024-08-04T15:06:21.807Z"
   },
   {
    "duration": 10,
    "start_time": "2024-08-04T15:06:21.815Z"
   },
   {
    "duration": 39,
    "start_time": "2024-08-04T15:06:21.827Z"
   },
   {
    "duration": 6,
    "start_time": "2024-08-04T15:06:21.868Z"
   },
   {
    "duration": 5,
    "start_time": "2024-08-04T15:06:21.875Z"
   },
   {
    "duration": 4,
    "start_time": "2024-08-04T15:06:21.882Z"
   },
   {
    "duration": 27,
    "start_time": "2024-08-04T15:06:21.888Z"
   },
   {
    "duration": 10,
    "start_time": "2024-08-04T15:06:21.916Z"
   },
   {
    "duration": 6,
    "start_time": "2024-08-04T15:06:21.928Z"
   },
   {
    "duration": 9,
    "start_time": "2024-08-04T15:06:21.965Z"
   },
   {
    "duration": 8,
    "start_time": "2024-08-04T15:06:21.976Z"
   },
   {
    "duration": 7,
    "start_time": "2024-08-04T15:06:21.985Z"
   },
   {
    "duration": 13,
    "start_time": "2024-08-04T15:06:21.994Z"
   },
   {
    "duration": 10,
    "start_time": "2024-08-04T15:06:22.009Z"
   },
   {
    "duration": 319,
    "start_time": "2024-08-04T15:06:22.021Z"
   },
   {
    "duration": 256,
    "start_time": "2024-08-04T15:06:22.342Z"
   },
   {
    "duration": 14,
    "start_time": "2024-08-04T15:06:22.600Z"
   },
   {
    "duration": 257,
    "start_time": "2024-08-04T15:06:22.616Z"
   },
   {
    "duration": 15,
    "start_time": "2024-08-04T15:06:22.874Z"
   },
   {
    "duration": 5,
    "start_time": "2024-08-04T15:06:22.890Z"
   },
   {
    "duration": 260,
    "start_time": "2024-08-04T15:06:22.896Z"
   },
   {
    "duration": 114,
    "start_time": "2024-08-04T15:06:23.158Z"
   },
   {
    "duration": 202,
    "start_time": "2024-08-04T15:06:23.273Z"
   },
   {
    "duration": 10,
    "start_time": "2024-08-04T15:06:23.476Z"
   },
   {
    "duration": 322,
    "start_time": "2024-08-04T15:06:23.487Z"
   },
   {
    "duration": 9,
    "start_time": "2024-08-04T15:06:23.810Z"
   },
   {
    "duration": 10,
    "start_time": "2024-08-04T15:06:23.820Z"
   },
   {
    "duration": 265,
    "start_time": "2024-08-04T15:06:23.835Z"
   },
   {
    "duration": 12,
    "start_time": "2024-08-04T15:06:24.102Z"
   },
   {
    "duration": 85,
    "start_time": "2024-08-04T15:06:24.115Z"
   },
   {
    "duration": 11,
    "start_time": "2024-08-04T15:06:24.202Z"
   },
   {
    "duration": 165,
    "start_time": "2024-08-04T15:06:24.215Z"
   },
   {
    "duration": 11,
    "start_time": "2024-08-04T15:06:24.381Z"
   },
   {
    "duration": 154,
    "start_time": "2024-08-04T15:06:24.394Z"
   },
   {
    "duration": 22,
    "start_time": "2024-08-04T15:06:24.550Z"
   },
   {
    "duration": 163,
    "start_time": "2024-08-04T15:06:24.574Z"
   },
   {
    "duration": 3,
    "start_time": "2024-08-04T15:06:24.738Z"
   },
   {
    "duration": 41,
    "start_time": "2024-08-04T15:06:24.742Z"
   },
   {
    "duration": 17,
    "start_time": "2024-08-04T15:06:24.784Z"
   },
   {
    "duration": 16,
    "start_time": "2024-08-04T15:06:24.802Z"
   },
   {
    "duration": 586,
    "start_time": "2024-08-04T15:06:24.820Z"
   },
   {
    "duration": 17,
    "start_time": "2024-08-04T15:06:25.408Z"
   },
   {
    "duration": 694,
    "start_time": "2024-08-04T15:06:25.427Z"
   },
   {
    "duration": 15,
    "start_time": "2024-08-04T15:06:26.123Z"
   },
   {
    "duration": 50,
    "start_time": "2024-08-04T15:06:26.140Z"
   },
   {
    "duration": 36,
    "start_time": "2024-08-04T15:06:26.192Z"
   },
   {
    "duration": 3,
    "start_time": "2024-08-04T15:06:26.230Z"
   },
   {
    "duration": 118,
    "start_time": "2024-08-04T15:06:26.235Z"
   },
   {
    "duration": 14,
    "start_time": "2024-08-04T15:06:26.354Z"
   },
   {
    "duration": 162,
    "start_time": "2024-08-04T15:06:26.369Z"
   },
   {
    "duration": 4,
    "start_time": "2024-08-04T15:06:26.532Z"
   },
   {
    "duration": 32,
    "start_time": "2024-08-04T15:06:26.537Z"
   },
   {
    "duration": 21,
    "start_time": "2024-08-04T15:06:26.571Z"
   },
   {
    "duration": 22,
    "start_time": "2024-08-04T15:24:36.430Z"
   },
   {
    "duration": 211,
    "start_time": "2024-08-04T15:46:08.079Z"
   },
   {
    "duration": 201,
    "start_time": "2024-08-04T15:46:33.922Z"
   },
   {
    "duration": 294,
    "start_time": "2024-08-04T15:47:25.875Z"
   },
   {
    "duration": 200,
    "start_time": "2024-08-04T15:48:00.793Z"
   },
   {
    "duration": 420,
    "start_time": "2024-08-04T15:48:27.315Z"
   },
   {
    "duration": 6,
    "start_time": "2024-08-04T15:57:31.818Z"
   },
   {
    "duration": 1202,
    "start_time": "2024-08-05T05:30:33.151Z"
   },
   {
    "duration": 4,
    "start_time": "2024-08-05T05:30:34.355Z"
   },
   {
    "duration": 65,
    "start_time": "2024-08-05T05:30:34.360Z"
   },
   {
    "duration": 67,
    "start_time": "2024-08-05T05:30:34.427Z"
   },
   {
    "duration": 40,
    "start_time": "2024-08-05T05:30:34.496Z"
   },
   {
    "duration": 4,
    "start_time": "2024-08-05T05:30:34.538Z"
   },
   {
    "duration": 26,
    "start_time": "2024-08-05T05:30:34.543Z"
   },
   {
    "duration": 29,
    "start_time": "2024-08-05T05:30:34.570Z"
   },
   {
    "duration": 10,
    "start_time": "2024-08-05T05:30:34.600Z"
   },
   {
    "duration": 36,
    "start_time": "2024-08-05T05:30:34.612Z"
   },
   {
    "duration": 6,
    "start_time": "2024-08-05T05:30:34.650Z"
   },
   {
    "duration": 12,
    "start_time": "2024-08-05T05:30:34.658Z"
   },
   {
    "duration": 7,
    "start_time": "2024-08-05T05:30:34.671Z"
   },
   {
    "duration": 10,
    "start_time": "2024-08-05T05:30:34.680Z"
   },
   {
    "duration": 17,
    "start_time": "2024-08-05T05:30:34.692Z"
   },
   {
    "duration": 14,
    "start_time": "2024-08-05T05:30:34.711Z"
   },
   {
    "duration": 14,
    "start_time": "2024-08-05T05:30:34.727Z"
   },
   {
    "duration": 7,
    "start_time": "2024-08-05T05:30:34.743Z"
   },
   {
    "duration": 9,
    "start_time": "2024-08-05T05:30:34.752Z"
   },
   {
    "duration": 61,
    "start_time": "2024-08-05T05:30:34.763Z"
   },
   {
    "duration": 13,
    "start_time": "2024-08-05T05:30:34.826Z"
   },
   {
    "duration": 17,
    "start_time": "2024-08-05T05:30:34.840Z"
   },
   {
    "duration": 12,
    "start_time": "2024-08-05T05:30:34.859Z"
   },
   {
    "duration": 18,
    "start_time": "2024-08-05T05:30:34.873Z"
   },
   {
    "duration": 26,
    "start_time": "2024-08-05T05:30:34.893Z"
   },
   {
    "duration": 24,
    "start_time": "2024-08-05T05:30:34.920Z"
   },
   {
    "duration": 11,
    "start_time": "2024-08-05T05:30:34.946Z"
   },
   {
    "duration": 328,
    "start_time": "2024-08-05T05:30:34.963Z"
   },
   {
    "duration": 298,
    "start_time": "2024-08-05T05:30:35.292Z"
   },
   {
    "duration": 25,
    "start_time": "2024-08-05T05:30:35.591Z"
   },
   {
    "duration": 289,
    "start_time": "2024-08-05T05:30:35.618Z"
   },
   {
    "duration": 16,
    "start_time": "2024-08-05T05:30:35.909Z"
   },
   {
    "duration": 5,
    "start_time": "2024-08-05T05:30:35.927Z"
   },
   {
    "duration": 305,
    "start_time": "2024-08-05T05:30:35.933Z"
   },
   {
    "duration": 127,
    "start_time": "2024-08-05T05:30:36.239Z"
   },
   {
    "duration": 216,
    "start_time": "2024-08-05T05:30:36.367Z"
   },
   {
    "duration": 20,
    "start_time": "2024-08-05T05:30:36.585Z"
   },
   {
    "duration": 306,
    "start_time": "2024-08-05T05:30:36.606Z"
   },
   {
    "duration": 10,
    "start_time": "2024-08-05T05:30:36.914Z"
   },
   {
    "duration": 9,
    "start_time": "2024-08-05T05:30:36.926Z"
   },
   {
    "duration": 294,
    "start_time": "2024-08-05T05:30:36.937Z"
   },
   {
    "duration": 12,
    "start_time": "2024-08-05T05:30:37.233Z"
   },
   {
    "duration": 18,
    "start_time": "2024-08-05T05:30:37.247Z"
   },
   {
    "duration": 16,
    "start_time": "2024-08-05T05:30:37.267Z"
   },
   {
    "duration": 213,
    "start_time": "2024-08-05T05:30:37.284Z"
   },
   {
    "duration": 14,
    "start_time": "2024-08-05T05:30:37.499Z"
   },
   {
    "duration": 183,
    "start_time": "2024-08-05T05:30:37.515Z"
   },
   {
    "duration": 13,
    "start_time": "2024-08-05T05:30:37.704Z"
   },
   {
    "duration": 199,
    "start_time": "2024-08-05T05:30:37.719Z"
   },
   {
    "duration": 3,
    "start_time": "2024-08-05T05:30:37.920Z"
   },
   {
    "duration": 37,
    "start_time": "2024-08-05T05:30:37.925Z"
   },
   {
    "duration": 20,
    "start_time": "2024-08-05T05:30:37.964Z"
   },
   {
    "duration": 38,
    "start_time": "2024-08-05T05:30:37.985Z"
   },
   {
    "duration": 614,
    "start_time": "2024-08-05T05:30:38.025Z"
   },
   {
    "duration": 16,
    "start_time": "2024-08-05T05:30:38.641Z"
   },
   {
    "duration": 705,
    "start_time": "2024-08-05T05:30:38.659Z"
   },
   {
    "duration": 16,
    "start_time": "2024-08-05T05:30:39.366Z"
   },
   {
    "duration": 29,
    "start_time": "2024-08-05T05:30:39.383Z"
   },
   {
    "duration": 36,
    "start_time": "2024-08-05T05:30:39.414Z"
   },
   {
    "duration": 3,
    "start_time": "2024-08-05T05:30:39.452Z"
   },
   {
    "duration": 153,
    "start_time": "2024-08-05T05:30:39.457Z"
   },
   {
    "duration": 14,
    "start_time": "2024-08-05T05:30:39.611Z"
   },
   {
    "duration": 179,
    "start_time": "2024-08-05T05:30:39.626Z"
   },
   {
    "duration": 3,
    "start_time": "2024-08-05T05:30:39.807Z"
   },
   {
    "duration": 26,
    "start_time": "2024-08-05T05:30:39.812Z"
   },
   {
    "duration": 258,
    "start_time": "2024-08-05T05:30:39.840Z"
   },
   {
    "duration": 391,
    "start_time": "2024-08-05T05:30:40.100Z"
   },
   {
    "duration": 28,
    "start_time": "2024-08-05T05:30:40.493Z"
   },
   {
    "duration": 6,
    "start_time": "2024-08-05T05:30:40.523Z"
   },
   {
    "duration": 1276,
    "start_time": "2024-08-05T15:25:45.017Z"
   },
   {
    "duration": 3,
    "start_time": "2024-08-05T15:25:46.295Z"
   },
   {
    "duration": 192,
    "start_time": "2024-08-05T15:25:46.299Z"
   },
   {
    "duration": 228,
    "start_time": "2024-08-05T15:25:46.492Z"
   },
   {
    "duration": 110,
    "start_time": "2024-08-05T15:25:46.721Z"
   },
   {
    "duration": 4,
    "start_time": "2024-08-05T15:25:46.832Z"
   },
   {
    "duration": 44,
    "start_time": "2024-08-05T15:25:46.837Z"
   },
   {
    "duration": 24,
    "start_time": "2024-08-05T15:25:46.883Z"
   },
   {
    "duration": 11,
    "start_time": "2024-08-05T15:25:46.908Z"
   },
   {
    "duration": 21,
    "start_time": "2024-08-05T15:25:46.922Z"
   },
   {
    "duration": 11,
    "start_time": "2024-08-05T15:25:46.944Z"
   },
   {
    "duration": 14,
    "start_time": "2024-08-05T15:25:46.956Z"
   },
   {
    "duration": 12,
    "start_time": "2024-08-05T15:25:46.971Z"
   },
   {
    "duration": 6,
    "start_time": "2024-08-05T15:25:46.985Z"
   },
   {
    "duration": 10,
    "start_time": "2024-08-05T15:25:46.992Z"
   },
   {
    "duration": 4,
    "start_time": "2024-08-05T15:25:47.004Z"
   },
   {
    "duration": 5,
    "start_time": "2024-08-05T15:25:47.009Z"
   },
   {
    "duration": 7,
    "start_time": "2024-08-05T15:25:47.016Z"
   },
   {
    "duration": 5,
    "start_time": "2024-08-05T15:25:47.024Z"
   },
   {
    "duration": 53,
    "start_time": "2024-08-05T15:25:47.031Z"
   },
   {
    "duration": 10,
    "start_time": "2024-08-05T15:25:47.085Z"
   },
   {
    "duration": 14,
    "start_time": "2024-08-05T15:25:47.097Z"
   },
   {
    "duration": 14,
    "start_time": "2024-08-05T15:25:47.112Z"
   },
   {
    "duration": 4,
    "start_time": "2024-08-05T15:25:47.128Z"
   },
   {
    "duration": 5,
    "start_time": "2024-08-05T15:25:47.133Z"
   },
   {
    "duration": 27,
    "start_time": "2024-08-05T15:25:47.140Z"
   },
   {
    "duration": 7,
    "start_time": "2024-08-05T15:25:47.169Z"
   },
   {
    "duration": 306,
    "start_time": "2024-08-05T15:25:47.184Z"
   },
   {
    "duration": 272,
    "start_time": "2024-08-05T15:25:47.492Z"
   },
   {
    "duration": 24,
    "start_time": "2024-08-05T15:25:47.766Z"
   },
   {
    "duration": 272,
    "start_time": "2024-08-05T15:25:47.792Z"
   },
   {
    "duration": 24,
    "start_time": "2024-08-05T15:25:48.066Z"
   },
   {
    "duration": 6,
    "start_time": "2024-08-05T15:25:48.091Z"
   },
   {
    "duration": 293,
    "start_time": "2024-08-05T15:25:48.098Z"
   },
   {
    "duration": 140,
    "start_time": "2024-08-05T15:25:48.393Z"
   },
   {
    "duration": 199,
    "start_time": "2024-08-05T15:25:48.534Z"
   },
   {
    "duration": 8,
    "start_time": "2024-08-05T15:25:48.734Z"
   },
   {
    "duration": 306,
    "start_time": "2024-08-05T15:25:48.743Z"
   },
   {
    "duration": 8,
    "start_time": "2024-08-05T15:25:49.051Z"
   },
   {
    "duration": 22,
    "start_time": "2024-08-05T15:25:49.062Z"
   },
   {
    "duration": 290,
    "start_time": "2024-08-05T15:25:49.085Z"
   },
   {
    "duration": 12,
    "start_time": "2024-08-05T15:25:49.376Z"
   },
   {
    "duration": 12,
    "start_time": "2024-08-05T15:25:49.390Z"
   },
   {
    "duration": 22,
    "start_time": "2024-08-05T15:25:49.404Z"
   },
   {
    "duration": 193,
    "start_time": "2024-08-05T15:25:49.428Z"
   },
   {
    "duration": 12,
    "start_time": "2024-08-05T15:25:49.623Z"
   },
   {
    "duration": 171,
    "start_time": "2024-08-05T15:25:49.637Z"
   },
   {
    "duration": 12,
    "start_time": "2024-08-05T15:25:49.810Z"
   },
   {
    "duration": 189,
    "start_time": "2024-08-05T15:25:49.823Z"
   },
   {
    "duration": 3,
    "start_time": "2024-08-05T15:25:50.014Z"
   },
   {
    "duration": 99,
    "start_time": "2024-08-05T15:25:50.018Z"
   },
   {
    "duration": 17,
    "start_time": "2024-08-05T15:25:50.119Z"
   },
   {
    "duration": 16,
    "start_time": "2024-08-05T15:25:50.138Z"
   },
   {
    "duration": 679,
    "start_time": "2024-08-05T15:25:50.156Z"
   },
   {
    "duration": 16,
    "start_time": "2024-08-05T15:25:50.836Z"
   },
   {
    "duration": 643,
    "start_time": "2024-08-05T15:25:50.854Z"
   },
   {
    "duration": 15,
    "start_time": "2024-08-05T15:25:51.498Z"
   },
   {
    "duration": 10,
    "start_time": "2024-08-05T15:25:51.515Z"
   },
   {
    "duration": 44,
    "start_time": "2024-08-05T15:25:51.526Z"
   },
   {
    "duration": 3,
    "start_time": "2024-08-05T15:25:51.583Z"
   },
   {
    "duration": 161,
    "start_time": "2024-08-05T15:25:51.588Z"
   },
   {
    "duration": 11,
    "start_time": "2024-08-05T15:25:51.751Z"
   },
   {
    "duration": 157,
    "start_time": "2024-08-05T15:25:51.764Z"
   },
   {
    "duration": 4,
    "start_time": "2024-08-05T15:25:51.922Z"
   },
   {
    "duration": 58,
    "start_time": "2024-08-05T15:25:51.928Z"
   },
   {
    "duration": 213,
    "start_time": "2024-08-05T15:25:51.987Z"
   },
   {
    "duration": 464,
    "start_time": "2024-08-05T15:25:52.202Z"
   },
   {
    "duration": 31,
    "start_time": "2024-08-05T15:25:52.668Z"
   },
   {
    "duration": 35,
    "start_time": "2024-08-05T15:25:52.700Z"
   },
   {
    "duration": 21,
    "start_time": "2024-08-05T15:40:37.722Z"
   },
   {
    "duration": 4,
    "start_time": "2024-08-05T15:46:27.086Z"
   },
   {
    "duration": 4,
    "start_time": "2024-08-05T15:46:34.382Z"
   },
   {
    "duration": 49,
    "start_time": "2024-08-05T15:48:07.239Z"
   },
   {
    "duration": 48,
    "start_time": "2024-08-05T16:17:32.613Z"
   },
   {
    "duration": 1284,
    "start_time": "2024-08-05T16:17:37.864Z"
   },
   {
    "duration": 3,
    "start_time": "2024-08-05T16:17:39.150Z"
   },
   {
    "duration": 136,
    "start_time": "2024-08-05T16:17:39.154Z"
   },
   {
    "duration": 201,
    "start_time": "2024-08-05T16:17:39.292Z"
   },
   {
    "duration": 95,
    "start_time": "2024-08-05T16:17:39.494Z"
   },
   {
    "duration": 4,
    "start_time": "2024-08-05T16:17:39.591Z"
   },
   {
    "duration": 25,
    "start_time": "2024-08-05T16:17:39.596Z"
   },
   {
    "duration": 25,
    "start_time": "2024-08-05T16:17:39.622Z"
   },
   {
    "duration": 8,
    "start_time": "2024-08-05T16:17:39.648Z"
   },
   {
    "duration": 6,
    "start_time": "2024-08-05T16:17:39.658Z"
   },
   {
    "duration": 5,
    "start_time": "2024-08-05T16:17:39.665Z"
   },
   {
    "duration": 35,
    "start_time": "2024-08-05T16:17:39.671Z"
   },
   {
    "duration": 5,
    "start_time": "2024-08-05T16:17:39.708Z"
   },
   {
    "duration": 7,
    "start_time": "2024-08-05T16:17:39.714Z"
   },
   {
    "duration": 14,
    "start_time": "2024-08-05T16:17:39.723Z"
   },
   {
    "duration": 4,
    "start_time": "2024-08-05T16:17:39.738Z"
   },
   {
    "duration": 61,
    "start_time": "2024-08-05T16:17:39.744Z"
   },
   {
    "duration": 5,
    "start_time": "2024-08-05T16:17:39.807Z"
   },
   {
    "duration": 4,
    "start_time": "2024-08-05T16:17:39.813Z"
   },
   {
    "duration": 29,
    "start_time": "2024-08-05T16:17:39.818Z"
   },
   {
    "duration": 9,
    "start_time": "2024-08-05T16:17:39.849Z"
   },
   {
    "duration": 5,
    "start_time": "2024-08-05T16:17:39.860Z"
   },
   {
    "duration": 32,
    "start_time": "2024-08-05T16:17:39.866Z"
   },
   {
    "duration": 3,
    "start_time": "2024-08-05T16:17:39.899Z"
   },
   {
    "duration": 4,
    "start_time": "2024-08-05T16:17:39.904Z"
   },
   {
    "duration": 10,
    "start_time": "2024-08-05T16:17:39.909Z"
   },
   {
    "duration": 7,
    "start_time": "2024-08-05T16:17:39.921Z"
   },
   {
    "duration": 308,
    "start_time": "2024-08-05T16:17:39.931Z"
   },
   {
    "duration": 265,
    "start_time": "2024-08-05T16:17:40.241Z"
   },
   {
    "duration": 15,
    "start_time": "2024-08-05T16:17:40.508Z"
   },
   {
    "duration": 273,
    "start_time": "2024-08-05T16:17:40.525Z"
   },
   {
    "duration": 14,
    "start_time": "2024-08-05T16:17:40.799Z"
   },
   {
    "duration": 5,
    "start_time": "2024-08-05T16:17:40.815Z"
   },
   {
    "duration": 267,
    "start_time": "2024-08-05T16:17:40.821Z"
   },
   {
    "duration": 118,
    "start_time": "2024-08-05T16:17:41.090Z"
   },
   {
    "duration": 214,
    "start_time": "2024-08-05T16:17:41.209Z"
   },
   {
    "duration": 7,
    "start_time": "2024-08-05T16:17:41.424Z"
   },
   {
    "duration": 399,
    "start_time": "2024-08-05T16:17:41.432Z"
   },
   {
    "duration": 7,
    "start_time": "2024-08-05T16:17:41.833Z"
   },
   {
    "duration": 7,
    "start_time": "2024-08-05T16:17:41.842Z"
   },
   {
    "duration": 271,
    "start_time": "2024-08-05T16:17:41.850Z"
   },
   {
    "duration": 12,
    "start_time": "2024-08-05T16:17:42.122Z"
   },
   {
    "duration": 19,
    "start_time": "2024-08-05T16:17:42.136Z"
   },
   {
    "duration": 10,
    "start_time": "2024-08-05T16:17:42.157Z"
   },
   {
    "duration": 185,
    "start_time": "2024-08-05T16:17:42.169Z"
   },
   {
    "duration": 13,
    "start_time": "2024-08-05T16:17:42.355Z"
   },
   {
    "duration": 198,
    "start_time": "2024-08-05T16:17:42.369Z"
   },
   {
    "duration": 0,
    "start_time": "2024-08-05T16:17:42.569Z"
   },
   {
    "duration": 0,
    "start_time": "2024-08-05T16:17:42.570Z"
   },
   {
    "duration": 0,
    "start_time": "2024-08-05T16:17:42.571Z"
   },
   {
    "duration": 0,
    "start_time": "2024-08-05T16:17:42.572Z"
   },
   {
    "duration": 0,
    "start_time": "2024-08-05T16:17:42.574Z"
   },
   {
    "duration": 0,
    "start_time": "2024-08-05T16:17:42.575Z"
   },
   {
    "duration": 0,
    "start_time": "2024-08-05T16:17:42.576Z"
   },
   {
    "duration": 0,
    "start_time": "2024-08-05T16:17:42.577Z"
   },
   {
    "duration": 0,
    "start_time": "2024-08-05T16:17:42.577Z"
   },
   {
    "duration": 0,
    "start_time": "2024-08-05T16:17:42.578Z"
   },
   {
    "duration": 0,
    "start_time": "2024-08-05T16:17:42.579Z"
   },
   {
    "duration": 0,
    "start_time": "2024-08-05T16:17:42.596Z"
   },
   {
    "duration": 0,
    "start_time": "2024-08-05T16:17:42.597Z"
   },
   {
    "duration": 0,
    "start_time": "2024-08-05T16:17:42.598Z"
   },
   {
    "duration": 0,
    "start_time": "2024-08-05T16:17:42.599Z"
   },
   {
    "duration": 0,
    "start_time": "2024-08-05T16:17:42.600Z"
   },
   {
    "duration": 0,
    "start_time": "2024-08-05T16:17:42.602Z"
   },
   {
    "duration": 0,
    "start_time": "2024-08-05T16:17:42.604Z"
   },
   {
    "duration": 0,
    "start_time": "2024-08-05T16:17:42.605Z"
   },
   {
    "duration": 0,
    "start_time": "2024-08-05T16:17:42.606Z"
   },
   {
    "duration": 0,
    "start_time": "2024-08-05T16:17:42.608Z"
   },
   {
    "duration": 0,
    "start_time": "2024-08-05T16:17:42.610Z"
   },
   {
    "duration": 9,
    "start_time": "2024-08-05T16:18:41.349Z"
   },
   {
    "duration": 81,
    "start_time": "2024-08-05T16:19:21.563Z"
   },
   {
    "duration": 151,
    "start_time": "2024-08-05T16:20:02.092Z"
   },
   {
    "duration": 82,
    "start_time": "2024-08-05T16:20:04.030Z"
   },
   {
    "duration": 1118,
    "start_time": "2024-08-05T16:21:10.069Z"
   },
   {
    "duration": 7,
    "start_time": "2024-08-05T16:21:11.189Z"
   },
   {
    "duration": 57,
    "start_time": "2024-08-05T16:21:11.198Z"
   },
   {
    "duration": 51,
    "start_time": "2024-08-05T16:21:11.257Z"
   },
   {
    "duration": 43,
    "start_time": "2024-08-05T16:21:11.310Z"
   },
   {
    "duration": 4,
    "start_time": "2024-08-05T16:21:11.354Z"
   },
   {
    "duration": 25,
    "start_time": "2024-08-05T16:21:11.359Z"
   },
   {
    "duration": 26,
    "start_time": "2024-08-05T16:21:11.385Z"
   },
   {
    "duration": 9,
    "start_time": "2024-08-05T16:21:11.412Z"
   },
   {
    "duration": 4,
    "start_time": "2024-08-05T16:21:11.424Z"
   },
   {
    "duration": 6,
    "start_time": "2024-08-05T16:21:11.430Z"
   },
   {
    "duration": 13,
    "start_time": "2024-08-05T16:21:11.437Z"
   },
   {
    "duration": 6,
    "start_time": "2024-08-05T16:21:11.451Z"
   },
   {
    "duration": 7,
    "start_time": "2024-08-05T16:21:11.495Z"
   },
   {
    "duration": 14,
    "start_time": "2024-08-05T16:21:11.503Z"
   },
   {
    "duration": 17,
    "start_time": "2024-08-05T16:21:11.518Z"
   },
   {
    "duration": 4,
    "start_time": "2024-08-05T16:21:11.537Z"
   },
   {
    "duration": 11,
    "start_time": "2024-08-05T16:21:11.542Z"
   },
   {
    "duration": 10,
    "start_time": "2024-08-05T16:21:11.554Z"
   },
   {
    "duration": 29,
    "start_time": "2024-08-05T16:21:11.565Z"
   },
   {
    "duration": 9,
    "start_time": "2024-08-05T16:21:11.596Z"
   },
   {
    "duration": 12,
    "start_time": "2024-08-05T16:21:11.606Z"
   },
   {
    "duration": 14,
    "start_time": "2024-08-05T16:21:11.619Z"
   },
   {
    "duration": 6,
    "start_time": "2024-08-05T16:21:11.634Z"
   },
   {
    "duration": 8,
    "start_time": "2024-08-05T16:21:11.642Z"
   },
   {
    "duration": 13,
    "start_time": "2024-08-05T16:21:11.651Z"
   },
   {
    "duration": 8,
    "start_time": "2024-08-05T16:21:11.666Z"
   },
   {
    "duration": 303,
    "start_time": "2024-08-05T16:21:11.679Z"
   },
   {
    "duration": 254,
    "start_time": "2024-08-05T16:21:11.984Z"
   },
   {
    "duration": 17,
    "start_time": "2024-08-05T16:21:12.239Z"
   },
   {
    "duration": 271,
    "start_time": "2024-08-05T16:21:12.258Z"
   },
   {
    "duration": 15,
    "start_time": "2024-08-05T16:21:12.531Z"
   },
   {
    "duration": 5,
    "start_time": "2024-08-05T16:21:12.548Z"
   },
   {
    "duration": 256,
    "start_time": "2024-08-05T16:21:12.555Z"
   },
   {
    "duration": 121,
    "start_time": "2024-08-05T16:21:12.813Z"
   },
   {
    "duration": 201,
    "start_time": "2024-08-05T16:21:12.936Z"
   },
   {
    "duration": 9,
    "start_time": "2024-08-05T16:21:13.138Z"
   },
   {
    "duration": 264,
    "start_time": "2024-08-05T16:21:13.149Z"
   },
   {
    "duration": 7,
    "start_time": "2024-08-05T16:21:13.414Z"
   },
   {
    "duration": 8,
    "start_time": "2024-08-05T16:21:13.422Z"
   },
   {
    "duration": 291,
    "start_time": "2024-08-05T16:21:13.431Z"
   },
   {
    "duration": 12,
    "start_time": "2024-08-05T16:21:13.723Z"
   },
   {
    "duration": 68,
    "start_time": "2024-08-05T16:21:13.736Z"
   },
   {
    "duration": 11,
    "start_time": "2024-08-05T16:21:13.806Z"
   },
   {
    "duration": 380,
    "start_time": "2024-08-05T16:21:13.818Z"
   },
   {
    "duration": 10,
    "start_time": "2024-08-05T16:21:14.200Z"
   },
   {
    "duration": 315,
    "start_time": "2024-08-05T16:21:14.212Z"
   },
   {
    "duration": 183,
    "start_time": "2024-08-05T16:21:14.528Z"
   },
   {
    "duration": 11,
    "start_time": "2024-08-05T16:21:14.712Z"
   },
   {
    "duration": 314,
    "start_time": "2024-08-05T16:21:14.724Z"
   },
   {
    "duration": 2,
    "start_time": "2024-08-05T16:21:15.040Z"
   },
   {
    "duration": 57,
    "start_time": "2024-08-05T16:21:15.043Z"
   },
   {
    "duration": 16,
    "start_time": "2024-08-05T16:21:15.102Z"
   },
   {
    "duration": 22,
    "start_time": "2024-08-05T16:21:15.119Z"
   },
   {
    "duration": 580,
    "start_time": "2024-08-05T16:21:15.142Z"
   },
   {
    "duration": 15,
    "start_time": "2024-08-05T16:21:15.723Z"
   },
   {
    "duration": 652,
    "start_time": "2024-08-05T16:21:15.739Z"
   },
   {
    "duration": 15,
    "start_time": "2024-08-05T16:21:16.392Z"
   },
   {
    "duration": 91,
    "start_time": "2024-08-05T16:21:16.408Z"
   },
   {
    "duration": 32,
    "start_time": "2024-08-05T16:21:16.500Z"
   },
   {
    "duration": 2,
    "start_time": "2024-08-05T16:21:16.534Z"
   },
   {
    "duration": 130,
    "start_time": "2024-08-05T16:21:16.538Z"
   },
   {
    "duration": 12,
    "start_time": "2024-08-05T16:21:16.669Z"
   },
   {
    "duration": 152,
    "start_time": "2024-08-05T16:21:16.682Z"
   },
   {
    "duration": 4,
    "start_time": "2024-08-05T16:21:16.835Z"
   },
   {
    "duration": 16,
    "start_time": "2024-08-05T16:21:16.840Z"
   },
   {
    "duration": 225,
    "start_time": "2024-08-05T16:21:16.857Z"
   },
   {
    "duration": 469,
    "start_time": "2024-08-05T16:21:17.083Z"
   },
   {
    "duration": 20,
    "start_time": "2024-08-05T16:21:17.553Z"
   },
   {
    "duration": 5,
    "start_time": "2024-08-05T16:21:17.575Z"
   },
   {
    "duration": 17298,
    "start_time": "2024-08-05T16:22:28.524Z"
   },
   {
    "duration": 164,
    "start_time": "2024-08-05T16:23:25.148Z"
   },
   {
    "duration": 258,
    "start_time": "2024-08-05T16:23:35.596Z"
   },
   {
    "duration": 289,
    "start_time": "2024-08-05T16:24:15.456Z"
   },
   {
    "duration": 254,
    "start_time": "2024-08-05T16:24:34.195Z"
   },
   {
    "duration": 494,
    "start_time": "2024-08-05T16:24:47.065Z"
   },
   {
    "duration": 3,
    "start_time": "2024-08-05T16:27:57.269Z"
   },
   {
    "duration": 33,
    "start_time": "2024-08-05T16:27:57.995Z"
   },
   {
    "duration": 220,
    "start_time": "2024-08-05T16:35:17.398Z"
   },
   {
    "duration": 427,
    "start_time": "2024-08-05T16:35:26.844Z"
   },
   {
    "duration": 27,
    "start_time": "2024-08-05T16:39:23.810Z"
   },
   {
    "duration": 254,
    "start_time": "2024-08-05T16:56:45.852Z"
   },
   {
    "duration": 5,
    "start_time": "2024-08-05T16:57:38.495Z"
   },
   {
    "duration": 5,
    "start_time": "2024-08-05T17:00:44.008Z"
   },
   {
    "duration": 1614,
    "start_time": "2024-08-05T17:02:42.408Z"
   },
   {
    "duration": 3,
    "start_time": "2024-08-05T17:02:44.023Z"
   },
   {
    "duration": 57,
    "start_time": "2024-08-05T17:02:44.028Z"
   },
   {
    "duration": 54,
    "start_time": "2024-08-05T17:02:44.087Z"
   },
   {
    "duration": 41,
    "start_time": "2024-08-05T17:02:44.142Z"
   },
   {
    "duration": 3,
    "start_time": "2024-08-05T17:02:44.185Z"
   },
   {
    "duration": 26,
    "start_time": "2024-08-05T17:02:44.190Z"
   },
   {
    "duration": 26,
    "start_time": "2024-08-05T17:02:44.218Z"
   },
   {
    "duration": 9,
    "start_time": "2024-08-05T17:02:44.246Z"
   },
   {
    "duration": 4,
    "start_time": "2024-08-05T17:02:44.258Z"
   },
   {
    "duration": 6,
    "start_time": "2024-08-05T17:02:44.263Z"
   },
   {
    "duration": 12,
    "start_time": "2024-08-05T17:02:44.296Z"
   },
   {
    "duration": 6,
    "start_time": "2024-08-05T17:02:44.309Z"
   },
   {
    "duration": 7,
    "start_time": "2024-08-05T17:02:44.316Z"
   },
   {
    "duration": 9,
    "start_time": "2024-08-05T17:02:44.325Z"
   },
   {
    "duration": 4,
    "start_time": "2024-08-05T17:02:44.335Z"
   },
   {
    "duration": 7,
    "start_time": "2024-08-05T17:02:44.341Z"
   },
   {
    "duration": 4,
    "start_time": "2024-08-05T17:02:44.350Z"
   },
   {
    "duration": 41,
    "start_time": "2024-08-05T17:02:44.355Z"
   },
   {
    "duration": 31,
    "start_time": "2024-08-05T17:02:44.398Z"
   },
   {
    "duration": 11,
    "start_time": "2024-08-05T17:02:44.431Z"
   },
   {
    "duration": 5,
    "start_time": "2024-08-05T17:02:44.444Z"
   },
   {
    "duration": 10,
    "start_time": "2024-08-05T17:02:44.450Z"
   },
   {
    "duration": 3,
    "start_time": "2024-08-05T17:02:44.461Z"
   },
   {
    "duration": 4,
    "start_time": "2024-08-05T17:02:44.466Z"
   },
   {
    "duration": 31,
    "start_time": "2024-08-05T17:02:44.472Z"
   },
   {
    "duration": 11,
    "start_time": "2024-08-05T17:02:44.505Z"
   },
   {
    "duration": 311,
    "start_time": "2024-08-05T17:02:44.520Z"
   },
   {
    "duration": 270,
    "start_time": "2024-08-05T17:02:44.833Z"
   },
   {
    "duration": 14,
    "start_time": "2024-08-05T17:02:45.105Z"
   },
   {
    "duration": 300,
    "start_time": "2024-08-05T17:02:45.121Z"
   },
   {
    "duration": 15,
    "start_time": "2024-08-05T17:02:45.423Z"
   },
   {
    "duration": 5,
    "start_time": "2024-08-05T17:02:45.439Z"
   },
   {
    "duration": 314,
    "start_time": "2024-08-05T17:02:45.446Z"
   },
   {
    "duration": 128,
    "start_time": "2024-08-05T17:02:45.762Z"
   },
   {
    "duration": 209,
    "start_time": "2024-08-05T17:02:45.892Z"
   },
   {
    "duration": 7,
    "start_time": "2024-08-05T17:02:46.103Z"
   },
   {
    "duration": 319,
    "start_time": "2024-08-05T17:02:46.112Z"
   },
   {
    "duration": 7,
    "start_time": "2024-08-05T17:02:46.433Z"
   },
   {
    "duration": 7,
    "start_time": "2024-08-05T17:02:46.441Z"
   },
   {
    "duration": 283,
    "start_time": "2024-08-05T17:02:46.450Z"
   },
   {
    "duration": 11,
    "start_time": "2024-08-05T17:02:46.734Z"
   },
   {
    "duration": 12,
    "start_time": "2024-08-05T17:02:46.747Z"
   },
   {
    "duration": 11,
    "start_time": "2024-08-05T17:02:46.760Z"
   },
   {
    "duration": 194,
    "start_time": "2024-08-05T17:02:46.772Z"
   },
   {
    "duration": 11,
    "start_time": "2024-08-05T17:02:46.967Z"
   },
   {
    "duration": 167,
    "start_time": "2024-08-05T17:02:46.980Z"
   },
   {
    "duration": 97,
    "start_time": "2024-08-05T17:02:47.149Z"
   },
   {
    "duration": 13,
    "start_time": "2024-08-05T17:02:47.248Z"
   },
   {
    "duration": 290,
    "start_time": "2024-08-05T17:02:47.262Z"
   },
   {
    "duration": 184,
    "start_time": "2024-08-05T17:02:47.553Z"
   },
   {
    "duration": 2,
    "start_time": "2024-08-05T17:02:47.739Z"
   },
   {
    "duration": 39,
    "start_time": "2024-08-05T17:02:47.742Z"
   },
   {
    "duration": 24,
    "start_time": "2024-08-05T17:02:47.782Z"
   },
   {
    "duration": 116,
    "start_time": "2024-08-05T17:02:47.808Z"
   },
   {
    "duration": 555,
    "start_time": "2024-08-05T17:02:47.926Z"
   },
   {
    "duration": 19,
    "start_time": "2024-08-05T17:02:48.483Z"
   },
   {
    "duration": 575,
    "start_time": "2024-08-05T17:02:48.503Z"
   },
   {
    "duration": 23,
    "start_time": "2024-08-05T17:02:49.079Z"
   },
   {
    "duration": 11,
    "start_time": "2024-08-05T17:02:49.103Z"
   },
   {
    "duration": 3,
    "start_time": "2024-08-05T17:02:49.115Z"
   },
   {
    "duration": 38,
    "start_time": "2024-08-05T17:02:49.119Z"
   },
   {
    "duration": 3,
    "start_time": "2024-08-05T17:02:49.158Z"
   },
   {
    "duration": 137,
    "start_time": "2024-08-05T17:02:49.163Z"
   },
   {
    "duration": 12,
    "start_time": "2024-08-05T17:02:49.302Z"
   },
   {
    "duration": 165,
    "start_time": "2024-08-05T17:02:49.315Z"
   },
   {
    "duration": 3,
    "start_time": "2024-08-05T17:02:49.482Z"
   },
   {
    "duration": 20,
    "start_time": "2024-08-05T17:02:49.487Z"
   },
   {
    "duration": 231,
    "start_time": "2024-08-05T17:02:49.508Z"
   },
   {
    "duration": 424,
    "start_time": "2024-08-05T17:02:49.740Z"
   },
   {
    "duration": 22,
    "start_time": "2024-08-05T17:02:50.165Z"
   },
   {
    "duration": 5,
    "start_time": "2024-08-05T17:02:50.196Z"
   },
   {
    "duration": 241,
    "start_time": "2024-08-05T17:02:50.202Z"
   },
   {
    "duration": 5,
    "start_time": "2024-08-05T17:02:50.445Z"
   },
   {
    "duration": 34,
    "start_time": "2024-08-05T17:02:50.452Z"
   },
   {
    "duration": 1128,
    "start_time": "2024-08-05T17:03:19.016Z"
   },
   {
    "duration": 2,
    "start_time": "2024-08-05T17:03:20.146Z"
   },
   {
    "duration": 15,
    "start_time": "2024-08-05T17:03:20.149Z"
   },
   {
    "duration": 57,
    "start_time": "2024-08-05T17:03:20.166Z"
   },
   {
    "duration": 192,
    "start_time": "2024-08-05T17:03:20.225Z"
   },
   {
    "duration": 39,
    "start_time": "2024-08-05T17:03:20.419Z"
   },
   {
    "duration": 12,
    "start_time": "2024-08-05T17:03:20.460Z"
   },
   {
    "duration": 46,
    "start_time": "2024-08-05T17:03:20.473Z"
   },
   {
    "duration": 42,
    "start_time": "2024-08-05T17:03:20.521Z"
   },
   {
    "duration": 9,
    "start_time": "2024-08-05T17:03:20.565Z"
   },
   {
    "duration": 110,
    "start_time": "2024-08-05T17:03:20.575Z"
   },
   {
    "duration": 6,
    "start_time": "2024-08-05T17:03:20.686Z"
   },
   {
    "duration": 14,
    "start_time": "2024-08-05T17:03:20.693Z"
   },
   {
    "duration": 5,
    "start_time": "2024-08-05T17:03:20.708Z"
   },
   {
    "duration": 8,
    "start_time": "2024-08-05T17:03:20.715Z"
   },
   {
    "duration": 18,
    "start_time": "2024-08-05T17:03:20.725Z"
   },
   {
    "duration": 10,
    "start_time": "2024-08-05T17:03:20.744Z"
   },
   {
    "duration": 23,
    "start_time": "2024-08-05T17:03:20.755Z"
   },
   {
    "duration": 5,
    "start_time": "2024-08-05T17:03:20.779Z"
   },
   {
    "duration": 4,
    "start_time": "2024-08-05T17:03:20.785Z"
   },
   {
    "duration": 28,
    "start_time": "2024-08-05T17:03:20.795Z"
   },
   {
    "duration": 12,
    "start_time": "2024-08-05T17:03:20.825Z"
   },
   {
    "duration": 10,
    "start_time": "2024-08-05T17:03:20.838Z"
   },
   {
    "duration": 9,
    "start_time": "2024-08-05T17:03:20.850Z"
   },
   {
    "duration": 4,
    "start_time": "2024-08-05T17:03:20.860Z"
   },
   {
    "duration": 6,
    "start_time": "2024-08-05T17:03:20.865Z"
   },
   {
    "duration": 29,
    "start_time": "2024-08-05T17:03:20.873Z"
   },
   {
    "duration": 28,
    "start_time": "2024-08-05T17:03:20.906Z"
   },
   {
    "duration": 295,
    "start_time": "2024-08-05T17:03:20.935Z"
   },
   {
    "duration": 264,
    "start_time": "2024-08-05T17:03:21.232Z"
   },
   {
    "duration": 14,
    "start_time": "2024-08-05T17:03:21.498Z"
   },
   {
    "duration": 264,
    "start_time": "2024-08-05T17:03:21.514Z"
   },
   {
    "duration": 22,
    "start_time": "2024-08-05T17:03:21.780Z"
   },
   {
    "duration": 5,
    "start_time": "2024-08-05T17:03:21.804Z"
   },
   {
    "duration": 266,
    "start_time": "2024-08-05T17:03:21.810Z"
   },
   {
    "duration": 121,
    "start_time": "2024-08-05T17:03:22.078Z"
   },
   {
    "duration": 197,
    "start_time": "2024-08-05T17:03:22.201Z"
   },
   {
    "duration": 8,
    "start_time": "2024-08-05T17:03:22.400Z"
   },
   {
    "duration": 287,
    "start_time": "2024-08-05T17:03:22.409Z"
   },
   {
    "duration": 8,
    "start_time": "2024-08-05T17:03:22.697Z"
   },
   {
    "duration": 8,
    "start_time": "2024-08-05T17:03:22.706Z"
   },
   {
    "duration": 283,
    "start_time": "2024-08-05T17:03:22.715Z"
   },
   {
    "duration": 12,
    "start_time": "2024-08-05T17:03:23.000Z"
   },
   {
    "duration": 15,
    "start_time": "2024-08-05T17:03:23.013Z"
   },
   {
    "duration": 13,
    "start_time": "2024-08-05T17:03:23.029Z"
   },
   {
    "duration": 205,
    "start_time": "2024-08-05T17:03:23.043Z"
   },
   {
    "duration": 12,
    "start_time": "2024-08-05T17:03:23.249Z"
   },
   {
    "duration": 184,
    "start_time": "2024-08-05T17:03:23.263Z"
   },
   {
    "duration": 103,
    "start_time": "2024-08-05T17:03:23.449Z"
   },
   {
    "duration": 11,
    "start_time": "2024-08-05T17:03:23.554Z"
   },
   {
    "duration": 323,
    "start_time": "2024-08-05T17:03:23.567Z"
   },
   {
    "duration": 181,
    "start_time": "2024-08-05T17:03:23.897Z"
   },
   {
    "duration": 3,
    "start_time": "2024-08-05T17:03:24.080Z"
   },
   {
    "duration": 33,
    "start_time": "2024-08-05T17:03:24.096Z"
   },
   {
    "duration": 18,
    "start_time": "2024-08-05T17:03:24.131Z"
   },
   {
    "duration": 108,
    "start_time": "2024-08-05T17:03:24.150Z"
   },
   {
    "duration": 582,
    "start_time": "2024-08-05T17:03:24.259Z"
   },
   {
    "duration": 15,
    "start_time": "2024-08-05T17:03:24.843Z"
   },
   {
    "duration": 602,
    "start_time": "2024-08-05T17:03:24.860Z"
   },
   {
    "duration": 32,
    "start_time": "2024-08-05T17:03:25.464Z"
   },
   {
    "duration": 17,
    "start_time": "2024-08-05T17:03:25.498Z"
   },
   {
    "duration": 5,
    "start_time": "2024-08-05T17:03:25.517Z"
   },
   {
    "duration": 57,
    "start_time": "2024-08-05T17:03:25.524Z"
   },
   {
    "duration": 3,
    "start_time": "2024-08-05T17:03:25.583Z"
   },
   {
    "duration": 149,
    "start_time": "2024-08-05T17:03:25.588Z"
   },
   {
    "duration": 13,
    "start_time": "2024-08-05T17:03:25.739Z"
   },
   {
    "duration": 168,
    "start_time": "2024-08-05T17:03:25.753Z"
   },
   {
    "duration": 4,
    "start_time": "2024-08-05T17:03:25.923Z"
   },
   {
    "duration": 18,
    "start_time": "2024-08-05T17:03:25.928Z"
   },
   {
    "duration": 234,
    "start_time": "2024-08-05T17:03:25.947Z"
   },
   {
    "duration": 395,
    "start_time": "2024-08-05T17:03:26.184Z"
   },
   {
    "duration": 25,
    "start_time": "2024-08-05T17:03:26.581Z"
   },
   {
    "duration": 102,
    "start_time": "2024-08-05T17:03:26.607Z"
   },
   {
    "duration": 241,
    "start_time": "2024-08-05T17:03:26.710Z"
   },
   {
    "duration": 5,
    "start_time": "2024-08-05T17:03:26.953Z"
   },
   {
    "duration": 49,
    "start_time": "2024-08-05T17:03:26.960Z"
   },
   {
    "duration": 193,
    "start_time": "2024-08-05T17:09:37.359Z"
   },
   {
    "duration": 307,
    "start_time": "2024-08-05T17:11:41.119Z"
   },
   {
    "duration": 249,
    "start_time": "2024-08-05T17:11:48.974Z"
   },
   {
    "duration": 248,
    "start_time": "2024-08-05T17:11:57.163Z"
   },
   {
    "duration": 7,
    "start_time": "2024-08-05T17:12:40.552Z"
   },
   {
    "duration": 212,
    "start_time": "2024-08-05T17:13:26.332Z"
   },
   {
    "duration": 57,
    "start_time": "2024-08-05T17:15:44.908Z"
   },
   {
    "duration": 117,
    "start_time": "2024-08-05T17:15:49.777Z"
   },
   {
    "duration": 17,
    "start_time": "2024-08-05T17:16:09.286Z"
   },
   {
    "duration": 700,
    "start_time": "2024-08-05T17:16:52.356Z"
   },
   {
    "duration": 16,
    "start_time": "2024-08-05T17:17:12.676Z"
   },
   {
    "duration": 18,
    "start_time": "2024-08-05T17:17:21.989Z"
   },
   {
    "duration": 20,
    "start_time": "2024-08-05T17:17:28.363Z"
   },
   {
    "duration": 6,
    "start_time": "2024-08-05T17:17:31.357Z"
   },
   {
    "duration": 137,
    "start_time": "2024-08-05T17:17:50.443Z"
   },
   {
    "duration": 63,
    "start_time": "2024-08-05T17:18:10.824Z"
   },
   {
    "duration": 52,
    "start_time": "2024-08-05T17:18:24.197Z"
   },
   {
    "duration": 245,
    "start_time": "2024-08-05T17:18:43.976Z"
   },
   {
    "duration": 132,
    "start_time": "2024-08-05T17:21:38.164Z"
   },
   {
    "duration": 14,
    "start_time": "2024-08-05T17:22:22.287Z"
   },
   {
    "duration": 13,
    "start_time": "2024-08-05T17:22:32.153Z"
   },
   {
    "duration": 15,
    "start_time": "2024-08-05T17:22:56.717Z"
   },
   {
    "duration": 12,
    "start_time": "2024-08-05T17:23:02.137Z"
   },
   {
    "duration": 22,
    "start_time": "2024-08-05T17:23:45.481Z"
   },
   {
    "duration": 17,
    "start_time": "2024-08-05T17:23:55.906Z"
   },
   {
    "duration": 15,
    "start_time": "2024-08-05T17:25:18.447Z"
   },
   {
    "duration": 104,
    "start_time": "2024-08-05T17:26:31.101Z"
   },
   {
    "duration": 15,
    "start_time": "2024-08-05T17:26:45.819Z"
   },
   {
    "duration": 15,
    "start_time": "2024-08-05T17:27:16.459Z"
   },
   {
    "duration": 14,
    "start_time": "2024-08-05T17:27:29.527Z"
   },
   {
    "duration": 137,
    "start_time": "2024-08-05T17:27:54.140Z"
   },
   {
    "duration": 55,
    "start_time": "2024-08-05T17:28:05.564Z"
   },
   {
    "duration": 142,
    "start_time": "2024-08-05T17:28:16.014Z"
   },
   {
    "duration": 143,
    "start_time": "2024-08-05T17:29:21.525Z"
   },
   {
    "duration": 57,
    "start_time": "2024-08-05T17:31:57.106Z"
   },
   {
    "duration": 4,
    "start_time": "2024-08-05T17:43:04.938Z"
   },
   {
    "duration": 5,
    "start_time": "2024-08-05T17:43:25.923Z"
   },
   {
    "duration": 52,
    "start_time": "2024-08-05T17:46:02.938Z"
   },
   {
    "duration": 6,
    "start_time": "2024-08-05T17:46:16.347Z"
   },
   {
    "duration": 6,
    "start_time": "2024-08-05T17:46:29.786Z"
   },
   {
    "duration": 6,
    "start_time": "2024-08-05T17:46:47.858Z"
   },
   {
    "duration": 7,
    "start_time": "2024-08-05T17:48:38.175Z"
   },
   {
    "duration": 7,
    "start_time": "2024-08-05T17:48:48.206Z"
   },
   {
    "duration": 7,
    "start_time": "2024-08-05T17:48:59.338Z"
   },
   {
    "duration": 1137,
    "start_time": "2024-08-05T17:54:13.274Z"
   },
   {
    "duration": 3,
    "start_time": "2024-08-05T17:54:14.413Z"
   },
   {
    "duration": 6,
    "start_time": "2024-08-05T17:54:14.417Z"
   },
   {
    "duration": 65,
    "start_time": "2024-08-05T17:54:14.425Z"
   },
   {
    "duration": 55,
    "start_time": "2024-08-05T17:54:14.491Z"
   },
   {
    "duration": 48,
    "start_time": "2024-08-05T17:54:14.547Z"
   },
   {
    "duration": 3,
    "start_time": "2024-08-05T17:54:14.597Z"
   },
   {
    "duration": 26,
    "start_time": "2024-08-05T17:54:14.602Z"
   },
   {
    "duration": 29,
    "start_time": "2024-08-05T17:54:14.629Z"
   },
   {
    "duration": 36,
    "start_time": "2024-08-05T17:54:14.661Z"
   },
   {
    "duration": 5,
    "start_time": "2024-08-05T17:54:14.699Z"
   },
   {
    "duration": 6,
    "start_time": "2024-08-05T17:54:14.706Z"
   },
   {
    "duration": 13,
    "start_time": "2024-08-05T17:54:14.714Z"
   },
   {
    "duration": 6,
    "start_time": "2024-08-05T17:54:14.729Z"
   },
   {
    "duration": 28,
    "start_time": "2024-08-05T17:54:14.737Z"
   },
   {
    "duration": 98,
    "start_time": "2024-08-05T17:54:14.767Z"
   },
   {
    "duration": 5,
    "start_time": "2024-08-05T17:54:14.866Z"
   },
   {
    "duration": 6,
    "start_time": "2024-08-05T17:54:14.873Z"
   },
   {
    "duration": 9,
    "start_time": "2024-08-05T17:54:14.881Z"
   },
   {
    "duration": 8,
    "start_time": "2024-08-05T17:54:14.892Z"
   },
   {
    "duration": 32,
    "start_time": "2024-08-05T17:54:14.901Z"
   },
   {
    "duration": 10,
    "start_time": "2024-08-05T17:54:14.935Z"
   },
   {
    "duration": 10,
    "start_time": "2024-08-05T17:54:14.946Z"
   },
   {
    "duration": 19,
    "start_time": "2024-08-05T17:54:14.958Z"
   },
   {
    "duration": 12,
    "start_time": "2024-08-05T17:54:14.979Z"
   },
   {
    "duration": 10,
    "start_time": "2024-08-05T17:54:14.993Z"
   },
   {
    "duration": 11,
    "start_time": "2024-08-05T17:54:15.004Z"
   },
   {
    "duration": 21,
    "start_time": "2024-08-05T17:54:15.019Z"
   },
   {
    "duration": 375,
    "start_time": "2024-08-05T17:54:15.042Z"
   },
   {
    "duration": 315,
    "start_time": "2024-08-05T17:54:15.419Z"
   },
   {
    "duration": 17,
    "start_time": "2024-08-05T17:54:15.735Z"
   },
   {
    "duration": 308,
    "start_time": "2024-08-05T17:54:15.754Z"
   },
   {
    "duration": 32,
    "start_time": "2024-08-05T17:54:16.064Z"
   },
   {
    "duration": 6,
    "start_time": "2024-08-05T17:54:16.098Z"
   },
   {
    "duration": 278,
    "start_time": "2024-08-05T17:54:16.105Z"
   },
   {
    "duration": 131,
    "start_time": "2024-08-05T17:54:16.385Z"
   },
   {
    "duration": 210,
    "start_time": "2024-08-05T17:54:16.518Z"
   },
   {
    "duration": 8,
    "start_time": "2024-08-05T17:54:16.730Z"
   },
   {
    "duration": 352,
    "start_time": "2024-08-05T17:54:16.740Z"
   },
   {
    "duration": 8,
    "start_time": "2024-08-05T17:54:17.096Z"
   },
   {
    "duration": 14,
    "start_time": "2024-08-05T17:54:17.105Z"
   },
   {
    "duration": 275,
    "start_time": "2024-08-05T17:54:17.121Z"
   },
   {
    "duration": 13,
    "start_time": "2024-08-05T17:54:17.397Z"
   },
   {
    "duration": 16,
    "start_time": "2024-08-05T17:54:17.412Z"
   },
   {
    "duration": 14,
    "start_time": "2024-08-05T17:54:17.429Z"
   },
   {
    "duration": 214,
    "start_time": "2024-08-05T17:54:17.445Z"
   },
   {
    "duration": 12,
    "start_time": "2024-08-05T17:54:17.661Z"
   },
   {
    "duration": 176,
    "start_time": "2024-08-05T17:54:17.674Z"
   },
   {
    "duration": 102,
    "start_time": "2024-08-05T17:54:17.852Z"
   },
   {
    "duration": 12,
    "start_time": "2024-08-05T17:54:17.956Z"
   },
   {
    "duration": 294,
    "start_time": "2024-08-05T17:54:17.969Z"
   },
   {
    "duration": 186,
    "start_time": "2024-08-05T17:54:18.265Z"
   },
   {
    "duration": 3,
    "start_time": "2024-08-05T17:54:18.452Z"
   },
   {
    "duration": 44,
    "start_time": "2024-08-05T17:54:18.456Z"
   },
   {
    "duration": 18,
    "start_time": "2024-08-05T17:54:18.501Z"
   },
   {
    "duration": 113,
    "start_time": "2024-08-05T17:54:18.520Z"
   },
   {
    "duration": 581,
    "start_time": "2024-08-05T17:54:18.635Z"
   },
   {
    "duration": 16,
    "start_time": "2024-08-05T17:54:19.217Z"
   },
   {
    "duration": 586,
    "start_time": "2024-08-05T17:54:19.234Z"
   },
   {
    "duration": 15,
    "start_time": "2024-08-05T17:54:19.821Z"
   },
   {
    "duration": 17,
    "start_time": "2024-08-05T17:54:19.838Z"
   },
   {
    "duration": 8,
    "start_time": "2024-08-05T17:54:19.856Z"
   },
   {
    "duration": 52,
    "start_time": "2024-08-05T17:54:19.865Z"
   },
   {
    "duration": 4,
    "start_time": "2024-08-05T17:54:19.918Z"
   },
   {
    "duration": 141,
    "start_time": "2024-08-05T17:54:19.923Z"
   },
   {
    "duration": 12,
    "start_time": "2024-08-05T17:54:20.066Z"
   },
   {
    "duration": 168,
    "start_time": "2024-08-05T17:54:20.079Z"
   },
   {
    "duration": 4,
    "start_time": "2024-08-05T17:54:20.248Z"
   },
   {
    "duration": 22,
    "start_time": "2024-08-05T17:54:20.253Z"
   },
   {
    "duration": 245,
    "start_time": "2024-08-05T17:54:20.277Z"
   },
   {
    "duration": 459,
    "start_time": "2024-08-05T17:54:20.523Z"
   },
   {
    "duration": 26,
    "start_time": "2024-08-05T17:54:20.984Z"
   },
   {
    "duration": 5,
    "start_time": "2024-08-05T17:54:21.012Z"
   },
   {
    "duration": 270,
    "start_time": "2024-08-05T17:54:21.019Z"
   },
   {
    "duration": 8,
    "start_time": "2024-08-05T17:54:21.290Z"
   },
   {
    "duration": 15,
    "start_time": "2024-08-05T17:54:21.299Z"
   },
   {
    "duration": 14,
    "start_time": "2024-08-05T17:54:21.315Z"
   },
   {
    "duration": 168,
    "start_time": "2024-08-05T17:54:21.330Z"
   },
   {
    "duration": 254,
    "start_time": "2024-08-05T17:54:21.499Z"
   },
   {
    "duration": 7,
    "start_time": "2024-08-05T17:54:21.755Z"
   },
   {
    "duration": 58,
    "start_time": "2024-08-05T17:54:21.763Z"
   },
   {
    "duration": 103,
    "start_time": "2024-08-05T18:23:34.274Z"
   },
   {
    "duration": 1143,
    "start_time": "2024-08-05T18:24:16.461Z"
   },
   {
    "duration": 3,
    "start_time": "2024-08-05T18:24:17.605Z"
   },
   {
    "duration": 26,
    "start_time": "2024-08-05T18:24:17.609Z"
   },
   {
    "duration": 60,
    "start_time": "2024-08-05T18:24:17.637Z"
   },
   {
    "duration": 53,
    "start_time": "2024-08-05T18:24:17.698Z"
   },
   {
    "duration": 42,
    "start_time": "2024-08-05T18:24:17.753Z"
   },
   {
    "duration": 3,
    "start_time": "2024-08-05T18:24:17.797Z"
   },
   {
    "duration": 26,
    "start_time": "2024-08-05T18:24:17.802Z"
   },
   {
    "duration": 27,
    "start_time": "2024-08-05T18:24:17.829Z"
   },
   {
    "duration": 10,
    "start_time": "2024-08-05T18:24:17.858Z"
   },
   {
    "duration": 30,
    "start_time": "2024-08-05T18:24:17.869Z"
   },
   {
    "duration": 12,
    "start_time": "2024-08-05T18:24:17.901Z"
   },
   {
    "duration": 14,
    "start_time": "2024-08-05T18:24:17.915Z"
   },
   {
    "duration": 6,
    "start_time": "2024-08-05T18:24:17.930Z"
   },
   {
    "duration": 6,
    "start_time": "2024-08-05T18:24:17.938Z"
   },
   {
    "duration": 10,
    "start_time": "2024-08-05T18:24:17.946Z"
   },
   {
    "duration": 4,
    "start_time": "2024-08-05T18:24:17.958Z"
   },
   {
    "duration": 4,
    "start_time": "2024-08-05T18:24:17.996Z"
   },
   {
    "duration": 7,
    "start_time": "2024-08-05T18:24:18.002Z"
   },
   {
    "duration": 4,
    "start_time": "2024-08-05T18:24:18.011Z"
   },
   {
    "duration": 31,
    "start_time": "2024-08-05T18:24:18.016Z"
   },
   {
    "duration": 10,
    "start_time": "2024-08-05T18:24:18.049Z"
   },
   {
    "duration": 14,
    "start_time": "2024-08-05T18:24:18.060Z"
   },
   {
    "duration": 28,
    "start_time": "2024-08-05T18:24:18.075Z"
   },
   {
    "duration": 5,
    "start_time": "2024-08-05T18:24:18.105Z"
   },
   {
    "duration": 4,
    "start_time": "2024-08-05T18:24:18.112Z"
   },
   {
    "duration": 10,
    "start_time": "2024-08-05T18:24:18.118Z"
   },
   {
    "duration": 7,
    "start_time": "2024-08-05T18:24:18.133Z"
   },
   {
    "duration": 331,
    "start_time": "2024-08-05T18:24:18.141Z"
   },
   {
    "duration": 275,
    "start_time": "2024-08-05T18:24:18.474Z"
   },
   {
    "duration": 16,
    "start_time": "2024-08-05T18:24:18.750Z"
   },
   {
    "duration": 287,
    "start_time": "2024-08-05T18:24:18.768Z"
   },
   {
    "duration": 15,
    "start_time": "2024-08-05T18:24:19.057Z"
   },
   {
    "duration": 5,
    "start_time": "2024-08-05T18:24:19.073Z"
   },
   {
    "duration": 271,
    "start_time": "2024-08-05T18:24:19.079Z"
   },
   {
    "duration": 124,
    "start_time": "2024-08-05T18:24:19.352Z"
   },
   {
    "duration": 207,
    "start_time": "2024-08-05T18:24:19.478Z"
   },
   {
    "duration": 16,
    "start_time": "2024-08-05T18:24:19.686Z"
   },
   {
    "duration": 288,
    "start_time": "2024-08-05T18:24:19.703Z"
   },
   {
    "duration": 8,
    "start_time": "2024-08-05T18:24:19.995Z"
   },
   {
    "duration": 7,
    "start_time": "2024-08-05T18:24:20.004Z"
   },
   {
    "duration": 286,
    "start_time": "2024-08-05T18:24:20.012Z"
   },
   {
    "duration": 14,
    "start_time": "2024-08-05T18:24:20.299Z"
   },
   {
    "duration": 15,
    "start_time": "2024-08-05T18:24:20.314Z"
   },
   {
    "duration": 13,
    "start_time": "2024-08-05T18:24:20.330Z"
   },
   {
    "duration": 206,
    "start_time": "2024-08-05T18:24:20.345Z"
   },
   {
    "duration": 11,
    "start_time": "2024-08-05T18:24:20.553Z"
   },
   {
    "duration": 172,
    "start_time": "2024-08-05T18:24:20.565Z"
   },
   {
    "duration": 98,
    "start_time": "2024-08-05T18:24:20.739Z"
   },
   {
    "duration": 12,
    "start_time": "2024-08-05T18:24:20.839Z"
   },
   {
    "duration": 323,
    "start_time": "2024-08-05T18:24:20.852Z"
   },
   {
    "duration": 179,
    "start_time": "2024-08-05T18:24:21.176Z"
   },
   {
    "duration": 2,
    "start_time": "2024-08-05T18:24:21.357Z"
   },
   {
    "duration": 46,
    "start_time": "2024-08-05T18:24:21.361Z"
   },
   {
    "duration": 16,
    "start_time": "2024-08-05T18:24:21.409Z"
   },
   {
    "duration": 114,
    "start_time": "2024-08-05T18:24:21.427Z"
   },
   {
    "duration": 563,
    "start_time": "2024-08-05T18:24:21.542Z"
   },
   {
    "duration": 15,
    "start_time": "2024-08-05T18:24:22.106Z"
   },
   {
    "duration": 582,
    "start_time": "2024-08-05T18:24:22.123Z"
   },
   {
    "duration": 15,
    "start_time": "2024-08-05T18:24:22.707Z"
   },
   {
    "duration": 11,
    "start_time": "2024-08-05T18:24:22.724Z"
   },
   {
    "duration": 4,
    "start_time": "2024-08-05T18:24:22.736Z"
   },
   {
    "duration": 60,
    "start_time": "2024-08-05T18:24:22.741Z"
   },
   {
    "duration": 3,
    "start_time": "2024-08-05T18:24:22.803Z"
   },
   {
    "duration": 132,
    "start_time": "2024-08-05T18:24:22.807Z"
   },
   {
    "duration": 13,
    "start_time": "2024-08-05T18:24:22.941Z"
   },
   {
    "duration": 166,
    "start_time": "2024-08-05T18:24:22.956Z"
   },
   {
    "duration": 3,
    "start_time": "2024-08-05T18:24:23.124Z"
   },
   {
    "duration": 15,
    "start_time": "2024-08-05T18:24:23.129Z"
   },
   {
    "duration": 251,
    "start_time": "2024-08-05T18:24:23.145Z"
   },
   {
    "duration": 379,
    "start_time": "2024-08-05T18:24:23.398Z"
   },
   {
    "duration": 26,
    "start_time": "2024-08-05T18:24:23.779Z"
   },
   {
    "duration": 10,
    "start_time": "2024-08-05T18:24:23.806Z"
   },
   {
    "duration": 262,
    "start_time": "2024-08-05T18:24:23.818Z"
   },
   {
    "duration": 5,
    "start_time": "2024-08-05T18:24:24.081Z"
   },
   {
    "duration": 17,
    "start_time": "2024-08-05T18:24:24.096Z"
   },
   {
    "duration": 14,
    "start_time": "2024-08-05T18:24:24.115Z"
   },
   {
    "duration": 161,
    "start_time": "2024-08-05T18:24:24.130Z"
   },
   {
    "duration": 258,
    "start_time": "2024-08-05T18:24:24.292Z"
   },
   {
    "duration": 6,
    "start_time": "2024-08-05T18:24:24.552Z"
   },
   {
    "duration": 41,
    "start_time": "2024-08-05T18:24:24.559Z"
   },
   {
    "duration": 135,
    "start_time": "2024-08-05T18:24:24.605Z"
   },
   {
    "duration": 273,
    "start_time": "2024-08-05T18:26:11.168Z"
   },
   {
    "duration": 42,
    "start_time": "2024-08-05T18:26:32.351Z"
   },
   {
    "duration": 24,
    "start_time": "2024-08-05T18:27:11.724Z"
   },
   {
    "duration": 43,
    "start_time": "2024-08-05T18:27:12.496Z"
   },
   {
    "duration": 10,
    "start_time": "2024-08-05T18:30:33.801Z"
   },
   {
    "duration": 272,
    "start_time": "2024-08-05T18:30:46.201Z"
   },
   {
    "duration": 25,
    "start_time": "2024-08-05T18:32:14.594Z"
   },
   {
    "duration": 37,
    "start_time": "2024-08-05T18:32:24.955Z"
   },
   {
    "duration": 261,
    "start_time": "2024-08-05T18:32:26.518Z"
   },
   {
    "duration": 9,
    "start_time": "2024-08-05T18:42:46.670Z"
   },
   {
    "duration": 1202,
    "start_time": "2024-08-05T18:43:23.471Z"
   },
   {
    "duration": 4,
    "start_time": "2024-08-05T18:43:24.675Z"
   },
   {
    "duration": 8,
    "start_time": "2024-08-05T18:43:24.681Z"
   },
   {
    "duration": 82,
    "start_time": "2024-08-05T18:43:24.697Z"
   },
   {
    "duration": 57,
    "start_time": "2024-08-05T18:43:24.781Z"
   },
   {
    "duration": 44,
    "start_time": "2024-08-05T18:43:24.840Z"
   },
   {
    "duration": 4,
    "start_time": "2024-08-05T18:43:24.886Z"
   },
   {
    "duration": 31,
    "start_time": "2024-08-05T18:43:24.891Z"
   },
   {
    "duration": 27,
    "start_time": "2024-08-05T18:43:24.924Z"
   },
   {
    "duration": 9,
    "start_time": "2024-08-05T18:43:24.954Z"
   },
   {
    "duration": 79,
    "start_time": "2024-08-05T18:43:24.965Z"
   },
   {
    "duration": 48,
    "start_time": "2024-08-05T18:43:25.046Z"
   },
   {
    "duration": 21,
    "start_time": "2024-08-05T18:43:25.095Z"
   },
   {
    "duration": 9,
    "start_time": "2024-08-05T18:43:25.117Z"
   },
   {
    "duration": 7,
    "start_time": "2024-08-05T18:43:25.127Z"
   },
   {
    "duration": 10,
    "start_time": "2024-08-05T18:43:25.135Z"
   },
   {
    "duration": 4,
    "start_time": "2024-08-05T18:43:25.146Z"
   },
   {
    "duration": 5,
    "start_time": "2024-08-05T18:43:25.152Z"
   },
   {
    "duration": 6,
    "start_time": "2024-08-05T18:43:25.158Z"
   },
   {
    "duration": 31,
    "start_time": "2024-08-05T18:43:25.165Z"
   },
   {
    "duration": 29,
    "start_time": "2024-08-05T18:43:25.197Z"
   },
   {
    "duration": 11,
    "start_time": "2024-08-05T18:43:25.227Z"
   },
   {
    "duration": 8,
    "start_time": "2024-08-05T18:43:25.239Z"
   },
   {
    "duration": 10,
    "start_time": "2024-08-05T18:43:25.248Z"
   },
   {
    "duration": 3,
    "start_time": "2024-08-05T18:43:25.260Z"
   },
   {
    "duration": 10,
    "start_time": "2024-08-05T18:43:25.264Z"
   },
   {
    "duration": 12,
    "start_time": "2024-08-05T18:43:25.296Z"
   },
   {
    "duration": 7,
    "start_time": "2024-08-05T18:43:25.312Z"
   },
   {
    "duration": 369,
    "start_time": "2024-08-05T18:43:25.321Z"
   },
   {
    "duration": 279,
    "start_time": "2024-08-05T18:43:25.696Z"
   },
   {
    "duration": 26,
    "start_time": "2024-08-05T18:43:25.977Z"
   },
   {
    "duration": 279,
    "start_time": "2024-08-05T18:43:26.004Z"
   },
   {
    "duration": 22,
    "start_time": "2024-08-05T18:43:26.285Z"
   },
   {
    "duration": 27,
    "start_time": "2024-08-05T18:43:26.309Z"
   },
   {
    "duration": 254,
    "start_time": "2024-08-05T18:43:26.337Z"
   },
   {
    "duration": 129,
    "start_time": "2024-08-05T18:43:26.596Z"
   },
   {
    "duration": 206,
    "start_time": "2024-08-05T18:43:26.727Z"
   },
   {
    "duration": 9,
    "start_time": "2024-08-05T18:43:26.935Z"
   },
   {
    "duration": 365,
    "start_time": "2024-08-05T18:43:26.945Z"
   },
   {
    "duration": 8,
    "start_time": "2024-08-05T18:43:27.312Z"
   },
   {
    "duration": 7,
    "start_time": "2024-08-05T18:43:27.321Z"
   },
   {
    "duration": 283,
    "start_time": "2024-08-05T18:43:27.330Z"
   },
   {
    "duration": 12,
    "start_time": "2024-08-05T18:43:27.614Z"
   },
   {
    "duration": 13,
    "start_time": "2024-08-05T18:43:27.628Z"
   },
   {
    "duration": 24,
    "start_time": "2024-08-05T18:43:27.642Z"
   },
   {
    "duration": 189,
    "start_time": "2024-08-05T18:43:27.668Z"
   },
   {
    "duration": 13,
    "start_time": "2024-08-05T18:43:27.858Z"
   },
   {
    "duration": 173,
    "start_time": "2024-08-05T18:43:27.873Z"
   },
   {
    "duration": 102,
    "start_time": "2024-08-05T18:43:28.047Z"
   },
   {
    "duration": 11,
    "start_time": "2024-08-05T18:43:28.150Z"
   },
   {
    "duration": 287,
    "start_time": "2024-08-05T18:43:28.163Z"
   },
   {
    "duration": 184,
    "start_time": "2024-08-05T18:43:28.452Z"
   },
   {
    "duration": 3,
    "start_time": "2024-08-05T18:43:28.637Z"
   },
   {
    "duration": 33,
    "start_time": "2024-08-05T18:43:28.641Z"
   },
   {
    "duration": 31,
    "start_time": "2024-08-05T18:43:28.675Z"
   },
   {
    "duration": 116,
    "start_time": "2024-08-05T18:43:28.707Z"
   },
   {
    "duration": 583,
    "start_time": "2024-08-05T18:43:28.825Z"
   },
   {
    "duration": 15,
    "start_time": "2024-08-05T18:43:29.409Z"
   },
   {
    "duration": 573,
    "start_time": "2024-08-05T18:43:29.426Z"
   },
   {
    "duration": 18,
    "start_time": "2024-08-05T18:43:30.000Z"
   },
   {
    "duration": 11,
    "start_time": "2024-08-05T18:43:30.019Z"
   },
   {
    "duration": 3,
    "start_time": "2024-08-05T18:43:30.032Z"
   },
   {
    "duration": 64,
    "start_time": "2024-08-05T18:43:30.037Z"
   },
   {
    "duration": 14,
    "start_time": "2024-08-05T18:43:30.103Z"
   },
   {
    "duration": 155,
    "start_time": "2024-08-05T18:43:30.119Z"
   },
   {
    "duration": 22,
    "start_time": "2024-08-05T18:43:30.275Z"
   },
   {
    "duration": 211,
    "start_time": "2024-08-05T18:43:30.298Z"
   },
   {
    "duration": 4,
    "start_time": "2024-08-05T18:43:30.510Z"
   },
   {
    "duration": 55,
    "start_time": "2024-08-05T18:43:30.515Z"
   },
   {
    "duration": 249,
    "start_time": "2024-08-05T18:43:30.571Z"
   },
   {
    "duration": 456,
    "start_time": "2024-08-05T18:43:30.821Z"
   },
   {
    "duration": 25,
    "start_time": "2024-08-05T18:43:31.278Z"
   },
   {
    "duration": 20,
    "start_time": "2024-08-05T18:43:31.305Z"
   },
   {
    "duration": 265,
    "start_time": "2024-08-05T18:43:31.326Z"
   },
   {
    "duration": 5,
    "start_time": "2024-08-05T18:43:31.596Z"
   },
   {
    "duration": 25,
    "start_time": "2024-08-05T18:43:31.602Z"
   },
   {
    "duration": 23,
    "start_time": "2024-08-05T18:43:31.629Z"
   },
   {
    "duration": 152,
    "start_time": "2024-08-05T18:43:31.653Z"
   },
   {
    "duration": 252,
    "start_time": "2024-08-05T18:43:31.807Z"
   },
   {
    "duration": 6,
    "start_time": "2024-08-05T18:43:32.061Z"
   },
   {
    "duration": 34,
    "start_time": "2024-08-05T18:43:32.069Z"
   },
   {
    "duration": 269,
    "start_time": "2024-08-05T18:43:32.108Z"
   },
   {
    "duration": 5,
    "start_time": "2024-08-05T18:43:32.378Z"
   },
   {
    "duration": 5,
    "start_time": "2024-08-05T18:46:51.333Z"
   },
   {
    "duration": 6,
    "start_time": "2024-08-05T18:46:59.663Z"
   },
   {
    "duration": 212,
    "start_time": "2024-08-05T18:51:43.702Z"
   },
   {
    "duration": 36062,
    "start_time": "2024-08-05T18:52:41.530Z"
   },
   {
    "duration": 4,
    "start_time": "2024-08-05T18:54:14.056Z"
   },
   {
    "duration": 10,
    "start_time": "2024-08-05T18:58:58.988Z"
   },
   {
    "duration": 520,
    "start_time": "2024-08-05T18:59:07.257Z"
   },
   {
    "duration": 13,
    "start_time": "2024-08-05T19:03:20.477Z"
   },
   {
    "duration": 1124,
    "start_time": "2024-08-05T19:06:14.855Z"
   },
   {
    "duration": 218,
    "start_time": "2024-08-05T19:06:39.637Z"
   },
   {
    "duration": 345,
    "start_time": "2024-08-05T19:06:47.738Z"
   },
   {
    "duration": 16,
    "start_time": "2024-08-05T19:08:47.533Z"
   },
   {
    "duration": 848,
    "start_time": "2024-08-05T19:09:45.876Z"
   },
   {
    "duration": 968,
    "start_time": "2024-08-05T19:10:24.268Z"
   },
   {
    "duration": 447,
    "start_time": "2024-08-05T19:11:16.911Z"
   },
   {
    "duration": 829,
    "start_time": "2024-08-05T19:11:53.456Z"
   },
   {
    "duration": 396,
    "start_time": "2024-08-05T19:12:01.280Z"
   },
   {
    "duration": 55,
    "start_time": "2024-08-06T15:43:27.858Z"
   },
   {
    "duration": 1492,
    "start_time": "2024-08-06T16:24:31.269Z"
   },
   {
    "duration": 3,
    "start_time": "2024-08-06T16:24:32.763Z"
   },
   {
    "duration": 23,
    "start_time": "2024-08-06T16:24:32.768Z"
   },
   {
    "duration": 139,
    "start_time": "2024-08-06T16:24:32.793Z"
   },
   {
    "duration": 213,
    "start_time": "2024-08-06T16:24:32.936Z"
   },
   {
    "duration": 106,
    "start_time": "2024-08-06T16:24:33.151Z"
   },
   {
    "duration": 4,
    "start_time": "2024-08-06T16:24:33.259Z"
   },
   {
    "duration": 40,
    "start_time": "2024-08-06T16:24:33.264Z"
   },
   {
    "duration": 41,
    "start_time": "2024-08-06T16:24:33.306Z"
   },
   {
    "duration": 11,
    "start_time": "2024-08-06T16:24:33.349Z"
   },
   {
    "duration": 5,
    "start_time": "2024-08-06T16:24:33.362Z"
   },
   {
    "duration": 6,
    "start_time": "2024-08-06T16:24:33.368Z"
   },
   {
    "duration": 13,
    "start_time": "2024-08-06T16:24:33.376Z"
   },
   {
    "duration": 35,
    "start_time": "2024-08-06T16:24:33.393Z"
   },
   {
    "duration": 14,
    "start_time": "2024-08-06T16:24:33.432Z"
   },
   {
    "duration": 12,
    "start_time": "2024-08-06T16:24:33.448Z"
   },
   {
    "duration": 5,
    "start_time": "2024-08-06T16:24:33.462Z"
   },
   {
    "duration": 6,
    "start_time": "2024-08-06T16:24:33.468Z"
   },
   {
    "duration": 52,
    "start_time": "2024-08-06T16:24:33.476Z"
   },
   {
    "duration": 7,
    "start_time": "2024-08-06T16:24:33.531Z"
   },
   {
    "duration": 35,
    "start_time": "2024-08-06T16:24:33.541Z"
   },
   {
    "duration": 12,
    "start_time": "2024-08-06T16:24:33.577Z"
   },
   {
    "duration": 42,
    "start_time": "2024-08-06T16:24:33.590Z"
   },
   {
    "duration": 15,
    "start_time": "2024-08-06T16:24:33.635Z"
   },
   {
    "duration": 9,
    "start_time": "2024-08-06T16:24:33.652Z"
   },
   {
    "duration": 7,
    "start_time": "2024-08-06T16:24:33.663Z"
   },
   {
    "duration": 13,
    "start_time": "2024-08-06T16:24:33.672Z"
   },
   {
    "duration": 37,
    "start_time": "2024-08-06T16:24:33.687Z"
   },
   {
    "duration": 387,
    "start_time": "2024-08-06T16:24:33.727Z"
   },
   {
    "duration": 361,
    "start_time": "2024-08-06T16:24:34.116Z"
   },
   {
    "duration": 17,
    "start_time": "2024-08-06T16:24:34.479Z"
   },
   {
    "duration": 328,
    "start_time": "2024-08-06T16:24:34.498Z"
   },
   {
    "duration": 27,
    "start_time": "2024-08-06T16:24:34.828Z"
   },
   {
    "duration": 6,
    "start_time": "2024-08-06T16:24:34.856Z"
   },
   {
    "duration": 335,
    "start_time": "2024-08-06T16:24:34.863Z"
   },
   {
    "duration": 167,
    "start_time": "2024-08-06T16:24:35.200Z"
   },
   {
    "duration": 232,
    "start_time": "2024-08-06T16:24:35.369Z"
   },
   {
    "duration": 8,
    "start_time": "2024-08-06T16:24:35.603Z"
   },
   {
    "duration": 369,
    "start_time": "2024-08-06T16:24:35.612Z"
   },
   {
    "duration": 8,
    "start_time": "2024-08-06T16:24:35.983Z"
   },
   {
    "duration": 9,
    "start_time": "2024-08-06T16:24:35.996Z"
   },
   {
    "duration": 357,
    "start_time": "2024-08-06T16:24:36.006Z"
   },
   {
    "duration": 14,
    "start_time": "2024-08-06T16:24:36.364Z"
   },
   {
    "duration": 16,
    "start_time": "2024-08-06T16:24:36.380Z"
   },
   {
    "duration": 44,
    "start_time": "2024-08-06T16:24:36.397Z"
   },
   {
    "duration": 236,
    "start_time": "2024-08-06T16:24:36.444Z"
   },
   {
    "duration": 13,
    "start_time": "2024-08-06T16:24:36.682Z"
   },
   {
    "duration": 216,
    "start_time": "2024-08-06T16:24:36.697Z"
   },
   {
    "duration": 127,
    "start_time": "2024-08-06T16:24:36.915Z"
   },
   {
    "duration": 13,
    "start_time": "2024-08-06T16:24:37.046Z"
   },
   {
    "duration": 333,
    "start_time": "2024-08-06T16:24:37.061Z"
   },
   {
    "duration": 222,
    "start_time": "2024-08-06T16:24:37.396Z"
   },
   {
    "duration": 6,
    "start_time": "2024-08-06T16:24:37.624Z"
   },
   {
    "duration": 37,
    "start_time": "2024-08-06T16:24:37.632Z"
   },
   {
    "duration": 19,
    "start_time": "2024-08-06T16:24:37.671Z"
   },
   {
    "duration": 157,
    "start_time": "2024-08-06T16:24:37.692Z"
   },
   {
    "duration": 728,
    "start_time": "2024-08-06T16:24:37.851Z"
   },
   {
    "duration": 22,
    "start_time": "2024-08-06T16:24:38.581Z"
   },
   {
    "duration": 690,
    "start_time": "2024-08-06T16:24:38.605Z"
   },
   {
    "duration": 17,
    "start_time": "2024-08-06T16:24:39.296Z"
   },
   {
    "duration": 30,
    "start_time": "2024-08-06T16:24:39.314Z"
   },
   {
    "duration": 4,
    "start_time": "2024-08-06T16:24:39.347Z"
   },
   {
    "duration": 43,
    "start_time": "2024-08-06T16:24:39.352Z"
   },
   {
    "duration": 3,
    "start_time": "2024-08-06T16:24:39.397Z"
   },
   {
    "duration": 192,
    "start_time": "2024-08-06T16:24:39.402Z"
   },
   {
    "duration": 33,
    "start_time": "2024-08-06T16:24:39.596Z"
   },
   {
    "duration": 202,
    "start_time": "2024-08-06T16:24:39.631Z"
   },
   {
    "duration": 6,
    "start_time": "2024-08-06T16:24:39.836Z"
   },
   {
    "duration": 17,
    "start_time": "2024-08-06T16:24:39.844Z"
   },
   {
    "duration": 300,
    "start_time": "2024-08-06T16:24:39.863Z"
   },
   {
    "duration": 657,
    "start_time": "2024-08-06T16:24:40.164Z"
   },
   {
    "duration": 25,
    "start_time": "2024-08-06T16:24:40.826Z"
   },
   {
    "duration": 6,
    "start_time": "2024-08-06T16:24:40.854Z"
   },
   {
    "duration": 315,
    "start_time": "2024-08-06T16:24:40.861Z"
   },
   {
    "duration": 6,
    "start_time": "2024-08-06T16:24:41.178Z"
   },
   {
    "duration": 65,
    "start_time": "2024-08-06T16:24:41.186Z"
   },
   {
    "duration": 16,
    "start_time": "2024-08-06T16:24:41.253Z"
   },
   {
    "duration": 196,
    "start_time": "2024-08-06T16:24:41.271Z"
   },
   {
    "duration": 307,
    "start_time": "2024-08-06T16:24:41.469Z"
   },
   {
    "duration": 6,
    "start_time": "2024-08-06T16:24:41.778Z"
   },
   {
    "duration": 48,
    "start_time": "2024-08-06T16:24:41.786Z"
   },
   {
    "duration": 303,
    "start_time": "2024-08-06T16:24:41.838Z"
   },
   {
    "duration": 6,
    "start_time": "2024-08-06T16:24:42.143Z"
   },
   {
    "duration": 82,
    "start_time": "2024-08-06T16:24:42.151Z"
   },
   {
    "duration": 23,
    "start_time": "2024-08-06T16:36:45.811Z"
   },
   {
    "duration": 269,
    "start_time": "2024-08-06T16:37:26.402Z"
   },
   {
    "duration": 284,
    "start_time": "2024-08-06T16:37:53.864Z"
   },
   {
    "duration": 9,
    "start_time": "2024-08-06T16:43:10.622Z"
   },
   {
    "duration": 117,
    "start_time": "2024-08-06T16:43:51.740Z"
   },
   {
    "duration": 14,
    "start_time": "2024-08-06T16:44:08.511Z"
   },
   {
    "duration": 61,
    "start_time": "2024-08-06T16:45:32.251Z"
   },
   {
    "duration": 112,
    "start_time": "2024-08-06T16:46:07.919Z"
   },
   {
    "duration": 101,
    "start_time": "2024-08-06T16:54:38.540Z"
   },
   {
    "duration": 22,
    "start_time": "2024-08-06T16:57:10.164Z"
   },
   {
    "duration": 66,
    "start_time": "2024-08-06T16:58:34.041Z"
   },
   {
    "duration": 9,
    "start_time": "2024-08-06T16:58:41.655Z"
   },
   {
    "duration": 9,
    "start_time": "2024-08-06T16:59:09.987Z"
   },
   {
    "duration": 95,
    "start_time": "2024-08-06T16:59:31.651Z"
   },
   {
    "duration": 86,
    "start_time": "2024-08-06T17:00:00.207Z"
   },
   {
    "duration": 86,
    "start_time": "2024-08-06T17:00:24.703Z"
   },
   {
    "duration": 96,
    "start_time": "2024-08-06T17:00:52.239Z"
   },
   {
    "duration": 7,
    "start_time": "2024-08-06T17:03:05.019Z"
   },
   {
    "duration": 78,
    "start_time": "2024-08-06T17:05:13.361Z"
   },
   {
    "duration": 6,
    "start_time": "2024-08-06T17:05:25.505Z"
   },
   {
    "duration": 57,
    "start_time": "2024-08-06T17:05:40.188Z"
   },
   {
    "duration": 52,
    "start_time": "2024-08-06T17:06:19.209Z"
   },
   {
    "duration": 56,
    "start_time": "2024-08-06T17:27:56.191Z"
   },
   {
    "duration": 61,
    "start_time": "2024-08-06T17:33:05.512Z"
   },
   {
    "duration": 56,
    "start_time": "2024-08-06T17:46:58.944Z"
   },
   {
    "duration": 1147,
    "start_time": "2024-08-06T17:47:22.041Z"
   },
   {
    "duration": 3,
    "start_time": "2024-08-06T17:47:23.190Z"
   },
   {
    "duration": 8,
    "start_time": "2024-08-06T17:47:23.194Z"
   },
   {
    "duration": 64,
    "start_time": "2024-08-06T17:47:23.204Z"
   },
   {
    "duration": 63,
    "start_time": "2024-08-06T17:47:23.269Z"
   },
   {
    "duration": 41,
    "start_time": "2024-08-06T17:47:23.333Z"
   },
   {
    "duration": 4,
    "start_time": "2024-08-06T17:47:23.375Z"
   },
   {
    "duration": 55,
    "start_time": "2024-08-06T17:47:23.380Z"
   },
   {
    "duration": 24,
    "start_time": "2024-08-06T17:47:23.436Z"
   },
   {
    "duration": 7,
    "start_time": "2024-08-06T17:47:23.463Z"
   },
   {
    "duration": 7,
    "start_time": "2024-08-06T17:47:23.471Z"
   },
   {
    "duration": 6,
    "start_time": "2024-08-06T17:47:23.480Z"
   },
   {
    "duration": 38,
    "start_time": "2024-08-06T17:47:23.487Z"
   },
   {
    "duration": 6,
    "start_time": "2024-08-06T17:47:23.526Z"
   },
   {
    "duration": 13,
    "start_time": "2024-08-06T17:47:23.533Z"
   },
   {
    "duration": 19,
    "start_time": "2024-08-06T17:47:23.548Z"
   },
   {
    "duration": 4,
    "start_time": "2024-08-06T17:47:23.569Z"
   },
   {
    "duration": 10,
    "start_time": "2024-08-06T17:47:23.575Z"
   },
   {
    "duration": 5,
    "start_time": "2024-08-06T17:47:23.586Z"
   },
   {
    "duration": 4,
    "start_time": "2024-08-06T17:47:23.592Z"
   },
   {
    "duration": 45,
    "start_time": "2024-08-06T17:47:23.598Z"
   },
   {
    "duration": 22,
    "start_time": "2024-08-06T17:47:23.644Z"
   },
   {
    "duration": 8,
    "start_time": "2024-08-06T17:47:23.667Z"
   },
   {
    "duration": 9,
    "start_time": "2024-08-06T17:47:23.677Z"
   },
   {
    "duration": 3,
    "start_time": "2024-08-06T17:47:23.688Z"
   },
   {
    "duration": 9,
    "start_time": "2024-08-06T17:47:23.692Z"
   },
   {
    "duration": 26,
    "start_time": "2024-08-06T17:47:23.702Z"
   },
   {
    "duration": 8,
    "start_time": "2024-08-06T17:47:23.732Z"
   },
   {
    "duration": 309,
    "start_time": "2024-08-06T17:47:23.741Z"
   },
   {
    "duration": 261,
    "start_time": "2024-08-06T17:47:24.052Z"
   },
   {
    "duration": 20,
    "start_time": "2024-08-06T17:47:24.314Z"
   },
   {
    "duration": 348,
    "start_time": "2024-08-06T17:47:24.335Z"
   },
   {
    "duration": 16,
    "start_time": "2024-08-06T17:47:24.684Z"
   },
   {
    "duration": 5,
    "start_time": "2024-08-06T17:47:24.702Z"
   },
   {
    "duration": 273,
    "start_time": "2024-08-06T17:47:24.723Z"
   },
   {
    "duration": 135,
    "start_time": "2024-08-06T17:47:24.998Z"
   },
   {
    "duration": 208,
    "start_time": "2024-08-06T17:47:25.134Z"
   },
   {
    "duration": 7,
    "start_time": "2024-08-06T17:47:25.344Z"
   },
   {
    "duration": 318,
    "start_time": "2024-08-06T17:47:25.353Z"
   },
   {
    "duration": 8,
    "start_time": "2024-08-06T17:47:25.672Z"
   },
   {
    "duration": 8,
    "start_time": "2024-08-06T17:47:25.682Z"
   },
   {
    "duration": 280,
    "start_time": "2024-08-06T17:47:25.691Z"
   },
   {
    "duration": 12,
    "start_time": "2024-08-06T17:47:25.973Z"
   },
   {
    "duration": 12,
    "start_time": "2024-08-06T17:47:25.987Z"
   },
   {
    "duration": 32,
    "start_time": "2024-08-06T17:47:26.000Z"
   },
   {
    "duration": 190,
    "start_time": "2024-08-06T17:47:26.034Z"
   },
   {
    "duration": 13,
    "start_time": "2024-08-06T17:47:26.225Z"
   },
   {
    "duration": 171,
    "start_time": "2024-08-06T17:47:26.239Z"
   },
   {
    "duration": 92,
    "start_time": "2024-08-06T17:47:26.411Z"
   },
   {
    "duration": 20,
    "start_time": "2024-08-06T17:47:26.505Z"
   },
   {
    "duration": 284,
    "start_time": "2024-08-06T17:47:26.527Z"
   },
   {
    "duration": 178,
    "start_time": "2024-08-06T17:47:26.812Z"
   },
   {
    "duration": 3,
    "start_time": "2024-08-06T17:47:26.992Z"
   },
   {
    "duration": 46,
    "start_time": "2024-08-06T17:47:26.996Z"
   },
   {
    "duration": 18,
    "start_time": "2024-08-06T17:47:27.043Z"
   },
   {
    "duration": 112,
    "start_time": "2024-08-06T17:47:27.062Z"
   },
   {
    "duration": 575,
    "start_time": "2024-08-06T17:47:27.176Z"
   },
   {
    "duration": 16,
    "start_time": "2024-08-06T17:47:27.752Z"
   },
   {
    "duration": 558,
    "start_time": "2024-08-06T17:47:27.769Z"
   },
   {
    "duration": 14,
    "start_time": "2024-08-06T17:47:28.329Z"
   },
   {
    "duration": 79,
    "start_time": "2024-08-06T17:47:28.345Z"
   },
   {
    "duration": 10,
    "start_time": "2024-08-06T17:47:28.426Z"
   },
   {
    "duration": 35,
    "start_time": "2024-08-06T17:47:28.438Z"
   },
   {
    "duration": 3,
    "start_time": "2024-08-06T17:47:28.475Z"
   },
   {
    "duration": 129,
    "start_time": "2024-08-06T17:47:28.480Z"
   },
   {
    "duration": 20,
    "start_time": "2024-08-06T17:47:28.610Z"
   },
   {
    "duration": 164,
    "start_time": "2024-08-06T17:47:28.631Z"
   },
   {
    "duration": 4,
    "start_time": "2024-08-06T17:47:28.797Z"
   },
   {
    "duration": 31,
    "start_time": "2024-08-06T17:47:28.802Z"
   },
   {
    "duration": 229,
    "start_time": "2024-08-06T17:47:28.834Z"
   },
   {
    "duration": 441,
    "start_time": "2024-08-06T17:47:29.065Z"
   },
   {
    "duration": 25,
    "start_time": "2024-08-06T17:47:29.508Z"
   },
   {
    "duration": 5,
    "start_time": "2024-08-06T17:47:29.534Z"
   },
   {
    "duration": 5,
    "start_time": "2024-08-06T17:47:29.541Z"
   },
   {
    "duration": 16,
    "start_time": "2024-08-06T17:47:29.547Z"
   },
   {
    "duration": 132,
    "start_time": "2024-08-06T17:47:29.564Z"
   },
   {
    "duration": 0,
    "start_time": "2024-08-06T17:47:29.698Z"
   },
   {
    "duration": 0,
    "start_time": "2024-08-06T17:47:29.700Z"
   },
   {
    "duration": 0,
    "start_time": "2024-08-06T17:47:29.701Z"
   },
   {
    "duration": 0,
    "start_time": "2024-08-06T17:47:29.703Z"
   },
   {
    "duration": 0,
    "start_time": "2024-08-06T17:47:29.704Z"
   },
   {
    "duration": 0,
    "start_time": "2024-08-06T17:47:29.706Z"
   },
   {
    "duration": 10,
    "start_time": "2024-08-06T17:48:20.121Z"
   },
   {
    "duration": 10,
    "start_time": "2024-08-06T17:48:28.091Z"
   },
   {
    "duration": 6,
    "start_time": "2024-08-06T17:48:54.005Z"
   },
   {
    "duration": 1176,
    "start_time": "2024-08-06T17:49:08.496Z"
   },
   {
    "duration": 3,
    "start_time": "2024-08-06T17:49:09.674Z"
   },
   {
    "duration": 5,
    "start_time": "2024-08-06T17:49:09.678Z"
   },
   {
    "duration": 59,
    "start_time": "2024-08-06T17:49:09.685Z"
   },
   {
    "duration": 62,
    "start_time": "2024-08-06T17:49:09.746Z"
   },
   {
    "duration": 41,
    "start_time": "2024-08-06T17:49:09.809Z"
   },
   {
    "duration": 4,
    "start_time": "2024-08-06T17:49:09.851Z"
   },
   {
    "duration": 30,
    "start_time": "2024-08-06T17:49:09.856Z"
   },
   {
    "duration": 29,
    "start_time": "2024-08-06T17:49:09.888Z"
   },
   {
    "duration": 9,
    "start_time": "2024-08-06T17:49:09.919Z"
   },
   {
    "duration": 7,
    "start_time": "2024-08-06T17:49:09.930Z"
   },
   {
    "duration": 6,
    "start_time": "2024-08-06T17:49:09.939Z"
   },
   {
    "duration": 15,
    "start_time": "2024-08-06T17:49:09.946Z"
   },
   {
    "duration": 6,
    "start_time": "2024-08-06T17:49:09.962Z"
   },
   {
    "duration": 8,
    "start_time": "2024-08-06T17:49:09.970Z"
   },
   {
    "duration": 10,
    "start_time": "2024-08-06T17:49:09.980Z"
   },
   {
    "duration": 35,
    "start_time": "2024-08-06T17:49:09.992Z"
   },
   {
    "duration": 9,
    "start_time": "2024-08-06T17:49:10.029Z"
   },
   {
    "duration": 10,
    "start_time": "2024-08-06T17:49:10.039Z"
   },
   {
    "duration": 8,
    "start_time": "2024-08-06T17:49:10.050Z"
   },
   {
    "duration": 36,
    "start_time": "2024-08-06T17:49:10.059Z"
   },
   {
    "duration": 10,
    "start_time": "2024-08-06T17:49:10.097Z"
   },
   {
    "duration": 4,
    "start_time": "2024-08-06T17:49:10.125Z"
   },
   {
    "duration": 12,
    "start_time": "2024-08-06T17:49:10.132Z"
   },
   {
    "duration": 8,
    "start_time": "2024-08-06T17:49:10.146Z"
   },
   {
    "duration": 10,
    "start_time": "2024-08-06T17:49:10.156Z"
   },
   {
    "duration": 18,
    "start_time": "2024-08-06T17:49:10.168Z"
   },
   {
    "duration": 10,
    "start_time": "2024-08-06T17:49:10.192Z"
   },
   {
    "duration": 334,
    "start_time": "2024-08-06T17:49:10.204Z"
   },
   {
    "duration": 274,
    "start_time": "2024-08-06T17:49:10.539Z"
   },
   {
    "duration": 21,
    "start_time": "2024-08-06T17:49:10.814Z"
   },
   {
    "duration": 275,
    "start_time": "2024-08-06T17:49:10.836Z"
   },
   {
    "duration": 20,
    "start_time": "2024-08-06T17:49:11.113Z"
   },
   {
    "duration": 5,
    "start_time": "2024-08-06T17:49:11.136Z"
   },
   {
    "duration": 269,
    "start_time": "2024-08-06T17:49:11.142Z"
   },
   {
    "duration": 126,
    "start_time": "2024-08-06T17:49:11.413Z"
   },
   {
    "duration": 207,
    "start_time": "2024-08-06T17:49:11.540Z"
   },
   {
    "duration": 8,
    "start_time": "2024-08-06T17:49:11.749Z"
   },
   {
    "duration": 277,
    "start_time": "2024-08-06T17:49:11.758Z"
   },
   {
    "duration": 9,
    "start_time": "2024-08-06T17:49:12.037Z"
   },
   {
    "duration": 8,
    "start_time": "2024-08-06T17:49:12.048Z"
   },
   {
    "duration": 284,
    "start_time": "2024-08-06T17:49:12.058Z"
   },
   {
    "duration": 13,
    "start_time": "2024-08-06T17:49:12.344Z"
   },
   {
    "duration": 74,
    "start_time": "2024-08-06T17:49:12.359Z"
   },
   {
    "duration": 18,
    "start_time": "2024-08-06T17:49:12.434Z"
   },
   {
    "duration": 183,
    "start_time": "2024-08-06T17:49:12.454Z"
   },
   {
    "duration": 13,
    "start_time": "2024-08-06T17:49:12.639Z"
   },
   {
    "duration": 171,
    "start_time": "2024-08-06T17:49:12.653Z"
   },
   {
    "duration": 85,
    "start_time": "2024-08-06T17:49:12.826Z"
   },
   {
    "duration": 13,
    "start_time": "2024-08-06T17:49:12.924Z"
   },
   {
    "duration": 277,
    "start_time": "2024-08-06T17:49:12.938Z"
   },
   {
    "duration": 187,
    "start_time": "2024-08-06T17:49:13.217Z"
   },
   {
    "duration": 3,
    "start_time": "2024-08-06T17:49:13.405Z"
   },
   {
    "duration": 48,
    "start_time": "2024-08-06T17:49:13.409Z"
   },
   {
    "duration": 18,
    "start_time": "2024-08-06T17:49:13.459Z"
   },
   {
    "duration": 113,
    "start_time": "2024-08-06T17:49:13.479Z"
   },
   {
    "duration": 592,
    "start_time": "2024-08-06T17:49:13.594Z"
   },
   {
    "duration": 17,
    "start_time": "2024-08-06T17:49:14.188Z"
   },
   {
    "duration": 602,
    "start_time": "2024-08-06T17:49:14.207Z"
   },
   {
    "duration": 26,
    "start_time": "2024-08-06T17:49:14.811Z"
   },
   {
    "duration": 12,
    "start_time": "2024-08-06T17:49:14.839Z"
   },
   {
    "duration": 5,
    "start_time": "2024-08-06T17:49:14.852Z"
   },
   {
    "duration": 49,
    "start_time": "2024-08-06T17:49:14.858Z"
   },
   {
    "duration": 17,
    "start_time": "2024-08-06T17:49:14.909Z"
   },
   {
    "duration": 132,
    "start_time": "2024-08-06T17:49:14.928Z"
   },
   {
    "duration": 14,
    "start_time": "2024-08-06T17:49:15.062Z"
   },
   {
    "duration": 169,
    "start_time": "2024-08-06T17:49:15.078Z"
   },
   {
    "duration": 4,
    "start_time": "2024-08-06T17:49:15.249Z"
   },
   {
    "duration": 105,
    "start_time": "2024-08-06T17:49:15.255Z"
   },
   {
    "duration": 265,
    "start_time": "2024-08-06T17:49:15.363Z"
   },
   {
    "duration": 378,
    "start_time": "2024-08-06T17:49:15.630Z"
   },
   {
    "duration": 26,
    "start_time": "2024-08-06T17:49:16.010Z"
   },
   {
    "duration": 6,
    "start_time": "2024-08-06T17:49:16.038Z"
   },
   {
    "duration": 10,
    "start_time": "2024-08-06T17:49:16.046Z"
   },
   {
    "duration": 16,
    "start_time": "2024-08-06T17:49:16.058Z"
   },
   {
    "duration": 10,
    "start_time": "2024-08-06T17:49:16.076Z"
   },
   {
    "duration": 40,
    "start_time": "2024-08-06T17:49:16.088Z"
   },
   {
    "duration": 10,
    "start_time": "2024-08-06T17:49:16.130Z"
   },
   {
    "duration": 25,
    "start_time": "2024-08-06T17:49:16.141Z"
   },
   {
    "duration": 249,
    "start_time": "2024-08-06T17:49:16.168Z"
   },
   {
    "duration": 5,
    "start_time": "2024-08-06T17:49:16.423Z"
   },
   {
    "duration": 6,
    "start_time": "2024-08-06T17:49:16.434Z"
   }
  ],
  "kernelspec": {
   "display_name": "Python 3 (ipykernel)",
   "language": "python",
   "name": "python3"
  },
  "language_info": {
   "codemirror_mode": {
    "name": "ipython",
    "version": 3
   },
   "file_extension": ".py",
   "mimetype": "text/x-python",
   "name": "python",
   "nbconvert_exporter": "python",
   "pygments_lexer": "ipython3",
   "version": "3.9.5"
  },
  "toc": {
   "base_numbering": 1,
   "nav_menu": {},
   "number_sections": true,
   "sideBar": true,
   "skip_h1_title": true,
   "title_cell": "Table of Contents",
   "title_sidebar": "Contents",
   "toc_cell": false,
   "toc_position": {
    "height": "calc(100% - 180px)",
    "left": "10px",
    "top": "150px",
    "width": "275.812px"
   },
   "toc_section_display": true,
   "toc_window_display": true
  }
 },
 "nbformat": 4,
 "nbformat_minor": 5
}
